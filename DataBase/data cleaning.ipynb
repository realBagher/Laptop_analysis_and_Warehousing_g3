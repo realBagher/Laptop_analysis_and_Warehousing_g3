{
 "cells": [
  {
   "cell_type": "code",
   "execution_count": 1,
   "id": "initial_id",
   "metadata": {
    "collapsed": true,
    "ExecuteTime": {
     "end_time": "2023-10-16T09:59:45.099090Z",
     "start_time": "2023-10-16T09:59:44.776365200Z"
    }
   },
   "outputs": [],
   "source": [
    "import pandas as pd\n"
   ]
  },
  {
   "cell_type": "code",
   "execution_count": 2,
   "outputs": [
    {
     "data": {
      "text/plain": "         Order_ID      Branch  Order_Date Order_Priority Manufacturer  \\\n0               0     Hamedan  1396-10-26              H         Dell   \n1               1  Kermanshah  1394-04-21              H       Lenovo   \n2               2       Rasht  1402-05-24              M       Lenovo   \n3               3  Kermanshah  1397-06-17              H         Dell   \n4               4       Karaj  1392-09-30              L         Acer   \n...           ...         ...         ...            ...          ...   \n1017076   1017076  Kermanshah  1395-11-06              M       Lenovo   \n1017077   1017077       Ahvaz  1391-04-24              M       Lenovo   \n1017078   1017078      Tabriz  1399-05-18              H         Dell   \n1017079   1017079     Mashhad  1394-02-04              L           HP   \n1017080   1017080  Kermanshah  1390-11-06              L         Dell   \n\n                                      Model_Name            Category  \\\n0                                    Vostro 3568            Notebook   \n1                                 Yoga 720-13IKB  2 in 1 Convertible   \n2                             IdeaPad Y700-15ISK            Notebook   \n3                                  Inspiron 5370           Ultrabook   \n4                                 Aspire E5-576G            Notebook   \n...                                          ...                 ...   \n1017076                       Legion Y520-15IKBN              Gaming   \n1017077  V330-15IKB (i5-8250U/4GB/500GB/FHD/W10)            Notebook   \n1017078                              Vostro 5568            Notebook   \n1017079                          Envy 13-AB020nr           Ultrabook   \n1017080                            Inspiron 3567            Notebook   \n\n        Screen_Size                                     Screen  \\\n0             15.6\"                          Full HD 1920x1080   \n1             13.3\"  IPS Panel Full HD / Touchscreen 1920x1080   \n2             15.6\"                IPS Panel Full HD 1920x1080   \n3             13.3\"                IPS Panel Full HD 1920x1080   \n4             15.6\"                          Full HD 1920x1080   \n...             ...                                        ...   \n1017076       15.6\"                IPS Panel Full HD 1920x1080   \n1017077       15.6\"                          Full HD 1920x1080   \n1017078       15.6\"                          Full HD 1920x1080   \n1017079       13.3\"               IPS Panel Quad HD+ 3200x1800   \n1017080       15.6\"                          Full HD 1920x1080   \n\n                                 CPU  ...                      GPU       OS  \\\n0         Intel Core i5 7200U 2.5GHz  ...       AMD Radeon R5 M420  Windows   \n1         Intel Core i5 7200U 2.5GHz  ...    Intel HD Graphics 620  Windows   \n2        Intel Core i7 6700HQ 2.6GHz  ...  Nvidia GeForce GTX 960M  Windows   \n3         Intel Core i7 8550U 1.8GHz  ...           AMD Radeon 530  Windows   \n4         Intel Core i5 7200U 2.5GHz  ...     Nvidia GeForce 940MX  Windows   \n...                              ...  ...                      ...      ...   \n1017076  Intel Core i7 7700HQ 2.8GHz  ...  Nvidia GeForce GTX 1050  Windows   \n1017077   Intel Core i5 8250U 1.6GHz  ...    Intel HD Graphics 620  Windows   \n1017078   Intel Core i5 7200U 2.5GHz  ...    Intel HD Graphics 620    Linux   \n1017079   Intel Core i7 7500U 2.7GHz  ...    Intel HD Graphics 620  Windows   \n1017080   Intel Core i5 7200U 2.5GHz  ...       AMD Radeon R5 M430  Windows   \n\n        OS_Version  Weight     Price Quantity  Discount  Total_Price   Profit  \\\n0               10  2.18kg   3450000        1         0    3450000.0   250000   \n1               10   1.3kg   3400000        1         0    3400000.0   380000   \n2               10   2.6kg  44900000        1         0   44900000.0  5630000   \n3               10   1.4kg  12550000        1         0   12550000.0  1130000   \n4               10  2.23kg   2050000        1         0    2050000.0   180000   \n...            ...     ...       ...      ...       ...          ...      ...   \n1017076         10   2.4kg   3800000        1         0    3800000.0   460000   \n1017077         10  2.05kg   1300000        1         0    1300000.0   120000   \n1017078        NaN  1.98kg  16700000        1         0   16700000.0  1700000   \n1017079         10  1.34kg   3750000        1         0    3750000.0   420000   \n1017080         10   2.3kg   1050000        1         0    1050000.0   100000   \n\n         Ship_Duration  \n0                    3  \n1                    2  \n2                    5  \n3                    3  \n4                    8  \n...                ...  \n1017076              4  \n1017077              6  \n1017078              2  \n1017079             10  \n1017080              9  \n\n[1017081 rows x 22 columns]",
      "text/html": "<div>\n<style scoped>\n    .dataframe tbody tr th:only-of-type {\n        vertical-align: middle;\n    }\n\n    .dataframe tbody tr th {\n        vertical-align: top;\n    }\n\n    .dataframe thead th {\n        text-align: right;\n    }\n</style>\n<table border=\"1\" class=\"dataframe\">\n  <thead>\n    <tr style=\"text-align: right;\">\n      <th></th>\n      <th>Order_ID</th>\n      <th>Branch</th>\n      <th>Order_Date</th>\n      <th>Order_Priority</th>\n      <th>Manufacturer</th>\n      <th>Model_Name</th>\n      <th>Category</th>\n      <th>Screen_Size</th>\n      <th>Screen</th>\n      <th>CPU</th>\n      <th>...</th>\n      <th>GPU</th>\n      <th>OS</th>\n      <th>OS_Version</th>\n      <th>Weight</th>\n      <th>Price</th>\n      <th>Quantity</th>\n      <th>Discount</th>\n      <th>Total_Price</th>\n      <th>Profit</th>\n      <th>Ship_Duration</th>\n    </tr>\n  </thead>\n  <tbody>\n    <tr>\n      <th>0</th>\n      <td>0</td>\n      <td>Hamedan</td>\n      <td>1396-10-26</td>\n      <td>H</td>\n      <td>Dell</td>\n      <td>Vostro 3568</td>\n      <td>Notebook</td>\n      <td>15.6\"</td>\n      <td>Full HD 1920x1080</td>\n      <td>Intel Core i5 7200U 2.5GHz</td>\n      <td>...</td>\n      <td>AMD Radeon R5 M420</td>\n      <td>Windows</td>\n      <td>10</td>\n      <td>2.18kg</td>\n      <td>3450000</td>\n      <td>1</td>\n      <td>0</td>\n      <td>3450000.0</td>\n      <td>250000</td>\n      <td>3</td>\n    </tr>\n    <tr>\n      <th>1</th>\n      <td>1</td>\n      <td>Kermanshah</td>\n      <td>1394-04-21</td>\n      <td>H</td>\n      <td>Lenovo</td>\n      <td>Yoga 720-13IKB</td>\n      <td>2 in 1 Convertible</td>\n      <td>13.3\"</td>\n      <td>IPS Panel Full HD / Touchscreen 1920x1080</td>\n      <td>Intel Core i5 7200U 2.5GHz</td>\n      <td>...</td>\n      <td>Intel HD Graphics 620</td>\n      <td>Windows</td>\n      <td>10</td>\n      <td>1.3kg</td>\n      <td>3400000</td>\n      <td>1</td>\n      <td>0</td>\n      <td>3400000.0</td>\n      <td>380000</td>\n      <td>2</td>\n    </tr>\n    <tr>\n      <th>2</th>\n      <td>2</td>\n      <td>Rasht</td>\n      <td>1402-05-24</td>\n      <td>M</td>\n      <td>Lenovo</td>\n      <td>IdeaPad Y700-15ISK</td>\n      <td>Notebook</td>\n      <td>15.6\"</td>\n      <td>IPS Panel Full HD 1920x1080</td>\n      <td>Intel Core i7 6700HQ 2.6GHz</td>\n      <td>...</td>\n      <td>Nvidia GeForce GTX 960M</td>\n      <td>Windows</td>\n      <td>10</td>\n      <td>2.6kg</td>\n      <td>44900000</td>\n      <td>1</td>\n      <td>0</td>\n      <td>44900000.0</td>\n      <td>5630000</td>\n      <td>5</td>\n    </tr>\n    <tr>\n      <th>3</th>\n      <td>3</td>\n      <td>Kermanshah</td>\n      <td>1397-06-17</td>\n      <td>H</td>\n      <td>Dell</td>\n      <td>Inspiron 5370</td>\n      <td>Ultrabook</td>\n      <td>13.3\"</td>\n      <td>IPS Panel Full HD 1920x1080</td>\n      <td>Intel Core i7 8550U 1.8GHz</td>\n      <td>...</td>\n      <td>AMD Radeon 530</td>\n      <td>Windows</td>\n      <td>10</td>\n      <td>1.4kg</td>\n      <td>12550000</td>\n      <td>1</td>\n      <td>0</td>\n      <td>12550000.0</td>\n      <td>1130000</td>\n      <td>3</td>\n    </tr>\n    <tr>\n      <th>4</th>\n      <td>4</td>\n      <td>Karaj</td>\n      <td>1392-09-30</td>\n      <td>L</td>\n      <td>Acer</td>\n      <td>Aspire E5-576G</td>\n      <td>Notebook</td>\n      <td>15.6\"</td>\n      <td>Full HD 1920x1080</td>\n      <td>Intel Core i5 7200U 2.5GHz</td>\n      <td>...</td>\n      <td>Nvidia GeForce 940MX</td>\n      <td>Windows</td>\n      <td>10</td>\n      <td>2.23kg</td>\n      <td>2050000</td>\n      <td>1</td>\n      <td>0</td>\n      <td>2050000.0</td>\n      <td>180000</td>\n      <td>8</td>\n    </tr>\n    <tr>\n      <th>...</th>\n      <td>...</td>\n      <td>...</td>\n      <td>...</td>\n      <td>...</td>\n      <td>...</td>\n      <td>...</td>\n      <td>...</td>\n      <td>...</td>\n      <td>...</td>\n      <td>...</td>\n      <td>...</td>\n      <td>...</td>\n      <td>...</td>\n      <td>...</td>\n      <td>...</td>\n      <td>...</td>\n      <td>...</td>\n      <td>...</td>\n      <td>...</td>\n      <td>...</td>\n      <td>...</td>\n    </tr>\n    <tr>\n      <th>1017076</th>\n      <td>1017076</td>\n      <td>Kermanshah</td>\n      <td>1395-11-06</td>\n      <td>M</td>\n      <td>Lenovo</td>\n      <td>Legion Y520-15IKBN</td>\n      <td>Gaming</td>\n      <td>15.6\"</td>\n      <td>IPS Panel Full HD 1920x1080</td>\n      <td>Intel Core i7 7700HQ 2.8GHz</td>\n      <td>...</td>\n      <td>Nvidia GeForce GTX 1050</td>\n      <td>Windows</td>\n      <td>10</td>\n      <td>2.4kg</td>\n      <td>3800000</td>\n      <td>1</td>\n      <td>0</td>\n      <td>3800000.0</td>\n      <td>460000</td>\n      <td>4</td>\n    </tr>\n    <tr>\n      <th>1017077</th>\n      <td>1017077</td>\n      <td>Ahvaz</td>\n      <td>1391-04-24</td>\n      <td>M</td>\n      <td>Lenovo</td>\n      <td>V330-15IKB (i5-8250U/4GB/500GB/FHD/W10)</td>\n      <td>Notebook</td>\n      <td>15.6\"</td>\n      <td>Full HD 1920x1080</td>\n      <td>Intel Core i5 8250U 1.6GHz</td>\n      <td>...</td>\n      <td>Intel HD Graphics 620</td>\n      <td>Windows</td>\n      <td>10</td>\n      <td>2.05kg</td>\n      <td>1300000</td>\n      <td>1</td>\n      <td>0</td>\n      <td>1300000.0</td>\n      <td>120000</td>\n      <td>6</td>\n    </tr>\n    <tr>\n      <th>1017078</th>\n      <td>1017078</td>\n      <td>Tabriz</td>\n      <td>1399-05-18</td>\n      <td>H</td>\n      <td>Dell</td>\n      <td>Vostro 5568</td>\n      <td>Notebook</td>\n      <td>15.6\"</td>\n      <td>Full HD 1920x1080</td>\n      <td>Intel Core i5 7200U 2.5GHz</td>\n      <td>...</td>\n      <td>Intel HD Graphics 620</td>\n      <td>Linux</td>\n      <td>NaN</td>\n      <td>1.98kg</td>\n      <td>16700000</td>\n      <td>1</td>\n      <td>0</td>\n      <td>16700000.0</td>\n      <td>1700000</td>\n      <td>2</td>\n    </tr>\n    <tr>\n      <th>1017079</th>\n      <td>1017079</td>\n      <td>Mashhad</td>\n      <td>1394-02-04</td>\n      <td>L</td>\n      <td>HP</td>\n      <td>Envy 13-AB020nr</td>\n      <td>Ultrabook</td>\n      <td>13.3\"</td>\n      <td>IPS Panel Quad HD+ 3200x1800</td>\n      <td>Intel Core i7 7500U 2.7GHz</td>\n      <td>...</td>\n      <td>Intel HD Graphics 620</td>\n      <td>Windows</td>\n      <td>10</td>\n      <td>1.34kg</td>\n      <td>3750000</td>\n      <td>1</td>\n      <td>0</td>\n      <td>3750000.0</td>\n      <td>420000</td>\n      <td>10</td>\n    </tr>\n    <tr>\n      <th>1017080</th>\n      <td>1017080</td>\n      <td>Kermanshah</td>\n      <td>1390-11-06</td>\n      <td>L</td>\n      <td>Dell</td>\n      <td>Inspiron 3567</td>\n      <td>Notebook</td>\n      <td>15.6\"</td>\n      <td>Full HD 1920x1080</td>\n      <td>Intel Core i5 7200U 2.5GHz</td>\n      <td>...</td>\n      <td>AMD Radeon R5 M430</td>\n      <td>Windows</td>\n      <td>10</td>\n      <td>2.3kg</td>\n      <td>1050000</td>\n      <td>1</td>\n      <td>0</td>\n      <td>1050000.0</td>\n      <td>100000</td>\n      <td>9</td>\n    </tr>\n  </tbody>\n</table>\n<p>1017081 rows × 22 columns</p>\n</div>"
     },
     "execution_count": 2,
     "metadata": {},
     "output_type": "execute_result"
    }
   ],
   "source": [
    "df_data_sales = pd.read_csv('C:\\Pedram\\quera\\Laptop_analysis_and_Warehousing_g3\\Data Source\\sales_data.csv')\n",
    "df_data_sales"
   ],
   "metadata": {
    "collapsed": false,
    "ExecuteTime": {
     "end_time": "2023-10-16T10:00:20.141444900Z",
     "start_time": "2023-10-16T10:00:17.664042Z"
    }
   },
   "id": "8510a02f3261f4ef"
  }
 ],
 "metadata": {
  "kernelspec": {
   "display_name": "Python 3",
   "language": "python",
   "name": "python3"
  },
  "language_info": {
   "codemirror_mode": {
    "name": "ipython",
    "version": 2
   },
   "file_extension": ".py",
   "mimetype": "text/x-python",
   "name": "python",
   "nbconvert_exporter": "python",
   "pygments_lexer": "ipython2",
   "version": "2.7.6"
  }
 },
 "nbformat": 4,
 "nbformat_minor": 5
}
