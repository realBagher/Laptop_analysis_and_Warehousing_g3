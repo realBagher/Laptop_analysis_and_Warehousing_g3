{
 "cells": [
  {
   "cell_type": "code",
   "execution_count": 97,
   "id": "initial_id",
   "metadata": {
    "collapsed": true,
    "ExecuteTime": {
     "end_time": "2023-10-16T14:14:44.602843600Z",
     "start_time": "2023-10-16T14:14:44.569015500Z"
    }
   },
   "outputs": [],
   "source": [
    "import pandas as pd\n"
   ]
  },
  {
   "cell_type": "code",
   "execution_count": 98,
   "outputs": [
    {
     "data": {
      "text/plain": "         Order_ID      Branch  Order_Date Order_Priority Manufacturer  \\\n0               0     Hamedan  1396-10-26              H         Dell   \n1               1  Kermanshah  1394-04-21              H       Lenovo   \n2               2       Rasht  1402-05-24              M       Lenovo   \n3               3  Kermanshah  1397-06-17              H         Dell   \n4               4       Karaj  1392-09-30              L         Acer   \n...           ...         ...         ...            ...          ...   \n1017076   1017076  Kermanshah  1395-11-06              M       Lenovo   \n1017077   1017077       Ahvaz  1391-04-24              M       Lenovo   \n1017078   1017078      Tabriz  1399-05-18              H         Dell   \n1017079   1017079     Mashhad  1394-02-04              L           HP   \n1017080   1017080  Kermanshah  1390-11-06              L         Dell   \n\n                                      Model_Name            Category  \\\n0                                    Vostro 3568            Notebook   \n1                                 Yoga 720-13IKB  2 in 1 Convertible   \n2                             IdeaPad Y700-15ISK            Notebook   \n3                                  Inspiron 5370           Ultrabook   \n4                                 Aspire E5-576G            Notebook   \n...                                          ...                 ...   \n1017076                       Legion Y520-15IKBN              Gaming   \n1017077  V330-15IKB (i5-8250U/4GB/500GB/FHD/W10)            Notebook   \n1017078                              Vostro 5568            Notebook   \n1017079                          Envy 13-AB020nr           Ultrabook   \n1017080                            Inspiron 3567            Notebook   \n\n        Screen_Size                                     Screen  \\\n0             15.6\"                          Full HD 1920x1080   \n1             13.3\"  IPS Panel Full HD / Touchscreen 1920x1080   \n2             15.6\"                IPS Panel Full HD 1920x1080   \n3             13.3\"                IPS Panel Full HD 1920x1080   \n4             15.6\"                          Full HD 1920x1080   \n...             ...                                        ...   \n1017076       15.6\"                IPS Panel Full HD 1920x1080   \n1017077       15.6\"                          Full HD 1920x1080   \n1017078       15.6\"                          Full HD 1920x1080   \n1017079       13.3\"               IPS Panel Quad HD+ 3200x1800   \n1017080       15.6\"                          Full HD 1920x1080   \n\n                                 CPU  ...                      GPU       OS  \\\n0         Intel Core i5 7200U 2.5GHz  ...       AMD Radeon R5 M420  Windows   \n1         Intel Core i5 7200U 2.5GHz  ...    Intel HD Graphics 620  Windows   \n2        Intel Core i7 6700HQ 2.6GHz  ...  Nvidia GeForce GTX 960M  Windows   \n3         Intel Core i7 8550U 1.8GHz  ...           AMD Radeon 530  Windows   \n4         Intel Core i5 7200U 2.5GHz  ...     Nvidia GeForce 940MX  Windows   \n...                              ...  ...                      ...      ...   \n1017076  Intel Core i7 7700HQ 2.8GHz  ...  Nvidia GeForce GTX 1050  Windows   \n1017077   Intel Core i5 8250U 1.6GHz  ...    Intel HD Graphics 620  Windows   \n1017078   Intel Core i5 7200U 2.5GHz  ...    Intel HD Graphics 620    Linux   \n1017079   Intel Core i7 7500U 2.7GHz  ...    Intel HD Graphics 620  Windows   \n1017080   Intel Core i5 7200U 2.5GHz  ...       AMD Radeon R5 M430  Windows   \n\n        OS_Version  Weight     Price Quantity  Discount  Total_Price   Profit  \\\n0               10  2.18kg   3450000        1         0    3450000.0   250000   \n1               10   1.3kg   3400000        1         0    3400000.0   380000   \n2               10   2.6kg  44900000        1         0   44900000.0  5630000   \n3               10   1.4kg  12550000        1         0   12550000.0  1130000   \n4               10  2.23kg   2050000        1         0    2050000.0   180000   \n...            ...     ...       ...      ...       ...          ...      ...   \n1017076         10   2.4kg   3800000        1         0    3800000.0   460000   \n1017077         10  2.05kg   1300000        1         0    1300000.0   120000   \n1017078        NaN  1.98kg  16700000        1         0   16700000.0  1700000   \n1017079         10  1.34kg   3750000        1         0    3750000.0   420000   \n1017080         10   2.3kg   1050000        1         0    1050000.0   100000   \n\n         Ship_Duration  \n0                    3  \n1                    2  \n2                    5  \n3                    3  \n4                    8  \n...                ...  \n1017076              4  \n1017077              6  \n1017078              2  \n1017079             10  \n1017080              9  \n\n[1017081 rows x 22 columns]",
      "text/html": "<div>\n<style scoped>\n    .dataframe tbody tr th:only-of-type {\n        vertical-align: middle;\n    }\n\n    .dataframe tbody tr th {\n        vertical-align: top;\n    }\n\n    .dataframe thead th {\n        text-align: right;\n    }\n</style>\n<table border=\"1\" class=\"dataframe\">\n  <thead>\n    <tr style=\"text-align: right;\">\n      <th></th>\n      <th>Order_ID</th>\n      <th>Branch</th>\n      <th>Order_Date</th>\n      <th>Order_Priority</th>\n      <th>Manufacturer</th>\n      <th>Model_Name</th>\n      <th>Category</th>\n      <th>Screen_Size</th>\n      <th>Screen</th>\n      <th>CPU</th>\n      <th>...</th>\n      <th>GPU</th>\n      <th>OS</th>\n      <th>OS_Version</th>\n      <th>Weight</th>\n      <th>Price</th>\n      <th>Quantity</th>\n      <th>Discount</th>\n      <th>Total_Price</th>\n      <th>Profit</th>\n      <th>Ship_Duration</th>\n    </tr>\n  </thead>\n  <tbody>\n    <tr>\n      <th>0</th>\n      <td>0</td>\n      <td>Hamedan</td>\n      <td>1396-10-26</td>\n      <td>H</td>\n      <td>Dell</td>\n      <td>Vostro 3568</td>\n      <td>Notebook</td>\n      <td>15.6\"</td>\n      <td>Full HD 1920x1080</td>\n      <td>Intel Core i5 7200U 2.5GHz</td>\n      <td>...</td>\n      <td>AMD Radeon R5 M420</td>\n      <td>Windows</td>\n      <td>10</td>\n      <td>2.18kg</td>\n      <td>3450000</td>\n      <td>1</td>\n      <td>0</td>\n      <td>3450000.0</td>\n      <td>250000</td>\n      <td>3</td>\n    </tr>\n    <tr>\n      <th>1</th>\n      <td>1</td>\n      <td>Kermanshah</td>\n      <td>1394-04-21</td>\n      <td>H</td>\n      <td>Lenovo</td>\n      <td>Yoga 720-13IKB</td>\n      <td>2 in 1 Convertible</td>\n      <td>13.3\"</td>\n      <td>IPS Panel Full HD / Touchscreen 1920x1080</td>\n      <td>Intel Core i5 7200U 2.5GHz</td>\n      <td>...</td>\n      <td>Intel HD Graphics 620</td>\n      <td>Windows</td>\n      <td>10</td>\n      <td>1.3kg</td>\n      <td>3400000</td>\n      <td>1</td>\n      <td>0</td>\n      <td>3400000.0</td>\n      <td>380000</td>\n      <td>2</td>\n    </tr>\n    <tr>\n      <th>2</th>\n      <td>2</td>\n      <td>Rasht</td>\n      <td>1402-05-24</td>\n      <td>M</td>\n      <td>Lenovo</td>\n      <td>IdeaPad Y700-15ISK</td>\n      <td>Notebook</td>\n      <td>15.6\"</td>\n      <td>IPS Panel Full HD 1920x1080</td>\n      <td>Intel Core i7 6700HQ 2.6GHz</td>\n      <td>...</td>\n      <td>Nvidia GeForce GTX 960M</td>\n      <td>Windows</td>\n      <td>10</td>\n      <td>2.6kg</td>\n      <td>44900000</td>\n      <td>1</td>\n      <td>0</td>\n      <td>44900000.0</td>\n      <td>5630000</td>\n      <td>5</td>\n    </tr>\n    <tr>\n      <th>3</th>\n      <td>3</td>\n      <td>Kermanshah</td>\n      <td>1397-06-17</td>\n      <td>H</td>\n      <td>Dell</td>\n      <td>Inspiron 5370</td>\n      <td>Ultrabook</td>\n      <td>13.3\"</td>\n      <td>IPS Panel Full HD 1920x1080</td>\n      <td>Intel Core i7 8550U 1.8GHz</td>\n      <td>...</td>\n      <td>AMD Radeon 530</td>\n      <td>Windows</td>\n      <td>10</td>\n      <td>1.4kg</td>\n      <td>12550000</td>\n      <td>1</td>\n      <td>0</td>\n      <td>12550000.0</td>\n      <td>1130000</td>\n      <td>3</td>\n    </tr>\n    <tr>\n      <th>4</th>\n      <td>4</td>\n      <td>Karaj</td>\n      <td>1392-09-30</td>\n      <td>L</td>\n      <td>Acer</td>\n      <td>Aspire E5-576G</td>\n      <td>Notebook</td>\n      <td>15.6\"</td>\n      <td>Full HD 1920x1080</td>\n      <td>Intel Core i5 7200U 2.5GHz</td>\n      <td>...</td>\n      <td>Nvidia GeForce 940MX</td>\n      <td>Windows</td>\n      <td>10</td>\n      <td>2.23kg</td>\n      <td>2050000</td>\n      <td>1</td>\n      <td>0</td>\n      <td>2050000.0</td>\n      <td>180000</td>\n      <td>8</td>\n    </tr>\n    <tr>\n      <th>...</th>\n      <td>...</td>\n      <td>...</td>\n      <td>...</td>\n      <td>...</td>\n      <td>...</td>\n      <td>...</td>\n      <td>...</td>\n      <td>...</td>\n      <td>...</td>\n      <td>...</td>\n      <td>...</td>\n      <td>...</td>\n      <td>...</td>\n      <td>...</td>\n      <td>...</td>\n      <td>...</td>\n      <td>...</td>\n      <td>...</td>\n      <td>...</td>\n      <td>...</td>\n      <td>...</td>\n    </tr>\n    <tr>\n      <th>1017076</th>\n      <td>1017076</td>\n      <td>Kermanshah</td>\n      <td>1395-11-06</td>\n      <td>M</td>\n      <td>Lenovo</td>\n      <td>Legion Y520-15IKBN</td>\n      <td>Gaming</td>\n      <td>15.6\"</td>\n      <td>IPS Panel Full HD 1920x1080</td>\n      <td>Intel Core i7 7700HQ 2.8GHz</td>\n      <td>...</td>\n      <td>Nvidia GeForce GTX 1050</td>\n      <td>Windows</td>\n      <td>10</td>\n      <td>2.4kg</td>\n      <td>3800000</td>\n      <td>1</td>\n      <td>0</td>\n      <td>3800000.0</td>\n      <td>460000</td>\n      <td>4</td>\n    </tr>\n    <tr>\n      <th>1017077</th>\n      <td>1017077</td>\n      <td>Ahvaz</td>\n      <td>1391-04-24</td>\n      <td>M</td>\n      <td>Lenovo</td>\n      <td>V330-15IKB (i5-8250U/4GB/500GB/FHD/W10)</td>\n      <td>Notebook</td>\n      <td>15.6\"</td>\n      <td>Full HD 1920x1080</td>\n      <td>Intel Core i5 8250U 1.6GHz</td>\n      <td>...</td>\n      <td>Intel HD Graphics 620</td>\n      <td>Windows</td>\n      <td>10</td>\n      <td>2.05kg</td>\n      <td>1300000</td>\n      <td>1</td>\n      <td>0</td>\n      <td>1300000.0</td>\n      <td>120000</td>\n      <td>6</td>\n    </tr>\n    <tr>\n      <th>1017078</th>\n      <td>1017078</td>\n      <td>Tabriz</td>\n      <td>1399-05-18</td>\n      <td>H</td>\n      <td>Dell</td>\n      <td>Vostro 5568</td>\n      <td>Notebook</td>\n      <td>15.6\"</td>\n      <td>Full HD 1920x1080</td>\n      <td>Intel Core i5 7200U 2.5GHz</td>\n      <td>...</td>\n      <td>Intel HD Graphics 620</td>\n      <td>Linux</td>\n      <td>NaN</td>\n      <td>1.98kg</td>\n      <td>16700000</td>\n      <td>1</td>\n      <td>0</td>\n      <td>16700000.0</td>\n      <td>1700000</td>\n      <td>2</td>\n    </tr>\n    <tr>\n      <th>1017079</th>\n      <td>1017079</td>\n      <td>Mashhad</td>\n      <td>1394-02-04</td>\n      <td>L</td>\n      <td>HP</td>\n      <td>Envy 13-AB020nr</td>\n      <td>Ultrabook</td>\n      <td>13.3\"</td>\n      <td>IPS Panel Quad HD+ 3200x1800</td>\n      <td>Intel Core i7 7500U 2.7GHz</td>\n      <td>...</td>\n      <td>Intel HD Graphics 620</td>\n      <td>Windows</td>\n      <td>10</td>\n      <td>1.34kg</td>\n      <td>3750000</td>\n      <td>1</td>\n      <td>0</td>\n      <td>3750000.0</td>\n      <td>420000</td>\n      <td>10</td>\n    </tr>\n    <tr>\n      <th>1017080</th>\n      <td>1017080</td>\n      <td>Kermanshah</td>\n      <td>1390-11-06</td>\n      <td>L</td>\n      <td>Dell</td>\n      <td>Inspiron 3567</td>\n      <td>Notebook</td>\n      <td>15.6\"</td>\n      <td>Full HD 1920x1080</td>\n      <td>Intel Core i5 7200U 2.5GHz</td>\n      <td>...</td>\n      <td>AMD Radeon R5 M430</td>\n      <td>Windows</td>\n      <td>10</td>\n      <td>2.3kg</td>\n      <td>1050000</td>\n      <td>1</td>\n      <td>0</td>\n      <td>1050000.0</td>\n      <td>100000</td>\n      <td>9</td>\n    </tr>\n  </tbody>\n</table>\n<p>1017081 rows × 22 columns</p>\n</div>"
     },
     "execution_count": 98,
     "metadata": {},
     "output_type": "execute_result"
    }
   ],
   "source": [
    "df_data_sales = pd.read_csv('C:\\Pedram\\quera\\Laptop_analysis_and_Warehousing_g3\\Data Source\\sales_data.csv')\n",
    "df_data_sales"
   ],
   "metadata": {
    "collapsed": false,
    "ExecuteTime": {
     "end_time": "2023-10-16T14:14:47.019069Z",
     "start_time": "2023-10-16T14:14:44.574268900Z"
    }
   },
   "id": "8510a02f3261f4ef"
  },
  {
   "cell_type": "code",
   "execution_count": 99,
   "outputs": [
    {
     "data": {
      "text/plain": "        Manufacturer                               Model_Name  \\\n0               Dell                              Vostro 3568   \n1             Lenovo                           Yoga 720-13IKB   \n2             Lenovo                       IdeaPad Y700-15ISK   \n3               Dell                            Inspiron 5370   \n4               Acer                           Aspire E5-576G   \n...              ...                                      ...   \n1017076       Lenovo                       Legion Y520-15IKBN   \n1017077       Lenovo  V330-15IKB (i5-8250U/4GB/500GB/FHD/W10)   \n1017078         Dell                              Vostro 5568   \n1017079           HP                          Envy 13-AB020nr   \n1017080         Dell                            Inspiron 3567   \n\n                   Category Screen_Size  \\\n0                  Notebook       15.6\"   \n1        2 in 1 Convertible       13.3\"   \n2                  Notebook       15.6\"   \n3                 Ultrabook       13.3\"   \n4                  Notebook       15.6\"   \n...                     ...         ...   \n1017076              Gaming       15.6\"   \n1017077            Notebook       15.6\"   \n1017078            Notebook       15.6\"   \n1017079           Ultrabook       13.3\"   \n1017080            Notebook       15.6\"   \n\n                                            Screen  \\\n0                                Full HD 1920x1080   \n1        IPS Panel Full HD / Touchscreen 1920x1080   \n2                      IPS Panel Full HD 1920x1080   \n3                      IPS Panel Full HD 1920x1080   \n4                                Full HD 1920x1080   \n...                                            ...   \n1017076                IPS Panel Full HD 1920x1080   \n1017077                          Full HD 1920x1080   \n1017078                          Full HD 1920x1080   \n1017079               IPS Panel Quad HD+ 3200x1800   \n1017080                          Full HD 1920x1080   \n\n                                 CPU  RAM    Storage                      GPU  \\\n0         Intel Core i5 7200U 2.5GHz  8GB  256GB SSD       AMD Radeon R5 M420   \n1         Intel Core i5 7200U 2.5GHz  8GB  256GB SSD    Intel HD Graphics 620   \n2        Intel Core i7 6700HQ 2.6GHz  8GB    1TB HDD  Nvidia GeForce GTX 960M   \n3         Intel Core i7 8550U 1.8GHz  8GB  256GB SSD           AMD Radeon 530   \n4         Intel Core i5 7200U 2.5GHz  4GB  256GB SSD     Nvidia GeForce 940MX   \n...                              ...  ...        ...                      ...   \n1017076  Intel Core i7 7700HQ 2.8GHz  4GB    1TB HDD  Nvidia GeForce GTX 1050   \n1017077   Intel Core i5 8250U 1.6GHz  4GB  500GB HDD    Intel HD Graphics 620   \n1017078   Intel Core i5 7200U 2.5GHz  8GB    1TB HDD    Intel HD Graphics 620   \n1017079   Intel Core i7 7500U 2.7GHz  8GB  256GB SSD    Intel HD Graphics 620   \n1017080   Intel Core i5 7200U 2.5GHz  4GB  256GB SSD       AMD Radeon R5 M430   \n\n              OS OS_Version  Weight  \n0        Windows         10  2.18kg  \n1        Windows         10   1.3kg  \n2        Windows         10   2.6kg  \n3        Windows         10   1.4kg  \n4        Windows         10  2.23kg  \n...          ...        ...     ...  \n1017076  Windows         10   2.4kg  \n1017077  Windows         10  2.05kg  \n1017078    Linux        NaN  1.98kg  \n1017079  Windows         10  1.34kg  \n1017080  Windows         10   2.3kg  \n\n[1017081 rows x 12 columns]",
      "text/html": "<div>\n<style scoped>\n    .dataframe tbody tr th:only-of-type {\n        vertical-align: middle;\n    }\n\n    .dataframe tbody tr th {\n        vertical-align: top;\n    }\n\n    .dataframe thead th {\n        text-align: right;\n    }\n</style>\n<table border=\"1\" class=\"dataframe\">\n  <thead>\n    <tr style=\"text-align: right;\">\n      <th></th>\n      <th>Manufacturer</th>\n      <th>Model_Name</th>\n      <th>Category</th>\n      <th>Screen_Size</th>\n      <th>Screen</th>\n      <th>CPU</th>\n      <th>RAM</th>\n      <th>Storage</th>\n      <th>GPU</th>\n      <th>OS</th>\n      <th>OS_Version</th>\n      <th>Weight</th>\n    </tr>\n  </thead>\n  <tbody>\n    <tr>\n      <th>0</th>\n      <td>Dell</td>\n      <td>Vostro 3568</td>\n      <td>Notebook</td>\n      <td>15.6\"</td>\n      <td>Full HD 1920x1080</td>\n      <td>Intel Core i5 7200U 2.5GHz</td>\n      <td>8GB</td>\n      <td>256GB SSD</td>\n      <td>AMD Radeon R5 M420</td>\n      <td>Windows</td>\n      <td>10</td>\n      <td>2.18kg</td>\n    </tr>\n    <tr>\n      <th>1</th>\n      <td>Lenovo</td>\n      <td>Yoga 720-13IKB</td>\n      <td>2 in 1 Convertible</td>\n      <td>13.3\"</td>\n      <td>IPS Panel Full HD / Touchscreen 1920x1080</td>\n      <td>Intel Core i5 7200U 2.5GHz</td>\n      <td>8GB</td>\n      <td>256GB SSD</td>\n      <td>Intel HD Graphics 620</td>\n      <td>Windows</td>\n      <td>10</td>\n      <td>1.3kg</td>\n    </tr>\n    <tr>\n      <th>2</th>\n      <td>Lenovo</td>\n      <td>IdeaPad Y700-15ISK</td>\n      <td>Notebook</td>\n      <td>15.6\"</td>\n      <td>IPS Panel Full HD 1920x1080</td>\n      <td>Intel Core i7 6700HQ 2.6GHz</td>\n      <td>8GB</td>\n      <td>1TB HDD</td>\n      <td>Nvidia GeForce GTX 960M</td>\n      <td>Windows</td>\n      <td>10</td>\n      <td>2.6kg</td>\n    </tr>\n    <tr>\n      <th>3</th>\n      <td>Dell</td>\n      <td>Inspiron 5370</td>\n      <td>Ultrabook</td>\n      <td>13.3\"</td>\n      <td>IPS Panel Full HD 1920x1080</td>\n      <td>Intel Core i7 8550U 1.8GHz</td>\n      <td>8GB</td>\n      <td>256GB SSD</td>\n      <td>AMD Radeon 530</td>\n      <td>Windows</td>\n      <td>10</td>\n      <td>1.4kg</td>\n    </tr>\n    <tr>\n      <th>4</th>\n      <td>Acer</td>\n      <td>Aspire E5-576G</td>\n      <td>Notebook</td>\n      <td>15.6\"</td>\n      <td>Full HD 1920x1080</td>\n      <td>Intel Core i5 7200U 2.5GHz</td>\n      <td>4GB</td>\n      <td>256GB SSD</td>\n      <td>Nvidia GeForce 940MX</td>\n      <td>Windows</td>\n      <td>10</td>\n      <td>2.23kg</td>\n    </tr>\n    <tr>\n      <th>...</th>\n      <td>...</td>\n      <td>...</td>\n      <td>...</td>\n      <td>...</td>\n      <td>...</td>\n      <td>...</td>\n      <td>...</td>\n      <td>...</td>\n      <td>...</td>\n      <td>...</td>\n      <td>...</td>\n      <td>...</td>\n    </tr>\n    <tr>\n      <th>1017076</th>\n      <td>Lenovo</td>\n      <td>Legion Y520-15IKBN</td>\n      <td>Gaming</td>\n      <td>15.6\"</td>\n      <td>IPS Panel Full HD 1920x1080</td>\n      <td>Intel Core i7 7700HQ 2.8GHz</td>\n      <td>4GB</td>\n      <td>1TB HDD</td>\n      <td>Nvidia GeForce GTX 1050</td>\n      <td>Windows</td>\n      <td>10</td>\n      <td>2.4kg</td>\n    </tr>\n    <tr>\n      <th>1017077</th>\n      <td>Lenovo</td>\n      <td>V330-15IKB (i5-8250U/4GB/500GB/FHD/W10)</td>\n      <td>Notebook</td>\n      <td>15.6\"</td>\n      <td>Full HD 1920x1080</td>\n      <td>Intel Core i5 8250U 1.6GHz</td>\n      <td>4GB</td>\n      <td>500GB HDD</td>\n      <td>Intel HD Graphics 620</td>\n      <td>Windows</td>\n      <td>10</td>\n      <td>2.05kg</td>\n    </tr>\n    <tr>\n      <th>1017078</th>\n      <td>Dell</td>\n      <td>Vostro 5568</td>\n      <td>Notebook</td>\n      <td>15.6\"</td>\n      <td>Full HD 1920x1080</td>\n      <td>Intel Core i5 7200U 2.5GHz</td>\n      <td>8GB</td>\n      <td>1TB HDD</td>\n      <td>Intel HD Graphics 620</td>\n      <td>Linux</td>\n      <td>NaN</td>\n      <td>1.98kg</td>\n    </tr>\n    <tr>\n      <th>1017079</th>\n      <td>HP</td>\n      <td>Envy 13-AB020nr</td>\n      <td>Ultrabook</td>\n      <td>13.3\"</td>\n      <td>IPS Panel Quad HD+ 3200x1800</td>\n      <td>Intel Core i7 7500U 2.7GHz</td>\n      <td>8GB</td>\n      <td>256GB SSD</td>\n      <td>Intel HD Graphics 620</td>\n      <td>Windows</td>\n      <td>10</td>\n      <td>1.34kg</td>\n    </tr>\n    <tr>\n      <th>1017080</th>\n      <td>Dell</td>\n      <td>Inspiron 3567</td>\n      <td>Notebook</td>\n      <td>15.6\"</td>\n      <td>Full HD 1920x1080</td>\n      <td>Intel Core i5 7200U 2.5GHz</td>\n      <td>4GB</td>\n      <td>256GB SSD</td>\n      <td>AMD Radeon R5 M430</td>\n      <td>Windows</td>\n      <td>10</td>\n      <td>2.3kg</td>\n    </tr>\n  </tbody>\n</table>\n<p>1017081 rows × 12 columns</p>\n</div>"
     },
     "execution_count": 99,
     "metadata": {},
     "output_type": "execute_result"
    }
   ],
   "source": [
    "# make new df for data injection \n",
    "df_laptop = df_data_sales.copy()\n",
    "df_laptop.drop(columns=['Order_ID','Branch', 'Order_Date', 'Order_Priority', 'Quantity' , 'Discount', 'Total_Price', 'Profit', 'Ship_Duration', 'Price' ] , axis=1 , inplace=True)\n",
    "df_laptop"
   ],
   "metadata": {
    "collapsed": false,
    "ExecuteTime": {
     "end_time": "2023-10-16T14:14:47.197458800Z",
     "start_time": "2023-10-16T14:14:47.020068400Z"
    }
   },
   "id": "86786f6f2cd5f8c3"
  },
  {
   "cell_type": "code",
   "execution_count": 100,
   "outputs": [
    {
     "data": {
      "text/plain": "      Manufacturer                             Model_Name            Category  \\\n0             Dell                            Vostro 3568            Notebook   \n1           Lenovo                         Yoga 720-13IKB  2 in 1 Convertible   \n2           Lenovo                     IdeaPad Y700-15ISK            Notebook   \n3             Dell                          Inspiron 5370           Ultrabook   \n4             Acer                         Aspire E5-576G            Notebook   \n...            ...                                    ...                 ...   \n27093       Lenovo         V110-15IAP (N3350/4GB/128GB/No            Notebook   \n31951         Vero       V131 (X5-Z8350/4GB/32GB/FHD/W10)            Notebook   \n32102         Asus         X541NA (N3350/4GB/1TB/FHD/W10)            Notebook   \n40537          MSI                            GT73EVR 7RE              Gaming   \n42351           HP  15-bs018nq (i3-6006U/4GB/500GB/FHD/No            Notebook   \n\n      Screen_Size                                     Screen  \\\n0           15.6\"                          Full HD 1920x1080   \n1           13.3\"  IPS Panel Full HD / Touchscreen 1920x1080   \n2           15.6\"                IPS Panel Full HD 1920x1080   \n3           13.3\"                IPS Panel Full HD 1920x1080   \n4           15.6\"                          Full HD 1920x1080   \n...           ...                                        ...   \n27093       15.6\"                                   1366x768   \n31951       13.3\"                          Full HD 1920x1080   \n32102       15.6\"                          Full HD 1920x1080   \n40537       17.3\"                          Full HD 1920x1080   \n42351       15.6\"                          Full HD 1920x1080   \n\n                                        CPU   RAM               Storage  \\\n0                Intel Core i5 7200U 2.5GHz   8GB             256GB SSD   \n1                Intel Core i5 7200U 2.5GHz   8GB             256GB SSD   \n2               Intel Core i7 6700HQ 2.6GHz   8GB               1TB HDD   \n3                Intel Core i7 8550U 1.8GHz   8GB             256GB SSD   \n4                Intel Core i5 7200U 2.5GHz   4GB             256GB SSD   \n...                                     ...   ...                   ...   \n27093  Intel Celeron Dual Core N3350 1.1GHz   4GB             128GB SSD   \n31951           Intel Atom X5-Z8350 1.44GHz   4GB    32GB Flash Storage   \n32102  Intel Celeron Dual Core N3350 1.1GHz   4GB               1TB HDD   \n40537           Intel Core i7 7700HQ 2.8GHz  16GB  512GB SSD +  1TB HDD   \n42351              Intel Core i3 6006U 2GHz   4GB             500GB HDD   \n\n                           GPU       OS OS_Version  Weight  \n0           AMD Radeon R5 M420  Windows         10  2.18kg  \n1        Intel HD Graphics 620  Windows         10   1.3kg  \n2      Nvidia GeForce GTX 960M  Windows         10   2.6kg  \n3               AMD Radeon 530  Windows         10   1.4kg  \n4         Nvidia GeForce 940MX  Windows         10  2.23kg  \n...                        ...      ...        ...     ...  \n27093    Intel HD Graphics 500    No OS        NaN   1.9kg  \n31951    Intel HD Graphics 400  Windows         10  1.35kg  \n32102    Intel HD Graphics 500  Windows         10     2kg  \n40537  Nvidia GeForce GTX 1070  Windows         10  4.14kg  \n42351    Intel HD Graphics 520    No OS        NaN   2.1kg  \n\n[618 rows x 12 columns]",
      "text/html": "<div>\n<style scoped>\n    .dataframe tbody tr th:only-of-type {\n        vertical-align: middle;\n    }\n\n    .dataframe tbody tr th {\n        vertical-align: top;\n    }\n\n    .dataframe thead th {\n        text-align: right;\n    }\n</style>\n<table border=\"1\" class=\"dataframe\">\n  <thead>\n    <tr style=\"text-align: right;\">\n      <th></th>\n      <th>Manufacturer</th>\n      <th>Model_Name</th>\n      <th>Category</th>\n      <th>Screen_Size</th>\n      <th>Screen</th>\n      <th>CPU</th>\n      <th>RAM</th>\n      <th>Storage</th>\n      <th>GPU</th>\n      <th>OS</th>\n      <th>OS_Version</th>\n      <th>Weight</th>\n    </tr>\n  </thead>\n  <tbody>\n    <tr>\n      <th>0</th>\n      <td>Dell</td>\n      <td>Vostro 3568</td>\n      <td>Notebook</td>\n      <td>15.6\"</td>\n      <td>Full HD 1920x1080</td>\n      <td>Intel Core i5 7200U 2.5GHz</td>\n      <td>8GB</td>\n      <td>256GB SSD</td>\n      <td>AMD Radeon R5 M420</td>\n      <td>Windows</td>\n      <td>10</td>\n      <td>2.18kg</td>\n    </tr>\n    <tr>\n      <th>1</th>\n      <td>Lenovo</td>\n      <td>Yoga 720-13IKB</td>\n      <td>2 in 1 Convertible</td>\n      <td>13.3\"</td>\n      <td>IPS Panel Full HD / Touchscreen 1920x1080</td>\n      <td>Intel Core i5 7200U 2.5GHz</td>\n      <td>8GB</td>\n      <td>256GB SSD</td>\n      <td>Intel HD Graphics 620</td>\n      <td>Windows</td>\n      <td>10</td>\n      <td>1.3kg</td>\n    </tr>\n    <tr>\n      <th>2</th>\n      <td>Lenovo</td>\n      <td>IdeaPad Y700-15ISK</td>\n      <td>Notebook</td>\n      <td>15.6\"</td>\n      <td>IPS Panel Full HD 1920x1080</td>\n      <td>Intel Core i7 6700HQ 2.6GHz</td>\n      <td>8GB</td>\n      <td>1TB HDD</td>\n      <td>Nvidia GeForce GTX 960M</td>\n      <td>Windows</td>\n      <td>10</td>\n      <td>2.6kg</td>\n    </tr>\n    <tr>\n      <th>3</th>\n      <td>Dell</td>\n      <td>Inspiron 5370</td>\n      <td>Ultrabook</td>\n      <td>13.3\"</td>\n      <td>IPS Panel Full HD 1920x1080</td>\n      <td>Intel Core i7 8550U 1.8GHz</td>\n      <td>8GB</td>\n      <td>256GB SSD</td>\n      <td>AMD Radeon 530</td>\n      <td>Windows</td>\n      <td>10</td>\n      <td>1.4kg</td>\n    </tr>\n    <tr>\n      <th>4</th>\n      <td>Acer</td>\n      <td>Aspire E5-576G</td>\n      <td>Notebook</td>\n      <td>15.6\"</td>\n      <td>Full HD 1920x1080</td>\n      <td>Intel Core i5 7200U 2.5GHz</td>\n      <td>4GB</td>\n      <td>256GB SSD</td>\n      <td>Nvidia GeForce 940MX</td>\n      <td>Windows</td>\n      <td>10</td>\n      <td>2.23kg</td>\n    </tr>\n    <tr>\n      <th>...</th>\n      <td>...</td>\n      <td>...</td>\n      <td>...</td>\n      <td>...</td>\n      <td>...</td>\n      <td>...</td>\n      <td>...</td>\n      <td>...</td>\n      <td>...</td>\n      <td>...</td>\n      <td>...</td>\n      <td>...</td>\n    </tr>\n    <tr>\n      <th>27093</th>\n      <td>Lenovo</td>\n      <td>V110-15IAP (N3350/4GB/128GB/No</td>\n      <td>Notebook</td>\n      <td>15.6\"</td>\n      <td>1366x768</td>\n      <td>Intel Celeron Dual Core N3350 1.1GHz</td>\n      <td>4GB</td>\n      <td>128GB SSD</td>\n      <td>Intel HD Graphics 500</td>\n      <td>No OS</td>\n      <td>NaN</td>\n      <td>1.9kg</td>\n    </tr>\n    <tr>\n      <th>31951</th>\n      <td>Vero</td>\n      <td>V131 (X5-Z8350/4GB/32GB/FHD/W10)</td>\n      <td>Notebook</td>\n      <td>13.3\"</td>\n      <td>Full HD 1920x1080</td>\n      <td>Intel Atom X5-Z8350 1.44GHz</td>\n      <td>4GB</td>\n      <td>32GB Flash Storage</td>\n      <td>Intel HD Graphics 400</td>\n      <td>Windows</td>\n      <td>10</td>\n      <td>1.35kg</td>\n    </tr>\n    <tr>\n      <th>32102</th>\n      <td>Asus</td>\n      <td>X541NA (N3350/4GB/1TB/FHD/W10)</td>\n      <td>Notebook</td>\n      <td>15.6\"</td>\n      <td>Full HD 1920x1080</td>\n      <td>Intel Celeron Dual Core N3350 1.1GHz</td>\n      <td>4GB</td>\n      <td>1TB HDD</td>\n      <td>Intel HD Graphics 500</td>\n      <td>Windows</td>\n      <td>10</td>\n      <td>2kg</td>\n    </tr>\n    <tr>\n      <th>40537</th>\n      <td>MSI</td>\n      <td>GT73EVR 7RE</td>\n      <td>Gaming</td>\n      <td>17.3\"</td>\n      <td>Full HD 1920x1080</td>\n      <td>Intel Core i7 7700HQ 2.8GHz</td>\n      <td>16GB</td>\n      <td>512GB SSD +  1TB HDD</td>\n      <td>Nvidia GeForce GTX 1070</td>\n      <td>Windows</td>\n      <td>10</td>\n      <td>4.14kg</td>\n    </tr>\n    <tr>\n      <th>42351</th>\n      <td>HP</td>\n      <td>15-bs018nq (i3-6006U/4GB/500GB/FHD/No</td>\n      <td>Notebook</td>\n      <td>15.6\"</td>\n      <td>Full HD 1920x1080</td>\n      <td>Intel Core i3 6006U 2GHz</td>\n      <td>4GB</td>\n      <td>500GB HDD</td>\n      <td>Intel HD Graphics 520</td>\n      <td>No OS</td>\n      <td>NaN</td>\n      <td>2.1kg</td>\n    </tr>\n  </tbody>\n</table>\n<p>618 rows × 12 columns</p>\n</div>"
     },
     "execution_count": 100,
     "metadata": {},
     "output_type": "execute_result"
    }
   ],
   "source": [
    "df_laptop.drop_duplicates('Model_Name',inplace=True)\n",
    "df_laptop"
   ],
   "metadata": {
    "collapsed": false,
    "ExecuteTime": {
     "end_time": "2023-10-16T14:14:47.317414700Z",
     "start_time": "2023-10-16T14:14:47.198460Z"
    }
   },
   "id": "23a47aec72275ba7"
  },
  {
   "cell_type": "code",
   "execution_count": 101,
   "outputs": [
    {
     "data": {
      "text/plain": "     index Manufacturer                             Model_Name  \\\n0        0         Dell                            Vostro 3568   \n1        1       Lenovo                         Yoga 720-13IKB   \n2        2       Lenovo                     IdeaPad Y700-15ISK   \n3        3         Dell                          Inspiron 5370   \n4        4         Acer                         Aspire E5-576G   \n..     ...          ...                                    ...   \n613  27093       Lenovo         V110-15IAP (N3350/4GB/128GB/No   \n614  31951         Vero       V131 (X5-Z8350/4GB/32GB/FHD/W10)   \n615  32102         Asus         X541NA (N3350/4GB/1TB/FHD/W10)   \n616  40537          MSI                            GT73EVR 7RE   \n617  42351           HP  15-bs018nq (i3-6006U/4GB/500GB/FHD/No   \n\n               Category Screen_Size  \\\n0              Notebook       15.6\"   \n1    2 in 1 Convertible       13.3\"   \n2              Notebook       15.6\"   \n3             Ultrabook       13.3\"   \n4              Notebook       15.6\"   \n..                  ...         ...   \n613            Notebook       15.6\"   \n614            Notebook       13.3\"   \n615            Notebook       15.6\"   \n616              Gaming       17.3\"   \n617            Notebook       15.6\"   \n\n                                        Screen  \\\n0                            Full HD 1920x1080   \n1    IPS Panel Full HD / Touchscreen 1920x1080   \n2                  IPS Panel Full HD 1920x1080   \n3                  IPS Panel Full HD 1920x1080   \n4                            Full HD 1920x1080   \n..                                         ...   \n613                                   1366x768   \n614                          Full HD 1920x1080   \n615                          Full HD 1920x1080   \n616                          Full HD 1920x1080   \n617                          Full HD 1920x1080   \n\n                                      CPU   RAM               Storage  \\\n0              Intel Core i5 7200U 2.5GHz   8GB             256GB SSD   \n1              Intel Core i5 7200U 2.5GHz   8GB             256GB SSD   \n2             Intel Core i7 6700HQ 2.6GHz   8GB               1TB HDD   \n3              Intel Core i7 8550U 1.8GHz   8GB             256GB SSD   \n4              Intel Core i5 7200U 2.5GHz   4GB             256GB SSD   \n..                                    ...   ...                   ...   \n613  Intel Celeron Dual Core N3350 1.1GHz   4GB             128GB SSD   \n614           Intel Atom X5-Z8350 1.44GHz   4GB    32GB Flash Storage   \n615  Intel Celeron Dual Core N3350 1.1GHz   4GB               1TB HDD   \n616           Intel Core i7 7700HQ 2.8GHz  16GB  512GB SSD +  1TB HDD   \n617              Intel Core i3 6006U 2GHz   4GB             500GB HDD   \n\n                         GPU       OS OS_Version  Weight  \n0         AMD Radeon R5 M420  Windows         10  2.18kg  \n1      Intel HD Graphics 620  Windows         10   1.3kg  \n2    Nvidia GeForce GTX 960M  Windows         10   2.6kg  \n3             AMD Radeon 530  Windows         10   1.4kg  \n4       Nvidia GeForce 940MX  Windows         10  2.23kg  \n..                       ...      ...        ...     ...  \n613    Intel HD Graphics 500    No OS        NaN   1.9kg  \n614    Intel HD Graphics 400  Windows         10  1.35kg  \n615    Intel HD Graphics 500  Windows         10     2kg  \n616  Nvidia GeForce GTX 1070  Windows         10  4.14kg  \n617    Intel HD Graphics 520    No OS        NaN   2.1kg  \n\n[618 rows x 13 columns]",
      "text/html": "<div>\n<style scoped>\n    .dataframe tbody tr th:only-of-type {\n        vertical-align: middle;\n    }\n\n    .dataframe tbody tr th {\n        vertical-align: top;\n    }\n\n    .dataframe thead th {\n        text-align: right;\n    }\n</style>\n<table border=\"1\" class=\"dataframe\">\n  <thead>\n    <tr style=\"text-align: right;\">\n      <th></th>\n      <th>index</th>\n      <th>Manufacturer</th>\n      <th>Model_Name</th>\n      <th>Category</th>\n      <th>Screen_Size</th>\n      <th>Screen</th>\n      <th>CPU</th>\n      <th>RAM</th>\n      <th>Storage</th>\n      <th>GPU</th>\n      <th>OS</th>\n      <th>OS_Version</th>\n      <th>Weight</th>\n    </tr>\n  </thead>\n  <tbody>\n    <tr>\n      <th>0</th>\n      <td>0</td>\n      <td>Dell</td>\n      <td>Vostro 3568</td>\n      <td>Notebook</td>\n      <td>15.6\"</td>\n      <td>Full HD 1920x1080</td>\n      <td>Intel Core i5 7200U 2.5GHz</td>\n      <td>8GB</td>\n      <td>256GB SSD</td>\n      <td>AMD Radeon R5 M420</td>\n      <td>Windows</td>\n      <td>10</td>\n      <td>2.18kg</td>\n    </tr>\n    <tr>\n      <th>1</th>\n      <td>1</td>\n      <td>Lenovo</td>\n      <td>Yoga 720-13IKB</td>\n      <td>2 in 1 Convertible</td>\n      <td>13.3\"</td>\n      <td>IPS Panel Full HD / Touchscreen 1920x1080</td>\n      <td>Intel Core i5 7200U 2.5GHz</td>\n      <td>8GB</td>\n      <td>256GB SSD</td>\n      <td>Intel HD Graphics 620</td>\n      <td>Windows</td>\n      <td>10</td>\n      <td>1.3kg</td>\n    </tr>\n    <tr>\n      <th>2</th>\n      <td>2</td>\n      <td>Lenovo</td>\n      <td>IdeaPad Y700-15ISK</td>\n      <td>Notebook</td>\n      <td>15.6\"</td>\n      <td>IPS Panel Full HD 1920x1080</td>\n      <td>Intel Core i7 6700HQ 2.6GHz</td>\n      <td>8GB</td>\n      <td>1TB HDD</td>\n      <td>Nvidia GeForce GTX 960M</td>\n      <td>Windows</td>\n      <td>10</td>\n      <td>2.6kg</td>\n    </tr>\n    <tr>\n      <th>3</th>\n      <td>3</td>\n      <td>Dell</td>\n      <td>Inspiron 5370</td>\n      <td>Ultrabook</td>\n      <td>13.3\"</td>\n      <td>IPS Panel Full HD 1920x1080</td>\n      <td>Intel Core i7 8550U 1.8GHz</td>\n      <td>8GB</td>\n      <td>256GB SSD</td>\n      <td>AMD Radeon 530</td>\n      <td>Windows</td>\n      <td>10</td>\n      <td>1.4kg</td>\n    </tr>\n    <tr>\n      <th>4</th>\n      <td>4</td>\n      <td>Acer</td>\n      <td>Aspire E5-576G</td>\n      <td>Notebook</td>\n      <td>15.6\"</td>\n      <td>Full HD 1920x1080</td>\n      <td>Intel Core i5 7200U 2.5GHz</td>\n      <td>4GB</td>\n      <td>256GB SSD</td>\n      <td>Nvidia GeForce 940MX</td>\n      <td>Windows</td>\n      <td>10</td>\n      <td>2.23kg</td>\n    </tr>\n    <tr>\n      <th>...</th>\n      <td>...</td>\n      <td>...</td>\n      <td>...</td>\n      <td>...</td>\n      <td>...</td>\n      <td>...</td>\n      <td>...</td>\n      <td>...</td>\n      <td>...</td>\n      <td>...</td>\n      <td>...</td>\n      <td>...</td>\n      <td>...</td>\n    </tr>\n    <tr>\n      <th>613</th>\n      <td>27093</td>\n      <td>Lenovo</td>\n      <td>V110-15IAP (N3350/4GB/128GB/No</td>\n      <td>Notebook</td>\n      <td>15.6\"</td>\n      <td>1366x768</td>\n      <td>Intel Celeron Dual Core N3350 1.1GHz</td>\n      <td>4GB</td>\n      <td>128GB SSD</td>\n      <td>Intel HD Graphics 500</td>\n      <td>No OS</td>\n      <td>NaN</td>\n      <td>1.9kg</td>\n    </tr>\n    <tr>\n      <th>614</th>\n      <td>31951</td>\n      <td>Vero</td>\n      <td>V131 (X5-Z8350/4GB/32GB/FHD/W10)</td>\n      <td>Notebook</td>\n      <td>13.3\"</td>\n      <td>Full HD 1920x1080</td>\n      <td>Intel Atom X5-Z8350 1.44GHz</td>\n      <td>4GB</td>\n      <td>32GB Flash Storage</td>\n      <td>Intel HD Graphics 400</td>\n      <td>Windows</td>\n      <td>10</td>\n      <td>1.35kg</td>\n    </tr>\n    <tr>\n      <th>615</th>\n      <td>32102</td>\n      <td>Asus</td>\n      <td>X541NA (N3350/4GB/1TB/FHD/W10)</td>\n      <td>Notebook</td>\n      <td>15.6\"</td>\n      <td>Full HD 1920x1080</td>\n      <td>Intel Celeron Dual Core N3350 1.1GHz</td>\n      <td>4GB</td>\n      <td>1TB HDD</td>\n      <td>Intel HD Graphics 500</td>\n      <td>Windows</td>\n      <td>10</td>\n      <td>2kg</td>\n    </tr>\n    <tr>\n      <th>616</th>\n      <td>40537</td>\n      <td>MSI</td>\n      <td>GT73EVR 7RE</td>\n      <td>Gaming</td>\n      <td>17.3\"</td>\n      <td>Full HD 1920x1080</td>\n      <td>Intel Core i7 7700HQ 2.8GHz</td>\n      <td>16GB</td>\n      <td>512GB SSD +  1TB HDD</td>\n      <td>Nvidia GeForce GTX 1070</td>\n      <td>Windows</td>\n      <td>10</td>\n      <td>4.14kg</td>\n    </tr>\n    <tr>\n      <th>617</th>\n      <td>42351</td>\n      <td>HP</td>\n      <td>15-bs018nq (i3-6006U/4GB/500GB/FHD/No</td>\n      <td>Notebook</td>\n      <td>15.6\"</td>\n      <td>Full HD 1920x1080</td>\n      <td>Intel Core i3 6006U 2GHz</td>\n      <td>4GB</td>\n      <td>500GB HDD</td>\n      <td>Intel HD Graphics 520</td>\n      <td>No OS</td>\n      <td>NaN</td>\n      <td>2.1kg</td>\n    </tr>\n  </tbody>\n</table>\n<p>618 rows × 13 columns</p>\n</div>"
     },
     "execution_count": 101,
     "metadata": {},
     "output_type": "execute_result"
    }
   ],
   "source": [
    "df_laptop.reset_index(inplace=True)\n",
    "df_laptop\n"
   ],
   "metadata": {
    "collapsed": false,
    "ExecuteTime": {
     "end_time": "2023-10-16T14:15:04.647604600Z",
     "start_time": "2023-10-16T14:15:04.635236900Z"
    }
   },
   "id": "8e89bce2df55b96b"
  },
  {
   "cell_type": "code",
   "execution_count": 102,
   "outputs": [
    {
     "data": {
      "text/plain": "         index Manufacturer_x                             Model_Name  \\\n0            0           Dell                            Vostro 3568   \n1            0           Dell                            Vostro 3568   \n2            0           Dell                            Vostro 3568   \n3            0           Dell                            Vostro 3568   \n4            0           Dell                            Vostro 3568   \n...        ...            ...                                    ...   \n1017076  42351             HP  15-bs018nq (i3-6006U/4GB/500GB/FHD/No   \n1017077  42351             HP  15-bs018nq (i3-6006U/4GB/500GB/FHD/No   \n1017078  42351             HP  15-bs018nq (i3-6006U/4GB/500GB/FHD/No   \n1017079  42351             HP  15-bs018nq (i3-6006U/4GB/500GB/FHD/No   \n1017080  42351             HP  15-bs018nq (i3-6006U/4GB/500GB/FHD/No   \n\n        Category_x Screen_Size_x           Screen_x  \\\n0         Notebook         15.6\"  Full HD 1920x1080   \n1         Notebook         15.6\"  Full HD 1920x1080   \n2         Notebook         15.6\"  Full HD 1920x1080   \n3         Notebook         15.6\"  Full HD 1920x1080   \n4         Notebook         15.6\"  Full HD 1920x1080   \n...            ...           ...                ...   \n1017076   Notebook         15.6\"  Full HD 1920x1080   \n1017077   Notebook         15.6\"  Full HD 1920x1080   \n1017078   Notebook         15.6\"  Full HD 1920x1080   \n1017079   Notebook         15.6\"  Full HD 1920x1080   \n1017080   Notebook         15.6\"  Full HD 1920x1080   \n\n                              CPU_x RAM_x  Storage_x                  GPU_x  \\\n0        Intel Core i5 7200U 2.5GHz   8GB  256GB SSD     AMD Radeon R5 M420   \n1        Intel Core i5 7200U 2.5GHz   8GB  256GB SSD     AMD Radeon R5 M420   \n2        Intel Core i5 7200U 2.5GHz   8GB  256GB SSD     AMD Radeon R5 M420   \n3        Intel Core i5 7200U 2.5GHz   8GB  256GB SSD     AMD Radeon R5 M420   \n4        Intel Core i5 7200U 2.5GHz   8GB  256GB SSD     AMD Radeon R5 M420   \n...                             ...   ...        ...                    ...   \n1017076    Intel Core i3 6006U 2GHz   4GB  500GB HDD  Intel HD Graphics 520   \n1017077    Intel Core i3 6006U 2GHz   4GB  500GB HDD  Intel HD Graphics 520   \n1017078    Intel Core i3 6006U 2GHz   4GB  500GB HDD  Intel HD Graphics 520   \n1017079    Intel Core i3 6006U 2GHz   4GB  500GB HDD  Intel HD Graphics 520   \n1017080    Intel Core i3 6006U 2GHz   4GB  500GB HDD  Intel HD Graphics 520   \n\n         ...                  GPU_y     OS_y OS_Version_y  Weight_y     Price  \\\n0        ...     AMD Radeon R5 M420  Windows           10    2.18kg   3450000   \n1        ...    AMD Radeon R5 M420X  Windows           10    2.18kg   1100000   \n2        ...  Intel HD Graphics 620  Windows           10    2.18kg  16400000   \n3        ...  Intel HD Graphics 620  Windows           10    2.18kg  20150000   \n4        ...     AMD Radeon R5 M420  Windows           10    2.18kg   4250000   \n...      ...                    ...      ...          ...       ...       ...   \n1017076  ...  Intel HD Graphics 520    No OS          NaN     2.1kg   1150000   \n1017077  ...  Intel HD Graphics 520    No OS          NaN     2.1kg   1350000   \n1017078  ...  Intel HD Graphics 520    No OS          NaN     2.1kg  15150000   \n1017079  ...  Intel HD Graphics 520    No OS          NaN     2.1kg   8950000   \n1017080  ...  Intel HD Graphics 520    No OS          NaN     2.1kg  10600000   \n\n        Quantity Discount Total_Price   Profit Ship_Duration  \n0              1        0   3450000.0   250000             3  \n1              1        0   1100000.0   100000             5  \n2              1        5  15580000.0  1920000            10  \n3              1        0  20150000.0  2170000             3  \n4              1        0   4250000.0   430000             6  \n...          ...      ...         ...      ...           ...  \n1017076        1        0   1150000.0    80000            10  \n1017077        1        0   1350000.0   130000             8  \n1017078        1        0  15150000.0  1680000             8  \n1017079        1        0   8950000.0  1140000             6  \n1017080        1        0  10600000.0   980000            10  \n\n[1017081 rows x 34 columns]",
      "text/html": "<div>\n<style scoped>\n    .dataframe tbody tr th:only-of-type {\n        vertical-align: middle;\n    }\n\n    .dataframe tbody tr th {\n        vertical-align: top;\n    }\n\n    .dataframe thead th {\n        text-align: right;\n    }\n</style>\n<table border=\"1\" class=\"dataframe\">\n  <thead>\n    <tr style=\"text-align: right;\">\n      <th></th>\n      <th>index</th>\n      <th>Manufacturer_x</th>\n      <th>Model_Name</th>\n      <th>Category_x</th>\n      <th>Screen_Size_x</th>\n      <th>Screen_x</th>\n      <th>CPU_x</th>\n      <th>RAM_x</th>\n      <th>Storage_x</th>\n      <th>GPU_x</th>\n      <th>...</th>\n      <th>GPU_y</th>\n      <th>OS_y</th>\n      <th>OS_Version_y</th>\n      <th>Weight_y</th>\n      <th>Price</th>\n      <th>Quantity</th>\n      <th>Discount</th>\n      <th>Total_Price</th>\n      <th>Profit</th>\n      <th>Ship_Duration</th>\n    </tr>\n  </thead>\n  <tbody>\n    <tr>\n      <th>0</th>\n      <td>0</td>\n      <td>Dell</td>\n      <td>Vostro 3568</td>\n      <td>Notebook</td>\n      <td>15.6\"</td>\n      <td>Full HD 1920x1080</td>\n      <td>Intel Core i5 7200U 2.5GHz</td>\n      <td>8GB</td>\n      <td>256GB SSD</td>\n      <td>AMD Radeon R5 M420</td>\n      <td>...</td>\n      <td>AMD Radeon R5 M420</td>\n      <td>Windows</td>\n      <td>10</td>\n      <td>2.18kg</td>\n      <td>3450000</td>\n      <td>1</td>\n      <td>0</td>\n      <td>3450000.0</td>\n      <td>250000</td>\n      <td>3</td>\n    </tr>\n    <tr>\n      <th>1</th>\n      <td>0</td>\n      <td>Dell</td>\n      <td>Vostro 3568</td>\n      <td>Notebook</td>\n      <td>15.6\"</td>\n      <td>Full HD 1920x1080</td>\n      <td>Intel Core i5 7200U 2.5GHz</td>\n      <td>8GB</td>\n      <td>256GB SSD</td>\n      <td>AMD Radeon R5 M420</td>\n      <td>...</td>\n      <td>AMD Radeon R5 M420X</td>\n      <td>Windows</td>\n      <td>10</td>\n      <td>2.18kg</td>\n      <td>1100000</td>\n      <td>1</td>\n      <td>0</td>\n      <td>1100000.0</td>\n      <td>100000</td>\n      <td>5</td>\n    </tr>\n    <tr>\n      <th>2</th>\n      <td>0</td>\n      <td>Dell</td>\n      <td>Vostro 3568</td>\n      <td>Notebook</td>\n      <td>15.6\"</td>\n      <td>Full HD 1920x1080</td>\n      <td>Intel Core i5 7200U 2.5GHz</td>\n      <td>8GB</td>\n      <td>256GB SSD</td>\n      <td>AMD Radeon R5 M420</td>\n      <td>...</td>\n      <td>Intel HD Graphics 620</td>\n      <td>Windows</td>\n      <td>10</td>\n      <td>2.18kg</td>\n      <td>16400000</td>\n      <td>1</td>\n      <td>5</td>\n      <td>15580000.0</td>\n      <td>1920000</td>\n      <td>10</td>\n    </tr>\n    <tr>\n      <th>3</th>\n      <td>0</td>\n      <td>Dell</td>\n      <td>Vostro 3568</td>\n      <td>Notebook</td>\n      <td>15.6\"</td>\n      <td>Full HD 1920x1080</td>\n      <td>Intel Core i5 7200U 2.5GHz</td>\n      <td>8GB</td>\n      <td>256GB SSD</td>\n      <td>AMD Radeon R5 M420</td>\n      <td>...</td>\n      <td>Intel HD Graphics 620</td>\n      <td>Windows</td>\n      <td>10</td>\n      <td>2.18kg</td>\n      <td>20150000</td>\n      <td>1</td>\n      <td>0</td>\n      <td>20150000.0</td>\n      <td>2170000</td>\n      <td>3</td>\n    </tr>\n    <tr>\n      <th>4</th>\n      <td>0</td>\n      <td>Dell</td>\n      <td>Vostro 3568</td>\n      <td>Notebook</td>\n      <td>15.6\"</td>\n      <td>Full HD 1920x1080</td>\n      <td>Intel Core i5 7200U 2.5GHz</td>\n      <td>8GB</td>\n      <td>256GB SSD</td>\n      <td>AMD Radeon R5 M420</td>\n      <td>...</td>\n      <td>AMD Radeon R5 M420</td>\n      <td>Windows</td>\n      <td>10</td>\n      <td>2.18kg</td>\n      <td>4250000</td>\n      <td>1</td>\n      <td>0</td>\n      <td>4250000.0</td>\n      <td>430000</td>\n      <td>6</td>\n    </tr>\n    <tr>\n      <th>...</th>\n      <td>...</td>\n      <td>...</td>\n      <td>...</td>\n      <td>...</td>\n      <td>...</td>\n      <td>...</td>\n      <td>...</td>\n      <td>...</td>\n      <td>...</td>\n      <td>...</td>\n      <td>...</td>\n      <td>...</td>\n      <td>...</td>\n      <td>...</td>\n      <td>...</td>\n      <td>...</td>\n      <td>...</td>\n      <td>...</td>\n      <td>...</td>\n      <td>...</td>\n      <td>...</td>\n    </tr>\n    <tr>\n      <th>1017076</th>\n      <td>42351</td>\n      <td>HP</td>\n      <td>15-bs018nq (i3-6006U/4GB/500GB/FHD/No</td>\n      <td>Notebook</td>\n      <td>15.6\"</td>\n      <td>Full HD 1920x1080</td>\n      <td>Intel Core i3 6006U 2GHz</td>\n      <td>4GB</td>\n      <td>500GB HDD</td>\n      <td>Intel HD Graphics 520</td>\n      <td>...</td>\n      <td>Intel HD Graphics 520</td>\n      <td>No OS</td>\n      <td>NaN</td>\n      <td>2.1kg</td>\n      <td>1150000</td>\n      <td>1</td>\n      <td>0</td>\n      <td>1150000.0</td>\n      <td>80000</td>\n      <td>10</td>\n    </tr>\n    <tr>\n      <th>1017077</th>\n      <td>42351</td>\n      <td>HP</td>\n      <td>15-bs018nq (i3-6006U/4GB/500GB/FHD/No</td>\n      <td>Notebook</td>\n      <td>15.6\"</td>\n      <td>Full HD 1920x1080</td>\n      <td>Intel Core i3 6006U 2GHz</td>\n      <td>4GB</td>\n      <td>500GB HDD</td>\n      <td>Intel HD Graphics 520</td>\n      <td>...</td>\n      <td>Intel HD Graphics 520</td>\n      <td>No OS</td>\n      <td>NaN</td>\n      <td>2.1kg</td>\n      <td>1350000</td>\n      <td>1</td>\n      <td>0</td>\n      <td>1350000.0</td>\n      <td>130000</td>\n      <td>8</td>\n    </tr>\n    <tr>\n      <th>1017078</th>\n      <td>42351</td>\n      <td>HP</td>\n      <td>15-bs018nq (i3-6006U/4GB/500GB/FHD/No</td>\n      <td>Notebook</td>\n      <td>15.6\"</td>\n      <td>Full HD 1920x1080</td>\n      <td>Intel Core i3 6006U 2GHz</td>\n      <td>4GB</td>\n      <td>500GB HDD</td>\n      <td>Intel HD Graphics 520</td>\n      <td>...</td>\n      <td>Intel HD Graphics 520</td>\n      <td>No OS</td>\n      <td>NaN</td>\n      <td>2.1kg</td>\n      <td>15150000</td>\n      <td>1</td>\n      <td>0</td>\n      <td>15150000.0</td>\n      <td>1680000</td>\n      <td>8</td>\n    </tr>\n    <tr>\n      <th>1017079</th>\n      <td>42351</td>\n      <td>HP</td>\n      <td>15-bs018nq (i3-6006U/4GB/500GB/FHD/No</td>\n      <td>Notebook</td>\n      <td>15.6\"</td>\n      <td>Full HD 1920x1080</td>\n      <td>Intel Core i3 6006U 2GHz</td>\n      <td>4GB</td>\n      <td>500GB HDD</td>\n      <td>Intel HD Graphics 520</td>\n      <td>...</td>\n      <td>Intel HD Graphics 520</td>\n      <td>No OS</td>\n      <td>NaN</td>\n      <td>2.1kg</td>\n      <td>8950000</td>\n      <td>1</td>\n      <td>0</td>\n      <td>8950000.0</td>\n      <td>1140000</td>\n      <td>6</td>\n    </tr>\n    <tr>\n      <th>1017080</th>\n      <td>42351</td>\n      <td>HP</td>\n      <td>15-bs018nq (i3-6006U/4GB/500GB/FHD/No</td>\n      <td>Notebook</td>\n      <td>15.6\"</td>\n      <td>Full HD 1920x1080</td>\n      <td>Intel Core i3 6006U 2GHz</td>\n      <td>4GB</td>\n      <td>500GB HDD</td>\n      <td>Intel HD Graphics 520</td>\n      <td>...</td>\n      <td>Intel HD Graphics 520</td>\n      <td>No OS</td>\n      <td>NaN</td>\n      <td>2.1kg</td>\n      <td>10600000</td>\n      <td>1</td>\n      <td>0</td>\n      <td>10600000.0</td>\n      <td>980000</td>\n      <td>10</td>\n    </tr>\n  </tbody>\n</table>\n<p>1017081 rows × 34 columns</p>\n</div>"
     },
     "execution_count": 102,
     "metadata": {},
     "output_type": "execute_result"
    }
   ],
   "source": [
    "df_order = df_laptop.merge(df_data_sales, on='Model_Name' , how='left')\n",
    "df_order"
   ],
   "metadata": {
    "collapsed": false,
    "ExecuteTime": {
     "end_time": "2023-10-16T14:15:39.534963300Z",
     "start_time": "2023-10-16T14:15:38.554441500Z"
    }
   },
   "id": "13b6ace0653a776e"
  },
  {
   "cell_type": "code",
   "execution_count": 103,
   "outputs": [
    {
     "data": {
      "text/plain": "         index  Order_ID   Branch  Order_Date Order_Priority     Price  \\\n0            0         0  Hamedan  1396-10-26              H   3450000   \n1            0        20  Mashhad  1391-01-20              M   1100000   \n2            0        72     Yazd  1401-02-09              L  16400000   \n3            0       204   Tabriz  1400-05-25              H  20150000   \n4            0       297  Isfahan  1397-02-30              M   4250000   \n...        ...       ...      ...         ...            ...       ...   \n1017076  42351    926808    Rasht  1394-12-24              L   1150000   \n1017077  42351    944117    Karaj  1396-07-15              L   1350000   \n1017078  42351    987849  Hamedan  1401-11-25              L  15150000   \n1017079  42351   1006977  Mashhad  1401-05-27              M   8950000   \n1017080  42351   1015533     Kish  1401-06-20              L  10600000   \n\n         Quantity  Discount  Total_Price   Profit  Ship_Duration  \n0               1         0    3450000.0   250000              3  \n1               1         0    1100000.0   100000              5  \n2               1         5   15580000.0  1920000             10  \n3               1         0   20150000.0  2170000              3  \n4               1         0    4250000.0   430000              6  \n...           ...       ...          ...      ...            ...  \n1017076         1         0    1150000.0    80000             10  \n1017077         1         0    1350000.0   130000              8  \n1017078         1         0   15150000.0  1680000              8  \n1017079         1         0    8950000.0  1140000              6  \n1017080         1         0   10600000.0   980000             10  \n\n[1017081 rows x 11 columns]",
      "text/html": "<div>\n<style scoped>\n    .dataframe tbody tr th:only-of-type {\n        vertical-align: middle;\n    }\n\n    .dataframe tbody tr th {\n        vertical-align: top;\n    }\n\n    .dataframe thead th {\n        text-align: right;\n    }\n</style>\n<table border=\"1\" class=\"dataframe\">\n  <thead>\n    <tr style=\"text-align: right;\">\n      <th></th>\n      <th>index</th>\n      <th>Order_ID</th>\n      <th>Branch</th>\n      <th>Order_Date</th>\n      <th>Order_Priority</th>\n      <th>Price</th>\n      <th>Quantity</th>\n      <th>Discount</th>\n      <th>Total_Price</th>\n      <th>Profit</th>\n      <th>Ship_Duration</th>\n    </tr>\n  </thead>\n  <tbody>\n    <tr>\n      <th>0</th>\n      <td>0</td>\n      <td>0</td>\n      <td>Hamedan</td>\n      <td>1396-10-26</td>\n      <td>H</td>\n      <td>3450000</td>\n      <td>1</td>\n      <td>0</td>\n      <td>3450000.0</td>\n      <td>250000</td>\n      <td>3</td>\n    </tr>\n    <tr>\n      <th>1</th>\n      <td>0</td>\n      <td>20</td>\n      <td>Mashhad</td>\n      <td>1391-01-20</td>\n      <td>M</td>\n      <td>1100000</td>\n      <td>1</td>\n      <td>0</td>\n      <td>1100000.0</td>\n      <td>100000</td>\n      <td>5</td>\n    </tr>\n    <tr>\n      <th>2</th>\n      <td>0</td>\n      <td>72</td>\n      <td>Yazd</td>\n      <td>1401-02-09</td>\n      <td>L</td>\n      <td>16400000</td>\n      <td>1</td>\n      <td>5</td>\n      <td>15580000.0</td>\n      <td>1920000</td>\n      <td>10</td>\n    </tr>\n    <tr>\n      <th>3</th>\n      <td>0</td>\n      <td>204</td>\n      <td>Tabriz</td>\n      <td>1400-05-25</td>\n      <td>H</td>\n      <td>20150000</td>\n      <td>1</td>\n      <td>0</td>\n      <td>20150000.0</td>\n      <td>2170000</td>\n      <td>3</td>\n    </tr>\n    <tr>\n      <th>4</th>\n      <td>0</td>\n      <td>297</td>\n      <td>Isfahan</td>\n      <td>1397-02-30</td>\n      <td>M</td>\n      <td>4250000</td>\n      <td>1</td>\n      <td>0</td>\n      <td>4250000.0</td>\n      <td>430000</td>\n      <td>6</td>\n    </tr>\n    <tr>\n      <th>...</th>\n      <td>...</td>\n      <td>...</td>\n      <td>...</td>\n      <td>...</td>\n      <td>...</td>\n      <td>...</td>\n      <td>...</td>\n      <td>...</td>\n      <td>...</td>\n      <td>...</td>\n      <td>...</td>\n    </tr>\n    <tr>\n      <th>1017076</th>\n      <td>42351</td>\n      <td>926808</td>\n      <td>Rasht</td>\n      <td>1394-12-24</td>\n      <td>L</td>\n      <td>1150000</td>\n      <td>1</td>\n      <td>0</td>\n      <td>1150000.0</td>\n      <td>80000</td>\n      <td>10</td>\n    </tr>\n    <tr>\n      <th>1017077</th>\n      <td>42351</td>\n      <td>944117</td>\n      <td>Karaj</td>\n      <td>1396-07-15</td>\n      <td>L</td>\n      <td>1350000</td>\n      <td>1</td>\n      <td>0</td>\n      <td>1350000.0</td>\n      <td>130000</td>\n      <td>8</td>\n    </tr>\n    <tr>\n      <th>1017078</th>\n      <td>42351</td>\n      <td>987849</td>\n      <td>Hamedan</td>\n      <td>1401-11-25</td>\n      <td>L</td>\n      <td>15150000</td>\n      <td>1</td>\n      <td>0</td>\n      <td>15150000.0</td>\n      <td>1680000</td>\n      <td>8</td>\n    </tr>\n    <tr>\n      <th>1017079</th>\n      <td>42351</td>\n      <td>1006977</td>\n      <td>Mashhad</td>\n      <td>1401-05-27</td>\n      <td>M</td>\n      <td>8950000</td>\n      <td>1</td>\n      <td>0</td>\n      <td>8950000.0</td>\n      <td>1140000</td>\n      <td>6</td>\n    </tr>\n    <tr>\n      <th>1017080</th>\n      <td>42351</td>\n      <td>1015533</td>\n      <td>Kish</td>\n      <td>1401-06-20</td>\n      <td>L</td>\n      <td>10600000</td>\n      <td>1</td>\n      <td>0</td>\n      <td>10600000.0</td>\n      <td>980000</td>\n      <td>10</td>\n    </tr>\n  </tbody>\n</table>\n<p>1017081 rows × 11 columns</p>\n</div>"
     },
     "execution_count": 103,
     "metadata": {},
     "output_type": "execute_result"
    }
   ],
   "source": [
    "df_order.drop(columns=['Model_Name', 'Manufacturer_x' , 'Manufacturer_y' , 'RAM_x', 'RAM_y' , 'Category_x', 'Category_y' , 'CPU_x', 'CPU_y' ,'Screen_Size_x','Screen_Size_y', 'Screen_x', 'Screen_y', 'Storage_x', 'Storage_y', 'GPU_x' , 'GPU_y', 'OS_Version_x', 'OS_Version_y', 'OS_x', 'OS_y', 'Weight_x', 'Weight_y' ], axis= 1 , inplace=True)\n",
    "df_order"
   ],
   "metadata": {
    "collapsed": false,
    "ExecuteTime": {
     "end_time": "2023-10-16T14:15:46.142645100Z",
     "start_time": "2023-10-16T14:15:46.038318400Z"
    }
   },
   "id": "4914686b0493ac58"
  },
  {
   "cell_type": "markdown",
   "source": [
    "# Data Injection "
   ],
   "metadata": {
    "collapsed": false
   },
   "id": "f65af4b860ecc0e1"
  },
  {
   "cell_type": "code",
   "execution_count": 104,
   "outputs": [],
   "source": [
    "# Import necessary libraries and modules\n",
    "from sqlalchemy import MetaData, create_engine\n",
    "from sqlalchemy.orm import sessionmaker\n",
    "from sqlalchemy.ext.declarative import declarative_base\n"
   ],
   "metadata": {
    "collapsed": false,
    "ExecuteTime": {
     "end_time": "2023-10-16T15:02:22.737117300Z",
     "start_time": "2023-10-16T15:02:22.460386800Z"
    }
   },
   "id": "6d465e6e345bf88e"
  },
  {
   "cell_type": "code",
   "execution_count": null,
   "outputs": [],
   "source": [
    "# Initialize SQLAlchemy Metadata object\n",
    "meta = MetaData()\n",
    "# Define database connection details\n",
    "USERNAME = 'root'\n",
    "PASSWORD = '1393ram1393#$'\n",
    "SERVER = 'localhost'\n",
    "# Create a SQLAlchemy engine for connecting to the MySQL database\n",
    "engine = create_engine(f'mysql+pymysql://{USERNAME}:{PASSWORD}@{SERVER}:3306/Laptop_analysis_and_Warehousing_g3', echo=True)\n",
    "conn = engine.connect()"
   ],
   "metadata": {
    "collapsed": false
   },
   "id": "6a781894a5d92e49"
  },
  {
   "cell_type": "code",
   "execution_count": null,
   "outputs": [],
   "source": [
    "# Create a base class for declarative models\n",
    "Base = declarative_base()"
   ],
   "metadata": {
    "collapsed": false
   },
   "id": "13aa53f6af8c4165"
  },
  {
   "cell_type": "code",
   "execution_count": null,
   "outputs": [],
   "source": [
    "# Create tables in the database based on the defined model classes\n",
    "Base.metadata.create_all(engine)"
   ],
   "metadata": {
    "collapsed": false
   },
   "id": "e97bb23d572eed9"
  },
  {
   "cell_type": "code",
   "execution_count": null,
   "outputs": [],
   "source": [
    "# Create a session to insert data into the tables\n",
    "Session = sessionmaker(bind=engine)\n",
    "session = Session()\n",
    "\n",
    "# Insert data from the DataFrame into publisher table\n",
    "df_laptop[['id', 'manufacturer', 'model_name', 'category', 'screen_size', 'screen', 'cpu', 'ram', 'storage', 'gpu', 'os',\n",
    "          'os_version', 'weight']].to_sql('laptop', con=engine, if_exists='append', index=False)\n",
    "\n",
    "# Commit changes and close the session\n",
    "session.commit()\n",
    "session.close()"
   ],
   "metadata": {
    "collapsed": false
   },
   "id": "7dc2548b3ba6301d"
  },
  {
   "cell_type": "code",
   "execution_count": null,
   "outputs": [],
   "source": [
    "# Create a session to insert data into the tables\n",
    "Session = sessionmaker(bind=engine)\n",
    "session = Session()\n",
    "\n",
    "\n",
    "# Insert data from the DataFrame into publisher table\n",
    "df_order[['Order_id', 'Branch', 'laptop_id', 'Order_Date', 'Order_Priority', 'price', 'Quantity', 'Discount',\n",
    "          'Total_Price', 'Profit', 'Ship_Duration']].to_sql('order', con=engine, if_exists='append', index=False)\n",
    "\n",
    "# Commit changes and close the session\n",
    "session.commit()\n",
    "session.close()"
   ],
   "metadata": {
    "collapsed": false
   },
   "id": "7f1d1648bb00542"
  }
 ],
 "metadata": {
  "kernelspec": {
   "display_name": "Python 3",
   "language": "python",
   "name": "python3"
  },
  "language_info": {
   "codemirror_mode": {
    "name": "ipython",
    "version": 2
   },
   "file_extension": ".py",
   "mimetype": "text/x-python",
   "name": "python",
   "nbconvert_exporter": "python",
   "pygments_lexer": "ipython2",
   "version": "2.7.6"
  }
 },
 "nbformat": 4,
 "nbformat_minor": 5
}
