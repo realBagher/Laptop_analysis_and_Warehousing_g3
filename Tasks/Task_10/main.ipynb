{
 "cells": [
  {
   "cell_type": "markdown",
   "source": [
    "مدیران میخواهند وضعیت شرکت خود را در لحظه که میخواهند مشاهده کنند،\n",
    " بنابراین از شما میخواهند تا ابزار مناسبی برای این امر طراحی کنید.\n",
    "  مواردی که مدیران به آن علاقه دارند به شرح زیر است:\n",
    "مجموع فروش در ماه، فصل و سال جاری مجموع سود در ماه، فصل و سال جاری میانگین فروش و سود نسبت به شهرهای مختلف مجموع فروش و سود نسبت به شهرهای مختلف روند تغییرات میزان فروش در بازه زمانی مشخص و در شهرهای مشخص شده )یعنی مدیران بتوانند یک بازه زمانی و یک سری از شهرها را مشخص کنند و روند تغییرات را مشاهده کنند( روند تغییرات میزان سود در بازه زمانی مشخص و در شهرهای مشخص شده مقایسه روند تغییرات میزان فروش در بازه زمانی مشخص و در شهرهای مشخص شده در سیر زمان. مقایسه روند تغییرات میزان سود در بازه زمانی مشخص و در شهرهای مشخص شده در سیر زمان. ۳ مورد دیگر خودتان اضافه کنید."
   ],
   "metadata": {
    "collapsed": false
   },
   "id": "f3555dab42f2937c"
  },
  {
   "cell_type": "code",
   "execution_count": 1,
   "id": "initial_id",
   "metadata": {
    "collapsed": true,
    "ExecuteTime": {
     "end_time": "2023-10-23T17:03:29.462805Z",
     "start_time": "2023-10-23T17:03:17.711289Z"
    }
   },
   "outputs": [],
   "source": [
    "import pandas as pd\n",
    "import numpy as np"
   ]
  },
  {
   "cell_type": "code",
   "execution_count": 2,
   "outputs": [],
   "source": [
    "all_d_df = pd.read_csv('all_data_c.csv')\n",
    "stores_df = pd.read_csv('stores_c.csv')"
   ],
   "metadata": {
    "collapsed": false,
    "ExecuteTime": {
     "end_time": "2023-10-23T17:04:58.904552Z",
     "start_time": "2023-10-23T17:04:58.645149Z"
    }
   },
   "id": "1f59f459473e09f7"
  },
  {
   "cell_type": "code",
   "execution_count": 3,
   "outputs": [
    {
     "data": {
      "text/plain": "      Unnamed: 0   Site                                              Title  \\\n0              0  torob                            lenovo thinkpad yoga11e   \n1              1  torob      lenovo thinkpad x1 carbon i7 8g 256gssd intel   \n2              2  torob  ideapad3 12gb ram 512gb ssd 1tb hdd i3 lenovo ...   \n3              3  torob  rog strix g513rc 16gb ram 1tb ssd ryzen 7 6800...   \n4              4  torob  thinkbook 15 12gb ram 1tb hdd 512gb ssd i3 len...   \n...          ...    ...                                                ...   \n1891        1891   digi  lenovo ideapad gaming 3 15ihu6-i7 8gb 1ssd gtx...   \n1892        1892   digi  asus vivobook 15 r1502za-ej1266-i5 16gb 512ssd...   \n1893        1893   digi  asus vivobook m1502qa-ej041w r7 8gb 1ssd 15.6 ...   \n1894        1894   digi  lenovo loq 15irh8-i7 16gb 512ssd rtx4060 15.6 ...   \n1895        1895   digi  lenovo ideapad gaming 3 15ihu6-i7 32gb 1ssd gt...   \n\n                                        Id Manufacturer  Min_Price  Max_Price  \\\n0     e67aed83-4354-4c41-9e07-d55f922f172d       lenovo    5500000    5500000   \n1     09987667-ab86-4a48-803b-a676727d984c       lenovo   28928000   28928000   \n2     f0162cbd-523b-45ea-9788-ed371d430dd5       lenovo   16700000   19700000   \n3     d7555bb9-81d5-40d2-bdb1-8bce98b15138         asus   48744000   90270000   \n4     1bc99e75-8448-4c20-b42a-fae1e065b632       lenovo   17390000   23595000   \n...                                    ...          ...        ...        ...   \n1891                              12952833       lenovo  427500000  427500000   \n1892                              12935268         asus  305990000  305990000   \n1893                              12991628         asus  327100000  327100000   \n1894                              12922963       lenovo  590000000  590000000   \n1895                              12953013       lenovo  462500000  462500000   \n\n     StockStatus                                         Attributes  \n0            new                                                NaN  \n1            new  {'سازنده پردازنده': 'Intel® Core™ i7-4600U Pro...  \n2            new  {'برند': 'LENOVO', 'ابعاد': '362.2×253.4×19.9 ...  \n3            new  {'کاربری': 'تدوین, طراحی, گیمینگ', 'کشور برند'...  \n4            new  {'برند': 'Lenovo', 'ابعاد': '18.9 × 235 × 357 ...  \n...          ...                                                ...  \n1891         new  [{'title': 'وزن', 'values': ['2.25 کیلوگرم']},...  \n1892         new  [{'title': 'وزن', 'values': ['1.7 کیلوگرم']}, ...  \n1893         new  [{'title': 'وزن', 'values': ['1.7 کیلوگرم']}, ...  \n1894         new  [{'title': 'وزن', 'values': ['2.4 کیلوگرم']}, ...  \n1895         new  [{'title': 'وزن', 'values': ['2.25 کیلوگرم']},...  \n\n[1896 rows x 9 columns]",
      "text/html": "<div>\n<style scoped>\n    .dataframe tbody tr th:only-of-type {\n        vertical-align: middle;\n    }\n\n    .dataframe tbody tr th {\n        vertical-align: top;\n    }\n\n    .dataframe thead th {\n        text-align: right;\n    }\n</style>\n<table border=\"1\" class=\"dataframe\">\n  <thead>\n    <tr style=\"text-align: right;\">\n      <th></th>\n      <th>Unnamed: 0</th>\n      <th>Site</th>\n      <th>Title</th>\n      <th>Id</th>\n      <th>Manufacturer</th>\n      <th>Min_Price</th>\n      <th>Max_Price</th>\n      <th>StockStatus</th>\n      <th>Attributes</th>\n    </tr>\n  </thead>\n  <tbody>\n    <tr>\n      <th>0</th>\n      <td>0</td>\n      <td>torob</td>\n      <td>lenovo thinkpad yoga11e</td>\n      <td>e67aed83-4354-4c41-9e07-d55f922f172d</td>\n      <td>lenovo</td>\n      <td>5500000</td>\n      <td>5500000</td>\n      <td>new</td>\n      <td>NaN</td>\n    </tr>\n    <tr>\n      <th>1</th>\n      <td>1</td>\n      <td>torob</td>\n      <td>lenovo thinkpad x1 carbon i7 8g 256gssd intel</td>\n      <td>09987667-ab86-4a48-803b-a676727d984c</td>\n      <td>lenovo</td>\n      <td>28928000</td>\n      <td>28928000</td>\n      <td>new</td>\n      <td>{'سازنده پردازنده': 'Intel® Core™ i7-4600U Pro...</td>\n    </tr>\n    <tr>\n      <th>2</th>\n      <td>2</td>\n      <td>torob</td>\n      <td>ideapad3 12gb ram 512gb ssd 1tb hdd i3 lenovo ...</td>\n      <td>f0162cbd-523b-45ea-9788-ed371d430dd5</td>\n      <td>lenovo</td>\n      <td>16700000</td>\n      <td>19700000</td>\n      <td>new</td>\n      <td>{'برند': 'LENOVO', 'ابعاد': '362.2×253.4×19.9 ...</td>\n    </tr>\n    <tr>\n      <th>3</th>\n      <td>3</td>\n      <td>torob</td>\n      <td>rog strix g513rc 16gb ram 1tb ssd ryzen 7 6800...</td>\n      <td>d7555bb9-81d5-40d2-bdb1-8bce98b15138</td>\n      <td>asus</td>\n      <td>48744000</td>\n      <td>90270000</td>\n      <td>new</td>\n      <td>{'کاربری': 'تدوین, طراحی, گیمینگ', 'کشور برند'...</td>\n    </tr>\n    <tr>\n      <th>4</th>\n      <td>4</td>\n      <td>torob</td>\n      <td>thinkbook 15 12gb ram 1tb hdd 512gb ssd i3 len...</td>\n      <td>1bc99e75-8448-4c20-b42a-fae1e065b632</td>\n      <td>lenovo</td>\n      <td>17390000</td>\n      <td>23595000</td>\n      <td>new</td>\n      <td>{'برند': 'Lenovo', 'ابعاد': '18.9 × 235 × 357 ...</td>\n    </tr>\n    <tr>\n      <th>...</th>\n      <td>...</td>\n      <td>...</td>\n      <td>...</td>\n      <td>...</td>\n      <td>...</td>\n      <td>...</td>\n      <td>...</td>\n      <td>...</td>\n      <td>...</td>\n    </tr>\n    <tr>\n      <th>1891</th>\n      <td>1891</td>\n      <td>digi</td>\n      <td>lenovo ideapad gaming 3 15ihu6-i7 8gb 1ssd gtx...</td>\n      <td>12952833</td>\n      <td>lenovo</td>\n      <td>427500000</td>\n      <td>427500000</td>\n      <td>new</td>\n      <td>[{'title': 'وزن', 'values': ['2.25 کیلوگرم']},...</td>\n    </tr>\n    <tr>\n      <th>1892</th>\n      <td>1892</td>\n      <td>digi</td>\n      <td>asus vivobook 15 r1502za-ej1266-i5 16gb 512ssd...</td>\n      <td>12935268</td>\n      <td>asus</td>\n      <td>305990000</td>\n      <td>305990000</td>\n      <td>new</td>\n      <td>[{'title': 'وزن', 'values': ['1.7 کیلوگرم']}, ...</td>\n    </tr>\n    <tr>\n      <th>1893</th>\n      <td>1893</td>\n      <td>digi</td>\n      <td>asus vivobook m1502qa-ej041w r7 8gb 1ssd 15.6 ...</td>\n      <td>12991628</td>\n      <td>asus</td>\n      <td>327100000</td>\n      <td>327100000</td>\n      <td>new</td>\n      <td>[{'title': 'وزن', 'values': ['1.7 کیلوگرم']}, ...</td>\n    </tr>\n    <tr>\n      <th>1894</th>\n      <td>1894</td>\n      <td>digi</td>\n      <td>lenovo loq 15irh8-i7 16gb 512ssd rtx4060 15.6 ...</td>\n      <td>12922963</td>\n      <td>lenovo</td>\n      <td>590000000</td>\n      <td>590000000</td>\n      <td>new</td>\n      <td>[{'title': 'وزن', 'values': ['2.4 کیلوگرم']}, ...</td>\n    </tr>\n    <tr>\n      <th>1895</th>\n      <td>1895</td>\n      <td>digi</td>\n      <td>lenovo ideapad gaming 3 15ihu6-i7 32gb 1ssd gt...</td>\n      <td>12953013</td>\n      <td>lenovo</td>\n      <td>462500000</td>\n      <td>462500000</td>\n      <td>new</td>\n      <td>[{'title': 'وزن', 'values': ['2.25 کیلوگرم']},...</td>\n    </tr>\n  </tbody>\n</table>\n<p>1896 rows × 9 columns</p>\n</div>"
     },
     "execution_count": 3,
     "metadata": {},
     "output_type": "execute_result"
    }
   ],
   "source": [
    "all_d_df"
   ],
   "metadata": {
    "collapsed": false,
    "ExecuteTime": {
     "end_time": "2023-10-23T17:05:00.329463Z",
     "start_time": "2023-10-23T17:05:00.266783Z"
    }
   },
   "id": "f752cd96c970e789"
  },
  {
   "cell_type": "code",
   "execution_count": 9,
   "outputs": [
    {
     "data": {
      "text/plain": "array(['تهران', 'اصفهان', 'شیراز', 'اهواز', 'مشهد', 'تبریز', 'کوهستک',\n       'نصیرشهر', 'گرگان', 'بابل', 'اشنویه', 'کرج', 'نکا', 'همدان',\n       'بانه', 'یزد', 'خرم آباد', 'قم', 'نهاوند', 'رشت', 'سمنان', 'سردشت',\n       'بوشهر', 'مریوان', 'لنگرود', 'ری', 'سقز', 'سبزوار', 'شهرکرد',\n       'ابهر', 'خوزستان', 'کرمان', 'قشم', 'جهرم', 'سنندج', 'قزوین',\n       'دزفول', 'بندرعباس', 'بجنورد', 'آبادان', 'جم', 'بیرجند', 'مهاباد',\n       'لردگان', 'شوشتر', 'اسلام آباد غرب', 'دشتستان', 'مسجدسلیمان',\n       'ایلام', 'هرسین', 'ساری', 'ارومیه', 'خرمدره', 'شاهین دژ',\n       'اسفراین', 'لنجان', 'میناب', 'اراک', 'مشهد، راینا', 'لار',\n       'شمیرانات', 'خمینی شهر', 'تیران', 'بهبهان', 'مبارکه', 'بابلسر',\n       'ورامین', 'خور', 'چالوس', 'خرمشهر', 'آستارا', 'نیشابور', 'سیریک',\n       'آذرشهر', 'شادگان', 'بوکان', 'شهرضا', 'گلستان', 'میبد', 'گناباد',\n       'لامرد', 'علی آباد', 'آذربایجان شرقی', 'تکاب', 'گلپایگان',\n       'نجف آباد'], dtype=object)"
     },
     "execution_count": 9,
     "metadata": {},
     "output_type": "execute_result"
    }
   ],
   "source": [
    "stores_df.Shop_City.unique()"
   ],
   "metadata": {
    "collapsed": false,
    "ExecuteTime": {
     "end_time": "2023-10-23T17:35:08.492354Z",
     "start_time": "2023-10-23T17:35:08.484915Z"
    }
   },
   "id": "1d9b3f905959b87b"
  },
  {
   "cell_type": "code",
   "execution_count": null,
   "outputs": [],
   "source": [],
   "metadata": {
    "collapsed": false
   },
   "id": "621ce410ac4d8ba6"
  }
 ],
 "metadata": {
  "kernelspec": {
   "display_name": "Python 3",
   "language": "python",
   "name": "python3"
  },
  "language_info": {
   "codemirror_mode": {
    "name": "ipython",
    "version": 2
   },
   "file_extension": ".py",
   "mimetype": "text/x-python",
   "name": "python",
   "nbconvert_exporter": "python",
   "pygments_lexer": "ipython2",
   "version": "2.7.6"
  }
 },
 "nbformat": 4,
 "nbformat_minor": 5
}
