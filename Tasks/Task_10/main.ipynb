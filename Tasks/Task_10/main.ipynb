{
 "cells": [
  {
   "cell_type": "markdown",
   "source": [
    "مدیران میخواهند وضعیت شرکت خود را در لحظه که میخواهند مشاهده کنند،\n",
    " بنابراین از شما میخواهند تا ابزار مناسبی برای این امر طراحی کنید.\n",
    "  مواردی که مدیران به آن علاقه دارند به شرح زیر است:\n",
    "مجموع فروش در ماه، فصل و سال جاری مجموع سود در ماه، فصل و سال جاری میانگین فروش و سود نسبت به شهرهای مختلف مجموع فروش و سود نسبت به شهرهای مختلف روند تغییرات میزان فروش در بازه زمانی مشخص و در شهرهای مشخص شده )یعنی مدیران بتوانند یک بازه زمانی و یک سری از شهرها را مشخص کنند و روند تغییرات را مشاهده کنند( روند تغییرات میزان سود در بازه زمانی مشخص و در شهرهای مشخص شده مقایسه روند تغییرات میزان فروش در بازه زمانی مشخص و در شهرهای مشخص شده در سیر زمان. مقایسه روند تغییرات میزان سود در بازه زمانی مشخص و در شهرهای مشخص شده در سیر زمان. ۳ مورد دیگر خودتان اضافه کنید."
   ],
   "metadata": {
    "collapsed": false
   },
   "id": "f3555dab42f2937c"
  },
  {
   "cell_type": "code",
   "execution_count": 1,
   "id": "initial_id",
   "metadata": {
    "collapsed": true,
    "ExecuteTime": {
     "end_time": "2023-10-23T17:03:29.462805Z",
     "start_time": "2023-10-23T17:03:17.711289Z"
    }
   },
   "outputs": [],
   "source": [
    "import pandas as pd\n",
    "import numpy as np"
   ]
  },
  {
   "cell_type": "code",
   "execution_count": 2,
   "outputs": [],
   "source": [
    "all_d_df = pd.read_csv('all_data_c.csv')\n",
    "stores_df = pd.read_csv('stores_c.csv')"
   ],
   "metadata": {
    "collapsed": false,
    "ExecuteTime": {
     "end_time": "2023-10-23T17:04:58.904552Z",
     "start_time": "2023-10-23T17:04:58.645149Z"
    }
   },
   "id": "1f59f459473e09f7"
  },
  {
   "cell_type": "code",
   "execution_count": 3,
   "outputs": [
    {
     "data": {
      "text/plain": "      Unnamed: 0   Site                                              Title  \\\n0              0  torob                            lenovo thinkpad yoga11e   \n1              1  torob      lenovo thinkpad x1 carbon i7 8g 256gssd intel   \n2              2  torob  ideapad3 12gb ram 512gb ssd 1tb hdd i3 lenovo ...   \n3              3  torob  rog strix g513rc 16gb ram 1tb ssd ryzen 7 6800...   \n4              4  torob  thinkbook 15 12gb ram 1tb hdd 512gb ssd i3 len...   \n...          ...    ...                                                ...   \n1891        1891   digi  lenovo ideapad gaming 3 15ihu6-i7 8gb 1ssd gtx...   \n1892        1892   digi  asus vivobook 15 r1502za-ej1266-i5 16gb 512ssd...   \n1893        1893   digi  asus vivobook m1502qa-ej041w r7 8gb 1ssd 15.6 ...   \n1894        1894   digi  lenovo loq 15irh8-i7 16gb 512ssd rtx4060 15.6 ...   \n1895        1895   digi  lenovo ideapad gaming 3 15ihu6-i7 32gb 1ssd gt...   \n\n                                        Id Manufacturer  Min_Price  Max_Price  \\\n0     e67aed83-4354-4c41-9e07-d55f922f172d       lenovo    5500000    5500000   \n1     09987667-ab86-4a48-803b-a676727d984c       lenovo   28928000   28928000   \n2     f0162cbd-523b-45ea-9788-ed371d430dd5       lenovo   16700000   19700000   \n3     d7555bb9-81d5-40d2-bdb1-8bce98b15138         asus   48744000   90270000   \n4     1bc99e75-8448-4c20-b42a-fae1e065b632       lenovo   17390000   23595000   \n...                                    ...          ...        ...        ...   \n1891                              12952833       lenovo  427500000  427500000   \n1892                              12935268         asus  305990000  305990000   \n1893                              12991628         asus  327100000  327100000   \n1894                              12922963       lenovo  590000000  590000000   \n1895                              12953013       lenovo  462500000  462500000   \n\n     StockStatus                                         Attributes  \n0            new                                                NaN  \n1            new  {'سازنده پردازنده': 'Intel® Core™ i7-4600U Pro...  \n2            new  {'برند': 'LENOVO', 'ابعاد': '362.2×253.4×19.9 ...  \n3            new  {'کاربری': 'تدوین, طراحی, گیمینگ', 'کشور برند'...  \n4            new  {'برند': 'Lenovo', 'ابعاد': '18.9 × 235 × 357 ...  \n...          ...                                                ...  \n1891         new  [{'title': 'وزن', 'values': ['2.25 کیلوگرم']},...  \n1892         new  [{'title': 'وزن', 'values': ['1.7 کیلوگرم']}, ...  \n1893         new  [{'title': 'وزن', 'values': ['1.7 کیلوگرم']}, ...  \n1894         new  [{'title': 'وزن', 'values': ['2.4 کیلوگرم']}, ...  \n1895         new  [{'title': 'وزن', 'values': ['2.25 کیلوگرم']},...  \n\n[1896 rows x 9 columns]",
      "text/html": "<div>\n<style scoped>\n    .dataframe tbody tr th:only-of-type {\n        vertical-align: middle;\n    }\n\n    .dataframe tbody tr th {\n        vertical-align: top;\n    }\n\n    .dataframe thead th {\n        text-align: right;\n    }\n</style>\n<table border=\"1\" class=\"dataframe\">\n  <thead>\n    <tr style=\"text-align: right;\">\n      <th></th>\n      <th>Unnamed: 0</th>\n      <th>Site</th>\n      <th>Title</th>\n      <th>Id</th>\n      <th>Manufacturer</th>\n      <th>Min_Price</th>\n      <th>Max_Price</th>\n      <th>StockStatus</th>\n      <th>Attributes</th>\n    </tr>\n  </thead>\n  <tbody>\n    <tr>\n      <th>0</th>\n      <td>0</td>\n      <td>torob</td>\n      <td>lenovo thinkpad yoga11e</td>\n      <td>e67aed83-4354-4c41-9e07-d55f922f172d</td>\n      <td>lenovo</td>\n      <td>5500000</td>\n      <td>5500000</td>\n      <td>new</td>\n      <td>NaN</td>\n    </tr>\n    <tr>\n      <th>1</th>\n      <td>1</td>\n      <td>torob</td>\n      <td>lenovo thinkpad x1 carbon i7 8g 256gssd intel</td>\n      <td>09987667-ab86-4a48-803b-a676727d984c</td>\n      <td>lenovo</td>\n      <td>28928000</td>\n      <td>28928000</td>\n      <td>new</td>\n      <td>{'سازنده پردازنده': 'Intel® Core™ i7-4600U Pro...</td>\n    </tr>\n    <tr>\n      <th>2</th>\n      <td>2</td>\n      <td>torob</td>\n      <td>ideapad3 12gb ram 512gb ssd 1tb hdd i3 lenovo ...</td>\n      <td>f0162cbd-523b-45ea-9788-ed371d430dd5</td>\n      <td>lenovo</td>\n      <td>16700000</td>\n      <td>19700000</td>\n      <td>new</td>\n      <td>{'برند': 'LENOVO', 'ابعاد': '362.2×253.4×19.9 ...</td>\n    </tr>\n    <tr>\n      <th>3</th>\n      <td>3</td>\n      <td>torob</td>\n      <td>rog strix g513rc 16gb ram 1tb ssd ryzen 7 6800...</td>\n      <td>d7555bb9-81d5-40d2-bdb1-8bce98b15138</td>\n      <td>asus</td>\n      <td>48744000</td>\n      <td>90270000</td>\n      <td>new</td>\n      <td>{'کاربری': 'تدوین, طراحی, گیمینگ', 'کشور برند'...</td>\n    </tr>\n    <tr>\n      <th>4</th>\n      <td>4</td>\n      <td>torob</td>\n      <td>thinkbook 15 12gb ram 1tb hdd 512gb ssd i3 len...</td>\n      <td>1bc99e75-8448-4c20-b42a-fae1e065b632</td>\n      <td>lenovo</td>\n      <td>17390000</td>\n      <td>23595000</td>\n      <td>new</td>\n      <td>{'برند': 'Lenovo', 'ابعاد': '18.9 × 235 × 357 ...</td>\n    </tr>\n    <tr>\n      <th>...</th>\n      <td>...</td>\n      <td>...</td>\n      <td>...</td>\n      <td>...</td>\n      <td>...</td>\n      <td>...</td>\n      <td>...</td>\n      <td>...</td>\n      <td>...</td>\n    </tr>\n    <tr>\n      <th>1891</th>\n      <td>1891</td>\n      <td>digi</td>\n      <td>lenovo ideapad gaming 3 15ihu6-i7 8gb 1ssd gtx...</td>\n      <td>12952833</td>\n      <td>lenovo</td>\n      <td>427500000</td>\n      <td>427500000</td>\n      <td>new</td>\n      <td>[{'title': 'وزن', 'values': ['2.25 کیلوگرم']},...</td>\n    </tr>\n    <tr>\n      <th>1892</th>\n      <td>1892</td>\n      <td>digi</td>\n      <td>asus vivobook 15 r1502za-ej1266-i5 16gb 512ssd...</td>\n      <td>12935268</td>\n      <td>asus</td>\n      <td>305990000</td>\n      <td>305990000</td>\n      <td>new</td>\n      <td>[{'title': 'وزن', 'values': ['1.7 کیلوگرم']}, ...</td>\n    </tr>\n    <tr>\n      <th>1893</th>\n      <td>1893</td>\n      <td>digi</td>\n      <td>asus vivobook m1502qa-ej041w r7 8gb 1ssd 15.6 ...</td>\n      <td>12991628</td>\n      <td>asus</td>\n      <td>327100000</td>\n      <td>327100000</td>\n      <td>new</td>\n      <td>[{'title': 'وزن', 'values': ['1.7 کیلوگرم']}, ...</td>\n    </tr>\n    <tr>\n      <th>1894</th>\n      <td>1894</td>\n      <td>digi</td>\n      <td>lenovo loq 15irh8-i7 16gb 512ssd rtx4060 15.6 ...</td>\n      <td>12922963</td>\n      <td>lenovo</td>\n      <td>590000000</td>\n      <td>590000000</td>\n      <td>new</td>\n      <td>[{'title': 'وزن', 'values': ['2.4 کیلوگرم']}, ...</td>\n    </tr>\n    <tr>\n      <th>1895</th>\n      <td>1895</td>\n      <td>digi</td>\n      <td>lenovo ideapad gaming 3 15ihu6-i7 32gb 1ssd gt...</td>\n      <td>12953013</td>\n      <td>lenovo</td>\n      <td>462500000</td>\n      <td>462500000</td>\n      <td>new</td>\n      <td>[{'title': 'وزن', 'values': ['2.25 کیلوگرم']},...</td>\n    </tr>\n  </tbody>\n</table>\n<p>1896 rows × 9 columns</p>\n</div>"
     },
     "execution_count": 3,
     "metadata": {},
     "output_type": "execute_result"
    }
   ],
   "source": [
    "all_d_df"
   ],
   "metadata": {
    "collapsed": false,
    "ExecuteTime": {
     "end_time": "2023-10-23T17:05:00.329463Z",
     "start_time": "2023-10-23T17:05:00.266783Z"
    }
   },
   "id": "f752cd96c970e789"
  },
  {
   "cell_type": "code",
   "execution_count": 4,
   "outputs": [
    {
     "data": {
      "text/plain": "       Index                            Product ID   Site           Type  \\\n0          3  f0162cbd-523b-45ea-9788-ed371d430dd5  torob  خرید اینترنتی   \n1         19  f0162cbd-523b-45ea-9788-ed371d430dd5  torob  خرید اینترنتی   \n2         51  d7555bb9-81d5-40d2-bdb1-8bce98b15138  torob  خرید اینترنتی   \n3         54  d7555bb9-81d5-40d2-bdb1-8bce98b15138  torob  خرید اینترنتی   \n4         73  1bc99e75-8448-4c20-b42a-fae1e065b632  torob  خرید اینترنتی   \n...      ...                                   ...    ...            ...   \n12770   9700  e1076d61-acf7-4864-bddf-d55d46f0dc34  torob     خرید حضوری   \n12771  10095  3c31482a-0f04-44ec-9e05-ec67533d971f  torob     خرید حضوری   \n12772  10874  5fdf21db-48a4-4b07-92c3-c03b4b797065  torob     خرید حضوری   \n12773  10893  05efff3d-1cb2-4481-938c-e39257f18d95  torob     خرید حضوری   \n12774  11488  2bc92c93-3d18-433e-b0e4-27ab27841992  torob     خرید حضوری   \n\n             Shop_Nmae                                           Shop_LOC  \\\n0             تکنولایف  https://api.torob.com/v4/product-page/redirect...   \n1             تکنولایف  https://api.torob.com/v4/product-page/redirect...   \n2             تکنولایف  https://api.torob.com/v4/product-page/redirect...   \n3             تکنولایف  https://api.torob.com/v4/product-page/redirect...   \n4             تکنولایف  https://api.torob.com/v4/product-page/redirect...   \n...                ...                                                ...   \n12770  مرکز پخش کنارتو                      خیابان مطهری، روبروی بانک شهر   \n12771  مرکز پخش کنارتو                      خیابان مطهری، روبروی بانک شهر   \n12772  مرکز پخش کنارتو                      خیابان مطهری، روبروی بانک شهر   \n12773  مرکز پخش کنارتو                      خیابان مطهری، روبروی بانک شهر   \n12774  مرکز پخش کنارتو                      خیابان مطهری، روبروی بانک شهر   \n\n                            Date         Time     Price Shop_City  \n0      Tuesday, October 17, 2023  10:00:51 AM  16700000     تهران  \n1      Tuesday, October 17, 2023  10:00:51 AM  19700000     تهران  \n2      Tuesday, October 17, 2023  10:00:51 AM  51900000     تهران  \n3      Tuesday, October 17, 2023  10:00:51 AM  52950000     تهران  \n4      Tuesday, October 17, 2023  10:00:51 AM  20250000     تهران  \n...                          ...          ...       ...       ...  \n12770  Tuesday, October 17, 2023  10:01:18 AM  20055000       یزد  \n12771  Tuesday, October 17, 2023  10:01:20 AM  34430000       یزد  \n12772  Tuesday, October 17, 2023  10:01:28 AM  41895000       یزد  \n12773  Tuesday, October 17, 2023  10:01:28 AM  18218000       یزد  \n12774  Tuesday, October 17, 2023  10:01:33 AM  34955000       یزد  \n\n[12775 rows x 10 columns]",
      "text/html": "<div>\n<style scoped>\n    .dataframe tbody tr th:only-of-type {\n        vertical-align: middle;\n    }\n\n    .dataframe tbody tr th {\n        vertical-align: top;\n    }\n\n    .dataframe thead th {\n        text-align: right;\n    }\n</style>\n<table border=\"1\" class=\"dataframe\">\n  <thead>\n    <tr style=\"text-align: right;\">\n      <th></th>\n      <th>Index</th>\n      <th>Product ID</th>\n      <th>Site</th>\n      <th>Type</th>\n      <th>Shop_Nmae</th>\n      <th>Shop_LOC</th>\n      <th>Date</th>\n      <th>Time</th>\n      <th>Price</th>\n      <th>Shop_City</th>\n    </tr>\n  </thead>\n  <tbody>\n    <tr>\n      <th>0</th>\n      <td>3</td>\n      <td>f0162cbd-523b-45ea-9788-ed371d430dd5</td>\n      <td>torob</td>\n      <td>خرید اینترنتی</td>\n      <td>تکنولایف</td>\n      <td>https://api.torob.com/v4/product-page/redirect...</td>\n      <td>Tuesday, October 17, 2023</td>\n      <td>10:00:51 AM</td>\n      <td>16700000</td>\n      <td>تهران</td>\n    </tr>\n    <tr>\n      <th>1</th>\n      <td>19</td>\n      <td>f0162cbd-523b-45ea-9788-ed371d430dd5</td>\n      <td>torob</td>\n      <td>خرید اینترنتی</td>\n      <td>تکنولایف</td>\n      <td>https://api.torob.com/v4/product-page/redirect...</td>\n      <td>Tuesday, October 17, 2023</td>\n      <td>10:00:51 AM</td>\n      <td>19700000</td>\n      <td>تهران</td>\n    </tr>\n    <tr>\n      <th>2</th>\n      <td>51</td>\n      <td>d7555bb9-81d5-40d2-bdb1-8bce98b15138</td>\n      <td>torob</td>\n      <td>خرید اینترنتی</td>\n      <td>تکنولایف</td>\n      <td>https://api.torob.com/v4/product-page/redirect...</td>\n      <td>Tuesday, October 17, 2023</td>\n      <td>10:00:51 AM</td>\n      <td>51900000</td>\n      <td>تهران</td>\n    </tr>\n    <tr>\n      <th>3</th>\n      <td>54</td>\n      <td>d7555bb9-81d5-40d2-bdb1-8bce98b15138</td>\n      <td>torob</td>\n      <td>خرید اینترنتی</td>\n      <td>تکنولایف</td>\n      <td>https://api.torob.com/v4/product-page/redirect...</td>\n      <td>Tuesday, October 17, 2023</td>\n      <td>10:00:51 AM</td>\n      <td>52950000</td>\n      <td>تهران</td>\n    </tr>\n    <tr>\n      <th>4</th>\n      <td>73</td>\n      <td>1bc99e75-8448-4c20-b42a-fae1e065b632</td>\n      <td>torob</td>\n      <td>خرید اینترنتی</td>\n      <td>تکنولایف</td>\n      <td>https://api.torob.com/v4/product-page/redirect...</td>\n      <td>Tuesday, October 17, 2023</td>\n      <td>10:00:51 AM</td>\n      <td>20250000</td>\n      <td>تهران</td>\n    </tr>\n    <tr>\n      <th>...</th>\n      <td>...</td>\n      <td>...</td>\n      <td>...</td>\n      <td>...</td>\n      <td>...</td>\n      <td>...</td>\n      <td>...</td>\n      <td>...</td>\n      <td>...</td>\n      <td>...</td>\n    </tr>\n    <tr>\n      <th>12770</th>\n      <td>9700</td>\n      <td>e1076d61-acf7-4864-bddf-d55d46f0dc34</td>\n      <td>torob</td>\n      <td>خرید حضوری</td>\n      <td>مرکز پخش کنارتو</td>\n      <td>خیابان مطهری، روبروی بانک شهر</td>\n      <td>Tuesday, October 17, 2023</td>\n      <td>10:01:18 AM</td>\n      <td>20055000</td>\n      <td>یزد</td>\n    </tr>\n    <tr>\n      <th>12771</th>\n      <td>10095</td>\n      <td>3c31482a-0f04-44ec-9e05-ec67533d971f</td>\n      <td>torob</td>\n      <td>خرید حضوری</td>\n      <td>مرکز پخش کنارتو</td>\n      <td>خیابان مطهری، روبروی بانک شهر</td>\n      <td>Tuesday, October 17, 2023</td>\n      <td>10:01:20 AM</td>\n      <td>34430000</td>\n      <td>یزد</td>\n    </tr>\n    <tr>\n      <th>12772</th>\n      <td>10874</td>\n      <td>5fdf21db-48a4-4b07-92c3-c03b4b797065</td>\n      <td>torob</td>\n      <td>خرید حضوری</td>\n      <td>مرکز پخش کنارتو</td>\n      <td>خیابان مطهری، روبروی بانک شهر</td>\n      <td>Tuesday, October 17, 2023</td>\n      <td>10:01:28 AM</td>\n      <td>41895000</td>\n      <td>یزد</td>\n    </tr>\n    <tr>\n      <th>12773</th>\n      <td>10893</td>\n      <td>05efff3d-1cb2-4481-938c-e39257f18d95</td>\n      <td>torob</td>\n      <td>خرید حضوری</td>\n      <td>مرکز پخش کنارتو</td>\n      <td>خیابان مطهری، روبروی بانک شهر</td>\n      <td>Tuesday, October 17, 2023</td>\n      <td>10:01:28 AM</td>\n      <td>18218000</td>\n      <td>یزد</td>\n    </tr>\n    <tr>\n      <th>12774</th>\n      <td>11488</td>\n      <td>2bc92c93-3d18-433e-b0e4-27ab27841992</td>\n      <td>torob</td>\n      <td>خرید حضوری</td>\n      <td>مرکز پخش کنارتو</td>\n      <td>خیابان مطهری، روبروی بانک شهر</td>\n      <td>Tuesday, October 17, 2023</td>\n      <td>10:01:33 AM</td>\n      <td>34955000</td>\n      <td>یزد</td>\n    </tr>\n  </tbody>\n</table>\n<p>12775 rows × 10 columns</p>\n</div>"
     },
     "execution_count": 4,
     "metadata": {},
     "output_type": "execute_result"
    }
   ],
   "source": [
    "stores_df"
   ],
   "metadata": {
    "collapsed": false,
    "ExecuteTime": {
     "end_time": "2023-10-23T17:11:08.397231Z",
     "start_time": "2023-10-23T17:11:08.349758Z"
    }
   },
   "id": "1d9b3f905959b87b"
  },
  {
   "cell_type": "code",
   "execution_count": null,
   "outputs": [],
   "source": [],
   "metadata": {
    "collapsed": false
   },
   "id": "621ce410ac4d8ba6"
  }
 ],
 "metadata": {
  "kernelspec": {
   "display_name": "Python 3",
   "language": "python",
   "name": "python3"
  },
  "language_info": {
   "codemirror_mode": {
    "name": "ipython",
    "version": 2
   },
   "file_extension": ".py",
   "mimetype": "text/x-python",
   "name": "python",
   "nbconvert_exporter": "python",
   "pygments_lexer": "ipython2",
   "version": "2.7.6"
  }
 },
 "nbformat": 4,
 "nbformat_minor": 5
}
