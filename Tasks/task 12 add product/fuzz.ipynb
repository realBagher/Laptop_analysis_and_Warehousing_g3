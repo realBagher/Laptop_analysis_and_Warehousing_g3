{
 "cells": [
  {
   "cell_type": "code",
   "execution_count": 1,
   "id": "713984ad",
   "metadata": {},
   "outputs": [],
   "source": [
    "import pandas as pd\n",
    "from thefuzz import fuzz\n",
    "from thefuzz import process\n",
    "from unidecode import unidecode\n",
    "import nltk\n",
    "import hazm\n",
    "import string\n",
    "import re"
   ]
  },
  {
   "cell_type": "code",
   "execution_count": 2,
   "id": "323e2da9",
   "metadata": {},
   "outputs": [],
   "source": [
    "df_all=pd.read_csv('D:\\quera\\\\bootcamp\\examples\\Laptop_analysis_and_Warehousing_g3\\Data Source\\\\all_data_c.csv')\n",
    "df_sel=pd.read_csv('D:\\quera\\\\bootcamp\\examples\\Laptop_analysis_and_Warehousing_g3\\Data Source\\sales_data\\sales_data.csv')"
   ]
  },
  {
   "cell_type": "code",
   "execution_count": 3,
   "id": "1eb5f6c5",
   "metadata": {},
   "outputs": [],
   "source": [
    "df_all=df_all.dropna()\n",
    "df_sel=df_sel.dropna()"
   ]
  },
  {
   "cell_type": "code",
   "execution_count": 4,
   "id": "85f7f4b3",
   "metadata": {},
   "outputs": [],
   "source": [
    "idx=df_sel[['Manufacturer',\n",
    "       'Model_Name', 'Category', 'Screen_Size', 'Screen', 'CPU', 'RAM',\n",
    "       'Storage', 'GPU', 'OS', 'OS_Version', 'Weight']].drop_duplicates().index"
   ]
  },
  {
   "cell_type": "code",
   "execution_count": 5,
   "id": "3329768e",
   "metadata": {},
   "outputs": [],
   "source": [
    "idx1=df_all[['Id','Attributes']].drop_duplicates().index"
   ]
  },
  {
   "cell_type": "code",
   "execution_count": 6,
   "id": "adb7795f",
   "metadata": {},
   "outputs": [],
   "source": [
    "df_sel=df_sel.loc[idx]\n",
    "df_all=df_all.loc[idx1]"
   ]
  },
  {
   "cell_type": "code",
   "execution_count": 7,
   "id": "94955c38",
   "metadata": {},
   "outputs": [],
   "source": [
    "df_sel['text']=df_sel['Manufacturer']+' '+df_sel['Model_Name']+' '+df_sel['Screen_Size']+' '+df_sel['CPU']+' '+df_sel['RAM']+' '+df_sel['Storage']+' '+df_sel['GPU']"
   ]
  },
  {
   "cell_type": "code",
   "execution_count": 8,
   "id": "373c6648",
   "metadata": {},
   "outputs": [],
   "source": [
    "df_all['text']=df_all.Title"
   ]
  },
  {
   "cell_type": "code",
   "execution_count": 9,
   "id": "00a84507",
   "metadata": {},
   "outputs": [],
   "source": [
    "def remove_ir(text):\n",
    "    t=[]\n",
    "    tokens = text.split(' ')\n",
    "    for i in range(len(tokens)):\n",
    "        t.append(''.join(re.findall(r'[0-9َA-Za-z۰-۹]', tokens[i])))\n",
    "    return \"  \".join(t)\n",
    "df_sel['text'] = df_sel['text'].apply(lambda x: remove_ir(x))\n",
    "df_all['text'] = df_all['text'].apply(lambda x: remove_ir(x))"
   ]
  },
  {
   "cell_type": "code",
   "execution_count": 10,
   "id": "72e3f0dd",
   "metadata": {},
   "outputs": [],
   "source": [
    "def convert_to_lower(text):\n",
    "    return text.lower()\n",
    "df_sel['text'] = df_sel['text'].apply(lambda x: convert_to_lower(x))\n",
    "df_all['text'] = df_all['text'].apply(lambda x: convert_to_lower(x))"
   ]
  },
  {
   "cell_type": "code",
   "execution_count": 11,
   "id": "0cbade28",
   "metadata": {},
   "outputs": [],
   "source": [
    "def remove_punctuation(text):\n",
    "    return text.translate(str.maketrans('', '', string.punctuation))\n",
    "df_sel['text'] = df_sel['text'].apply(lambda x: remove_punctuation(x))\n",
    "df_all['text'] = df_all['text'].apply(lambda x: remove_punctuation(x))"
   ]
  },
  {
   "cell_type": "code",
   "execution_count": 12,
   "id": "12e4e050",
   "metadata": {},
   "outputs": [
    {
     "name": "stdout",
     "output_type": "stream",
     "text": [
      "[nltk_data] Downloading package stopwords to\n",
      "[nltk_data]     C:\\Users\\Aghil\\AppData\\Roaming\\nltk_data...\n",
      "[nltk_data]   Package stopwords is already up-to-date!\n"
     ]
    }
   ],
   "source": [
    "with open('stopwords.txt',encoding='utf-8') as stopwords_file:\n",
    "    stopwords=stopwords_file.readlines()\n",
    "stopwords=[line.replace('\\n','') for line in stopwords]\n",
    "nltk.download('stopwords')\n",
    "nltk_stopwords=nltk.corpus.stopwords.words('english')\n",
    "stopwords.extend(nltk_stopwords)"
   ]
  },
  {
   "cell_type": "code",
   "execution_count": 13,
   "id": "7fd5a85e",
   "metadata": {},
   "outputs": [],
   "source": [
    "def remove_stopwords(text):\n",
    "    removed = []\n",
    "    stop_words = stopwords\n",
    "    tokens = nltk.word_tokenize(text)\n",
    "    for i in range(len(tokens)):\n",
    "        if tokens[i] not in stop_words:\n",
    "            removed.append(tokens[i])\n",
    "    return \" \".join(removed)\n",
    "df_sel['text'] = df_sel['text'].apply(lambda x: remove_stopwords(x))\n",
    "df_all['text'] = df_all['text'].apply(lambda x: remove_stopwords(x))"
   ]
  },
  {
   "cell_type": "code",
   "execution_count": 14,
   "id": "f169988e",
   "metadata": {},
   "outputs": [],
   "source": [
    "def remove_extra_white_spaces(text):\n",
    "    single_char_pattern = r'\\s+[a-zA-Z0-9آ-ی۰-۹]\\s+'\n",
    "    without_sc = re.sub(pattern=single_char_pattern, repl=\" \", string=text)\n",
    "    return without_sc\n",
    "df_sel['text'] = df_sel['text'].apply(lambda x: remove_extra_white_spaces(x))\n",
    "df_all['text'] = df_all['text'].apply(lambda x: remove_extra_white_spaces(x))"
   ]
  },
  {
   "cell_type": "code",
   "execution_count": 15,
   "id": "29267e00",
   "metadata": {},
   "outputs": [],
   "source": [
    "def stemmering_e(text):\n",
    "    stemmer = nltk.SnowballStemmer('english')\n",
    "    tokens = nltk.word_tokenize(text)\n",
    "    for i in range(len(tokens)):\n",
    "        lemma_word = stemmer.stem(tokens[i])\n",
    "        tokens[i] = lemma_word\n",
    "    return \" \".join(tokens)\n",
    "df_sel['text'] = df_sel['text'].apply(lambda x: stemmering_e(x))\n",
    "df_all['text'] = df_all['text'].apply(lambda x: stemmering_e(x))"
   ]
  },
  {
   "cell_type": "code",
   "execution_count": 16,
   "id": "d9f1a889",
   "metadata": {},
   "outputs": [],
   "source": [
    "def unicode(text):\n",
    "    return unidecode(text)\n",
    "df_sel['text'] = df_sel['text'].apply(lambda x: unicode(x))\n",
    "df_all['text'] = df_all['text'].apply(lambda x: unicode(x))"
   ]
  },
  {
   "cell_type": "code",
   "execution_count": 17,
   "id": "50be2a74",
   "metadata": {},
   "outputs": [
    {
     "data": {
      "text/plain": [
       "'dell vostro 5568 156 intel core i5 7200u 25ghz 8gb 256gb ssd intel hd graphic 620'"
      ]
     },
     "execution_count": 17,
     "metadata": {},
     "output_type": "execute_result"
    }
   ],
   "source": [
    "df_sel.text.values[100]"
   ]
  },
  {
   "cell_type": "code",
   "execution_count": 21,
   "id": "c98f1a3a",
   "metadata": {},
   "outputs": [],
   "source": [
    "pr=[]\n",
    "for index,row in df_sel.iterrows():\n",
    "    for index_base,row_base in df_all.iterrows():\n",
    "        #print(fuzz.token_sort_ratio(row_base['text'], row['text']))\n",
    "        if fuzz.token_sort_ratio(row_base['text'], row['text'])<20:\n",
    "            pr.append(row_base['Id'])"
   ]
  },
  {
   "cell_type": "code",
   "execution_count": 22,
   "id": "c4c0af16",
   "metadata": {},
   "outputs": [
    {
     "data": {
      "text/plain": [
       "136"
      ]
     },
     "execution_count": 22,
     "metadata": {},
     "output_type": "execute_result"
    }
   ],
   "source": [
    "len(set(pr))"
   ]
  },
  {
   "cell_type": "code",
   "execution_count": null,
   "id": "f873fb48",
   "metadata": {},
   "outputs": [],
   "source": []
  }
 ],
 "metadata": {
  "kernelspec": {
   "display_name": "Python 3 (ipykernel)",
   "language": "python",
   "name": "python3"
  },
  "language_info": {
   "codemirror_mode": {
    "name": "ipython",
    "version": 3
   },
   "file_extension": ".py",
   "mimetype": "text/x-python",
   "name": "python",
   "nbconvert_exporter": "python",
   "pygments_lexer": "ipython3",
   "version": "3.9.13"
  }
 },
 "nbformat": 4,
 "nbformat_minor": 5
}
