{
 "cells": [
  {
   "cell_type": "code",
   "execution_count": 12,
   "id": "initial_id",
   "metadata": {
    "collapsed": true,
    "ExecuteTime": {
     "end_time": "2023-10-28T20:53:55.208747Z",
     "start_time": "2023-10-28T20:53:55.198961Z"
    }
   },
   "outputs": [],
   "source": [
    "import pandas as pd"
   ]
  },
  {
   "cell_type": "code",
   "execution_count": 13,
   "outputs": [],
   "source": [
    "sales_data = pd.read_csv('sales_data.csv')"
   ],
   "metadata": {
    "collapsed": false,
    "ExecuteTime": {
     "end_time": "2023-10-28T20:54:00.292238Z",
     "start_time": "2023-10-28T20:53:55.517495Z"
    }
   },
   "id": "ca4037566f52a69a"
  },
  {
   "cell_type": "code",
   "execution_count": 14,
   "outputs": [
    {
     "data": {
      "text/plain": "   Order_ID      Branch  Order_Date Order_Priority Manufacturer  \\\n0         0     Hamedan  1396-10-26              H         Dell   \n1         1  Kermanshah  1394-04-21              H       Lenovo   \n2         2       Rasht  1402-05-24              M       Lenovo   \n3         3  Kermanshah  1397-06-17              H         Dell   \n4         4       Karaj  1392-09-30              L         Acer   \n\n           Model_Name            Category Screen_Size  \\\n0         Vostro 3568            Notebook       15.6\"   \n1      Yoga 720-13IKB  2 in 1 Convertible       13.3\"   \n2  IdeaPad Y700-15ISK            Notebook       15.6\"   \n3       Inspiron 5370           Ultrabook       13.3\"   \n4      Aspire E5-576G            Notebook       15.6\"   \n\n                                      Screen                          CPU  \\\n0                          Full HD 1920x1080   Intel Core i5 7200U 2.5GHz   \n1  IPS Panel Full HD / Touchscreen 1920x1080   Intel Core i5 7200U 2.5GHz   \n2                IPS Panel Full HD 1920x1080  Intel Core i7 6700HQ 2.6GHz   \n3                IPS Panel Full HD 1920x1080   Intel Core i7 8550U 1.8GHz   \n4                          Full HD 1920x1080   Intel Core i5 7200U 2.5GHz   \n\n   ...                      GPU       OS OS_Version  Weight     Price  \\\n0  ...       AMD Radeon R5 M420  Windows         10  2.18kg   3450000   \n1  ...    Intel HD Graphics 620  Windows         10   1.3kg   3400000   \n2  ...  Nvidia GeForce GTX 960M  Windows         10   2.6kg  44900000   \n3  ...           AMD Radeon 530  Windows         10   1.4kg  12550000   \n4  ...     Nvidia GeForce 940MX  Windows         10  2.23kg   2050000   \n\n  Quantity  Discount  Total_Price   Profit  Ship_Duration  \n0        1         0    3450000.0   250000              3  \n1        1         0    3400000.0   380000              2  \n2        1         0   44900000.0  5630000              5  \n3        1         0   12550000.0  1130000              3  \n4        1         0    2050000.0   180000              8  \n\n[5 rows x 22 columns]",
      "text/html": "<div>\n<style scoped>\n    .dataframe tbody tr th:only-of-type {\n        vertical-align: middle;\n    }\n\n    .dataframe tbody tr th {\n        vertical-align: top;\n    }\n\n    .dataframe thead th {\n        text-align: right;\n    }\n</style>\n<table border=\"1\" class=\"dataframe\">\n  <thead>\n    <tr style=\"text-align: right;\">\n      <th></th>\n      <th>Order_ID</th>\n      <th>Branch</th>\n      <th>Order_Date</th>\n      <th>Order_Priority</th>\n      <th>Manufacturer</th>\n      <th>Model_Name</th>\n      <th>Category</th>\n      <th>Screen_Size</th>\n      <th>Screen</th>\n      <th>CPU</th>\n      <th>...</th>\n      <th>GPU</th>\n      <th>OS</th>\n      <th>OS_Version</th>\n      <th>Weight</th>\n      <th>Price</th>\n      <th>Quantity</th>\n      <th>Discount</th>\n      <th>Total_Price</th>\n      <th>Profit</th>\n      <th>Ship_Duration</th>\n    </tr>\n  </thead>\n  <tbody>\n    <tr>\n      <th>0</th>\n      <td>0</td>\n      <td>Hamedan</td>\n      <td>1396-10-26</td>\n      <td>H</td>\n      <td>Dell</td>\n      <td>Vostro 3568</td>\n      <td>Notebook</td>\n      <td>15.6\"</td>\n      <td>Full HD 1920x1080</td>\n      <td>Intel Core i5 7200U 2.5GHz</td>\n      <td>...</td>\n      <td>AMD Radeon R5 M420</td>\n      <td>Windows</td>\n      <td>10</td>\n      <td>2.18kg</td>\n      <td>3450000</td>\n      <td>1</td>\n      <td>0</td>\n      <td>3450000.0</td>\n      <td>250000</td>\n      <td>3</td>\n    </tr>\n    <tr>\n      <th>1</th>\n      <td>1</td>\n      <td>Kermanshah</td>\n      <td>1394-04-21</td>\n      <td>H</td>\n      <td>Lenovo</td>\n      <td>Yoga 720-13IKB</td>\n      <td>2 in 1 Convertible</td>\n      <td>13.3\"</td>\n      <td>IPS Panel Full HD / Touchscreen 1920x1080</td>\n      <td>Intel Core i5 7200U 2.5GHz</td>\n      <td>...</td>\n      <td>Intel HD Graphics 620</td>\n      <td>Windows</td>\n      <td>10</td>\n      <td>1.3kg</td>\n      <td>3400000</td>\n      <td>1</td>\n      <td>0</td>\n      <td>3400000.0</td>\n      <td>380000</td>\n      <td>2</td>\n    </tr>\n    <tr>\n      <th>2</th>\n      <td>2</td>\n      <td>Rasht</td>\n      <td>1402-05-24</td>\n      <td>M</td>\n      <td>Lenovo</td>\n      <td>IdeaPad Y700-15ISK</td>\n      <td>Notebook</td>\n      <td>15.6\"</td>\n      <td>IPS Panel Full HD 1920x1080</td>\n      <td>Intel Core i7 6700HQ 2.6GHz</td>\n      <td>...</td>\n      <td>Nvidia GeForce GTX 960M</td>\n      <td>Windows</td>\n      <td>10</td>\n      <td>2.6kg</td>\n      <td>44900000</td>\n      <td>1</td>\n      <td>0</td>\n      <td>44900000.0</td>\n      <td>5630000</td>\n      <td>5</td>\n    </tr>\n    <tr>\n      <th>3</th>\n      <td>3</td>\n      <td>Kermanshah</td>\n      <td>1397-06-17</td>\n      <td>H</td>\n      <td>Dell</td>\n      <td>Inspiron 5370</td>\n      <td>Ultrabook</td>\n      <td>13.3\"</td>\n      <td>IPS Panel Full HD 1920x1080</td>\n      <td>Intel Core i7 8550U 1.8GHz</td>\n      <td>...</td>\n      <td>AMD Radeon 530</td>\n      <td>Windows</td>\n      <td>10</td>\n      <td>1.4kg</td>\n      <td>12550000</td>\n      <td>1</td>\n      <td>0</td>\n      <td>12550000.0</td>\n      <td>1130000</td>\n      <td>3</td>\n    </tr>\n    <tr>\n      <th>4</th>\n      <td>4</td>\n      <td>Karaj</td>\n      <td>1392-09-30</td>\n      <td>L</td>\n      <td>Acer</td>\n      <td>Aspire E5-576G</td>\n      <td>Notebook</td>\n      <td>15.6\"</td>\n      <td>Full HD 1920x1080</td>\n      <td>Intel Core i5 7200U 2.5GHz</td>\n      <td>...</td>\n      <td>Nvidia GeForce 940MX</td>\n      <td>Windows</td>\n      <td>10</td>\n      <td>2.23kg</td>\n      <td>2050000</td>\n      <td>1</td>\n      <td>0</td>\n      <td>2050000.0</td>\n      <td>180000</td>\n      <td>8</td>\n    </tr>\n  </tbody>\n</table>\n<p>5 rows × 22 columns</p>\n</div>"
     },
     "execution_count": 14,
     "metadata": {},
     "output_type": "execute_result"
    }
   ],
   "source": [
    "sales_data.head()"
   ],
   "metadata": {
    "collapsed": false,
    "ExecuteTime": {
     "end_time": "2023-10-28T20:54:00.343805Z",
     "start_time": "2023-10-28T20:54:00.301677Z"
    }
   },
   "id": "3e4951b810b9d4c6"
  },
  {
   "cell_type": "code",
   "execution_count": 15,
   "outputs": [],
   "source": [
    "sales_data.drop(columns=['Order_ID', 'Order_Date', 'Branch', 'Order_Priority', 'Quantity', 'Ship_Duration', 'Profit', 'Total_Price'], inplace=True)"
   ],
   "metadata": {
    "collapsed": false,
    "ExecuteTime": {
     "end_time": "2023-10-28T20:54:00.555177Z",
     "start_time": "2023-10-28T20:54:00.321532Z"
    }
   },
   "id": "e78ea6317eb4a802"
  },
  {
   "cell_type": "code",
   "execution_count": 16,
   "outputs": [
    {
     "data": {
      "text/plain": "  Manufacturer          Model_Name            Category Screen_Size  \\\n0         Dell         Vostro 3568            Notebook       15.6\"   \n1       Lenovo      Yoga 720-13IKB  2 in 1 Convertible       13.3\"   \n2       Lenovo  IdeaPad Y700-15ISK            Notebook       15.6\"   \n3         Dell       Inspiron 5370           Ultrabook       13.3\"   \n4         Acer      Aspire E5-576G            Notebook       15.6\"   \n\n                                      Screen                          CPU  \\\n0                          Full HD 1920x1080   Intel Core i5 7200U 2.5GHz   \n1  IPS Panel Full HD / Touchscreen 1920x1080   Intel Core i5 7200U 2.5GHz   \n2                IPS Panel Full HD 1920x1080  Intel Core i7 6700HQ 2.6GHz   \n3                IPS Panel Full HD 1920x1080   Intel Core i7 8550U 1.8GHz   \n4                          Full HD 1920x1080   Intel Core i5 7200U 2.5GHz   \n\n   RAM    Storage                      GPU       OS OS_Version  Weight  \\\n0  8GB  256GB SSD       AMD Radeon R5 M420  Windows         10  2.18kg   \n1  8GB  256GB SSD    Intel HD Graphics 620  Windows         10   1.3kg   \n2  8GB    1TB HDD  Nvidia GeForce GTX 960M  Windows         10   2.6kg   \n3  8GB  256GB SSD           AMD Radeon 530  Windows         10   1.4kg   \n4  4GB  256GB SSD     Nvidia GeForce 940MX  Windows         10  2.23kg   \n\n      Price  Discount  \n0   3450000         0  \n1   3400000         0  \n2  44900000         0  \n3  12550000         0  \n4   2050000         0  ",
      "text/html": "<div>\n<style scoped>\n    .dataframe tbody tr th:only-of-type {\n        vertical-align: middle;\n    }\n\n    .dataframe tbody tr th {\n        vertical-align: top;\n    }\n\n    .dataframe thead th {\n        text-align: right;\n    }\n</style>\n<table border=\"1\" class=\"dataframe\">\n  <thead>\n    <tr style=\"text-align: right;\">\n      <th></th>\n      <th>Manufacturer</th>\n      <th>Model_Name</th>\n      <th>Category</th>\n      <th>Screen_Size</th>\n      <th>Screen</th>\n      <th>CPU</th>\n      <th>RAM</th>\n      <th>Storage</th>\n      <th>GPU</th>\n      <th>OS</th>\n      <th>OS_Version</th>\n      <th>Weight</th>\n      <th>Price</th>\n      <th>Discount</th>\n    </tr>\n  </thead>\n  <tbody>\n    <tr>\n      <th>0</th>\n      <td>Dell</td>\n      <td>Vostro 3568</td>\n      <td>Notebook</td>\n      <td>15.6\"</td>\n      <td>Full HD 1920x1080</td>\n      <td>Intel Core i5 7200U 2.5GHz</td>\n      <td>8GB</td>\n      <td>256GB SSD</td>\n      <td>AMD Radeon R5 M420</td>\n      <td>Windows</td>\n      <td>10</td>\n      <td>2.18kg</td>\n      <td>3450000</td>\n      <td>0</td>\n    </tr>\n    <tr>\n      <th>1</th>\n      <td>Lenovo</td>\n      <td>Yoga 720-13IKB</td>\n      <td>2 in 1 Convertible</td>\n      <td>13.3\"</td>\n      <td>IPS Panel Full HD / Touchscreen 1920x1080</td>\n      <td>Intel Core i5 7200U 2.5GHz</td>\n      <td>8GB</td>\n      <td>256GB SSD</td>\n      <td>Intel HD Graphics 620</td>\n      <td>Windows</td>\n      <td>10</td>\n      <td>1.3kg</td>\n      <td>3400000</td>\n      <td>0</td>\n    </tr>\n    <tr>\n      <th>2</th>\n      <td>Lenovo</td>\n      <td>IdeaPad Y700-15ISK</td>\n      <td>Notebook</td>\n      <td>15.6\"</td>\n      <td>IPS Panel Full HD 1920x1080</td>\n      <td>Intel Core i7 6700HQ 2.6GHz</td>\n      <td>8GB</td>\n      <td>1TB HDD</td>\n      <td>Nvidia GeForce GTX 960M</td>\n      <td>Windows</td>\n      <td>10</td>\n      <td>2.6kg</td>\n      <td>44900000</td>\n      <td>0</td>\n    </tr>\n    <tr>\n      <th>3</th>\n      <td>Dell</td>\n      <td>Inspiron 5370</td>\n      <td>Ultrabook</td>\n      <td>13.3\"</td>\n      <td>IPS Panel Full HD 1920x1080</td>\n      <td>Intel Core i7 8550U 1.8GHz</td>\n      <td>8GB</td>\n      <td>256GB SSD</td>\n      <td>AMD Radeon 530</td>\n      <td>Windows</td>\n      <td>10</td>\n      <td>1.4kg</td>\n      <td>12550000</td>\n      <td>0</td>\n    </tr>\n    <tr>\n      <th>4</th>\n      <td>Acer</td>\n      <td>Aspire E5-576G</td>\n      <td>Notebook</td>\n      <td>15.6\"</td>\n      <td>Full HD 1920x1080</td>\n      <td>Intel Core i5 7200U 2.5GHz</td>\n      <td>4GB</td>\n      <td>256GB SSD</td>\n      <td>Nvidia GeForce 940MX</td>\n      <td>Windows</td>\n      <td>10</td>\n      <td>2.23kg</td>\n      <td>2050000</td>\n      <td>0</td>\n    </tr>\n  </tbody>\n</table>\n</div>"
     },
     "execution_count": 16,
     "metadata": {},
     "output_type": "execute_result"
    }
   ],
   "source": [
    "sales_data.head()"
   ],
   "metadata": {
    "collapsed": false,
    "ExecuteTime": {
     "end_time": "2023-10-28T20:54:00.555996Z",
     "start_time": "2023-10-28T20:54:00.445479Z"
    }
   },
   "id": "43eb85418ba23aa"
  },
  {
   "cell_type": "code",
   "execution_count": 18,
   "outputs": [
    {
     "data": {
      "text/plain": "Manufacturer  Model_Name                                 Category  Screen_Size  Screen                       CPU                                   RAM  Storage             GPU                      OS       OS_Version  Weight  Price     Discount\nLenovo        IdeaPad Y700-15ISK                         Notebook  15.6\"        IPS Panel Full HD 1920x1080  Intel Core i7 6700HQ 2.6GHz           8GB  1TB HDD             Nvidia GeForce GTX 960M  Windows  10          2.6kg   3050000   0           159\nAsus          X556UJ-XO044T (i7-6500U/4GB/500GB/GeForce  Notebook  15.6\"        1366x768                     Intel Core i7 6500U 2.5GHz            4GB  500GB HDD           Nvidia GeForce 920M      Windows  10          2.2kg   2450000   0           156\nLenovo        IdeaPad Y700-15ISK                         Notebook  15.6\"        IPS Panel Full HD 1920x1080  Intel Core i7 6700HQ 2.6GHz           8GB  1TB HDD             Nvidia GeForce GTX 960M  Windows  10          2.6kg   3100000   0           146\nHP            15-AC110nv (i7-6500U/6GB/1TB/Radeon        Notebook  15.6\"        1366x768                     Intel Core i7 6500U 2.5GHz            6GB  1TB HDD             AMD Radeon R5 M330       Windows  10          2.19kg  2600000   0           134\n                                                                                                                                                                                                                                  2650000   0           131\n                                                                                                                                                                                                                                                       ... \n              EliteBook 1040                             Notebook  14.0\"        Full HD 1920x1080            Intel Core i5 6200U 2.3GHz            8GB  256GB SSD           Intel HD Graphics 520    Windows  7           1.43kg  51750000  0             1\n                                                                                                                                                                                                                                  51950000  0             1\n                                                                                                                                                                                                                                  52050000  0             1\n                                                                                                                                                                                                                                  54050000  0             1\nAcer          Aspire 1                                   Notebook  14.0\"        Full HD 1920x1080            Intel Celeron Quad Core N3450 1.1GHz  4GB  32GB Flash Storage  Intel HD Graphics 500    Windows  10          1.6kg   350000    0             1\nName: count, Length: 367374, dtype: int64"
     },
     "execution_count": 18,
     "metadata": {},
     "output_type": "execute_result"
    }
   ],
   "source": [
    "sales_data.value_counts()"
   ],
   "metadata": {
    "collapsed": false,
    "ExecuteTime": {
     "end_time": "2023-10-28T20:55:06.047739Z",
     "start_time": "2023-10-28T20:55:04.781369Z"
    }
   },
   "id": "c34aa336ee32b3f7"
  },
  {
   "cell_type": "code",
   "execution_count": null,
   "outputs": [],
   "source": [],
   "metadata": {
    "collapsed": false
   },
   "id": "4122b634b16c5cfb"
  }
 ],
 "metadata": {
  "kernelspec": {
   "display_name": "Python 3",
   "language": "python",
   "name": "python3"
  },
  "language_info": {
   "codemirror_mode": {
    "name": "ipython",
    "version": 2
   },
   "file_extension": ".py",
   "mimetype": "text/x-python",
   "name": "python",
   "nbconvert_exporter": "python",
   "pygments_lexer": "ipython2",
   "version": "2.7.6"
  }
 },
 "nbformat": 4,
 "nbformat_minor": 5
}
