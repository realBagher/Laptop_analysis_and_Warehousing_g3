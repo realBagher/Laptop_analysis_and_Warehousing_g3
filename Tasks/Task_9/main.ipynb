{
 "cells": [
  {
   "cell_type": "code",
   "execution_count": 16,
   "id": "initial_id",
   "metadata": {
    "collapsed": true,
    "ExecuteTime": {
     "end_time": "2023-10-28T18:13:38.564435Z",
     "start_time": "2023-10-28T18:13:38.525205Z"
    }
   },
   "outputs": [],
   "source": [
    "import pandas as pd\n",
    "import numpy as np\n",
    "from sklearn.ensemble import RandomForestRegressor\n",
    "from sklearn.preprocessing import LabelEncoder\n",
    "from sklearn.feature_selection import VarianceThreshold, SelectKBest, chi2"
   ]
  },
  {
   "cell_type": "code",
   "execution_count": 17,
   "outputs": [],
   "source": [
    "sales_data = pd.read_csv('sales_data.csv')"
   ],
   "metadata": {
    "collapsed": false,
    "ExecuteTime": {
     "end_time": "2023-10-28T18:13:44.923410Z",
     "start_time": "2023-10-28T18:13:38.849841Z"
    }
   },
   "id": "b6fe7d30b8d5249e"
  },
  {
   "cell_type": "code",
   "execution_count": 18,
   "outputs": [
    {
     "data": {
      "text/plain": "   Order_ID      Branch  Order_Date Order_Priority Manufacturer  \\\n0         0     Hamedan  1396-10-26              H         Dell   \n1         1  Kermanshah  1394-04-21              H       Lenovo   \n2         2       Rasht  1402-05-24              M       Lenovo   \n3         3  Kermanshah  1397-06-17              H         Dell   \n4         4       Karaj  1392-09-30              L         Acer   \n\n           Model_Name            Category Screen_Size  \\\n0         Vostro 3568            Notebook       15.6\"   \n1      Yoga 720-13IKB  2 in 1 Convertible       13.3\"   \n2  IdeaPad Y700-15ISK            Notebook       15.6\"   \n3       Inspiron 5370           Ultrabook       13.3\"   \n4      Aspire E5-576G            Notebook       15.6\"   \n\n                                      Screen                          CPU  \\\n0                          Full HD 1920x1080   Intel Core i5 7200U 2.5GHz   \n1  IPS Panel Full HD / Touchscreen 1920x1080   Intel Core i5 7200U 2.5GHz   \n2                IPS Panel Full HD 1920x1080  Intel Core i7 6700HQ 2.6GHz   \n3                IPS Panel Full HD 1920x1080   Intel Core i7 8550U 1.8GHz   \n4                          Full HD 1920x1080   Intel Core i5 7200U 2.5GHz   \n\n   ...                      GPU       OS OS_Version  Weight     Price  \\\n0  ...       AMD Radeon R5 M420  Windows         10  2.18kg   3450000   \n1  ...    Intel HD Graphics 620  Windows         10   1.3kg   3400000   \n2  ...  Nvidia GeForce GTX 960M  Windows         10   2.6kg  44900000   \n3  ...           AMD Radeon 530  Windows         10   1.4kg  12550000   \n4  ...     Nvidia GeForce 940MX  Windows         10  2.23kg   2050000   \n\n  Quantity  Discount  Total_Price   Profit  Ship_Duration  \n0        1         0    3450000.0   250000              3  \n1        1         0    3400000.0   380000              2  \n2        1         0   44900000.0  5630000              5  \n3        1         0   12550000.0  1130000              3  \n4        1         0    2050000.0   180000              8  \n\n[5 rows x 22 columns]",
      "text/html": "<div>\n<style scoped>\n    .dataframe tbody tr th:only-of-type {\n        vertical-align: middle;\n    }\n\n    .dataframe tbody tr th {\n        vertical-align: top;\n    }\n\n    .dataframe thead th {\n        text-align: right;\n    }\n</style>\n<table border=\"1\" class=\"dataframe\">\n  <thead>\n    <tr style=\"text-align: right;\">\n      <th></th>\n      <th>Order_ID</th>\n      <th>Branch</th>\n      <th>Order_Date</th>\n      <th>Order_Priority</th>\n      <th>Manufacturer</th>\n      <th>Model_Name</th>\n      <th>Category</th>\n      <th>Screen_Size</th>\n      <th>Screen</th>\n      <th>CPU</th>\n      <th>...</th>\n      <th>GPU</th>\n      <th>OS</th>\n      <th>OS_Version</th>\n      <th>Weight</th>\n      <th>Price</th>\n      <th>Quantity</th>\n      <th>Discount</th>\n      <th>Total_Price</th>\n      <th>Profit</th>\n      <th>Ship_Duration</th>\n    </tr>\n  </thead>\n  <tbody>\n    <tr>\n      <th>0</th>\n      <td>0</td>\n      <td>Hamedan</td>\n      <td>1396-10-26</td>\n      <td>H</td>\n      <td>Dell</td>\n      <td>Vostro 3568</td>\n      <td>Notebook</td>\n      <td>15.6\"</td>\n      <td>Full HD 1920x1080</td>\n      <td>Intel Core i5 7200U 2.5GHz</td>\n      <td>...</td>\n      <td>AMD Radeon R5 M420</td>\n      <td>Windows</td>\n      <td>10</td>\n      <td>2.18kg</td>\n      <td>3450000</td>\n      <td>1</td>\n      <td>0</td>\n      <td>3450000.0</td>\n      <td>250000</td>\n      <td>3</td>\n    </tr>\n    <tr>\n      <th>1</th>\n      <td>1</td>\n      <td>Kermanshah</td>\n      <td>1394-04-21</td>\n      <td>H</td>\n      <td>Lenovo</td>\n      <td>Yoga 720-13IKB</td>\n      <td>2 in 1 Convertible</td>\n      <td>13.3\"</td>\n      <td>IPS Panel Full HD / Touchscreen 1920x1080</td>\n      <td>Intel Core i5 7200U 2.5GHz</td>\n      <td>...</td>\n      <td>Intel HD Graphics 620</td>\n      <td>Windows</td>\n      <td>10</td>\n      <td>1.3kg</td>\n      <td>3400000</td>\n      <td>1</td>\n      <td>0</td>\n      <td>3400000.0</td>\n      <td>380000</td>\n      <td>2</td>\n    </tr>\n    <tr>\n      <th>2</th>\n      <td>2</td>\n      <td>Rasht</td>\n      <td>1402-05-24</td>\n      <td>M</td>\n      <td>Lenovo</td>\n      <td>IdeaPad Y700-15ISK</td>\n      <td>Notebook</td>\n      <td>15.6\"</td>\n      <td>IPS Panel Full HD 1920x1080</td>\n      <td>Intel Core i7 6700HQ 2.6GHz</td>\n      <td>...</td>\n      <td>Nvidia GeForce GTX 960M</td>\n      <td>Windows</td>\n      <td>10</td>\n      <td>2.6kg</td>\n      <td>44900000</td>\n      <td>1</td>\n      <td>0</td>\n      <td>44900000.0</td>\n      <td>5630000</td>\n      <td>5</td>\n    </tr>\n    <tr>\n      <th>3</th>\n      <td>3</td>\n      <td>Kermanshah</td>\n      <td>1397-06-17</td>\n      <td>H</td>\n      <td>Dell</td>\n      <td>Inspiron 5370</td>\n      <td>Ultrabook</td>\n      <td>13.3\"</td>\n      <td>IPS Panel Full HD 1920x1080</td>\n      <td>Intel Core i7 8550U 1.8GHz</td>\n      <td>...</td>\n      <td>AMD Radeon 530</td>\n      <td>Windows</td>\n      <td>10</td>\n      <td>1.4kg</td>\n      <td>12550000</td>\n      <td>1</td>\n      <td>0</td>\n      <td>12550000.0</td>\n      <td>1130000</td>\n      <td>3</td>\n    </tr>\n    <tr>\n      <th>4</th>\n      <td>4</td>\n      <td>Karaj</td>\n      <td>1392-09-30</td>\n      <td>L</td>\n      <td>Acer</td>\n      <td>Aspire E5-576G</td>\n      <td>Notebook</td>\n      <td>15.6\"</td>\n      <td>Full HD 1920x1080</td>\n      <td>Intel Core i5 7200U 2.5GHz</td>\n      <td>...</td>\n      <td>Nvidia GeForce 940MX</td>\n      <td>Windows</td>\n      <td>10</td>\n      <td>2.23kg</td>\n      <td>2050000</td>\n      <td>1</td>\n      <td>0</td>\n      <td>2050000.0</td>\n      <td>180000</td>\n      <td>8</td>\n    </tr>\n  </tbody>\n</table>\n<p>5 rows × 22 columns</p>\n</div>"
     },
     "execution_count": 18,
     "metadata": {},
     "output_type": "execute_result"
    }
   ],
   "source": [
    "sales_data.head()"
   ],
   "metadata": {
    "collapsed": false,
    "ExecuteTime": {
     "end_time": "2023-10-28T18:13:44.970877Z",
     "start_time": "2023-10-28T18:13:44.880978Z"
    }
   },
   "id": "dd2f5faa383a700f"
  },
  {
   "cell_type": "code",
   "execution_count": 19,
   "outputs": [],
   "source": [
    "sales_data['Order_Date'] = sales_data['Order_Date'].apply(lambda x: int(''.join(x.split('-'))))\n",
    "sales_data['Screen_Size'] = sales_data['Screen_Size'].apply(lambda x: float(x.split('\"')[0]))\n",
    "sales_data['RAM'] = sales_data['RAM'].apply(lambda x: int(x.split('GB')[0]))\n",
    "sales_data['Weight'] = sales_data['Weight'].apply(lambda x: float(x.split('kg')[0]))"
   ],
   "metadata": {
    "collapsed": false,
    "ExecuteTime": {
     "end_time": "2023-10-28T18:13:48.264680Z",
     "start_time": "2023-10-28T18:13:44.946052Z"
    }
   },
   "id": "5ca72b6bc496ca54"
  },
  {
   "cell_type": "code",
   "execution_count": 20,
   "outputs": [],
   "source": [
    "sales_data['Screen_Size'] = sales_data['Screen_Size'].apply(lambda x: int(x*10))\n",
    "sales_data['Weight'] = sales_data['Weight'].apply(lambda x: int(x*100))\n",
    "sales_data['Total_Price'] = sales_data['Total_Price'].apply(lambda x: int(x*10))"
   ],
   "metadata": {
    "collapsed": false,
    "ExecuteTime": {
     "end_time": "2023-10-28T18:13:50.236041Z",
     "start_time": "2023-10-28T18:13:48.269543Z"
    }
   },
   "id": "e01ebeac8dcff4c3"
  },
  {
   "cell_type": "code",
   "execution_count": 21,
   "outputs": [],
   "source": [
    "sales_data.drop(columns=['Order_ID', 'Branch', 'Order_Date', 'Order_Priority', 'Quantity', 'Total_Price'], inplace=True)"
   ],
   "metadata": {
    "collapsed": false,
    "ExecuteTime": {
     "end_time": "2023-10-28T18:13:50.584098Z",
     "start_time": "2023-10-28T18:13:50.416131Z"
    }
   },
   "id": "3971a45e99dfdd4b"
  },
  {
   "cell_type": "code",
   "execution_count": 22,
   "outputs": [
    {
     "data": {
      "text/plain": "Index(['Manufacturer', 'Model_Name', 'Category', 'Screen_Size', 'Screen',\n       'CPU', 'RAM', 'Storage', 'GPU', 'OS', 'OS_Version', 'Weight', 'Price',\n       'Discount', 'Profit', 'Ship_Duration'],\n      dtype='object')"
     },
     "execution_count": 22,
     "metadata": {},
     "output_type": "execute_result"
    }
   ],
   "source": [
    "sales_data.columns"
   ],
   "metadata": {
    "collapsed": false,
    "ExecuteTime": {
     "end_time": "2023-10-28T18:13:50.584802Z",
     "start_time": "2023-10-28T18:13:50.480962Z"
    }
   },
   "id": "7c3ede174bf8aee4"
  },
  {
   "cell_type": "code",
   "execution_count": 23,
   "outputs": [
    {
     "data": {
      "text/plain": "  Manufacturer          Model_Name            Category  Screen_Size  \\\n0         Dell         Vostro 3568            Notebook          156   \n1       Lenovo      Yoga 720-13IKB  2 in 1 Convertible          133   \n2       Lenovo  IdeaPad Y700-15ISK            Notebook          156   \n3         Dell       Inspiron 5370           Ultrabook          133   \n4         Acer      Aspire E5-576G            Notebook          156   \n\n                                      Screen                          CPU  \\\n0                          Full HD 1920x1080   Intel Core i5 7200U 2.5GHz   \n1  IPS Panel Full HD / Touchscreen 1920x1080   Intel Core i5 7200U 2.5GHz   \n2                IPS Panel Full HD 1920x1080  Intel Core i7 6700HQ 2.6GHz   \n3                IPS Panel Full HD 1920x1080   Intel Core i7 8550U 1.8GHz   \n4                          Full HD 1920x1080   Intel Core i5 7200U 2.5GHz   \n\n   RAM    Storage                      GPU       OS OS_Version  Weight  \\\n0    8  256GB SSD       AMD Radeon R5 M420  Windows         10     218   \n1    8  256GB SSD    Intel HD Graphics 620  Windows         10     130   \n2    8    1TB HDD  Nvidia GeForce GTX 960M  Windows         10     260   \n3    8  256GB SSD           AMD Radeon 530  Windows         10     140   \n4    4  256GB SSD     Nvidia GeForce 940MX  Windows         10     223   \n\n      Price  Discount   Profit  Ship_Duration  \n0   3450000         0   250000              3  \n1   3400000         0   380000              2  \n2  44900000         0  5630000              5  \n3  12550000         0  1130000              3  \n4   2050000         0   180000              8  ",
      "text/html": "<div>\n<style scoped>\n    .dataframe tbody tr th:only-of-type {\n        vertical-align: middle;\n    }\n\n    .dataframe tbody tr th {\n        vertical-align: top;\n    }\n\n    .dataframe thead th {\n        text-align: right;\n    }\n</style>\n<table border=\"1\" class=\"dataframe\">\n  <thead>\n    <tr style=\"text-align: right;\">\n      <th></th>\n      <th>Manufacturer</th>\n      <th>Model_Name</th>\n      <th>Category</th>\n      <th>Screen_Size</th>\n      <th>Screen</th>\n      <th>CPU</th>\n      <th>RAM</th>\n      <th>Storage</th>\n      <th>GPU</th>\n      <th>OS</th>\n      <th>OS_Version</th>\n      <th>Weight</th>\n      <th>Price</th>\n      <th>Discount</th>\n      <th>Profit</th>\n      <th>Ship_Duration</th>\n    </tr>\n  </thead>\n  <tbody>\n    <tr>\n      <th>0</th>\n      <td>Dell</td>\n      <td>Vostro 3568</td>\n      <td>Notebook</td>\n      <td>156</td>\n      <td>Full HD 1920x1080</td>\n      <td>Intel Core i5 7200U 2.5GHz</td>\n      <td>8</td>\n      <td>256GB SSD</td>\n      <td>AMD Radeon R5 M420</td>\n      <td>Windows</td>\n      <td>10</td>\n      <td>218</td>\n      <td>3450000</td>\n      <td>0</td>\n      <td>250000</td>\n      <td>3</td>\n    </tr>\n    <tr>\n      <th>1</th>\n      <td>Lenovo</td>\n      <td>Yoga 720-13IKB</td>\n      <td>2 in 1 Convertible</td>\n      <td>133</td>\n      <td>IPS Panel Full HD / Touchscreen 1920x1080</td>\n      <td>Intel Core i5 7200U 2.5GHz</td>\n      <td>8</td>\n      <td>256GB SSD</td>\n      <td>Intel HD Graphics 620</td>\n      <td>Windows</td>\n      <td>10</td>\n      <td>130</td>\n      <td>3400000</td>\n      <td>0</td>\n      <td>380000</td>\n      <td>2</td>\n    </tr>\n    <tr>\n      <th>2</th>\n      <td>Lenovo</td>\n      <td>IdeaPad Y700-15ISK</td>\n      <td>Notebook</td>\n      <td>156</td>\n      <td>IPS Panel Full HD 1920x1080</td>\n      <td>Intel Core i7 6700HQ 2.6GHz</td>\n      <td>8</td>\n      <td>1TB HDD</td>\n      <td>Nvidia GeForce GTX 960M</td>\n      <td>Windows</td>\n      <td>10</td>\n      <td>260</td>\n      <td>44900000</td>\n      <td>0</td>\n      <td>5630000</td>\n      <td>5</td>\n    </tr>\n    <tr>\n      <th>3</th>\n      <td>Dell</td>\n      <td>Inspiron 5370</td>\n      <td>Ultrabook</td>\n      <td>133</td>\n      <td>IPS Panel Full HD 1920x1080</td>\n      <td>Intel Core i7 8550U 1.8GHz</td>\n      <td>8</td>\n      <td>256GB SSD</td>\n      <td>AMD Radeon 530</td>\n      <td>Windows</td>\n      <td>10</td>\n      <td>140</td>\n      <td>12550000</td>\n      <td>0</td>\n      <td>1130000</td>\n      <td>3</td>\n    </tr>\n    <tr>\n      <th>4</th>\n      <td>Acer</td>\n      <td>Aspire E5-576G</td>\n      <td>Notebook</td>\n      <td>156</td>\n      <td>Full HD 1920x1080</td>\n      <td>Intel Core i5 7200U 2.5GHz</td>\n      <td>4</td>\n      <td>256GB SSD</td>\n      <td>Nvidia GeForce 940MX</td>\n      <td>Windows</td>\n      <td>10</td>\n      <td>223</td>\n      <td>2050000</td>\n      <td>0</td>\n      <td>180000</td>\n      <td>8</td>\n    </tr>\n  </tbody>\n</table>\n</div>"
     },
     "execution_count": 23,
     "metadata": {},
     "output_type": "execute_result"
    }
   ],
   "source": [
    "sales_data.head()"
   ],
   "metadata": {
    "collapsed": false,
    "ExecuteTime": {
     "end_time": "2023-10-28T18:13:50.585719Z",
     "start_time": "2023-10-28T18:13:50.502582Z"
    }
   },
   "id": "41453984eaea57e6"
  },
  {
   "cell_type": "code",
   "execution_count": 24,
   "outputs": [],
   "source": [
    "X_encoded = sales_data.copy()\n",
    "\n",
    "label_encoders = {}\n",
    "categorical_cols = ['Manufacturer', 'Model_Name', 'Category', 'Screen', 'CPU', 'Storage', 'GPU', 'OS', 'OS_Version']\n",
    "for col in categorical_cols:\n",
    "    le = LabelEncoder()\n",
    "    X_encoded[col + \"_en\"] = le.fit_transform(X_encoded[col])\n",
    "    label_encoders[col] = le\n",
    "\n",
    "X_encoded.drop(columns=['Manufacturer', 'Model_Name', 'Category', 'Screen', 'CPU', 'Storage', 'GPU', 'OS', 'OS_Version'],inplace=True)"
   ],
   "metadata": {
    "collapsed": false,
    "ExecuteTime": {
     "end_time": "2023-10-28T18:13:53.601875Z",
     "start_time": "2023-10-28T18:13:50.541516Z"
    }
   },
   "id": "3be2d0c9c091210c"
  },
  {
   "cell_type": "code",
   "execution_count": 25,
   "outputs": [
    {
     "data": {
      "text/plain": "         Screen_Size  RAM  Weight     Price  Discount   Profit  Ship_Duration  \\\n0                156    8     218   3450000         0   250000              3   \n1                133    8     130   3400000         0   380000              2   \n2                156    8     260  44900000         0  5630000              5   \n3                133    8     140  12550000         0  1130000              3   \n4                156    4     223   2050000         0   180000              8   \n...              ...  ...     ...       ...       ...      ...            ...   \n1017076          156    4     240   3800000         0   460000              4   \n1017077          156    4     204   1300000         0   120000              6   \n1017078          156    8     198  16700000         0  1700000              2   \n1017079          133    8     134   3750000         0   420000             10   \n1017080          156    4     229   1050000         0   100000              9   \n\n         Manufacturer_en  Model_Name_en  Category_en  Screen_en  CPU_en  \\\n0                      4            547            3          8      74   \n1                     10            585            0         13      74   \n2                     10            225            3         15      92   \n3                      4            242            4         15     106   \n4                      0             71            3          8      74   \n...                  ...            ...          ...        ...     ...   \n1017076               10            291            1         15     102   \n1017077               10            529            3          8      83   \n1017078                4            551            3          8      74   \n1017079                7            121            4         21      97   \n1017080                4            239            3          8      74   \n\n         Storage_en  GPU_en  OS_en  OS_Version_en  \n0                15      22      5              0  \n1                15      53      5              0  \n2                 8      89      5              0  \n3                15       7      5              0  \n4                15      72      5              0  \n...             ...     ...    ...            ...  \n1017076           8      75      5              0  \n1017077          25      53      5              0  \n1017078           8      53      2              4  \n1017079          15      53      5              0  \n1017080          15      24      5              0  \n\n[1017081 rows x 16 columns]",
      "text/html": "<div>\n<style scoped>\n    .dataframe tbody tr th:only-of-type {\n        vertical-align: middle;\n    }\n\n    .dataframe tbody tr th {\n        vertical-align: top;\n    }\n\n    .dataframe thead th {\n        text-align: right;\n    }\n</style>\n<table border=\"1\" class=\"dataframe\">\n  <thead>\n    <tr style=\"text-align: right;\">\n      <th></th>\n      <th>Screen_Size</th>\n      <th>RAM</th>\n      <th>Weight</th>\n      <th>Price</th>\n      <th>Discount</th>\n      <th>Profit</th>\n      <th>Ship_Duration</th>\n      <th>Manufacturer_en</th>\n      <th>Model_Name_en</th>\n      <th>Category_en</th>\n      <th>Screen_en</th>\n      <th>CPU_en</th>\n      <th>Storage_en</th>\n      <th>GPU_en</th>\n      <th>OS_en</th>\n      <th>OS_Version_en</th>\n    </tr>\n  </thead>\n  <tbody>\n    <tr>\n      <th>0</th>\n      <td>156</td>\n      <td>8</td>\n      <td>218</td>\n      <td>3450000</td>\n      <td>0</td>\n      <td>250000</td>\n      <td>3</td>\n      <td>4</td>\n      <td>547</td>\n      <td>3</td>\n      <td>8</td>\n      <td>74</td>\n      <td>15</td>\n      <td>22</td>\n      <td>5</td>\n      <td>0</td>\n    </tr>\n    <tr>\n      <th>1</th>\n      <td>133</td>\n      <td>8</td>\n      <td>130</td>\n      <td>3400000</td>\n      <td>0</td>\n      <td>380000</td>\n      <td>2</td>\n      <td>10</td>\n      <td>585</td>\n      <td>0</td>\n      <td>13</td>\n      <td>74</td>\n      <td>15</td>\n      <td>53</td>\n      <td>5</td>\n      <td>0</td>\n    </tr>\n    <tr>\n      <th>2</th>\n      <td>156</td>\n      <td>8</td>\n      <td>260</td>\n      <td>44900000</td>\n      <td>0</td>\n      <td>5630000</td>\n      <td>5</td>\n      <td>10</td>\n      <td>225</td>\n      <td>3</td>\n      <td>15</td>\n      <td>92</td>\n      <td>8</td>\n      <td>89</td>\n      <td>5</td>\n      <td>0</td>\n    </tr>\n    <tr>\n      <th>3</th>\n      <td>133</td>\n      <td>8</td>\n      <td>140</td>\n      <td>12550000</td>\n      <td>0</td>\n      <td>1130000</td>\n      <td>3</td>\n      <td>4</td>\n      <td>242</td>\n      <td>4</td>\n      <td>15</td>\n      <td>106</td>\n      <td>15</td>\n      <td>7</td>\n      <td>5</td>\n      <td>0</td>\n    </tr>\n    <tr>\n      <th>4</th>\n      <td>156</td>\n      <td>4</td>\n      <td>223</td>\n      <td>2050000</td>\n      <td>0</td>\n      <td>180000</td>\n      <td>8</td>\n      <td>0</td>\n      <td>71</td>\n      <td>3</td>\n      <td>8</td>\n      <td>74</td>\n      <td>15</td>\n      <td>72</td>\n      <td>5</td>\n      <td>0</td>\n    </tr>\n    <tr>\n      <th>...</th>\n      <td>...</td>\n      <td>...</td>\n      <td>...</td>\n      <td>...</td>\n      <td>...</td>\n      <td>...</td>\n      <td>...</td>\n      <td>...</td>\n      <td>...</td>\n      <td>...</td>\n      <td>...</td>\n      <td>...</td>\n      <td>...</td>\n      <td>...</td>\n      <td>...</td>\n      <td>...</td>\n    </tr>\n    <tr>\n      <th>1017076</th>\n      <td>156</td>\n      <td>4</td>\n      <td>240</td>\n      <td>3800000</td>\n      <td>0</td>\n      <td>460000</td>\n      <td>4</td>\n      <td>10</td>\n      <td>291</td>\n      <td>1</td>\n      <td>15</td>\n      <td>102</td>\n      <td>8</td>\n      <td>75</td>\n      <td>5</td>\n      <td>0</td>\n    </tr>\n    <tr>\n      <th>1017077</th>\n      <td>156</td>\n      <td>4</td>\n      <td>204</td>\n      <td>1300000</td>\n      <td>0</td>\n      <td>120000</td>\n      <td>6</td>\n      <td>10</td>\n      <td>529</td>\n      <td>3</td>\n      <td>8</td>\n      <td>83</td>\n      <td>25</td>\n      <td>53</td>\n      <td>5</td>\n      <td>0</td>\n    </tr>\n    <tr>\n      <th>1017078</th>\n      <td>156</td>\n      <td>8</td>\n      <td>198</td>\n      <td>16700000</td>\n      <td>0</td>\n      <td>1700000</td>\n      <td>2</td>\n      <td>4</td>\n      <td>551</td>\n      <td>3</td>\n      <td>8</td>\n      <td>74</td>\n      <td>8</td>\n      <td>53</td>\n      <td>2</td>\n      <td>4</td>\n    </tr>\n    <tr>\n      <th>1017079</th>\n      <td>133</td>\n      <td>8</td>\n      <td>134</td>\n      <td>3750000</td>\n      <td>0</td>\n      <td>420000</td>\n      <td>10</td>\n      <td>7</td>\n      <td>121</td>\n      <td>4</td>\n      <td>21</td>\n      <td>97</td>\n      <td>15</td>\n      <td>53</td>\n      <td>5</td>\n      <td>0</td>\n    </tr>\n    <tr>\n      <th>1017080</th>\n      <td>156</td>\n      <td>4</td>\n      <td>229</td>\n      <td>1050000</td>\n      <td>0</td>\n      <td>100000</td>\n      <td>9</td>\n      <td>4</td>\n      <td>239</td>\n      <td>3</td>\n      <td>8</td>\n      <td>74</td>\n      <td>15</td>\n      <td>24</td>\n      <td>5</td>\n      <td>0</td>\n    </tr>\n  </tbody>\n</table>\n<p>1017081 rows × 16 columns</p>\n</div>"
     },
     "execution_count": 25,
     "metadata": {},
     "output_type": "execute_result"
    }
   ],
   "source": [
    "X_encoded"
   ],
   "metadata": {
    "collapsed": false,
    "ExecuteTime": {
     "end_time": "2023-10-28T18:13:53.610385Z",
     "start_time": "2023-10-28T18:13:53.528457Z"
    }
   },
   "id": "4a98186194f6d65f"
  },
  {
   "cell_type": "code",
   "execution_count": 26,
   "outputs": [],
   "source": [
    "y = X_encoded['Profit']\n",
    "X = X_encoded.drop(columns=['Profit'])"
   ],
   "metadata": {
    "collapsed": false,
    "ExecuteTime": {
     "end_time": "2023-10-28T18:13:53.610801Z",
     "start_time": "2023-10-28T18:13:53.549985Z"
    }
   },
   "id": "6bd5403a0c6c34ec"
  },
  {
   "cell_type": "code",
   "execution_count": 12,
   "outputs": [
    {
     "ename": "ValueError",
     "evalue": "Item wrong length 15 instead of 1017081.",
     "output_type": "error",
     "traceback": [
      "\u001B[0;31m---------------------------------------------------------------------------\u001B[0m",
      "\u001B[0;31mValueError\u001B[0m                                Traceback (most recent call last)",
      "\u001B[0;32m/var/folders/ry/hwvvx1qx5kx7cj9kvwhw893r0000gn/T/ipykernel_25959/2188671373.py\u001B[0m in \u001B[0;36m?\u001B[0;34m()\u001B[0m\n\u001B[0;32m----> 4\u001B[0;31m \u001B[0mselector\u001B[0m \u001B[0;34m=\u001B[0m \u001B[0mVarianceThreshold\u001B[0m\u001B[0;34m(\u001B[0m\u001B[0mthreshold\u001B[0m\u001B[0;34m=\u001B[0m\u001B[0;36m0.4\u001B[0m\u001B[0;34m)\u001B[0m\u001B[0;34m\u001B[0m\u001B[0;34m\u001B[0m\u001B[0m\n\u001B[0m\u001B[1;32m      5\u001B[0m \u001B[0mX_new\u001B[0m \u001B[0;34m=\u001B[0m \u001B[0mselector\u001B[0m\u001B[0;34m.\u001B[0m\u001B[0mfit_transform\u001B[0m\u001B[0;34m(\u001B[0m\u001B[0mX\u001B[0m\u001B[0;34m)\u001B[0m\u001B[0;34m\u001B[0m\u001B[0;34m\u001B[0m\u001B[0m\n\u001B[1;32m      6\u001B[0m \u001B[0mmask\u001B[0m \u001B[0;34m=\u001B[0m \u001B[0mselector\u001B[0m\u001B[0;34m.\u001B[0m\u001B[0mget_support\u001B[0m\u001B[0;34m(\u001B[0m\u001B[0;34m)\u001B[0m\u001B[0;34m\u001B[0m\u001B[0;34m\u001B[0m\u001B[0m\n\u001B[1;32m      7\u001B[0m \u001B[0mselected_feat\u001B[0m \u001B[0;34m=\u001B[0m \u001B[0mX\u001B[0m\u001B[0;34m[\u001B[0m\u001B[0mmask\u001B[0m\u001B[0;34m]\u001B[0m\u001B[0;34m\u001B[0m\u001B[0;34m\u001B[0m\u001B[0m\n",
      "\u001B[0;32m~/Desktop/BOOTCAMP/Laptop_analysis_and_Warehousing_g3/myvenv/lib/python3.9/site-packages/pandas/core/frame.py\u001B[0m in \u001B[0;36m?\u001B[0;34m(self, key)\u001B[0m\n\u001B[1;32m   3883\u001B[0m             \u001B[0;32mreturn\u001B[0m \u001B[0mself\u001B[0m\u001B[0;34m.\u001B[0m\u001B[0mwhere\u001B[0m\u001B[0;34m(\u001B[0m\u001B[0mkey\u001B[0m\u001B[0;34m)\u001B[0m\u001B[0;34m\u001B[0m\u001B[0;34m\u001B[0m\u001B[0m\n\u001B[1;32m   3884\u001B[0m \u001B[0;34m\u001B[0m\u001B[0m\n\u001B[1;32m   3885\u001B[0m         \u001B[0;31m# Do we have a (boolean) 1d indexer?\u001B[0m\u001B[0;34m\u001B[0m\u001B[0;34m\u001B[0m\u001B[0m\n\u001B[1;32m   3886\u001B[0m         \u001B[0;32mif\u001B[0m \u001B[0mcom\u001B[0m\u001B[0;34m.\u001B[0m\u001B[0mis_bool_indexer\u001B[0m\u001B[0;34m(\u001B[0m\u001B[0mkey\u001B[0m\u001B[0;34m)\u001B[0m\u001B[0;34m:\u001B[0m\u001B[0;34m\u001B[0m\u001B[0;34m\u001B[0m\u001B[0m\n\u001B[0;32m-> 3887\u001B[0;31m             \u001B[0;32mreturn\u001B[0m \u001B[0mself\u001B[0m\u001B[0;34m.\u001B[0m\u001B[0m_getitem_bool_array\u001B[0m\u001B[0;34m(\u001B[0m\u001B[0mkey\u001B[0m\u001B[0;34m)\u001B[0m\u001B[0;34m\u001B[0m\u001B[0;34m\u001B[0m\u001B[0m\n\u001B[0m\u001B[1;32m   3888\u001B[0m \u001B[0;34m\u001B[0m\u001B[0m\n\u001B[1;32m   3889\u001B[0m         \u001B[0;31m# We are left with two options: a single key, and a collection of keys,\u001B[0m\u001B[0;34m\u001B[0m\u001B[0;34m\u001B[0m\u001B[0m\n\u001B[1;32m   3890\u001B[0m         \u001B[0;31m# We interpret tuples as collections only for non-MultiIndex\u001B[0m\u001B[0;34m\u001B[0m\u001B[0;34m\u001B[0m\u001B[0m\n",
      "\u001B[0;32m~/Desktop/BOOTCAMP/Laptop_analysis_and_Warehousing_g3/myvenv/lib/python3.9/site-packages/pandas/core/frame.py\u001B[0m in \u001B[0;36m?\u001B[0;34m(self, key)\u001B[0m\n\u001B[1;32m   3933\u001B[0m                 \u001B[0mUserWarning\u001B[0m\u001B[0;34m,\u001B[0m\u001B[0;34m\u001B[0m\u001B[0;34m\u001B[0m\u001B[0m\n\u001B[1;32m   3934\u001B[0m                 \u001B[0mstacklevel\u001B[0m\u001B[0;34m=\u001B[0m\u001B[0mfind_stack_level\u001B[0m\u001B[0;34m(\u001B[0m\u001B[0;34m)\u001B[0m\u001B[0;34m,\u001B[0m\u001B[0;34m\u001B[0m\u001B[0;34m\u001B[0m\u001B[0m\n\u001B[1;32m   3935\u001B[0m             )\n\u001B[1;32m   3936\u001B[0m         \u001B[0;32melif\u001B[0m \u001B[0mlen\u001B[0m\u001B[0;34m(\u001B[0m\u001B[0mkey\u001B[0m\u001B[0;34m)\u001B[0m \u001B[0;34m!=\u001B[0m \u001B[0mlen\u001B[0m\u001B[0;34m(\u001B[0m\u001B[0mself\u001B[0m\u001B[0;34m.\u001B[0m\u001B[0mindex\u001B[0m\u001B[0;34m)\u001B[0m\u001B[0;34m:\u001B[0m\u001B[0;34m\u001B[0m\u001B[0;34m\u001B[0m\u001B[0m\n\u001B[0;32m-> 3937\u001B[0;31m             raise ValueError(\n\u001B[0m\u001B[1;32m   3938\u001B[0m                 \u001B[0;34mf\"Item wrong length {len(key)} instead of {len(self.index)}.\"\u001B[0m\u001B[0;34m\u001B[0m\u001B[0;34m\u001B[0m\u001B[0m\n\u001B[1;32m   3939\u001B[0m             )\n\u001B[1;32m   3940\u001B[0m \u001B[0;34m\u001B[0m\u001B[0m\n",
      "\u001B[0;31mValueError\u001B[0m: Item wrong length 15 instead of 1017081."
     ]
    }
   ],
   "source": [
    "selector = VarianceThreshold(threshold=0.4)\n",
    "X_new = selector.fit_transform(X)\n",
    "mask = selector.get_support()\n",
    "selected_feat = X[mask]\n",
    "sorted_feat = selected_feat[np.argsort(selector.variances_[mask])]\n",
    "\n",
    "print(sorted_feat)\n"
   ],
   "metadata": {
    "collapsed": false,
    "ExecuteTime": {
     "end_time": "2023-10-28T18:10:47.459455Z",
     "start_time": "2023-10-28T18:10:46.687537Z"
    }
   },
   "id": "798e605d4a06ff32"
  },
  {
   "cell_type": "code",
   "execution_count": 13,
   "outputs": [],
   "source": [
    "selector = SelectKBest(score_func=chi2, k=1)\n",
    "X.drop(columns=[\"Price\"], inplace=True)\n",
    "X_new = selector.fit_transform(X, y)"
   ],
   "metadata": {
    "collapsed": false,
    "ExecuteTime": {
     "end_time": "2023-10-28T18:10:53.222822Z",
     "start_time": "2023-10-28T18:10:51.845563Z"
    }
   },
   "id": "e379b89c59e9caa8"
  },
  {
   "cell_type": "code",
   "execution_count": 14,
   "outputs": [
    {
     "data": {
      "text/plain": "array([[547],\n       [585],\n       [225],\n       ...,\n       [551],\n       [121],\n       [239]])"
     },
     "execution_count": 14,
     "metadata": {},
     "output_type": "execute_result"
    }
   ],
   "source": [
    "X_new"
   ],
   "metadata": {
    "collapsed": false,
    "ExecuteTime": {
     "end_time": "2023-10-28T18:10:54.531259Z",
     "start_time": "2023-10-28T18:10:54.521139Z"
    }
   },
   "id": "e69077f0445fd061"
  },
  {
   "cell_type": "code",
   "execution_count": 15,
   "outputs": [
    {
     "name": "stdout",
     "output_type": "stream",
     "text": [
      "Model_Name_en\n"
     ]
    }
   ],
   "source": [
    "for i in X_encoded.columns:\n",
    "    if X_encoded[i][0] == X_new[0][0]:\n",
    "        print(i)\n",
    "# X_new"
   ],
   "metadata": {
    "collapsed": false,
    "ExecuteTime": {
     "end_time": "2023-10-28T18:10:59.353822Z",
     "start_time": "2023-10-28T18:10:59.343775Z"
    }
   },
   "id": "3c7d03daae853adf"
  },
  {
   "cell_type": "code",
   "execution_count": 275,
   "outputs": [
    {
     "data": {
      "text/plain": "array([[156,   8, 218, ...,  22,   5,   0],\n       [133,   8, 130, ...,  53,   5,   0],\n       [156,   8, 260, ...,  89,   5,   0],\n       ...,\n       [156,   8, 198, ...,  53,   2,   4],\n       [133,   8, 134, ...,  53,   5,   0],\n       [156,   4, 229, ...,  24,   5,   0]])"
     },
     "execution_count": 275,
     "metadata": {},
     "output_type": "execute_result"
    }
   ],
   "source": [
    "X_new"
   ],
   "metadata": {
    "collapsed": false,
    "ExecuteTime": {
     "end_time": "2023-10-27T11:27:10.048320Z",
     "start_time": "2023-10-27T11:27:10.011302Z"
    }
   },
   "id": "da0fe4932bc0bf90"
  },
  {
   "cell_type": "code",
   "execution_count": 27,
   "outputs": [],
   "source": [
    "model = RandomForestRegressor() \n",
    "model.fit(X, y)  \n",
    "importance = model.feature_importances_\n",
    "indices = np.argsort(importance)[::-1]"
   ],
   "metadata": {
    "collapsed": false,
    "ExecuteTime": {
     "end_time": "2023-10-28T18:25:34.570539Z",
     "start_time": "2023-10-28T18:14:17.201900Z"
    }
   },
   "id": "245f84a7004a62"
  },
  {
   "cell_type": "code",
   "execution_count": 28,
   "outputs": [
    {
     "data": {
      "text/plain": "array([ 3,  5,  7,  2, 10, 12, 11,  4,  9,  6,  0,  1,  8, 14, 13])"
     },
     "execution_count": 28,
     "metadata": {},
     "output_type": "execute_result"
    }
   ],
   "source": [
    "indices"
   ],
   "metadata": {
    "collapsed": false,
    "ExecuteTime": {
     "end_time": "2023-10-28T18:25:34.650310Z",
     "start_time": "2023-10-28T18:25:34.560719Z"
    }
   },
   "id": "b8de61c225ebb585"
  },
  {
   "cell_type": "code",
   "execution_count": 29,
   "outputs": [],
   "source": [
    "ni = -1\n",
    "for i in range(len(indices)):\n",
    "    ni += 1\n",
    "    if indices[i] == min(indices):\n",
    "        most_eff_ind = ni"
   ],
   "metadata": {
    "collapsed": false,
    "ExecuteTime": {
     "end_time": "2023-10-28T18:25:34.661043Z",
     "start_time": "2023-10-28T18:25:34.567434Z"
    }
   },
   "id": "19e4c972c09e0e31"
  },
  {
   "cell_type": "code",
   "execution_count": 30,
   "outputs": [
    {
     "data": {
      "text/plain": "0          156\n1          133\n2          156\n3          133\n4          156\n          ... \n1017076    156\n1017077    156\n1017078    156\n1017079    133\n1017080    156\nName: Screen_Size, Length: 1017081, dtype: int64"
     },
     "execution_count": 30,
     "metadata": {},
     "output_type": "execute_result"
    }
   ],
   "source": [
    "X_encoded.iloc[:,indices[most_eff_ind]]"
   ],
   "metadata": {
    "collapsed": false,
    "ExecuteTime": {
     "end_time": "2023-10-28T18:25:34.662703Z",
     "start_time": "2023-10-28T18:25:34.567828Z"
    }
   },
   "id": "7032a09a68112f91"
  },
  {
   "cell_type": "code",
   "execution_count": 292,
   "outputs": [
    {
     "data": {
      "text/plain": "0"
     },
     "execution_count": 292,
     "metadata": {},
     "output_type": "execute_result"
    }
   ],
   "source": [
    "indices[10]"
   ],
   "metadata": {
    "collapsed": false,
    "ExecuteTime": {
     "end_time": "2023-10-27T11:52:39.266626Z",
     "start_time": "2023-10-27T11:52:39.259130Z"
    }
   },
   "id": "619d0cfa66a562ce"
  },
  {
   "cell_type": "code",
   "execution_count": null,
   "outputs": [],
   "source": [],
   "metadata": {
    "collapsed": false
   },
   "id": "6e551b011a32d0f7"
  }
 ],
 "metadata": {
  "kernelspec": {
   "display_name": "Python 3",
   "language": "python",
   "name": "python3"
  },
  "language_info": {
   "codemirror_mode": {
    "name": "ipython",
    "version": 2
   },
   "file_extension": ".py",
   "mimetype": "text/x-python",
   "name": "python",
   "nbconvert_exporter": "python",
   "pygments_lexer": "ipython2",
   "version": "2.7.6"
  }
 },
 "nbformat": 4,
 "nbformat_minor": 5
}
