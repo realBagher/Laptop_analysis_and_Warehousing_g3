{
 "cells": [
  {
   "cell_type": "code",
   "execution_count": 276,
   "id": "initial_id",
   "metadata": {
    "collapsed": true,
    "ExecuteTime": {
     "end_time": "2023-10-27T11:32:54.350538Z",
     "start_time": "2023-10-27T11:32:54.347501Z"
    }
   },
   "outputs": [],
   "source": [
    "import pandas as pd\n",
    "import numpy as np\n",
    "from sklearn.ensemble import RandomForestRegressor\n",
    "from sklearn.preprocessing import LabelEncoder\n",
    "from sklearn.feature_selection import VarianceThreshold, SelectKBest, chi2"
   ]
  },
  {
   "cell_type": "code",
   "execution_count": 277,
   "outputs": [],
   "source": [
    "sales_data = pd.read_csv('sales_data.csv')"
   ],
   "metadata": {
    "collapsed": false,
    "ExecuteTime": {
     "end_time": "2023-10-27T11:33:00.310758Z",
     "start_time": "2023-10-27T11:32:54.848623Z"
    }
   },
   "id": "b6fe7d30b8d5249e"
  },
  {
   "cell_type": "code",
   "execution_count": 278,
   "outputs": [
    {
     "data": {
      "text/plain": "   Order_ID      Branch  Order_Date Order_Priority Manufacturer  \\\n0         0     Hamedan  1396-10-26              H         Dell   \n1         1  Kermanshah  1394-04-21              H       Lenovo   \n2         2       Rasht  1402-05-24              M       Lenovo   \n3         3  Kermanshah  1397-06-17              H         Dell   \n4         4       Karaj  1392-09-30              L         Acer   \n\n           Model_Name            Category Screen_Size  \\\n0         Vostro 3568            Notebook       15.6\"   \n1      Yoga 720-13IKB  2 in 1 Convertible       13.3\"   \n2  IdeaPad Y700-15ISK            Notebook       15.6\"   \n3       Inspiron 5370           Ultrabook       13.3\"   \n4      Aspire E5-576G            Notebook       15.6\"   \n\n                                      Screen                          CPU  \\\n0                          Full HD 1920x1080   Intel Core i5 7200U 2.5GHz   \n1  IPS Panel Full HD / Touchscreen 1920x1080   Intel Core i5 7200U 2.5GHz   \n2                IPS Panel Full HD 1920x1080  Intel Core i7 6700HQ 2.6GHz   \n3                IPS Panel Full HD 1920x1080   Intel Core i7 8550U 1.8GHz   \n4                          Full HD 1920x1080   Intel Core i5 7200U 2.5GHz   \n\n   ...                      GPU       OS OS_Version  Weight     Price  \\\n0  ...       AMD Radeon R5 M420  Windows         10  2.18kg   3450000   \n1  ...    Intel HD Graphics 620  Windows         10   1.3kg   3400000   \n2  ...  Nvidia GeForce GTX 960M  Windows         10   2.6kg  44900000   \n3  ...           AMD Radeon 530  Windows         10   1.4kg  12550000   \n4  ...     Nvidia GeForce 940MX  Windows         10  2.23kg   2050000   \n\n  Quantity  Discount  Total_Price   Profit  Ship_Duration  \n0        1         0    3450000.0   250000              3  \n1        1         0    3400000.0   380000              2  \n2        1         0   44900000.0  5630000              5  \n3        1         0   12550000.0  1130000              3  \n4        1         0    2050000.0   180000              8  \n\n[5 rows x 22 columns]",
      "text/html": "<div>\n<style scoped>\n    .dataframe tbody tr th:only-of-type {\n        vertical-align: middle;\n    }\n\n    .dataframe tbody tr th {\n        vertical-align: top;\n    }\n\n    .dataframe thead th {\n        text-align: right;\n    }\n</style>\n<table border=\"1\" class=\"dataframe\">\n  <thead>\n    <tr style=\"text-align: right;\">\n      <th></th>\n      <th>Order_ID</th>\n      <th>Branch</th>\n      <th>Order_Date</th>\n      <th>Order_Priority</th>\n      <th>Manufacturer</th>\n      <th>Model_Name</th>\n      <th>Category</th>\n      <th>Screen_Size</th>\n      <th>Screen</th>\n      <th>CPU</th>\n      <th>...</th>\n      <th>GPU</th>\n      <th>OS</th>\n      <th>OS_Version</th>\n      <th>Weight</th>\n      <th>Price</th>\n      <th>Quantity</th>\n      <th>Discount</th>\n      <th>Total_Price</th>\n      <th>Profit</th>\n      <th>Ship_Duration</th>\n    </tr>\n  </thead>\n  <tbody>\n    <tr>\n      <th>0</th>\n      <td>0</td>\n      <td>Hamedan</td>\n      <td>1396-10-26</td>\n      <td>H</td>\n      <td>Dell</td>\n      <td>Vostro 3568</td>\n      <td>Notebook</td>\n      <td>15.6\"</td>\n      <td>Full HD 1920x1080</td>\n      <td>Intel Core i5 7200U 2.5GHz</td>\n      <td>...</td>\n      <td>AMD Radeon R5 M420</td>\n      <td>Windows</td>\n      <td>10</td>\n      <td>2.18kg</td>\n      <td>3450000</td>\n      <td>1</td>\n      <td>0</td>\n      <td>3450000.0</td>\n      <td>250000</td>\n      <td>3</td>\n    </tr>\n    <tr>\n      <th>1</th>\n      <td>1</td>\n      <td>Kermanshah</td>\n      <td>1394-04-21</td>\n      <td>H</td>\n      <td>Lenovo</td>\n      <td>Yoga 720-13IKB</td>\n      <td>2 in 1 Convertible</td>\n      <td>13.3\"</td>\n      <td>IPS Panel Full HD / Touchscreen 1920x1080</td>\n      <td>Intel Core i5 7200U 2.5GHz</td>\n      <td>...</td>\n      <td>Intel HD Graphics 620</td>\n      <td>Windows</td>\n      <td>10</td>\n      <td>1.3kg</td>\n      <td>3400000</td>\n      <td>1</td>\n      <td>0</td>\n      <td>3400000.0</td>\n      <td>380000</td>\n      <td>2</td>\n    </tr>\n    <tr>\n      <th>2</th>\n      <td>2</td>\n      <td>Rasht</td>\n      <td>1402-05-24</td>\n      <td>M</td>\n      <td>Lenovo</td>\n      <td>IdeaPad Y700-15ISK</td>\n      <td>Notebook</td>\n      <td>15.6\"</td>\n      <td>IPS Panel Full HD 1920x1080</td>\n      <td>Intel Core i7 6700HQ 2.6GHz</td>\n      <td>...</td>\n      <td>Nvidia GeForce GTX 960M</td>\n      <td>Windows</td>\n      <td>10</td>\n      <td>2.6kg</td>\n      <td>44900000</td>\n      <td>1</td>\n      <td>0</td>\n      <td>44900000.0</td>\n      <td>5630000</td>\n      <td>5</td>\n    </tr>\n    <tr>\n      <th>3</th>\n      <td>3</td>\n      <td>Kermanshah</td>\n      <td>1397-06-17</td>\n      <td>H</td>\n      <td>Dell</td>\n      <td>Inspiron 5370</td>\n      <td>Ultrabook</td>\n      <td>13.3\"</td>\n      <td>IPS Panel Full HD 1920x1080</td>\n      <td>Intel Core i7 8550U 1.8GHz</td>\n      <td>...</td>\n      <td>AMD Radeon 530</td>\n      <td>Windows</td>\n      <td>10</td>\n      <td>1.4kg</td>\n      <td>12550000</td>\n      <td>1</td>\n      <td>0</td>\n      <td>12550000.0</td>\n      <td>1130000</td>\n      <td>3</td>\n    </tr>\n    <tr>\n      <th>4</th>\n      <td>4</td>\n      <td>Karaj</td>\n      <td>1392-09-30</td>\n      <td>L</td>\n      <td>Acer</td>\n      <td>Aspire E5-576G</td>\n      <td>Notebook</td>\n      <td>15.6\"</td>\n      <td>Full HD 1920x1080</td>\n      <td>Intel Core i5 7200U 2.5GHz</td>\n      <td>...</td>\n      <td>Nvidia GeForce 940MX</td>\n      <td>Windows</td>\n      <td>10</td>\n      <td>2.23kg</td>\n      <td>2050000</td>\n      <td>1</td>\n      <td>0</td>\n      <td>2050000.0</td>\n      <td>180000</td>\n      <td>8</td>\n    </tr>\n  </tbody>\n</table>\n<p>5 rows × 22 columns</p>\n</div>"
     },
     "execution_count": 278,
     "metadata": {},
     "output_type": "execute_result"
    }
   ],
   "source": [
    "sales_data.head()"
   ],
   "metadata": {
    "collapsed": false,
    "ExecuteTime": {
     "end_time": "2023-10-27T11:33:00.369160Z",
     "start_time": "2023-10-27T11:33:00.309288Z"
    }
   },
   "id": "dd2f5faa383a700f"
  },
  {
   "cell_type": "code",
   "execution_count": 279,
   "outputs": [],
   "source": [
    "sales_data['Order_Date'] = sales_data['Order_Date'].apply(lambda x: int(''.join(x.split('-'))))\n",
    "sales_data['Screen_Size'] = sales_data['Screen_Size'].apply(lambda x: float(x.split('\"')[0]))\n",
    "sales_data['RAM'] = sales_data['RAM'].apply(lambda x: int(x.split('GB')[0]))\n",
    "sales_data['Weight'] = sales_data['Weight'].apply(lambda x: float(x.split('kg')[0]))"
   ],
   "metadata": {
    "collapsed": false,
    "ExecuteTime": {
     "end_time": "2023-10-27T11:33:02.994563Z",
     "start_time": "2023-10-27T11:33:00.396392Z"
    }
   },
   "id": "5ca72b6bc496ca54"
  },
  {
   "cell_type": "code",
   "execution_count": 280,
   "outputs": [],
   "source": [
    "sales_data['Screen_Size'] = sales_data['Screen_Size'].apply(lambda x: int(x*10))\n",
    "sales_data['Weight'] = sales_data['Weight'].apply(lambda x: int(x*100))\n",
    "sales_data['Total_Price'] = sales_data['Total_Price'].apply(lambda x: int(x*10))"
   ],
   "metadata": {
    "collapsed": false,
    "ExecuteTime": {
     "end_time": "2023-10-27T11:33:05.011502Z",
     "start_time": "2023-10-27T11:33:03.104363Z"
    }
   },
   "id": "e01ebeac8dcff4c3"
  },
  {
   "cell_type": "code",
   "execution_count": 281,
   "outputs": [],
   "source": [
    "sales_data.drop(columns=['Order_ID', 'Branch', 'Order_Date', 'Order_Priority', 'Quantity', 'Total_Price'], inplace=True)"
   ],
   "metadata": {
    "collapsed": false,
    "ExecuteTime": {
     "end_time": "2023-10-27T11:33:05.228378Z",
     "start_time": "2023-10-27T11:33:04.991463Z"
    }
   },
   "id": "3971a45e99dfdd4b"
  },
  {
   "cell_type": "code",
   "execution_count": 282,
   "outputs": [
    {
     "data": {
      "text/plain": "Index(['Manufacturer', 'Model_Name', 'Category', 'Screen_Size', 'Screen',\n       'CPU', 'RAM', 'Storage', 'GPU', 'OS', 'OS_Version', 'Weight', 'Price',\n       'Discount', 'Profit', 'Ship_Duration'],\n      dtype='object')"
     },
     "execution_count": 282,
     "metadata": {},
     "output_type": "execute_result"
    }
   ],
   "source": [
    "sales_data.columns"
   ],
   "metadata": {
    "collapsed": false,
    "ExecuteTime": {
     "end_time": "2023-10-27T11:33:05.259444Z",
     "start_time": "2023-10-27T11:33:05.232940Z"
    }
   },
   "id": "7c3ede174bf8aee4"
  },
  {
   "cell_type": "code",
   "execution_count": 283,
   "outputs": [
    {
     "data": {
      "text/plain": "  Manufacturer          Model_Name            Category  Screen_Size  \\\n0         Dell         Vostro 3568            Notebook          156   \n1       Lenovo      Yoga 720-13IKB  2 in 1 Convertible          133   \n2       Lenovo  IdeaPad Y700-15ISK            Notebook          156   \n3         Dell       Inspiron 5370           Ultrabook          133   \n4         Acer      Aspire E5-576G            Notebook          156   \n\n                                      Screen                          CPU  \\\n0                          Full HD 1920x1080   Intel Core i5 7200U 2.5GHz   \n1  IPS Panel Full HD / Touchscreen 1920x1080   Intel Core i5 7200U 2.5GHz   \n2                IPS Panel Full HD 1920x1080  Intel Core i7 6700HQ 2.6GHz   \n3                IPS Panel Full HD 1920x1080   Intel Core i7 8550U 1.8GHz   \n4                          Full HD 1920x1080   Intel Core i5 7200U 2.5GHz   \n\n   RAM    Storage                      GPU       OS OS_Version  Weight  \\\n0    8  256GB SSD       AMD Radeon R5 M420  Windows         10     218   \n1    8  256GB SSD    Intel HD Graphics 620  Windows         10     130   \n2    8    1TB HDD  Nvidia GeForce GTX 960M  Windows         10     260   \n3    8  256GB SSD           AMD Radeon 530  Windows         10     140   \n4    4  256GB SSD     Nvidia GeForce 940MX  Windows         10     223   \n\n      Price  Discount   Profit  Ship_Duration  \n0   3450000         0   250000              3  \n1   3400000         0   380000              2  \n2  44900000         0  5630000              5  \n3  12550000         0  1130000              3  \n4   2050000         0   180000              8  ",
      "text/html": "<div>\n<style scoped>\n    .dataframe tbody tr th:only-of-type {\n        vertical-align: middle;\n    }\n\n    .dataframe tbody tr th {\n        vertical-align: top;\n    }\n\n    .dataframe thead th {\n        text-align: right;\n    }\n</style>\n<table border=\"1\" class=\"dataframe\">\n  <thead>\n    <tr style=\"text-align: right;\">\n      <th></th>\n      <th>Manufacturer</th>\n      <th>Model_Name</th>\n      <th>Category</th>\n      <th>Screen_Size</th>\n      <th>Screen</th>\n      <th>CPU</th>\n      <th>RAM</th>\n      <th>Storage</th>\n      <th>GPU</th>\n      <th>OS</th>\n      <th>OS_Version</th>\n      <th>Weight</th>\n      <th>Price</th>\n      <th>Discount</th>\n      <th>Profit</th>\n      <th>Ship_Duration</th>\n    </tr>\n  </thead>\n  <tbody>\n    <tr>\n      <th>0</th>\n      <td>Dell</td>\n      <td>Vostro 3568</td>\n      <td>Notebook</td>\n      <td>156</td>\n      <td>Full HD 1920x1080</td>\n      <td>Intel Core i5 7200U 2.5GHz</td>\n      <td>8</td>\n      <td>256GB SSD</td>\n      <td>AMD Radeon R5 M420</td>\n      <td>Windows</td>\n      <td>10</td>\n      <td>218</td>\n      <td>3450000</td>\n      <td>0</td>\n      <td>250000</td>\n      <td>3</td>\n    </tr>\n    <tr>\n      <th>1</th>\n      <td>Lenovo</td>\n      <td>Yoga 720-13IKB</td>\n      <td>2 in 1 Convertible</td>\n      <td>133</td>\n      <td>IPS Panel Full HD / Touchscreen 1920x1080</td>\n      <td>Intel Core i5 7200U 2.5GHz</td>\n      <td>8</td>\n      <td>256GB SSD</td>\n      <td>Intel HD Graphics 620</td>\n      <td>Windows</td>\n      <td>10</td>\n      <td>130</td>\n      <td>3400000</td>\n      <td>0</td>\n      <td>380000</td>\n      <td>2</td>\n    </tr>\n    <tr>\n      <th>2</th>\n      <td>Lenovo</td>\n      <td>IdeaPad Y700-15ISK</td>\n      <td>Notebook</td>\n      <td>156</td>\n      <td>IPS Panel Full HD 1920x1080</td>\n      <td>Intel Core i7 6700HQ 2.6GHz</td>\n      <td>8</td>\n      <td>1TB HDD</td>\n      <td>Nvidia GeForce GTX 960M</td>\n      <td>Windows</td>\n      <td>10</td>\n      <td>260</td>\n      <td>44900000</td>\n      <td>0</td>\n      <td>5630000</td>\n      <td>5</td>\n    </tr>\n    <tr>\n      <th>3</th>\n      <td>Dell</td>\n      <td>Inspiron 5370</td>\n      <td>Ultrabook</td>\n      <td>133</td>\n      <td>IPS Panel Full HD 1920x1080</td>\n      <td>Intel Core i7 8550U 1.8GHz</td>\n      <td>8</td>\n      <td>256GB SSD</td>\n      <td>AMD Radeon 530</td>\n      <td>Windows</td>\n      <td>10</td>\n      <td>140</td>\n      <td>12550000</td>\n      <td>0</td>\n      <td>1130000</td>\n      <td>3</td>\n    </tr>\n    <tr>\n      <th>4</th>\n      <td>Acer</td>\n      <td>Aspire E5-576G</td>\n      <td>Notebook</td>\n      <td>156</td>\n      <td>Full HD 1920x1080</td>\n      <td>Intel Core i5 7200U 2.5GHz</td>\n      <td>4</td>\n      <td>256GB SSD</td>\n      <td>Nvidia GeForce 940MX</td>\n      <td>Windows</td>\n      <td>10</td>\n      <td>223</td>\n      <td>2050000</td>\n      <td>0</td>\n      <td>180000</td>\n      <td>8</td>\n    </tr>\n  </tbody>\n</table>\n</div>"
     },
     "execution_count": 283,
     "metadata": {},
     "output_type": "execute_result"
    }
   ],
   "source": [
    "sales_data.head()"
   ],
   "metadata": {
    "collapsed": false,
    "ExecuteTime": {
     "end_time": "2023-10-27T11:33:05.308948Z",
     "start_time": "2023-10-27T11:33:05.240627Z"
    }
   },
   "id": "41453984eaea57e6"
  },
  {
   "cell_type": "code",
   "execution_count": 315,
   "outputs": [
    {
     "data": {
      "text/plain": "Screen_Size\n156    543817\n140    152895\n133    145485\n173    110889\n125     26470\n116     11392\n120      6751\n135      4681\n139      3642\n123      3102\n101      1935\n150      1855\n130      1682\n113      1179\n154       615\n170       501\n141       114\n184        76\nName: count, dtype: int64"
     },
     "execution_count": 315,
     "metadata": {},
     "output_type": "execute_result"
    }
   ],
   "source": [
    "# number of each screen_size\n",
    "sales_data['Screen_Size'].value_counts()\n",
    "# sales_data['Screen_Size'].describe"
   ],
   "metadata": {
    "collapsed": false,
    "ExecuteTime": {
     "end_time": "2023-10-27T12:37:32.102105Z",
     "start_time": "2023-10-27T12:37:32.073386Z"
    }
   },
   "id": "aa0176560b2e109c"
  },
  {
   "cell_type": "code",
   "execution_count": 284,
   "outputs": [],
   "source": [
    "X_encoded = sales_data.copy()\n",
    "\n",
    "label_encoders = {}\n",
    "categorical_cols = ['Manufacturer', 'Model_Name', 'Category', 'Screen', 'CPU', 'Storage', 'GPU', 'OS', 'OS_Version']\n",
    "for col in categorical_cols:\n",
    "    le = LabelEncoder()\n",
    "    X_encoded[col + \"_en\"] = le.fit_transform(X_encoded[col])\n",
    "    label_encoders[col] = le\n",
    "\n",
    "X_encoded.drop(columns=['Manufacturer', 'Model_Name', 'Category', 'Screen', 'CPU', 'Storage', 'GPU', 'OS', 'OS_Version'],inplace=True)"
   ],
   "metadata": {
    "collapsed": false,
    "ExecuteTime": {
     "end_time": "2023-10-27T11:33:07.986607Z",
     "start_time": "2023-10-27T11:33:05.297408Z"
    }
   },
   "id": "3be2d0c9c091210c"
  },
  {
   "cell_type": "code",
   "execution_count": 285,
   "outputs": [
    {
     "data": {
      "text/plain": "Index(['Screen_Size', 'RAM', 'Weight', 'Price', 'Discount', 'Profit',\n       'Ship_Duration', 'Manufacturer_en', 'Model_Name_en', 'Category_en',\n       'Screen_en', 'CPU_en', 'Storage_en', 'GPU_en', 'OS_en',\n       'OS_Version_en'],\n      dtype='object')"
     },
     "execution_count": 285,
     "metadata": {},
     "output_type": "execute_result"
    }
   ],
   "source": [
    "X_encoded.columns"
   ],
   "metadata": {
    "collapsed": false,
    "ExecuteTime": {
     "end_time": "2023-10-27T11:33:08.037303Z",
     "start_time": "2023-10-27T11:33:07.993225Z"
    }
   },
   "id": "4a98186194f6d65f"
  },
  {
   "cell_type": "code",
   "execution_count": 286,
   "outputs": [],
   "source": [
    "y = X_encoded['Profit']\n",
    "X = X_encoded.drop(columns=['Profit'])"
   ],
   "metadata": {
    "collapsed": false,
    "ExecuteTime": {
     "end_time": "2023-10-27T11:33:08.135570Z",
     "start_time": "2023-10-27T11:33:08.006685Z"
    }
   },
   "id": "6bd5403a0c6c34ec"
  },
  {
   "cell_type": "code",
   "execution_count": 272,
   "outputs": [],
   "source": [
    "selector = VarianceThreshold(threshold=0.4)\n",
    "X_new = selector.fit_transform(X)"
   ],
   "metadata": {
    "collapsed": false,
    "ExecuteTime": {
     "end_time": "2023-10-27T11:27:06.844273Z",
     "start_time": "2023-10-27T11:27:06.011791Z"
    }
   },
   "id": "798e605d4a06ff32"
  },
  {
   "cell_type": "code",
   "execution_count": 273,
   "outputs": [],
   "source": [
    "# selector = SelectKBest(score_func=chi2, k=1)\n",
    "# X_new = selector.fit_transform(X, y)"
   ],
   "metadata": {
    "collapsed": false,
    "ExecuteTime": {
     "end_time": "2023-10-27T11:27:08.244925Z",
     "start_time": "2023-10-27T11:27:08.232620Z"
    }
   },
   "id": "e379b89c59e9caa8"
  },
  {
   "cell_type": "code",
   "execution_count": 274,
   "outputs": [
    {
     "name": "stdout",
     "output_type": "stream",
     "text": [
      "Screen_Size\n"
     ]
    }
   ],
   "source": [
    "for i in X_encoded.columns:\n",
    "    if X_encoded[i][0] == X_new[0][0]:\n",
    "        print(i)\n",
    "# X_new"
   ],
   "metadata": {
    "collapsed": false,
    "ExecuteTime": {
     "end_time": "2023-10-27T11:27:08.780992Z",
     "start_time": "2023-10-27T11:27:08.747385Z"
    }
   },
   "id": "3c7d03daae853adf"
  },
  {
   "cell_type": "code",
   "execution_count": 275,
   "outputs": [
    {
     "data": {
      "text/plain": "array([[156,   8, 218, ...,  22,   5,   0],\n       [133,   8, 130, ...,  53,   5,   0],\n       [156,   8, 260, ...,  89,   5,   0],\n       ...,\n       [156,   8, 198, ...,  53,   2,   4],\n       [133,   8, 134, ...,  53,   5,   0],\n       [156,   4, 229, ...,  24,   5,   0]])"
     },
     "execution_count": 275,
     "metadata": {},
     "output_type": "execute_result"
    }
   ],
   "source": [
    "X_new"
   ],
   "metadata": {
    "collapsed": false,
    "ExecuteTime": {
     "end_time": "2023-10-27T11:27:10.048320Z",
     "start_time": "2023-10-27T11:27:10.011302Z"
    }
   },
   "id": "da0fe4932bc0bf90"
  },
  {
   "cell_type": "code",
   "execution_count": 287,
   "outputs": [],
   "source": [
    "model = RandomForestRegressor() \n",
    "model.fit(X, y)  \n",
    "importance = model.feature_importances_\n",
    "indices = np.argsort(importance)[::-1]"
   ],
   "metadata": {
    "collapsed": false,
    "ExecuteTime": {
     "end_time": "2023-10-27T11:44:42.032655Z",
     "start_time": "2023-10-27T11:33:18.049338Z"
    }
   },
   "id": "245f84a7004a62"
  },
  {
   "cell_type": "code",
   "execution_count": 306,
   "outputs": [
    {
     "data": {
      "text/plain": "array([ 3,  5,  7,  2, 10, 12, 11,  4,  9,  6,  0,  1,  8, 14, 13])"
     },
     "execution_count": 306,
     "metadata": {},
     "output_type": "execute_result"
    }
   ],
   "source": [
    "indices"
   ],
   "metadata": {
    "collapsed": false,
    "ExecuteTime": {
     "end_time": "2023-10-27T12:16:51.974546Z",
     "start_time": "2023-10-27T12:16:51.950006Z"
    }
   },
   "id": "b8de61c225ebb585"
  },
  {
   "cell_type": "code",
   "execution_count": 307,
   "outputs": [],
   "source": [
    "ni = -1\n",
    "for i in range(len(indices)):\n",
    "    ni += 1\n",
    "    if indices[i] == min(indices):\n",
    "        most_eff_ind = ni"
   ],
   "metadata": {
    "collapsed": false,
    "ExecuteTime": {
     "end_time": "2023-10-27T12:17:07.862139Z",
     "start_time": "2023-10-27T12:17:07.848219Z"
    }
   },
   "id": "19e4c972c09e0e31"
  },
  {
   "cell_type": "code",
   "execution_count": 308,
   "outputs": [
    {
     "data": {
      "text/plain": "0          156\n1          133\n2          156\n3          133\n4          156\n          ... \n1017076    156\n1017077    156\n1017078    156\n1017079    133\n1017080    156\nName: Screen_Size, Length: 1017081, dtype: int64"
     },
     "execution_count": 308,
     "metadata": {},
     "output_type": "execute_result"
    }
   ],
   "source": [
    "X_encoded.iloc[:,indices[most_eff_ind]]\n",
    "        "
   ],
   "metadata": {
    "collapsed": false,
    "ExecuteTime": {
     "end_time": "2023-10-27T12:17:09.320010Z",
     "start_time": "2023-10-27T12:17:09.301416Z"
    }
   },
   "id": "7032a09a68112f91"
  },
  {
   "cell_type": "code",
   "execution_count": 292,
   "outputs": [
    {
     "data": {
      "text/plain": "0"
     },
     "execution_count": 292,
     "metadata": {},
     "output_type": "execute_result"
    }
   ],
   "source": [
    "indices[10]"
   ],
   "metadata": {
    "collapsed": false,
    "ExecuteTime": {
     "end_time": "2023-10-27T11:52:39.266626Z",
     "start_time": "2023-10-27T11:52:39.259130Z"
    }
   },
   "id": "619d0cfa66a562ce"
  },
  {
   "cell_type": "code",
   "execution_count": null,
   "outputs": [],
   "source": [],
   "metadata": {
    "collapsed": false
   },
   "id": "6e551b011a32d0f7"
  }
 ],
 "metadata": {
  "kernelspec": {
   "display_name": "Python 3",
   "language": "python",
   "name": "python3"
  },
  "language_info": {
   "codemirror_mode": {
    "name": "ipython",
    "version": 2
   },
   "file_extension": ".py",
   "mimetype": "text/x-python",
   "name": "python",
   "nbconvert_exporter": "python",
   "pygments_lexer": "ipython2",
   "version": "2.7.6"
  }
 },
 "nbformat": 4,
 "nbformat_minor": 5
}
