{
 "cells": [
  {
   "cell_type": "code",
   "execution_count": 1,
   "metadata": {
    "pycharm": {
     "name": "#%%\n"
    }
   },
   "outputs": [],
   "source": [
    "import pandas as pd\n",
    "import os\n",
    "import numpy as np\n",
    "from unidecode import unidecode\n",
    "import nltk\n",
    "import hazm\n",
    "import string\n",
    "import re"
   ]
  },
  {
   "cell_type": "code",
   "execution_count": 2,
   "metadata": {
    "pycharm": {
     "name": "#%%\n"
    }
   },
   "outputs": [],
   "source": [
    "df=pd.read_csv('all_data_c.csv')\n",
    "df1=pd.read_csv('stores_c.csv')"
   ]
  },
  {
   "cell_type": "code",
   "execution_count": 3,
   "metadata": {},
   "outputs": [
    {
     "name": "stdout",
     "output_type": "stream",
     "text": [
      "<class 'pandas.core.frame.DataFrame'>\n",
      "RangeIndex: 12775 entries, 0 to 12774\n",
      "Data columns (total 10 columns):\n",
      " #   Column      Non-Null Count  Dtype \n",
      "---  ------      --------------  ----- \n",
      " 0   Index       12775 non-null  int64 \n",
      " 1   Product ID  12775 non-null  object\n",
      " 2   Site        12775 non-null  object\n",
      " 3   Type        12775 non-null  object\n",
      " 4   Shop_Nmae   12775 non-null  object\n",
      " 5   Shop_LOC    12775 non-null  object\n",
      " 6   Date        12775 non-null  object\n",
      " 7   Time        12775 non-null  object\n",
      " 8   Price       12775 non-null  object\n",
      " 9   Shop_City   12775 non-null  object\n",
      "dtypes: int64(1), object(9)\n",
      "memory usage: 998.2+ KB\n"
     ]
    }
   ],
   "source": [
    "df1.info()"
   ]
  },
  {
   "cell_type": "code",
   "execution_count": 4,
   "metadata": {},
   "outputs": [],
   "source": [
    "df.rename({'Id':'Product ID'},axis=1,inplace=True)"
   ]
  },
  {
   "cell_type": "code",
   "execution_count": 5,
   "metadata": {},
   "outputs": [],
   "source": [
    "df2=pd.merge(df,df1,on='Product ID')"
   ]
  },
  {
   "cell_type": "code",
   "execution_count": 6,
   "metadata": {},
   "outputs": [],
   "source": [
    "df2=df2[['Manufacturer','Attributes','Price','StockStatus']].copy()"
   ]
  },
  {
   "cell_type": "code",
   "execution_count": 7,
   "metadata": {
    "pycharm": {
     "name": "#%%\n"
    }
   },
   "outputs": [],
   "source": [
    "df2.drop(df2.loc[df2.Attributes.isna()].index,inplace=True)"
   ]
  },
  {
   "cell_type": "code",
   "execution_count": 8,
   "metadata": {
    "pycharm": {
     "name": "#%%\n"
    }
   },
   "outputs": [],
   "source": [
    "df2['text']=df2['Manufacturer']+' '+df2['Attributes']+' '+df2['StockStatus']"
   ]
  },
  {
   "cell_type": "code",
   "execution_count": 9,
   "metadata": {},
   "outputs": [
    {
     "data": {
      "text/html": [
       "<div>\n",
       "<style scoped>\n",
       "    .dataframe tbody tr th:only-of-type {\n",
       "        vertical-align: middle;\n",
       "    }\n",
       "\n",
       "    .dataframe tbody tr th {\n",
       "        vertical-align: top;\n",
       "    }\n",
       "\n",
       "    .dataframe thead th {\n",
       "        text-align: right;\n",
       "    }\n",
       "</style>\n",
       "<table border=\"1\" class=\"dataframe\">\n",
       "  <thead>\n",
       "    <tr style=\"text-align: right;\">\n",
       "      <th></th>\n",
       "      <th>Manufacturer</th>\n",
       "      <th>Attributes</th>\n",
       "      <th>Price</th>\n",
       "      <th>StockStatus</th>\n",
       "      <th>text</th>\n",
       "    </tr>\n",
       "  </thead>\n",
       "  <tbody>\n",
       "    <tr>\n",
       "      <th>1</th>\n",
       "      <td>lenovo</td>\n",
       "      <td>{'سازنده پردازنده': 'Intel® Core™ i7-4600U Pro...</td>\n",
       "      <td>28928000</td>\n",
       "      <td>new</td>\n",
       "      <td>lenovo {'سازنده پردازنده': 'Intel® Core™ i7-46...</td>\n",
       "    </tr>\n",
       "    <tr>\n",
       "      <th>2</th>\n",
       "      <td>lenovo</td>\n",
       "      <td>{'برند': 'LENOVO', 'ابعاد': '362.2×253.4×19.9 ...</td>\n",
       "      <td>16700000</td>\n",
       "      <td>new</td>\n",
       "      <td>lenovo {'برند': 'LENOVO', 'ابعاد': '362.2×253....</td>\n",
       "    </tr>\n",
       "    <tr>\n",
       "      <th>3</th>\n",
       "      <td>lenovo</td>\n",
       "      <td>{'برند': 'LENOVO', 'ابعاد': '362.2×253.4×19.9 ...</td>\n",
       "      <td>19700000</td>\n",
       "      <td>new</td>\n",
       "      <td>lenovo {'برند': 'LENOVO', 'ابعاد': '362.2×253....</td>\n",
       "    </tr>\n",
       "    <tr>\n",
       "      <th>4</th>\n",
       "      <td>lenovo</td>\n",
       "      <td>{'برند': 'LENOVO', 'ابعاد': '362.2×253.4×19.9 ...</td>\n",
       "      <td>17079000</td>\n",
       "      <td>new</td>\n",
       "      <td>lenovo {'برند': 'LENOVO', 'ابعاد': '362.2×253....</td>\n",
       "    </tr>\n",
       "    <tr>\n",
       "      <th>5</th>\n",
       "      <td>lenovo</td>\n",
       "      <td>{'برند': 'LENOVO', 'ابعاد': '362.2×253.4×19.9 ...</td>\n",
       "      <td>18879000</td>\n",
       "      <td>new</td>\n",
       "      <td>lenovo {'برند': 'LENOVO', 'ابعاد': '362.2×253....</td>\n",
       "    </tr>\n",
       "    <tr>\n",
       "      <th>...</th>\n",
       "      <td>...</td>\n",
       "      <td>...</td>\n",
       "      <td>...</td>\n",
       "      <td>...</td>\n",
       "      <td>...</td>\n",
       "    </tr>\n",
       "    <tr>\n",
       "      <th>12783</th>\n",
       "      <td>lenovo</td>\n",
       "      <td>[{'title': 'وزن', 'values': ['2.4 کیلوگرم']}, ...</td>\n",
       "      <td>591500000</td>\n",
       "      <td>new</td>\n",
       "      <td>lenovo [{'title': 'وزن', 'values': ['2.4 کیلوگ...</td>\n",
       "    </tr>\n",
       "    <tr>\n",
       "      <th>12784</th>\n",
       "      <td>lenovo</td>\n",
       "      <td>[{'title': 'وزن', 'values': ['2.4 کیلوگرم']}, ...</td>\n",
       "      <td>590000000</td>\n",
       "      <td>new</td>\n",
       "      <td>lenovo [{'title': 'وزن', 'values': ['2.4 کیلوگ...</td>\n",
       "    </tr>\n",
       "    <tr>\n",
       "      <th>12785</th>\n",
       "      <td>lenovo</td>\n",
       "      <td>[{'title': 'وزن', 'values': ['2.4 کیلوگرم']}, ...</td>\n",
       "      <td>642500000</td>\n",
       "      <td>new</td>\n",
       "      <td>lenovo [{'title': 'وزن', 'values': ['2.4 کیلوگ...</td>\n",
       "    </tr>\n",
       "    <tr>\n",
       "      <th>12786</th>\n",
       "      <td>lenovo</td>\n",
       "      <td>[{'title': 'وزن', 'values': ['2.25 کیلوگرم']},...</td>\n",
       "      <td>463000000</td>\n",
       "      <td>new</td>\n",
       "      <td>lenovo [{'title': 'وزن', 'values': ['2.25 کیلو...</td>\n",
       "    </tr>\n",
       "    <tr>\n",
       "      <th>12787</th>\n",
       "      <td>lenovo</td>\n",
       "      <td>[{'title': 'وزن', 'values': ['2.25 کیلوگرم']},...</td>\n",
       "      <td>462500000</td>\n",
       "      <td>new</td>\n",
       "      <td>lenovo [{'title': 'وزن', 'values': ['2.25 کیلو...</td>\n",
       "    </tr>\n",
       "  </tbody>\n",
       "</table>\n",
       "<p>12744 rows × 5 columns</p>\n",
       "</div>"
      ],
      "text/plain": [
       "      Manufacturer                                         Attributes  \\\n",
       "1           lenovo  {'سازنده پردازنده': 'Intel® Core™ i7-4600U Pro...   \n",
       "2           lenovo  {'برند': 'LENOVO', 'ابعاد': '362.2×253.4×19.9 ...   \n",
       "3           lenovo  {'برند': 'LENOVO', 'ابعاد': '362.2×253.4×19.9 ...   \n",
       "4           lenovo  {'برند': 'LENOVO', 'ابعاد': '362.2×253.4×19.9 ...   \n",
       "5           lenovo  {'برند': 'LENOVO', 'ابعاد': '362.2×253.4×19.9 ...   \n",
       "...            ...                                                ...   \n",
       "12783       lenovo  [{'title': 'وزن', 'values': ['2.4 کیلوگرم']}, ...   \n",
       "12784       lenovo  [{'title': 'وزن', 'values': ['2.4 کیلوگرم']}, ...   \n",
       "12785       lenovo  [{'title': 'وزن', 'values': ['2.4 کیلوگرم']}, ...   \n",
       "12786       lenovo  [{'title': 'وزن', 'values': ['2.25 کیلوگرم']},...   \n",
       "12787       lenovo  [{'title': 'وزن', 'values': ['2.25 کیلوگرم']},...   \n",
       "\n",
       "           Price StockStatus  \\\n",
       "1       28928000         new   \n",
       "2       16700000         new   \n",
       "3       19700000         new   \n",
       "4       17079000         new   \n",
       "5       18879000         new   \n",
       "...          ...         ...   \n",
       "12783  591500000         new   \n",
       "12784  590000000         new   \n",
       "12785  642500000         new   \n",
       "12786  463000000         new   \n",
       "12787  462500000         new   \n",
       "\n",
       "                                                    text  \n",
       "1      lenovo {'سازنده پردازنده': 'Intel® Core™ i7-46...  \n",
       "2      lenovo {'برند': 'LENOVO', 'ابعاد': '362.2×253....  \n",
       "3      lenovo {'برند': 'LENOVO', 'ابعاد': '362.2×253....  \n",
       "4      lenovo {'برند': 'LENOVO', 'ابعاد': '362.2×253....  \n",
       "5      lenovo {'برند': 'LENOVO', 'ابعاد': '362.2×253....  \n",
       "...                                                  ...  \n",
       "12783  lenovo [{'title': 'وزن', 'values': ['2.4 کیلوگ...  \n",
       "12784  lenovo [{'title': 'وزن', 'values': ['2.4 کیلوگ...  \n",
       "12785  lenovo [{'title': 'وزن', 'values': ['2.4 کیلوگ...  \n",
       "12786  lenovo [{'title': 'وزن', 'values': ['2.25 کیلو...  \n",
       "12787  lenovo [{'title': 'وزن', 'values': ['2.25 کیلو...  \n",
       "\n",
       "[12744 rows x 5 columns]"
      ]
     },
     "execution_count": 9,
     "metadata": {},
     "output_type": "execute_result"
    }
   ],
   "source": [
    "df=df2\n",
    "df"
   ]
  },
  {
   "cell_type": "code",
   "execution_count": 10,
   "metadata": {
    "pycharm": {
     "name": "#%%\n"
    }
   },
   "outputs": [],
   "source": [
    "def normalizeing(text):\n",
    "    normalizer = hazm.Normalizer()\n",
    "    return normalizer.normalize(text)\n",
    "df['text'] = df['text'].apply(lambda x: normalizeing(x))"
   ]
  },
  {
   "cell_type": "code",
   "execution_count": 11,
   "metadata": {
    "pycharm": {
     "name": "#%%\n"
    }
   },
   "outputs": [],
   "source": [
    "def convert_to_lower(text):\n",
    "    return text.lower()\n",
    "df['text'] = df['text'].apply(lambda x: convert_to_lower(x))"
   ]
  },
  {
   "cell_type": "code",
   "execution_count": 12,
   "metadata": {
    "pycharm": {
     "name": "#%%\n"
    }
   },
   "outputs": [],
   "source": [
    "def remove_punctuation(text):\n",
    "    return text.translate(str.maketrans('', '', string.punctuation))\n",
    "df['text'] = df['text'].apply(lambda x: remove_punctuation(x))"
   ]
  },
  {
   "cell_type": "code",
   "execution_count": 13,
   "metadata": {
    "pycharm": {
     "name": "#%%\n"
    }
   },
   "outputs": [
    {
     "name": "stdout",
     "output_type": "stream",
     "text": [
      "[nltk_data] Downloading package stopwords to\n",
      "[nltk_data]     C:\\Users\\Aghil\\AppData\\Roaming\\nltk_data...\n",
      "[nltk_data]   Package stopwords is already up-to-date!\n"
     ]
    }
   ],
   "source": [
    "with open('stopwords.txt',encoding='utf-8') as stopwords_file:\n",
    "    stopwords=stopwords_file.readlines()\n",
    "stopwords=[line.replace('\\n','') for line in stopwords]\n",
    "nltk.download('stopwords')\n",
    "nltk_stopwords=nltk.corpus.stopwords.words('english')\n",
    "stopwords.extend(nltk_stopwords)"
   ]
  },
  {
   "cell_type": "code",
   "execution_count": 14,
   "metadata": {
    "pycharm": {
     "name": "#%%\n"
    }
   },
   "outputs": [],
   "source": [
    "def remove_stopwords(text):\n",
    "    removed = []\n",
    "    stop_words = stopwords\n",
    "    tokens = nltk.word_tokenize(text)\n",
    "    for i in range(len(tokens)):\n",
    "        if tokens[i] not in stop_words:\n",
    "            removed.append(tokens[i])\n",
    "    return \" \".join(removed)\n",
    "df['text'] = df['text'].apply(lambda x: remove_stopwords(x))"
   ]
  },
  {
   "cell_type": "code",
   "execution_count": 15,
   "metadata": {
    "pycharm": {
     "name": "#%%\n"
    }
   },
   "outputs": [],
   "source": [
    "def remove_extra_white_spaces(text):\n",
    "    single_char_pattern = r'\\s+[a-zA-Z0-9آ-ی۰-۹]\\s+'\n",
    "    without_sc = re.sub(pattern=single_char_pattern, repl=\" \", string=text)\n",
    "    return without_sc\n",
    "df['text'] = df['text'].apply(lambda x: remove_extra_white_spaces(x))"
   ]
  },
  {
   "cell_type": "code",
   "execution_count": 16,
   "metadata": {
    "pycharm": {
     "name": "#%%\n"
    }
   },
   "outputs": [],
   "source": [
    "def stemmering_f(text):\n",
    "    stemmer = hazm.Stemmer()\n",
    "    tokens = hazm.word_tokenize(text)\n",
    "    for i in range(len(tokens)):\n",
    "        lemma_word = stemmer.stem(tokens[i])\n",
    "        tokens[i] = lemma_word\n",
    "    return \" \".join(tokens)\n",
    "df['text'] = df['text'].apply(lambda x: stemmering_f(x))"
   ]
  },
  {
   "cell_type": "code",
   "execution_count": 17,
   "metadata": {
    "pycharm": {
     "name": "#%%\n"
    }
   },
   "outputs": [],
   "source": [
    "def stemmering_e(text):\n",
    "    stemmer = nltk.SnowballStemmer('english')\n",
    "    tokens = nltk.word_tokenize(text)\n",
    "    for i in range(len(tokens)):\n",
    "        lemma_word = stemmer.stem(tokens[i])\n",
    "        tokens[i] = lemma_word\n",
    "    return \" \".join(tokens)\n",
    "df['text'] = df['text'].apply(lambda x: stemmering_e(x))"
   ]
  },
  {
   "cell_type": "code",
   "execution_count": 18,
   "metadata": {},
   "outputs": [],
   "source": [
    "def unicode(text):\n",
    "    return unidecode(text)\n",
    "df['text'] = df['text'].apply(lambda x: unicode(x))"
   ]
  },
  {
   "cell_type": "code",
   "execution_count": 19,
   "metadata": {},
   "outputs": [],
   "source": [
    "def to_float(text):\n",
    "    try:\n",
    "        return float(text)\n",
    "    except: return 0\n",
    "df['Price'] = df['Price'].apply(lambda x: to_float(x))"
   ]
  },
  {
   "cell_type": "code",
   "execution_count": 20,
   "metadata": {},
   "outputs": [],
   "source": [
    "df.reset_index(drop=True,inplace=True)"
   ]
  },
  {
   "cell_type": "code",
   "execution_count": 21,
   "metadata": {
    "pycharm": {
     "name": "#%%\n"
    }
   },
   "outputs": [],
   "source": [
    "df.drop(df.loc[df.Price==0].index,inplace=True)"
   ]
  },
  {
   "cell_type": "code",
   "execution_count": 22,
   "metadata": {},
   "outputs": [
    {
     "data": {
      "text/html": [
       "<div>\n",
       "<style scoped>\n",
       "    .dataframe tbody tr th:only-of-type {\n",
       "        vertical-align: middle;\n",
       "    }\n",
       "\n",
       "    .dataframe tbody tr th {\n",
       "        vertical-align: top;\n",
       "    }\n",
       "\n",
       "    .dataframe thead th {\n",
       "        text-align: right;\n",
       "    }\n",
       "</style>\n",
       "<table border=\"1\" class=\"dataframe\">\n",
       "  <thead>\n",
       "    <tr style=\"text-align: right;\">\n",
       "      <th></th>\n",
       "      <th>Manufacturer</th>\n",
       "      <th>Attributes</th>\n",
       "      <th>Price</th>\n",
       "      <th>StockStatus</th>\n",
       "      <th>text</th>\n",
       "    </tr>\n",
       "  </thead>\n",
       "  <tbody>\n",
       "    <tr>\n",
       "      <th>0</th>\n",
       "      <td>lenovo</td>\n",
       "      <td>{'سازنده پردازنده': 'Intel® Core™ i7-4600U Pro...</td>\n",
       "      <td>28928000.0</td>\n",
       "      <td>new</td>\n",
       "      <td>lenovo szndh prdzndh intel(r) core(tm) i 74600...</td>\n",
       "    </tr>\n",
       "    <tr>\n",
       "      <th>1</th>\n",
       "      <td>lenovo</td>\n",
       "      <td>{'برند': 'LENOVO', 'ابعاد': '362.2×253.4×19.9 ...</td>\n",
       "      <td>16700000.0</td>\n",
       "      <td>new</td>\n",
       "      <td>lenovo brnd lenovo b`d 362 .2x 253 .4x 19 .9 m...</td>\n",
       "    </tr>\n",
       "    <tr>\n",
       "      <th>2</th>\n",
       "      <td>lenovo</td>\n",
       "      <td>{'برند': 'LENOVO', 'ابعاد': '362.2×253.4×19.9 ...</td>\n",
       "      <td>19700000.0</td>\n",
       "      <td>new</td>\n",
       "      <td>lenovo brnd lenovo b`d 362 .2x 253 .4x 19 .9 m...</td>\n",
       "    </tr>\n",
       "    <tr>\n",
       "      <th>3</th>\n",
       "      <td>lenovo</td>\n",
       "      <td>{'برند': 'LENOVO', 'ابعاد': '362.2×253.4×19.9 ...</td>\n",
       "      <td>17079000.0</td>\n",
       "      <td>new</td>\n",
       "      <td>lenovo brnd lenovo b`d 362 .2x 253 .4x 19 .9 m...</td>\n",
       "    </tr>\n",
       "    <tr>\n",
       "      <th>4</th>\n",
       "      <td>lenovo</td>\n",
       "      <td>{'برند': 'LENOVO', 'ابعاد': '362.2×253.4×19.9 ...</td>\n",
       "      <td>18879000.0</td>\n",
       "      <td>new</td>\n",
       "      <td>lenovo brnd lenovo b`d 362 .2x 253 .4x 19 .9 m...</td>\n",
       "    </tr>\n",
       "    <tr>\n",
       "      <th>...</th>\n",
       "      <td>...</td>\n",
       "      <td>...</td>\n",
       "      <td>...</td>\n",
       "      <td>...</td>\n",
       "      <td>...</td>\n",
       "    </tr>\n",
       "    <tr>\n",
       "      <th>12739</th>\n",
       "      <td>lenovo</td>\n",
       "      <td>[{'title': 'وزن', 'values': ['2.4 کیلوگرم']}, ...</td>\n",
       "      <td>591500000.0</td>\n",
       "      <td>new</td>\n",
       "      <td>lenovo titl wzn valu 2.4 khylwgr titl b`d valu...</td>\n",
       "    </tr>\n",
       "    <tr>\n",
       "      <th>12740</th>\n",
       "      <td>lenovo</td>\n",
       "      <td>[{'title': 'وزن', 'values': ['2.4 کیلوگرم']}, ...</td>\n",
       "      <td>590000000.0</td>\n",
       "      <td>new</td>\n",
       "      <td>lenovo titl wzn valu 2.4 khylwgr titl b`d valu...</td>\n",
       "    </tr>\n",
       "    <tr>\n",
       "      <th>12741</th>\n",
       "      <td>lenovo</td>\n",
       "      <td>[{'title': 'وزن', 'values': ['2.4 کیلوگرم']}, ...</td>\n",
       "      <td>642500000.0</td>\n",
       "      <td>new</td>\n",
       "      <td>lenovo titl wzn valu 2.4 khylwgr titl b`d valu...</td>\n",
       "    </tr>\n",
       "    <tr>\n",
       "      <th>12742</th>\n",
       "      <td>lenovo</td>\n",
       "      <td>[{'title': 'وزن', 'values': ['2.25 کیلوگرم']},...</td>\n",
       "      <td>463000000.0</td>\n",
       "      <td>new</td>\n",
       "      <td>lenovo titl wzn valu 2. 25 khylwgr titl b`d va...</td>\n",
       "    </tr>\n",
       "    <tr>\n",
       "      <th>12743</th>\n",
       "      <td>lenovo</td>\n",
       "      <td>[{'title': 'وزن', 'values': ['2.25 کیلوگرم']},...</td>\n",
       "      <td>462500000.0</td>\n",
       "      <td>new</td>\n",
       "      <td>lenovo titl wzn valu 2. 25 khylwgr titl b`d va...</td>\n",
       "    </tr>\n",
       "  </tbody>\n",
       "</table>\n",
       "<p>12695 rows × 5 columns</p>\n",
       "</div>"
      ],
      "text/plain": [
       "      Manufacturer                                         Attributes  \\\n",
       "0           lenovo  {'سازنده پردازنده': 'Intel® Core™ i7-4600U Pro...   \n",
       "1           lenovo  {'برند': 'LENOVO', 'ابعاد': '362.2×253.4×19.9 ...   \n",
       "2           lenovo  {'برند': 'LENOVO', 'ابعاد': '362.2×253.4×19.9 ...   \n",
       "3           lenovo  {'برند': 'LENOVO', 'ابعاد': '362.2×253.4×19.9 ...   \n",
       "4           lenovo  {'برند': 'LENOVO', 'ابعاد': '362.2×253.4×19.9 ...   \n",
       "...            ...                                                ...   \n",
       "12739       lenovo  [{'title': 'وزن', 'values': ['2.4 کیلوگرم']}, ...   \n",
       "12740       lenovo  [{'title': 'وزن', 'values': ['2.4 کیلوگرم']}, ...   \n",
       "12741       lenovo  [{'title': 'وزن', 'values': ['2.4 کیلوگرم']}, ...   \n",
       "12742       lenovo  [{'title': 'وزن', 'values': ['2.25 کیلوگرم']},...   \n",
       "12743       lenovo  [{'title': 'وزن', 'values': ['2.25 کیلوگرم']},...   \n",
       "\n",
       "             Price StockStatus  \\\n",
       "0       28928000.0         new   \n",
       "1       16700000.0         new   \n",
       "2       19700000.0         new   \n",
       "3       17079000.0         new   \n",
       "4       18879000.0         new   \n",
       "...            ...         ...   \n",
       "12739  591500000.0         new   \n",
       "12740  590000000.0         new   \n",
       "12741  642500000.0         new   \n",
       "12742  463000000.0         new   \n",
       "12743  462500000.0         new   \n",
       "\n",
       "                                                    text  \n",
       "0      lenovo szndh prdzndh intel(r) core(tm) i 74600...  \n",
       "1      lenovo brnd lenovo b`d 362 .2x 253 .4x 19 .9 m...  \n",
       "2      lenovo brnd lenovo b`d 362 .2x 253 .4x 19 .9 m...  \n",
       "3      lenovo brnd lenovo b`d 362 .2x 253 .4x 19 .9 m...  \n",
       "4      lenovo brnd lenovo b`d 362 .2x 253 .4x 19 .9 m...  \n",
       "...                                                  ...  \n",
       "12739  lenovo titl wzn valu 2.4 khylwgr titl b`d valu...  \n",
       "12740  lenovo titl wzn valu 2.4 khylwgr titl b`d valu...  \n",
       "12741  lenovo titl wzn valu 2.4 khylwgr titl b`d valu...  \n",
       "12742  lenovo titl wzn valu 2. 25 khylwgr titl b`d va...  \n",
       "12743  lenovo titl wzn valu 2. 25 khylwgr titl b`d va...  \n",
       "\n",
       "[12695 rows x 5 columns]"
      ]
     },
     "execution_count": 22,
     "metadata": {},
     "output_type": "execute_result"
    }
   ],
   "source": [
    "df"
   ]
  },
  {
   "cell_type": "code",
   "execution_count": 23,
   "metadata": {
    "pycharm": {
     "name": "#%%\n"
    }
   },
   "outputs": [],
   "source": [
    "# Define the sequence lengths, max number of words and embedding dimensions\n",
    "MAX_SEQUENCE_LENGTH = 300 #can plot a graph for length\n",
    "MAX_NB_WORDS = 4000\n",
    "EMBEDDING_DIM = 400\n"
   ]
  },
  {
   "cell_type": "code",
   "execution_count": 24,
   "metadata": {
    "pycharm": {
     "name": "#%%\n"
    }
   },
   "outputs": [],
   "source": [
    "import tensorflow as tf\n",
    "from collections import Counter\n",
    "import pickle\n",
    "from tensorflow.keras.layers import Embedding,LSTM,Dropout,BatchNormalization,GlobalMaxPooling1D,Dense,Input,Flatten,TimeDistributed\n",
    "from tensorflow.keras.models import Model,Sequential\n",
    "from tensorflow.keras import layers\n",
    "from tensorflow.keras import backend as K\n",
    "import matplotlib.pyplot as plt\n",
    "from tensorflow.keras.preprocessing.text import Tokenizer\n",
    "from tensorflow.keras.preprocessing.sequence import pad_sequences\n",
    "from tensorflow.keras.layers import GRU"
   ]
  },
  {
   "cell_type": "code",
   "execution_count": 25,
   "metadata": {},
   "outputs": [],
   "source": [
    "from sklearn.model_selection import train_test_split,GridSearchCV"
   ]
  },
  {
   "cell_type": "code",
   "execution_count": 26,
   "metadata": {},
   "outputs": [],
   "source": [
    "x=df.text\n",
    "y=np.log2(df.Price)"
   ]
  },
  {
   "cell_type": "code",
   "execution_count": 27,
   "metadata": {},
   "outputs": [
    {
     "data": {
      "text/plain": [
       "<AxesSubplot:>"
      ]
     },
     "execution_count": 27,
     "metadata": {},
     "output_type": "execute_result"
    },
    {
     "data": {
      "image/png": "[encoded data removed]",
      "text/plain": [
       "<Figure size 640x480 with 1 Axes>"
      ]
     },
     "metadata": {},
     "output_type": "display_data"
    }
   ],
   "source": [
    "y.hist()"
   ]
  },
  {
   "cell_type": "code",
   "execution_count": 28,
   "metadata": {},
   "outputs": [],
   "source": [
    "xtrain,xtest,ytrain,ytest=train_test_split(x,y,test_size=0.2,random_state=44)"
   ]
  },
  {
   "cell_type": "code",
   "execution_count": 29,
   "metadata": {},
   "outputs": [],
   "source": [
    "from sklearn.feature_extraction.text import TfidfVectorizer\n",
    "from sklearn.ensemble import RandomForestRegressor\n",
    "from xgboost import XGBRegressor\n",
    "import smogn"
   ]
  },
  {
   "cell_type": "code",
   "execution_count": 30,
   "metadata": {},
   "outputs": [],
   "source": [
    "tfidf=TfidfVectorizer()"
   ]
  },
  {
   "cell_type": "code",
   "execution_count": 31,
   "metadata": {},
   "outputs": [
    {
     "data": {
      "text/html": [
       "<style>#sk-container-id-1 {color: black;background-color: white;}#sk-container-id-1 pre{padding: 0;}#sk-container-id-1 div.sk-toggleable {background-color: white;}#sk-container-id-1 label.sk-toggleable__label {cursor: pointer;display: block;width: 100%;margin-bottom: 0;padding: 0.3em;box-sizing: border-box;text-align: center;}#sk-container-id-1 label.sk-toggleable__label-arrow:before {content: \"▸\";float: left;margin-right: 0.25em;color: #696969;}#sk-container-id-1 label.sk-toggleable__label-arrow:hover:before {color: black;}#sk-container-id-1 div.sk-estimator:hover label.sk-toggleable__label-arrow:before {color: black;}#sk-container-id-1 div.sk-toggleable__content {max-height: 0;max-width: 0;overflow: hidden;text-align: left;background-color: #f0f8ff;}#sk-container-id-1 div.sk-toggleable__content pre {margin: 0.2em;color: black;border-radius: 0.25em;background-color: #f0f8ff;}#sk-container-id-1 input.sk-toggleable__control:checked~div.sk-toggleable__content {max-height: 200px;max-width: 100%;overflow: auto;}#sk-container-id-1 input.sk-toggleable__control:checked~label.sk-toggleable__label-arrow:before {content: \"▾\";}#sk-container-id-1 div.sk-estimator input.sk-toggleable__control:checked~label.sk-toggleable__label {background-color: #d4ebff;}#sk-container-id-1 div.sk-label input.sk-toggleable__control:checked~label.sk-toggleable__label {background-color: #d4ebff;}#sk-container-id-1 input.sk-hidden--visually {border: 0;clip: rect(1px 1px 1px 1px);clip: rect(1px, 1px, 1px, 1px);height: 1px;margin: -1px;overflow: hidden;padding: 0;position: absolute;width: 1px;}#sk-container-id-1 div.sk-estimator {font-family: monospace;background-color: #f0f8ff;border: 1px dotted black;border-radius: 0.25em;box-sizing: border-box;margin-bottom: 0.5em;}#sk-container-id-1 div.sk-estimator:hover {background-color: #d4ebff;}#sk-container-id-1 div.sk-parallel-item::after {content: \"\";width: 100%;border-bottom: 1px solid gray;flex-grow: 1;}#sk-container-id-1 div.sk-label:hover label.sk-toggleable__label {background-color: #d4ebff;}#sk-container-id-1 div.sk-serial::before {content: \"\";position: absolute;border-left: 1px solid gray;box-sizing: border-box;top: 0;bottom: 0;left: 50%;z-index: 0;}#sk-container-id-1 div.sk-serial {display: flex;flex-direction: column;align-items: center;background-color: white;padding-right: 0.2em;padding-left: 0.2em;position: relative;}#sk-container-id-1 div.sk-item {position: relative;z-index: 1;}#sk-container-id-1 div.sk-parallel {display: flex;align-items: stretch;justify-content: center;background-color: white;position: relative;}#sk-container-id-1 div.sk-item::before, #sk-container-id-1 div.sk-parallel-item::before {content: \"\";position: absolute;border-left: 1px solid gray;box-sizing: border-box;top: 0;bottom: 0;left: 50%;z-index: -1;}#sk-container-id-1 div.sk-parallel-item {display: flex;flex-direction: column;z-index: 1;position: relative;background-color: white;}#sk-container-id-1 div.sk-parallel-item:first-child::after {align-self: flex-end;width: 50%;}#sk-container-id-1 div.sk-parallel-item:last-child::after {align-self: flex-start;width: 50%;}#sk-container-id-1 div.sk-parallel-item:only-child::after {width: 0;}#sk-container-id-1 div.sk-dashed-wrapped {border: 1px dashed gray;margin: 0 0.4em 0.5em 0.4em;box-sizing: border-box;padding-bottom: 0.4em;background-color: white;}#sk-container-id-1 div.sk-label label {font-family: monospace;font-weight: bold;display: inline-block;line-height: 1.2em;}#sk-container-id-1 div.sk-label-container {text-align: center;}#sk-container-id-1 div.sk-container {/* jupyter's `normalize.less` sets `[hidden] { display: none; }` but bootstrap.min.css set `[hidden] { display: none !important; }` so we also need the `!important` here to be able to override the default hidden behavior on the sphinx rendered scikit-learn.org. See: https://github.com/scikit-learn/scikit-learn/issues/21755 */display: inline-block !important;position: relative;}#sk-container-id-1 div.sk-text-repr-fallback {display: none;}</style><div id=\"sk-container-id-1\" class=\"sk-top-container\"><div class=\"sk-text-repr-fallback\"><pre>TfidfVectorizer()</pre><b>In a Jupyter environment, please rerun this cell to show the HTML representation or trust the notebook. <br />On GitHub, the HTML representation is unable to render, please try loading this page with nbviewer.org.</b></div><div class=\"sk-container\" hidden><div class=\"sk-item\"><div class=\"sk-estimator sk-toggleable\"><input class=\"sk-toggleable__control sk-hidden--visually\" id=\"sk-estimator-id-1\" type=\"checkbox\" checked><label for=\"sk-estimator-id-1\" class=\"sk-toggleable__label sk-toggleable__label-arrow\">TfidfVectorizer</label><div class=\"sk-toggleable__content\"><pre>TfidfVectorizer()</pre></div></div></div></div></div>"
      ],
      "text/plain": [
       "TfidfVectorizer()"
      ]
     },
     "execution_count": 31,
     "metadata": {},
     "output_type": "execute_result"
    }
   ],
   "source": [
    "tfidf.fit(xtrain)"
   ]
  },
  {
   "cell_type": "code",
   "execution_count": 36,
   "metadata": {},
   "outputs": [],
   "source": [
    "import pickle\n",
    "f=open('la_v.quera','ab')\n",
    "pickle.dump(tfidf,f)\n",
    "f.close()"
   ]
  },
  {
   "cell_type": "code",
   "execution_count": 32,
   "metadata": {},
   "outputs": [],
   "source": [
    "x0=tfidf.transform(x)\n",
    "xtest0=tfidf.transform(xtest)\n",
    "xtrain0=tfidf.transform(xtrain)"
   ]
  },
  {
   "cell_type": "code",
   "execution_count": 34,
   "metadata": {},
   "outputs": [],
   "source": [
    "model_r=XGBRegressor()"
   ]
  },
  {
   "cell_type": "code",
   "execution_count": 45,
   "metadata": {},
   "outputs": [
    {
     "data": {
      "text/html": [
       "<style>#sk-container-id-3 {color: black;background-color: white;}#sk-container-id-3 pre{padding: 0;}#sk-container-id-3 div.sk-toggleable {background-color: white;}#sk-container-id-3 label.sk-toggleable__label {cursor: pointer;display: block;width: 100%;margin-bottom: 0;padding: 0.3em;box-sizing: border-box;text-align: center;}#sk-container-id-3 label.sk-toggleable__label-arrow:before {content: \"▸\";float: left;margin-right: 0.25em;color: #696969;}#sk-container-id-3 label.sk-toggleable__label-arrow:hover:before {color: black;}#sk-container-id-3 div.sk-estimator:hover label.sk-toggleable__label-arrow:before {color: black;}#sk-container-id-3 div.sk-toggleable__content {max-height: 0;max-width: 0;overflow: hidden;text-align: left;background-color: #f0f8ff;}#sk-container-id-3 div.sk-toggleable__content pre {margin: 0.2em;color: black;border-radius: 0.25em;background-color: #f0f8ff;}#sk-container-id-3 input.sk-toggleable__control:checked~div.sk-toggleable__content {max-height: 200px;max-width: 100%;overflow: auto;}#sk-container-id-3 input.sk-toggleable__control:checked~label.sk-toggleable__label-arrow:before {content: \"▾\";}#sk-container-id-3 div.sk-estimator input.sk-toggleable__control:checked~label.sk-toggleable__label {background-color: #d4ebff;}#sk-container-id-3 div.sk-label input.sk-toggleable__control:checked~label.sk-toggleable__label {background-color: #d4ebff;}#sk-container-id-3 input.sk-hidden--visually {border: 0;clip: rect(1px 1px 1px 1px);clip: rect(1px, 1px, 1px, 1px);height: 1px;margin: -1px;overflow: hidden;padding: 0;position: absolute;width: 1px;}#sk-container-id-3 div.sk-estimator {font-family: monospace;background-color: #f0f8ff;border: 1px dotted black;border-radius: 0.25em;box-sizing: border-box;margin-bottom: 0.5em;}#sk-container-id-3 div.sk-estimator:hover {background-color: #d4ebff;}#sk-container-id-3 div.sk-parallel-item::after {content: \"\";width: 100%;border-bottom: 1px solid gray;flex-grow: 1;}#sk-container-id-3 div.sk-label:hover label.sk-toggleable__label {background-color: #d4ebff;}#sk-container-id-3 div.sk-serial::before {content: \"\";position: absolute;border-left: 1px solid gray;box-sizing: border-box;top: 0;bottom: 0;left: 50%;z-index: 0;}#sk-container-id-3 div.sk-serial {display: flex;flex-direction: column;align-items: center;background-color: white;padding-right: 0.2em;padding-left: 0.2em;position: relative;}#sk-container-id-3 div.sk-item {position: relative;z-index: 1;}#sk-container-id-3 div.sk-parallel {display: flex;align-items: stretch;justify-content: center;background-color: white;position: relative;}#sk-container-id-3 div.sk-item::before, #sk-container-id-3 div.sk-parallel-item::before {content: \"\";position: absolute;border-left: 1px solid gray;box-sizing: border-box;top: 0;bottom: 0;left: 50%;z-index: -1;}#sk-container-id-3 div.sk-parallel-item {display: flex;flex-direction: column;z-index: 1;position: relative;background-color: white;}#sk-container-id-3 div.sk-parallel-item:first-child::after {align-self: flex-end;width: 50%;}#sk-container-id-3 div.sk-parallel-item:last-child::after {align-self: flex-start;width: 50%;}#sk-container-id-3 div.sk-parallel-item:only-child::after {width: 0;}#sk-container-id-3 div.sk-dashed-wrapped {border: 1px dashed gray;margin: 0 0.4em 0.5em 0.4em;box-sizing: border-box;padding-bottom: 0.4em;background-color: white;}#sk-container-id-3 div.sk-label label {font-family: monospace;font-weight: bold;display: inline-block;line-height: 1.2em;}#sk-container-id-3 div.sk-label-container {text-align: center;}#sk-container-id-3 div.sk-container {/* jupyter's `normalize.less` sets `[hidden] { display: none; }` but bootstrap.min.css set `[hidden] { display: none !important; }` so we also need the `!important` here to be able to override the default hidden behavior on the sphinx rendered scikit-learn.org. See: https://github.com/scikit-learn/scikit-learn/issues/21755 */display: inline-block !important;position: relative;}#sk-container-id-3 div.sk-text-repr-fallback {display: none;}</style><div id=\"sk-container-id-3\" class=\"sk-top-container\"><div class=\"sk-text-repr-fallback\"><pre>XGBRegressor(base_score=0.5, booster=&#x27;gbtree&#x27;, callbacks=None,\n",
       "             colsample_bylevel=1, colsample_bynode=1, colsample_bytree=1,\n",
       "             early_stopping_rounds=None, enable_categorical=False,\n",
       "             eval_metric=None, feature_types=None, gamma=0, gpu_id=-1,\n",
       "             grow_policy=&#x27;depthwise&#x27;, importance_type=None,\n",
       "             interaction_constraints=&#x27;&#x27;, learning_rate=0.300000012, max_bin=256,\n",
       "             max_cat_threshold=64, max_cat_to_onehot=4, max_delta_step=0,\n",
       "             max_depth=6, max_leaves=0, min_child_weight=1, missing=nan,\n",
       "             monotone_constraints=&#x27;()&#x27;, n_estimators=100, n_jobs=0,\n",
       "             num_parallel_tree=1, predictor=&#x27;auto&#x27;, random_state=0, ...)</pre><b>In a Jupyter environment, please rerun this cell to show the HTML representation or trust the notebook. <br />On GitHub, the HTML representation is unable to render, please try loading this page with nbviewer.org.</b></div><div class=\"sk-container\" hidden><div class=\"sk-item\"><div class=\"sk-estimator sk-toggleable\"><input class=\"sk-toggleable__control sk-hidden--visually\" id=\"sk-estimator-id-3\" type=\"checkbox\" checked><label for=\"sk-estimator-id-3\" class=\"sk-toggleable__label sk-toggleable__label-arrow\">XGBRegressor</label><div class=\"sk-toggleable__content\"><pre>XGBRegressor(base_score=0.5, booster=&#x27;gbtree&#x27;, callbacks=None,\n",
       "             colsample_bylevel=1, colsample_bynode=1, colsample_bytree=1,\n",
       "             early_stopping_rounds=None, enable_categorical=False,\n",
       "             eval_metric=None, feature_types=None, gamma=0, gpu_id=-1,\n",
       "             grow_policy=&#x27;depthwise&#x27;, importance_type=None,\n",
       "             interaction_constraints=&#x27;&#x27;, learning_rate=0.300000012, max_bin=256,\n",
       "             max_cat_threshold=64, max_cat_to_onehot=4, max_delta_step=0,\n",
       "             max_depth=6, max_leaves=0, min_child_weight=1, missing=nan,\n",
       "             monotone_constraints=&#x27;()&#x27;, n_estimators=100, n_jobs=0,\n",
       "             num_parallel_tree=1, predictor=&#x27;auto&#x27;, random_state=0, ...)</pre></div></div></div></div></div>"
      ],
      "text/plain": [
       "XGBRegressor(base_score=0.5, booster='gbtree', callbacks=None,\n",
       "             colsample_bylevel=1, colsample_bynode=1, colsample_bytree=1,\n",
       "             early_stopping_rounds=None, enable_categorical=False,\n",
       "             eval_metric=None, feature_types=None, gamma=0, gpu_id=-1,\n",
       "             grow_policy='depthwise', importance_type=None,\n",
       "             interaction_constraints='', learning_rate=0.300000012, max_bin=256,\n",
       "             max_cat_threshold=64, max_cat_to_onehot=4, max_delta_step=0,\n",
       "             max_depth=6, max_leaves=0, min_child_weight=1, missing=nan,\n",
       "             monotone_constraints='()', n_estimators=100, n_jobs=0,\n",
       "             num_parallel_tree=1, predictor='auto', random_state=0, ...)"
      ]
     },
     "execution_count": 45,
     "metadata": {},
     "output_type": "execute_result"
    }
   ],
   "source": [
    "model_r.fit(x0,y)"
   ]
  },
  {
   "cell_type": "code",
   "execution_count": 46,
   "metadata": {},
   "outputs": [
    {
     "data": {
      "text/plain": [
       "0.9860286607454324"
      ]
     },
     "execution_count": 46,
     "metadata": {},
     "output_type": "execute_result"
    }
   ],
   "source": [
    "model_r.score(xtrain0,ytrain)"
   ]
  },
  {
   "cell_type": "code",
   "execution_count": 47,
   "metadata": {},
   "outputs": [
    {
     "data": {
      "text/plain": [
       "0.9891351019920784"
      ]
     },
     "execution_count": 47,
     "metadata": {},
     "output_type": "execute_result"
    }
   ],
   "source": [
    "model_r.score(xtest0,ytest)"
   ]
  },
  {
   "cell_type": "code",
   "execution_count": 48,
   "metadata": {},
   "outputs": [],
   "source": [
    "y_predict=model_r.predict(xtest0)"
   ]
  },
  {
   "cell_type": "code",
   "execution_count": 49,
   "metadata": {},
   "outputs": [],
   "source": [
    "from sklearn.metrics import mean_absolute_error"
   ]
  },
  {
   "cell_type": "code",
   "execution_count": 50,
   "metadata": {},
   "outputs": [
    {
     "data": {
      "text/plain": [
       "0.07967753143516865"
      ]
     },
     "execution_count": 50,
     "metadata": {},
     "output_type": "execute_result"
    }
   ],
   "source": [
    "mean_absolute_error(y_pred=y_predict,y_true=ytest)"
   ]
  },
  {
   "cell_type": "code",
   "execution_count": 54,
   "metadata": {},
   "outputs": [],
   "source": [
    "text='''نگ\n",
    "سرمه ای تیره\n",
    "ابعاد\n",
    "304.1 × 215 × 11.3 میلی‌متر\n",
    "وزن\n",
    "1.24 Kg\n",
    "جنس بدنه\n",
    "تمام آلومنیوم\n",
    "سازنده پردازنده\n",
    "Apple\n",
    "سری پردازنده\n",
    "Apple M2\n",
    "مدل پردازنده\n",
    "M2\n",
    "هسته اصلی\n",
    "8 هسته\n",
    "هسته Performance (عملکرد بالا)\n",
    "4 هسته\n",
    "هسته Efficient (کم مصرف)\n",
    "4 هسته\n",
    "هسته مجازی(تِرِد)\n",
    "8 هسته\n",
    "فرکانس پایه\n",
    "3.5 گیگاهرتز\n",
    "مجموع حافظه Cache\n",
    "20 مگابایت\n",
    "ظرفیت حافظه RAM\n",
    "8GB\n",
    "نوع حافظه RAM\n",
    "LPDDR5\n",
    "پهنای باند BUS\n",
    "5200 MHz\n",
    "قابلیت ارتقا RAM\n",
    "ندارد\n",
    "حافظه مکانیکی\n",
    "ندارد\n",
    "ظرفیت حافظه SSD\n",
    "256GB\n",
    "نوع حافظه SSD\n",
    "M.2 NVMe\n",
    "برند تراشه گرافیکی\n",
    "Apple\n",
    "مدل گرافیک یکپارچه\n",
    "M2 GPU (10 core)\n",
    "اندازه صفحه نمایش\n",
    "13.6 inch\n",
    "نوع پنل صفحه نمایش\n",
    "Liquid Retina\n",
    "دقت صفحه نمایش\n",
    "2.5K (2560 × 1664)\n",
    "نرخ نوسازی تصویر\n",
    "120 هرتز\n",
    "سطح صفحه نمایش\n",
    "براق\n",
    "صفحه نمایش لمسی\n",
    "ندارد\n",
    "توضیحات تکمیلی\n",
    "روشنایی 500 Nits, زاویه دید 178 درجه\n",
    "تعداد پورت USB 2.0\n",
    "ندارد\n",
    "تعداد پورت USB 3.0\n",
    "ندارد\n",
    "پورت USB Type-C\n",
    "دارد\n",
    "پورت ThunderBolt\n",
    "2 پورت\n",
    "پورت HDMI\n",
    "ندارد\n",
    "پورت شبکه\n",
    "ندارد\n",
    "پورت هدفن\n",
    "دارد\n",
    "کارت خوان\n",
    "ندارد\n",
    "شبکه بیسیم WiFi\n",
    "Wi-Fi 6 (802.11ax) (Dual band) 2 × 2\n",
    "بلوتوث\n",
    "Bluetooth 5.0\n",
    "نور پس زمینه کیبورد\n",
    "دارد\n",
    "حسگر اثر انگشت\n",
    "دارد\n",
    "تاچ پد\n",
    "چند لمسی, قابلیت سنجش فشار\n",
    "وبکم\n",
    "دارد\n",
    "توضیحات وبکم\n",
    "FHD(1080p)\n",
    "اسپیکر\n",
    "دارد\n",
    "مشخصات اسپیکر\n",
    "Dolby Atmos, Wide stereo sound\n",
    "درایو نوری\n",
    "ندارد\n",
    "نوع باتری\n",
    "لیتیوم پلیمری\n",
    "ظرفیت باتری\n",
    "با ظرفیت 52.6 وات ساعت\n",
    "شارژدهی باتری\n",
    "تا 11 ساعت\n",
    "اقلام همراه\n",
    "شارژر\n",
    "سیستم عامل\n",
    "MacOS\n",
    "رده کاربری\n",
    "مدیریتی - مهندسی - اداری'''\n",
    "text=normalizeing(text)\n",
    "text=convert_to_lower(text)\n",
    "text=remove_punctuation(text)\n",
    "text=remove_stopwords(text)\n",
    "text=remove_extra_white_spaces(text)\n",
    "text=stemmering_f(text)\n",
    "text=stemmering_e(text)\n",
    "text=unicode(text)\n",
    "text=[text]\n",
    "text=tfidf.transform((text))"
   ]
  },
  {
   "cell_type": "code",
   "execution_count": 55,
   "metadata": {},
   "outputs": [
    {
     "data": {
      "text/plain": [
       "array([25.790287], dtype=float32)"
      ]
     },
     "execution_count": 55,
     "metadata": {},
     "output_type": "execute_result"
    }
   ],
   "source": [
    "model_r.predict(text)"
   ]
  },
  {
   "cell_type": "code",
   "execution_count": 56,
   "metadata": {},
   "outputs": [
    {
     "data": {
      "text/plain": [
       "58029655"
      ]
     },
     "execution_count": 56,
     "metadata": {},
     "output_type": "execute_result"
    }
   ],
   "source": [
    "round(pow(2,model_r.predict(text)[0]))"
   ]
  },
  {
   "cell_type": "code",
   "execution_count": 57,
   "metadata": {},
   "outputs": [],
   "source": [
    "f=open('la_xb.quera','ab')\n",
    "pickle.dump(model_r,f)\n",
    "f.close()"
   ]
  },
  {
   "cell_type": "code",
   "execution_count": 99,
   "metadata": {},
   "outputs": [
    {
     "name": "stdout",
     "output_type": "stream",
     "text": [
      "Found 4039 unique tokens.\n"
     ]
    }
   ],
   "source": [
    "tokenizer = Tokenizer(num_words=MAX_NB_WORDS)\n",
    "tokenizer.fit_on_texts(xtrain.astype(str))\n",
    "train_sequences = tokenizer.texts_to_sequences(xtrain.astype(str))\n",
    "test_sequences = tokenizer.texts_to_sequences(xtest.astype(str))\n",
    "word_index = tokenizer.word_index\n",
    "print('Found %s unique tokens.' % len(word_index))\n"
   ]
  },
  {
   "cell_type": "code",
   "execution_count": 100,
   "metadata": {},
   "outputs": [],
   "source": [
    "#some padding shit\n",
    "train_data = pad_sequences(train_sequences, maxlen=MAX_SEQUENCE_LENGTH,padding='post',\n",
    "    truncating='post')\n",
    "test_data = pad_sequences(test_sequences, maxlen=MAX_SEQUENCE_LENGTH,padding='post',\n",
    "    truncating='post')"
   ]
  },
  {
   "cell_type": "code",
   "execution_count": 101,
   "metadata": {},
   "outputs": [
    {
     "data": {
      "text/plain": [
       "array([[ 108,  127,  372, ...,    0,    0,    0],\n",
       "       [1213,   23,    1, ...,    0,    0,    0],\n",
       "       [ 250,  127,  356, ...,    0,    0,    0],\n",
       "       ...,\n",
       "       [ 551,   23,    1, ...,    0,    0,    0],\n",
       "       [ 250,    1,   35, ...,    0,    0,    0],\n",
       "       [ 147,   53,   55, ...,    0,    0,    0]])"
      ]
     },
     "execution_count": 101,
     "metadata": {},
     "output_type": "execute_result"
    }
   ],
   "source": [
    "train_data"
   ]
  },
  {
   "cell_type": "code",
   "execution_count": 102,
   "metadata": {},
   "outputs": [
    {
     "data": {
      "text/plain": [
       "(10156,)"
      ]
     },
     "execution_count": 102,
     "metadata": {},
     "output_type": "execute_result"
    }
   ],
   "source": [
    "ytrain.shape"
   ]
  },
  {
   "cell_type": "code",
   "execution_count": 103,
   "metadata": {},
   "outputs": [
    {
     "data": {
      "text/html": [
       "<style>#sk-container-id-3 {color: black;background-color: white;}#sk-container-id-3 pre{padding: 0;}#sk-container-id-3 div.sk-toggleable {background-color: white;}#sk-container-id-3 label.sk-toggleable__label {cursor: pointer;display: block;width: 100%;margin-bottom: 0;padding: 0.3em;box-sizing: border-box;text-align: center;}#sk-container-id-3 label.sk-toggleable__label-arrow:before {content: \"▸\";float: left;margin-right: 0.25em;color: #696969;}#sk-container-id-3 label.sk-toggleable__label-arrow:hover:before {color: black;}#sk-container-id-3 div.sk-estimator:hover label.sk-toggleable__label-arrow:before {color: black;}#sk-container-id-3 div.sk-toggleable__content {max-height: 0;max-width: 0;overflow: hidden;text-align: left;background-color: #f0f8ff;}#sk-container-id-3 div.sk-toggleable__content pre {margin: 0.2em;color: black;border-radius: 0.25em;background-color: #f0f8ff;}#sk-container-id-3 input.sk-toggleable__control:checked~div.sk-toggleable__content {max-height: 200px;max-width: 100%;overflow: auto;}#sk-container-id-3 input.sk-toggleable__control:checked~label.sk-toggleable__label-arrow:before {content: \"▾\";}#sk-container-id-3 div.sk-estimator input.sk-toggleable__control:checked~label.sk-toggleable__label {background-color: #d4ebff;}#sk-container-id-3 div.sk-label input.sk-toggleable__control:checked~label.sk-toggleable__label {background-color: #d4ebff;}#sk-container-id-3 input.sk-hidden--visually {border: 0;clip: rect(1px 1px 1px 1px);clip: rect(1px, 1px, 1px, 1px);height: 1px;margin: -1px;overflow: hidden;padding: 0;position: absolute;width: 1px;}#sk-container-id-3 div.sk-estimator {font-family: monospace;background-color: #f0f8ff;border: 1px dotted black;border-radius: 0.25em;box-sizing: border-box;margin-bottom: 0.5em;}#sk-container-id-3 div.sk-estimator:hover {background-color: #d4ebff;}#sk-container-id-3 div.sk-parallel-item::after {content: \"\";width: 100%;border-bottom: 1px solid gray;flex-grow: 1;}#sk-container-id-3 div.sk-label:hover label.sk-toggleable__label {background-color: #d4ebff;}#sk-container-id-3 div.sk-serial::before {content: \"\";position: absolute;border-left: 1px solid gray;box-sizing: border-box;top: 0;bottom: 0;left: 50%;z-index: 0;}#sk-container-id-3 div.sk-serial {display: flex;flex-direction: column;align-items: center;background-color: white;padding-right: 0.2em;padding-left: 0.2em;position: relative;}#sk-container-id-3 div.sk-item {position: relative;z-index: 1;}#sk-container-id-3 div.sk-parallel {display: flex;align-items: stretch;justify-content: center;background-color: white;position: relative;}#sk-container-id-3 div.sk-item::before, #sk-container-id-3 div.sk-parallel-item::before {content: \"\";position: absolute;border-left: 1px solid gray;box-sizing: border-box;top: 0;bottom: 0;left: 50%;z-index: -1;}#sk-container-id-3 div.sk-parallel-item {display: flex;flex-direction: column;z-index: 1;position: relative;background-color: white;}#sk-container-id-3 div.sk-parallel-item:first-child::after {align-self: flex-end;width: 50%;}#sk-container-id-3 div.sk-parallel-item:last-child::after {align-self: flex-start;width: 50%;}#sk-container-id-3 div.sk-parallel-item:only-child::after {width: 0;}#sk-container-id-3 div.sk-dashed-wrapped {border: 1px dashed gray;margin: 0 0.4em 0.5em 0.4em;box-sizing: border-box;padding-bottom: 0.4em;background-color: white;}#sk-container-id-3 div.sk-label label {font-family: monospace;font-weight: bold;display: inline-block;line-height: 1.2em;}#sk-container-id-3 div.sk-label-container {text-align: center;}#sk-container-id-3 div.sk-container {/* jupyter's `normalize.less` sets `[hidden] { display: none; }` but bootstrap.min.css set `[hidden] { display: none !important; }` so we also need the `!important` here to be able to override the default hidden behavior on the sphinx rendered scikit-learn.org. See: https://github.com/scikit-learn/scikit-learn/issues/21755 */display: inline-block !important;position: relative;}#sk-container-id-3 div.sk-text-repr-fallback {display: none;}</style><div id=\"sk-container-id-3\" class=\"sk-top-container\"><div class=\"sk-text-repr-fallback\"><pre>XGBRegressor(base_score=0.5, booster=&#x27;gbtree&#x27;, callbacks=None,\n",
       "             colsample_bylevel=1, colsample_bynode=1, colsample_bytree=1,\n",
       "             early_stopping_rounds=None, enable_categorical=False,\n",
       "             eval_metric=None, feature_types=None, gamma=0, gpu_id=-1,\n",
       "             grow_policy=&#x27;depthwise&#x27;, importance_type=None,\n",
       "             interaction_constraints=&#x27;&#x27;, learning_rate=0.300000012, max_bin=256,\n",
       "             max_cat_threshold=64, max_cat_to_onehot=4, max_delta_step=0,\n",
       "             max_depth=6, max_leaves=0, min_child_weight=1, missing=nan,\n",
       "             monotone_constraints=&#x27;()&#x27;, n_estimators=100, n_jobs=0,\n",
       "             num_parallel_tree=1, predictor=&#x27;auto&#x27;, random_state=0, ...)</pre><b>In a Jupyter environment, please rerun this cell to show the HTML representation or trust the notebook. <br />On GitHub, the HTML representation is unable to render, please try loading this page with nbviewer.org.</b></div><div class=\"sk-container\" hidden><div class=\"sk-item\"><div class=\"sk-estimator sk-toggleable\"><input class=\"sk-toggleable__control sk-hidden--visually\" id=\"sk-estimator-id-3\" type=\"checkbox\" checked><label for=\"sk-estimator-id-3\" class=\"sk-toggleable__label sk-toggleable__label-arrow\">XGBRegressor</label><div class=\"sk-toggleable__content\"><pre>XGBRegressor(base_score=0.5, booster=&#x27;gbtree&#x27;, callbacks=None,\n",
       "             colsample_bylevel=1, colsample_bynode=1, colsample_bytree=1,\n",
       "             early_stopping_rounds=None, enable_categorical=False,\n",
       "             eval_metric=None, feature_types=None, gamma=0, gpu_id=-1,\n",
       "             grow_policy=&#x27;depthwise&#x27;, importance_type=None,\n",
       "             interaction_constraints=&#x27;&#x27;, learning_rate=0.300000012, max_bin=256,\n",
       "             max_cat_threshold=64, max_cat_to_onehot=4, max_delta_step=0,\n",
       "             max_depth=6, max_leaves=0, min_child_weight=1, missing=nan,\n",
       "             monotone_constraints=&#x27;()&#x27;, n_estimators=100, n_jobs=0,\n",
       "             num_parallel_tree=1, predictor=&#x27;auto&#x27;, random_state=0, ...)</pre></div></div></div></div></div>"
      ],
      "text/plain": [
       "XGBRegressor(base_score=0.5, booster='gbtree', callbacks=None,\n",
       "             colsample_bylevel=1, colsample_bynode=1, colsample_bytree=1,\n",
       "             early_stopping_rounds=None, enable_categorical=False,\n",
       "             eval_metric=None, feature_types=None, gamma=0, gpu_id=-1,\n",
       "             grow_policy='depthwise', importance_type=None,\n",
       "             interaction_constraints='', learning_rate=0.300000012, max_bin=256,\n",
       "             max_cat_threshold=64, max_cat_to_onehot=4, max_delta_step=0,\n",
       "             max_depth=6, max_leaves=0, min_child_weight=1, missing=nan,\n",
       "             monotone_constraints='()', n_estimators=100, n_jobs=0,\n",
       "             num_parallel_tree=1, predictor='auto', random_state=0, ...)"
      ]
     },
     "execution_count": 103,
     "metadata": {},
     "output_type": "execute_result"
    }
   ],
   "source": [
    "model_r.fit(train_data,ytrain)"
   ]
  },
  {
   "cell_type": "code",
   "execution_count": 104,
   "metadata": {},
   "outputs": [
    {
     "data": {
      "text/plain": [
       "0.9869579805950695"
      ]
     },
     "execution_count": 104,
     "metadata": {},
     "output_type": "execute_result"
    }
   ],
   "source": [
    "model_r.score(train_data,ytrain)"
   ]
  },
  {
   "cell_type": "code",
   "execution_count": 105,
   "metadata": {},
   "outputs": [
    {
     "data": {
      "text/plain": [
       "0.9562588521786918"
      ]
     },
     "execution_count": 105,
     "metadata": {},
     "output_type": "execute_result"
    }
   ],
   "source": [
    "model_r.score(test_data,ytest)"
   ]
  },
  {
   "cell_type": "code",
   "execution_count": 106,
   "metadata": {},
   "outputs": [],
   "source": [
    "in1=Input(shape=(MAX_SEQUENCE_LENGTH))\n",
    "x=Embedding(MAX_NB_WORDS,100)(in1)\n",
    "x=LSTM(64,return_sequences=True)(x)\n",
    "x=LSTM(32,return_sequences=True)(x)\n",
    "x=GlobalMaxPooling1D()(x)\n",
    "#x=Dense(50,activation='relu')(x)\n",
    "#x=Dense(20,activation='relu')(x)\n",
    "x=Dense(500,activation='relu')(x)\n",
    "x=Dense(200,activation='relu')(x)\n",
    "x=Dense(100,activation='relu')(x)\n",
    "out=Dense(1,)(x)"
   ]
  },
  {
   "cell_type": "code",
   "execution_count": 107,
   "metadata": {},
   "outputs": [],
   "source": [
    "model = Model(inputs=in1, outputs=out)"
   ]
  },
  {
   "cell_type": "code",
   "execution_count": 108,
   "metadata": {},
   "outputs": [
    {
     "name": "stdout",
     "output_type": "stream",
     "text": [
      "Model: \"model\"\n",
      "_________________________________________________________________\n",
      " Layer (type)                Output Shape              Param #   \n",
      "=================================================================\n",
      " input_1 (InputLayer)        [(None, 300)]             0         \n",
      "                                                                 \n",
      " embedding (Embedding)       (None, 300, 100)          400000    \n",
      "                                                                 \n",
      " lstm (LSTM)                 (None, 300, 64)           42240     \n",
      "                                                                 \n",
      " lstm_1 (LSTM)               (None, 300, 32)           12416     \n",
      "                                                                 \n",
      " global_max_pooling1d (Globa  (None, 32)               0         \n",
      " lMaxPooling1D)                                                  \n",
      "                                                                 \n",
      " dense (Dense)               (None, 500)               16500     \n",
      "                                                                 \n",
      " dense_1 (Dense)             (None, 200)               100200    \n",
      "                                                                 \n",
      " dense_2 (Dense)             (None, 100)               20100     \n",
      "                                                                 \n",
      " dense_3 (Dense)             (None, 1)                 101       \n",
      "                                                                 \n",
      "=================================================================\n",
      "Total params: 591,557\n",
      "Trainable params: 591,557\n",
      "Non-trainable params: 0\n",
      "_________________________________________________________________\n"
     ]
    }
   ],
   "source": [
    "model.summary()"
   ]
  },
  {
   "cell_type": "code",
   "execution_count": 109,
   "metadata": {},
   "outputs": [],
   "source": [
    "from tensorflow.keras.callbacks import EarlyStopping\n",
    "\n",
    "pat=EarlyStopping(patience=5)"
   ]
  },
  {
   "cell_type": "code",
   "execution_count": 110,
   "metadata": {},
   "outputs": [],
   "source": [
    "model.compile(optimizer=tf.keras.optimizers.Adam(0.00001), loss=tf.keras.losses.mae, metrics=tf.keras.metrics.mean_absolute_error)"
   ]
  },
  {
   "cell_type": "code",
   "execution_count": null,
   "metadata": {
    "scrolled": true
   },
   "outputs": [
    {
     "name": "stdout",
     "output_type": "stream",
     "text": [
      "Epoch 1/50\n"
     ]
    }
   ],
   "source": [
    "\n",
    "history = model.fit(\n",
    "    train_data, np.array(ytrain), batch_size=10, epochs=50, validation_split=0.2,callbacks=[])"
   ]
  },
  {
   "cell_type": "code",
   "execution_count": 469,
   "metadata": {},
   "outputs": [
    {
     "data": {
      "text/plain": [
       "[<matplotlib.lines.Line2D at 0x23564b8d790>]"
      ]
     },
     "execution_count": 469,
     "metadata": {},
     "output_type": "execute_result"
    },
    {
     "data": {
      "image/png": "[encoded data removed]",
      "text/plain": [
       "<Figure size 640x480 with 1 Axes>"
      ]
     },
     "metadata": {},
     "output_type": "display_data"
    }
   ],
   "source": [
    "plt.plot(history.history['loss'])\n",
    "plt.plot(history.history['val_loss'])"
   ]
  },
  {
   "cell_type": "code",
   "execution_count": 486,
   "metadata": {},
   "outputs": [],
   "source": [
    "text='''برند\n",
    "HUAWEI\n",
    "مدل\n",
    "MATEBOOK B3 520\n",
    "رم\n",
    "8GB\n",
    "هارد\n",
    "512GB SSD\n",
    "گرافیک\n",
    "iris xe\n",
    "صفحه نمایش\n",
    "15.6 FHD\n",
    "رنگ\n",
    "مشکی'''\n",
    "text=normalizeing(text)\n",
    "text=convert_to_lower(text)\n",
    "text=remove_punctuation(text)\n",
    "text=remove_stopwords(text)\n",
    "text=remove_extra_white_spaces(text)\n",
    "text=stemmering_f(text)\n",
    "text=stemmering_e(text)\n",
    "text=unicode(text)"
   ]
  },
  {
   "cell_type": "code",
   "execution_count": 487,
   "metadata": {},
   "outputs": [],
   "source": [
    "text=tokenizer.texts_to_sequences(text)\n",
    "text = pad_sequences(text, maxlen=MAX_SEQUENCE_LENGTH,padding='post',\n",
    "    truncating='post')"
   ]
  },
  {
   "cell_type": "code",
   "execution_count": 488,
   "metadata": {},
   "outputs": [
    {
     "data": {
      "text/plain": [
       "array([[  53,    0,    0, ...,    0,    0,    0],\n",
       "       [   8,    0,    0, ...,    0,    0,    0],\n",
       "       [ 295,    0,    0, ...,    0,    0,    0],\n",
       "       ...,\n",
       "       [ 142,    0,    0, ...,    0,    0,    0],\n",
       "       [1993,    0,    0, ...,    0,    0,    0],\n",
       "       [ 142,    0,    0, ...,    0,    0,    0]])"
      ]
     },
     "execution_count": 488,
     "metadata": {},
     "output_type": "execute_result"
    }
   ],
   "source": [
    "text"
   ]
  },
  {
   "cell_type": "code",
   "execution_count": 489,
   "metadata": {},
   "outputs": [
    {
     "name": "stdout",
     "output_type": "stream",
     "text": [
      "3/3 [==============================] - 0s 15ms/step\n"
     ]
    },
    {
     "data": {
      "text/plain": [
       "32216396.757774144"
      ]
     },
     "execution_count": 489,
     "metadata": {},
     "output_type": "execute_result"
    }
   ],
   "source": [
    "pow(2,model.predict(text)[0][0])"
   ]
  },
  {
   "cell_type": "code",
   "execution_count": null,
   "metadata": {},
   "outputs": [],
   "source": []
  }
 ],
 "metadata": {
  "kernelspec": {
   "display_name": "Python 3 (ipykernel)",
   "language": "python",
   "name": "python3"
  },
  "language_info": {
   "codemirror_mode": {
    "name": "ipython",
    "version": 3
   },
   "file_extension": ".py",
   "mimetype": "text/x-python",
   "name": "python",
   "nbconvert_exporter": "python",
   "pygments_lexer": "ipython3",
   "version": "3.9.13"
  }
 },
 "nbformat": 4,
 "nbformat_minor": 1
}
