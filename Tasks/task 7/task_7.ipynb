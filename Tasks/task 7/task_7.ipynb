{
 "cells": [
  {
   "cell_type": "markdown",
   "source": [
    "# task 7"
   ],
   "metadata": {
    "collapsed": false
   },
   "id": "e61bc4b25847f604"
  },
  {
   "cell_type": "markdown",
   "source": [
    "Request :\n",
    "In the past, the company had a policy that assigned a level of importance to orders and acted differently in some issues (such as how to send, etc.) To check whether this policy is worth the company's hardships or not?\n",
    "Solution :\n",
    "To check if the policy is worth the company's hardships, you can perform hypothesis testing. You may use a t-test or ANOVA to compare the importance of orders with and without the policy.\"\n"
   ],
   "metadata": {
    "collapsed": false
   },
   "id": "d5cbc9da86983ff7"
  },
  {
   "cell_type": "code",
   "execution_count": 1,
   "outputs": [],
   "source": [
    "import pandas as pd\n",
    "import numpy as np\n",
    "import matplotlib.pyplot as plt\n",
    "import seaborn as sns\n",
    "import scipy.stats as stats "
   ],
   "metadata": {
    "collapsed": false,
    "ExecuteTime": {
     "end_time": "2023-10-25T09:43:09.699768800Z",
     "start_time": "2023-10-25T09:43:09.696225200Z"
    }
   },
   "id": "c3c91a593dca77ac"
  },
  {
   "cell_type": "code",
   "execution_count": 2,
   "outputs": [
    {
     "name": "stdout",
     "output_type": "stream",
     "text": [
      "2023-10-25 13:13:22,587 INFO sqlalchemy.engine.Engine SELECT DATABASE()\n",
      "2023-10-25 13:13:22,588 INFO sqlalchemy.engine.Engine [raw sql] {}\n",
      "2023-10-25 13:13:22,589 INFO sqlalchemy.engine.Engine SELECT @@sql_mode\n",
      "2023-10-25 13:13:22,590 INFO sqlalchemy.engine.Engine [raw sql] {}\n",
      "2023-10-25 13:13:22,590 INFO sqlalchemy.engine.Engine SELECT @@lower_case_table_names\n",
      "2023-10-25 13:13:22,591 INFO sqlalchemy.engine.Engine [raw sql] {}\n"
     ]
    }
   ],
   "source": [
    "# connect to data base \n",
    "from sqlalchemy import create_engine, Column, Integer, String, MetaData, Table\n",
    "\n",
    "# Initialize SQLAlchemy Metadata object\n",
    "meta = MetaData()\n",
    "# Define database connection details\n",
    "USERNAME = 'root'\n",
    "PASSWORD = '1393ram1393#$'\n",
    "SERVER = 'localhost'\n",
    "# Create a SQLAlchemy engine for connecting to the MySQL database\n",
    "engine = create_engine(f'mysql+pymysql://{USERNAME}:{PASSWORD}@{SERVER}:3306/Laptop_analysis_and_Warehousing_g3', echo=True)\n",
    "conn = engine.connect()"
   ],
   "metadata": {
    "collapsed": false,
    "ExecuteTime": {
     "end_time": "2023-10-25T09:43:22.595715Z",
     "start_time": "2023-10-25T09:43:22.289664Z"
    }
   },
   "id": "e2fd1787a9e36b29"
  },
  {
   "cell_type": "code",
   "execution_count": 3,
   "outputs": [
    {
     "name": "stdout",
     "output_type": "stream",
     "text": [
      "2023-10-25 13:13:55,965 INFO sqlalchemy.engine.Engine SHOW CREATE TABLE `order`\n",
      "2023-10-25 13:13:55,966 INFO sqlalchemy.engine.Engine [raw sql] {}\n",
      "2023-10-25 13:13:55,971 INFO sqlalchemy.engine.Engine \n",
      "                    select table_schema, table_name, column_name\n",
      "                    from information_schema.columns\n",
      "                    where (table_schema, table_name, lower(column_name)) in\n",
      "                    ((%(table_data_1_1)s, %(table_data_1_2)s, %(table_data_1_3)s));\n",
      "                \n",
      "2023-10-25 13:13:55,972 INFO sqlalchemy.engine.Engine [generated in 0.00084s] {'table_data_1_1': 'laptop_analysis_and_warehousing_g3', 'table_data_1_2': 'laptop', 'table_data_1_3': 'laptop_id'}\n",
      "2023-10-25 13:13:55,979 INFO sqlalchemy.engine.Engine SHOW CREATE TABLE `laptop`\n",
      "2023-10-25 13:13:55,979 INFO sqlalchemy.engine.Engine [raw sql] {}\n"
     ]
    }
   ],
   "source": [
    "metadata = MetaData()\n",
    "\n",
    "# Replace \"your_table_name\" with the name of your table\n",
    "table_name = \"order\"\n",
    "\n",
    "your_table = Table(table_name, metadata, autoload=True, autoload_with=engine)\n"
   ],
   "metadata": {
    "collapsed": false,
    "ExecuteTime": {
     "end_time": "2023-10-25T09:43:55.987187Z",
     "start_time": "2023-10-25T09:43:55.940593300Z"
    }
   },
   "id": "e9a712421308355"
  },
  {
   "cell_type": "code",
   "execution_count": 5,
   "outputs": [
    {
     "name": "stdout",
     "output_type": "stream",
     "text": [
      "2023-10-25 13:18:14,586 INFO sqlalchemy.engine.Engine BEGIN (implicit)\n",
      "2023-10-25 13:18:14,587 INFO sqlalchemy.engine.Engine SELECT `order`.`Total_Price` AS `order_Total_Price`, `order`.`Ship_Duration` AS `order_Ship_Duration`, `order`.`Profit` AS `order_Profit`, `order`.`Order_Priority` AS `order_Order_Priority` \n",
      "FROM `order`\n",
      "2023-10-25 13:18:14,587 INFO sqlalchemy.engine.Engine [cached since 21.91s ago] {}\n"
     ]
    },
    {
     "data": {
      "text/plain": "              Price  Discount     Profit Priority\n0         3450000.0         3   250000.0        H\n1         1100000.0         5   100000.0        M\n2        15580000.0        10  1920000.0        L\n3        20150000.0         3  2170000.0        H\n4         4250000.0         6   430000.0        M\n...             ...       ...        ...      ...\n1017076   1150000.0        10    80000.0        L\n1017077   1350000.0         8   130000.0        L\n1017078  15150000.0         8  1680000.0        L\n1017079   8950000.0         6  1140000.0        M\n1017080  10600000.0        10   980000.0        L\n\n[1017081 rows x 4 columns]",
      "text/html": "<div>\n<style scoped>\n    .dataframe tbody tr th:only-of-type {\n        vertical-align: middle;\n    }\n\n    .dataframe tbody tr th {\n        vertical-align: top;\n    }\n\n    .dataframe thead th {\n        text-align: right;\n    }\n</style>\n<table border=\"1\" class=\"dataframe\">\n  <thead>\n    <tr style=\"text-align: right;\">\n      <th></th>\n      <th>Price</th>\n      <th>Discount</th>\n      <th>Profit</th>\n      <th>Priority</th>\n    </tr>\n  </thead>\n  <tbody>\n    <tr>\n      <th>0</th>\n      <td>3450000.0</td>\n      <td>3</td>\n      <td>250000.0</td>\n      <td>H</td>\n    </tr>\n    <tr>\n      <th>1</th>\n      <td>1100000.0</td>\n      <td>5</td>\n      <td>100000.0</td>\n      <td>M</td>\n    </tr>\n    <tr>\n      <th>2</th>\n      <td>15580000.0</td>\n      <td>10</td>\n      <td>1920000.0</td>\n      <td>L</td>\n    </tr>\n    <tr>\n      <th>3</th>\n      <td>20150000.0</td>\n      <td>3</td>\n      <td>2170000.0</td>\n      <td>H</td>\n    </tr>\n    <tr>\n      <th>4</th>\n      <td>4250000.0</td>\n      <td>6</td>\n      <td>430000.0</td>\n      <td>M</td>\n    </tr>\n    <tr>\n      <th>...</th>\n      <td>...</td>\n      <td>...</td>\n      <td>...</td>\n      <td>...</td>\n    </tr>\n    <tr>\n      <th>1017076</th>\n      <td>1150000.0</td>\n      <td>10</td>\n      <td>80000.0</td>\n      <td>L</td>\n    </tr>\n    <tr>\n      <th>1017077</th>\n      <td>1350000.0</td>\n      <td>8</td>\n      <td>130000.0</td>\n      <td>L</td>\n    </tr>\n    <tr>\n      <th>1017078</th>\n      <td>15150000.0</td>\n      <td>8</td>\n      <td>1680000.0</td>\n      <td>L</td>\n    </tr>\n    <tr>\n      <th>1017079</th>\n      <td>8950000.0</td>\n      <td>6</td>\n      <td>1140000.0</td>\n      <td>M</td>\n    </tr>\n    <tr>\n      <th>1017080</th>\n      <td>10600000.0</td>\n      <td>10</td>\n      <td>980000.0</td>\n      <td>L</td>\n    </tr>\n  </tbody>\n</table>\n<p>1017081 rows × 4 columns</p>\n</div>"
     },
     "execution_count": 5,
     "metadata": {},
     "output_type": "execute_result"
    }
   ],
   "source": [
    "# Define the columns you want to read\n",
    "from sqlalchemy.orm import sessionmaker\n",
    "\n",
    "# Initialize SQLAlchemy session\n",
    "Session = sessionmaker(bind=engine)\n",
    "\n",
    "# Assuming you have a session and SQLAlchemy model defined as mentioned before\n",
    "session = Session()\n",
    "\n",
    "# Define the columns you want to read\n",
    "Price = your_table.c.Total_Price\n",
    "Discount = your_table.c.Ship_Duration\n",
    "Profit = your_table.c.Profit\n",
    "Priority = your_table.c.Order_Priority\n",
    "\n",
    "# Query the database to fetch the data for the specified columns\n",
    "results = session.query(Price, Discount, Profit, Priority).all()\n",
    "\n",
    "# Convert the results to a Pandas DataFrame\n",
    "data = [(row[0], row[1], row[2], row[3]) for row in results]\n",
    "df_order = pd.DataFrame(data, columns=[\"Price\", \"Discount\", \"Profit\", \"Priority\"])\n",
    "df_order"
   ],
   "metadata": {
    "collapsed": false,
    "ExecuteTime": {
     "end_time": "2023-10-25T09:48:22.550238900Z",
     "start_time": "2023-10-25T09:48:14.571440600Z"
    }
   },
   "id": "8f93549f525c9c64"
  },
  {
   "cell_type": "code",
   "execution_count": 6,
   "outputs": [
    {
     "name": "stdout",
     "output_type": "stream",
     "text": [
      "2023-10-25 13:18:45,890 INFO sqlalchemy.engine.Engine ROLLBACK\n"
     ]
    }
   ],
   "source": [
    "# close the session of database \n",
    "session.close()"
   ],
   "metadata": {
    "collapsed": false,
    "ExecuteTime": {
     "end_time": "2023-10-25T09:48:45.937282600Z",
     "start_time": "2023-10-25T09:48:45.890662200Z"
    }
   },
   "id": "3ca27eb4228489ac"
  },
  {
   "cell_type": "code",
   "execution_count": 7,
   "outputs": [],
   "source": [
    "# close the connection of database \n",
    "conn.close()"
   ],
   "metadata": {
    "collapsed": false,
    "ExecuteTime": {
     "end_time": "2023-10-25T09:49:55.869689500Z",
     "start_time": "2023-10-25T09:49:55.864121700Z"
    }
   },
   "id": "2e9d35e73849602d"
  },
  {
   "cell_type": "code",
   "execution_count": null,
   "outputs": [],
   "source": [],
   "metadata": {
    "collapsed": false
   },
   "id": "b79d44146686d94b"
  }
 ],
 "metadata": {
  "kernelspec": {
   "display_name": "Python 3",
   "language": "python",
   "name": "python3"
  },
  "language_info": {
   "codemirror_mode": {
    "name": "ipython",
    "version": 2
   },
   "file_extension": ".py",
   "mimetype": "text/x-python",
   "name": "python",
   "nbconvert_exporter": "python",
   "pygments_lexer": "ipython2",
   "version": "2.7.6"
  }
 },
 "nbformat": 4,
 "nbformat_minor": 5
}
