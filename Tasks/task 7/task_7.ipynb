{
 "cells": [
  {
   "cell_type": "markdown",
   "source": [
    "# task 7"
   ],
   "metadata": {
    "collapsed": false
   },
   "id": "e61bc4b25847f604"
  },
  {
   "cell_type": "markdown",
   "source": [
    "Request :\n",
    "In the past, the company had a policy that assigned a level of importance to orders and acted differently in some issues (such as how to send, etc.) To check whether this policy is worth the company's hardships or not?\n",
    "Solution :\n",
    "To check if the policy is worth the company's hardships, you can perform hypothesis testing. You may use a t-test or ANOVA to compare the importance of orders with and without the policy.\"\n"
   ],
   "metadata": {
    "collapsed": false
   },
   "id": "d5cbc9da86983ff7"
  },
  {
   "cell_type": "code",
   "execution_count": 36,
   "outputs": [],
   "source": [
    "import pandas as pd\n",
    "import numpy as np\n",
    "import matplotlib.pyplot as plt\n",
    "import seaborn as sns\n",
    "import scipy.stats as stats \n",
    "import statsmodels.api as sm\n"
   ],
   "metadata": {
    "collapsed": false,
    "ExecuteTime": {
     "end_time": "2023-10-29T10:40:26.315015500Z",
     "start_time": "2023-10-29T10:40:26.265620200Z"
    }
   },
   "id": "c3c91a593dca77ac"
  },
  {
   "cell_type": "code",
   "execution_count": 37,
   "outputs": [
    {
     "name": "stdout",
     "output_type": "stream",
     "text": [
      "2023-10-29 14:10:26,287 INFO sqlalchemy.engine.Engine SELECT DATABASE()\n",
      "2023-10-29 14:10:26,287 INFO sqlalchemy.engine.Engine [raw sql] {}\n",
      "2023-10-29 14:10:26,290 INFO sqlalchemy.engine.Engine SELECT @@sql_mode\n",
      "2023-10-29 14:10:26,290 INFO sqlalchemy.engine.Engine [raw sql] {}\n",
      "2023-10-29 14:10:26,291 INFO sqlalchemy.engine.Engine SELECT @@lower_case_table_names\n",
      "2023-10-29 14:10:26,292 INFO sqlalchemy.engine.Engine [raw sql] {}\n"
     ]
    }
   ],
   "source": [
    "# connect to data base \n",
    "from sqlalchemy import create_engine, Column, Integer, String, MetaData, Table\n",
    "\n",
    "# Initialize SQLAlchemy Metadata object\n",
    "meta = MetaData()\n",
    "# Define database connection details\n",
    "USERNAME = 'root'\n",
    "PASSWORD = '1393ram1393#$'\n",
    "SERVER = 'localhost'\n",
    "# Create a SQLAlchemy engine for connecting to the MySQL database\n",
    "engine = create_engine(f'mysql+pymysql://{USERNAME}:{PASSWORD}@{SERVER}:3306/Laptop_analysis_and_Warehousing_g3', echo=True)\n",
    "conn = engine.connect()"
   ],
   "metadata": {
    "collapsed": false,
    "ExecuteTime": {
     "end_time": "2023-10-29T10:40:26.360276100Z",
     "start_time": "2023-10-29T10:40:26.273232200Z"
    }
   },
   "id": "e2fd1787a9e36b29"
  },
  {
   "cell_type": "code",
   "execution_count": 38,
   "outputs": [
    {
     "name": "stdout",
     "output_type": "stream",
     "text": [
      "2023-10-29 14:10:26,304 INFO sqlalchemy.engine.Engine SHOW CREATE TABLE `order`\n",
      "2023-10-29 14:10:26,305 INFO sqlalchemy.engine.Engine [raw sql] {}\n",
      "2023-10-29 14:10:26,311 INFO sqlalchemy.engine.Engine \n",
      "                    select table_schema, table_name, column_name\n",
      "                    from information_schema.columns\n",
      "                    where (table_schema, table_name, lower(column_name)) in\n",
      "                    ((%(table_data_1_1)s, %(table_data_1_2)s, %(table_data_1_3)s));\n",
      "                \n",
      "2023-10-29 14:10:26,311 INFO sqlalchemy.engine.Engine [generated in 0.00135s] {'table_data_1_1': 'laptop_analysis_and_warehousing_g3', 'table_data_1_2': 'laptop', 'table_data_1_3': 'laptop_id'}\n",
      "2023-10-29 14:10:26,316 INFO sqlalchemy.engine.Engine SHOW CREATE TABLE `laptop`\n",
      "2023-10-29 14:10:26,317 INFO sqlalchemy.engine.Engine [raw sql] {}\n"
     ]
    }
   ],
   "source": [
    "metadata = MetaData()\n",
    "\n",
    "# Replace \"your_table_name\" with the name of your table\n",
    "table_name = \"order\"\n",
    "\n",
    "your_table = Table(table_name, metadata, autoload=True, autoload_with=engine)\n"
   ],
   "metadata": {
    "collapsed": false,
    "ExecuteTime": {
     "end_time": "2023-10-29T10:40:26.362276900Z",
     "start_time": "2023-10-29T10:40:26.301382200Z"
    }
   },
   "id": "e9a712421308355"
  },
  {
   "cell_type": "code",
   "execution_count": 39,
   "outputs": [
    {
     "name": "stdout",
     "output_type": "stream",
     "text": [
      "2023-10-29 14:10:26,330 INFO sqlalchemy.engine.Engine BEGIN (implicit)\n",
      "2023-10-29 14:10:26,334 INFO sqlalchemy.engine.Engine SELECT `order`.`Total_Price` AS `order_Total_Price`, `order`.`Profit` AS `order_Profit`, `order`.`Order_Priority` AS `order_Order_Priority`, `order`.`Ship_Duration` AS `order_Ship_Duration` \n",
      "FROM `order`\n",
      "2023-10-29 14:10:26,334 INFO sqlalchemy.engine.Engine [generated in 0.00064s] {}\n"
     ]
    },
    {
     "data": {
      "text/plain": "              Price     Profit Priority  ship_date\n0         3450000.0   250000.0        H          3\n1         1100000.0   100000.0        M          5\n2        15580000.0  1920000.0        L         10\n3        20150000.0  2170000.0        H          3\n4         4250000.0   430000.0        M          6\n...             ...        ...      ...        ...\n1017076   1150000.0    80000.0        L         10\n1017077   1350000.0   130000.0        L          8\n1017078  15150000.0  1680000.0        L          8\n1017079   8950000.0  1140000.0        M          6\n1017080  10600000.0   980000.0        L         10\n\n[1017081 rows x 4 columns]",
      "text/html": "<div>\n<style scoped>\n    .dataframe tbody tr th:only-of-type {\n        vertical-align: middle;\n    }\n\n    .dataframe tbody tr th {\n        vertical-align: top;\n    }\n\n    .dataframe thead th {\n        text-align: right;\n    }\n</style>\n<table border=\"1\" class=\"dataframe\">\n  <thead>\n    <tr style=\"text-align: right;\">\n      <th></th>\n      <th>Price</th>\n      <th>Profit</th>\n      <th>Priority</th>\n      <th>ship_date</th>\n    </tr>\n  </thead>\n  <tbody>\n    <tr>\n      <th>0</th>\n      <td>3450000.0</td>\n      <td>250000.0</td>\n      <td>H</td>\n      <td>3</td>\n    </tr>\n    <tr>\n      <th>1</th>\n      <td>1100000.0</td>\n      <td>100000.0</td>\n      <td>M</td>\n      <td>5</td>\n    </tr>\n    <tr>\n      <th>2</th>\n      <td>15580000.0</td>\n      <td>1920000.0</td>\n      <td>L</td>\n      <td>10</td>\n    </tr>\n    <tr>\n      <th>3</th>\n      <td>20150000.0</td>\n      <td>2170000.0</td>\n      <td>H</td>\n      <td>3</td>\n    </tr>\n    <tr>\n      <th>4</th>\n      <td>4250000.0</td>\n      <td>430000.0</td>\n      <td>M</td>\n      <td>6</td>\n    </tr>\n    <tr>\n      <th>...</th>\n      <td>...</td>\n      <td>...</td>\n      <td>...</td>\n      <td>...</td>\n    </tr>\n    <tr>\n      <th>1017076</th>\n      <td>1150000.0</td>\n      <td>80000.0</td>\n      <td>L</td>\n      <td>10</td>\n    </tr>\n    <tr>\n      <th>1017077</th>\n      <td>1350000.0</td>\n      <td>130000.0</td>\n      <td>L</td>\n      <td>8</td>\n    </tr>\n    <tr>\n      <th>1017078</th>\n      <td>15150000.0</td>\n      <td>1680000.0</td>\n      <td>L</td>\n      <td>8</td>\n    </tr>\n    <tr>\n      <th>1017079</th>\n      <td>8950000.0</td>\n      <td>1140000.0</td>\n      <td>M</td>\n      <td>6</td>\n    </tr>\n    <tr>\n      <th>1017080</th>\n      <td>10600000.0</td>\n      <td>980000.0</td>\n      <td>L</td>\n      <td>10</td>\n    </tr>\n  </tbody>\n</table>\n<p>1017081 rows × 4 columns</p>\n</div>"
     },
     "execution_count": 39,
     "metadata": {},
     "output_type": "execute_result"
    }
   ],
   "source": [
    "# Define the columns you want to read\n",
    "from sqlalchemy.orm import sessionmaker\n",
    "\n",
    "# Initialize SQLAlchemy session\n",
    "Session = sessionmaker(bind=engine)\n",
    "\n",
    "# Assuming you have a session and SQLAlchemy model defined as mentioned before\n",
    "session = Session()\n",
    "\n",
    "# Define the columns you want to read\n",
    "Price = your_table.c.Total_Price\n",
    "Profit = your_table.c.Profit\n",
    "Priority = your_table.c.Order_Priority\n",
    "ship_date = your_table.c.Ship_Duration\n",
    "\n",
    "# Query the database to fetch the data for the specified columns\n",
    "results = session.query(Price,  Profit, Priority, ship_date).all()\n",
    "\n",
    "# Convert the results to a Pandas DataFrame\n",
    "data = [(row[0], row[1], row[2], row[3]) for row in results]\n",
    "df_order = pd.DataFrame(data, columns=[\"Price\", \"Profit\", \"Priority\", \"ship_date\"])\n",
    "df_order"
   ],
   "metadata": {
    "collapsed": false,
    "ExecuteTime": {
     "end_time": "2023-10-29T10:40:34.952554100Z",
     "start_time": "2023-10-29T10:40:26.332874700Z"
    }
   },
   "id": "8f93549f525c9c64"
  },
  {
   "cell_type": "code",
   "execution_count": 40,
   "outputs": [
    {
     "name": "stdout",
     "output_type": "stream",
     "text": [
      "2023-10-29 14:11:35,379 INFO sqlalchemy.engine.Engine ROLLBACK\n"
     ]
    }
   ],
   "source": [
    "# close the session of database \n",
    "session.close()"
   ],
   "metadata": {
    "collapsed": false,
    "ExecuteTime": {
     "end_time": "2023-10-29T10:41:35.416004400Z",
     "start_time": "2023-10-29T10:41:35.381596700Z"
    }
   },
   "id": "3ca27eb4228489ac"
  },
  {
   "cell_type": "code",
   "execution_count": 41,
   "outputs": [],
   "source": [
    "# close the connection of database \n",
    "conn.close()"
   ],
   "metadata": {
    "collapsed": false,
    "ExecuteTime": {
     "end_time": "2023-10-29T10:41:38.565460300Z",
     "start_time": "2023-10-29T10:41:38.552384300Z"
    }
   },
   "id": "2e9d35e73849602d"
  },
  {
   "cell_type": "code",
   "execution_count": 42,
   "outputs": [
    {
     "data": {
      "text/plain": "              Price     Profit  Priority  ship_date\n0         3450000.0   250000.0         1          3\n1         1100000.0   100000.0         3          5\n2        15580000.0  1920000.0         2         10\n3        20150000.0  2170000.0         1          3\n4         4250000.0   430000.0         3          6\n...             ...        ...       ...        ...\n1017076   1150000.0    80000.0         2         10\n1017077   1350000.0   130000.0         2          8\n1017078  15150000.0  1680000.0         2          8\n1017079   8950000.0  1140000.0         3          6\n1017080  10600000.0   980000.0         2         10\n\n[1017081 rows x 4 columns]",
      "text/html": "<div>\n<style scoped>\n    .dataframe tbody tr th:only-of-type {\n        vertical-align: middle;\n    }\n\n    .dataframe tbody tr th {\n        vertical-align: top;\n    }\n\n    .dataframe thead th {\n        text-align: right;\n    }\n</style>\n<table border=\"1\" class=\"dataframe\">\n  <thead>\n    <tr style=\"text-align: right;\">\n      <th></th>\n      <th>Price</th>\n      <th>Profit</th>\n      <th>Priority</th>\n      <th>ship_date</th>\n    </tr>\n  </thead>\n  <tbody>\n    <tr>\n      <th>0</th>\n      <td>3450000.0</td>\n      <td>250000.0</td>\n      <td>1</td>\n      <td>3</td>\n    </tr>\n    <tr>\n      <th>1</th>\n      <td>1100000.0</td>\n      <td>100000.0</td>\n      <td>3</td>\n      <td>5</td>\n    </tr>\n    <tr>\n      <th>2</th>\n      <td>15580000.0</td>\n      <td>1920000.0</td>\n      <td>2</td>\n      <td>10</td>\n    </tr>\n    <tr>\n      <th>3</th>\n      <td>20150000.0</td>\n      <td>2170000.0</td>\n      <td>1</td>\n      <td>3</td>\n    </tr>\n    <tr>\n      <th>4</th>\n      <td>4250000.0</td>\n      <td>430000.0</td>\n      <td>3</td>\n      <td>6</td>\n    </tr>\n    <tr>\n      <th>...</th>\n      <td>...</td>\n      <td>...</td>\n      <td>...</td>\n      <td>...</td>\n    </tr>\n    <tr>\n      <th>1017076</th>\n      <td>1150000.0</td>\n      <td>80000.0</td>\n      <td>2</td>\n      <td>10</td>\n    </tr>\n    <tr>\n      <th>1017077</th>\n      <td>1350000.0</td>\n      <td>130000.0</td>\n      <td>2</td>\n      <td>8</td>\n    </tr>\n    <tr>\n      <th>1017078</th>\n      <td>15150000.0</td>\n      <td>1680000.0</td>\n      <td>2</td>\n      <td>8</td>\n    </tr>\n    <tr>\n      <th>1017079</th>\n      <td>8950000.0</td>\n      <td>1140000.0</td>\n      <td>3</td>\n      <td>6</td>\n    </tr>\n    <tr>\n      <th>1017080</th>\n      <td>10600000.0</td>\n      <td>980000.0</td>\n      <td>2</td>\n      <td>10</td>\n    </tr>\n  </tbody>\n</table>\n<p>1017081 rows × 4 columns</p>\n</div>"
     },
     "execution_count": 42,
     "metadata": {},
     "output_type": "execute_result"
    }
   ],
   "source": [
    "from sklearn.preprocessing import LabelEncoder\n",
    "label_encoder = LabelEncoder()\n",
    "df_order['Priority'] = label_encoder.fit_transform(df_order['Priority'])\n",
    "df_order"
   ],
   "metadata": {
    "collapsed": false,
    "ExecuteTime": {
     "end_time": "2023-10-29T10:41:41.741120600Z",
     "start_time": "2023-10-29T10:41:41.635500300Z"
    }
   },
   "id": "44d0fd2190105fda"
  },
  {
   "cell_type": "code",
   "execution_count": 43,
   "outputs": [],
   "source": [
    "# Split the DataFrame based on 'column_name'\n",
    "value_to_split_on = 1  # Change this to the desired value\n",
    "High_priority = df_order[df_order['Priority'] <= value_to_split_on]\n",
    "Low_priority = df_order[df_order['Priority'] > value_to_split_on]"
   ],
   "metadata": {
    "collapsed": false,
    "ExecuteTime": {
     "end_time": "2023-10-29T10:41:48.013193900Z",
     "start_time": "2023-10-29T10:41:47.978029200Z"
    }
   },
   "id": "f41d78d3b18cf468"
  },
  {
   "cell_type": "code",
   "execution_count": 44,
   "outputs": [
    {
     "data": {
      "text/plain": "              Price     Profit  Priority  ship_date\n0         3450000.0   250000.0         1          3\n3        20150000.0  2170000.0         1          3\n6        17700000.0  1740000.0         1          3\n8        16200000.0  1110000.0         1          3\n13        8550000.0   720000.0         1          2\n...             ...        ...       ...        ...\n1017057   1100000.0    90000.0         1          3\n1017061    700000.0    60000.0         0          1\n1017063   1200000.0   110000.0         0          1\n1017069   4450000.0   550000.0         1          2\n1017073    500000.0    50000.0         0          1\n\n[204075 rows x 4 columns]",
      "text/html": "<div>\n<style scoped>\n    .dataframe tbody tr th:only-of-type {\n        vertical-align: middle;\n    }\n\n    .dataframe tbody tr th {\n        vertical-align: top;\n    }\n\n    .dataframe thead th {\n        text-align: right;\n    }\n</style>\n<table border=\"1\" class=\"dataframe\">\n  <thead>\n    <tr style=\"text-align: right;\">\n      <th></th>\n      <th>Price</th>\n      <th>Profit</th>\n      <th>Priority</th>\n      <th>ship_date</th>\n    </tr>\n  </thead>\n  <tbody>\n    <tr>\n      <th>0</th>\n      <td>3450000.0</td>\n      <td>250000.0</td>\n      <td>1</td>\n      <td>3</td>\n    </tr>\n    <tr>\n      <th>3</th>\n      <td>20150000.0</td>\n      <td>2170000.0</td>\n      <td>1</td>\n      <td>3</td>\n    </tr>\n    <tr>\n      <th>6</th>\n      <td>17700000.0</td>\n      <td>1740000.0</td>\n      <td>1</td>\n      <td>3</td>\n    </tr>\n    <tr>\n      <th>8</th>\n      <td>16200000.0</td>\n      <td>1110000.0</td>\n      <td>1</td>\n      <td>3</td>\n    </tr>\n    <tr>\n      <th>13</th>\n      <td>8550000.0</td>\n      <td>720000.0</td>\n      <td>1</td>\n      <td>2</td>\n    </tr>\n    <tr>\n      <th>...</th>\n      <td>...</td>\n      <td>...</td>\n      <td>...</td>\n      <td>...</td>\n    </tr>\n    <tr>\n      <th>1017057</th>\n      <td>1100000.0</td>\n      <td>90000.0</td>\n      <td>1</td>\n      <td>3</td>\n    </tr>\n    <tr>\n      <th>1017061</th>\n      <td>700000.0</td>\n      <td>60000.0</td>\n      <td>0</td>\n      <td>1</td>\n    </tr>\n    <tr>\n      <th>1017063</th>\n      <td>1200000.0</td>\n      <td>110000.0</td>\n      <td>0</td>\n      <td>1</td>\n    </tr>\n    <tr>\n      <th>1017069</th>\n      <td>4450000.0</td>\n      <td>550000.0</td>\n      <td>1</td>\n      <td>2</td>\n    </tr>\n    <tr>\n      <th>1017073</th>\n      <td>500000.0</td>\n      <td>50000.0</td>\n      <td>0</td>\n      <td>1</td>\n    </tr>\n  </tbody>\n</table>\n<p>204075 rows × 4 columns</p>\n</div>"
     },
     "execution_count": 44,
     "metadata": {},
     "output_type": "execute_result"
    }
   ],
   "source": [
    "High_priority"
   ],
   "metadata": {
    "collapsed": false,
    "ExecuteTime": {
     "end_time": "2023-10-29T10:41:51.841099800Z",
     "start_time": "2023-10-29T10:41:51.828963500Z"
    }
   },
   "id": "4b50abf092bfda50"
  },
  {
   "cell_type": "code",
   "execution_count": 45,
   "outputs": [
    {
     "data": {
      "text/plain": "              Price     Profit  Priority  ship_date\n1         1100000.0   100000.0         3          5\n2        15580000.0  1920000.0         2         10\n4         4250000.0   430000.0         3          6\n5         2400000.0   260000.0         2          7\n7         5300000.0   450000.0         3          5\n...             ...        ...       ...        ...\n1017076   1150000.0    80000.0         2         10\n1017077   1350000.0   130000.0         2          8\n1017078  15150000.0  1680000.0         2          8\n1017079   8950000.0  1140000.0         3          6\n1017080  10600000.0   980000.0         2         10\n\n[813006 rows x 4 columns]",
      "text/html": "<div>\n<style scoped>\n    .dataframe tbody tr th:only-of-type {\n        vertical-align: middle;\n    }\n\n    .dataframe tbody tr th {\n        vertical-align: top;\n    }\n\n    .dataframe thead th {\n        text-align: right;\n    }\n</style>\n<table border=\"1\" class=\"dataframe\">\n  <thead>\n    <tr style=\"text-align: right;\">\n      <th></th>\n      <th>Price</th>\n      <th>Profit</th>\n      <th>Priority</th>\n      <th>ship_date</th>\n    </tr>\n  </thead>\n  <tbody>\n    <tr>\n      <th>1</th>\n      <td>1100000.0</td>\n      <td>100000.0</td>\n      <td>3</td>\n      <td>5</td>\n    </tr>\n    <tr>\n      <th>2</th>\n      <td>15580000.0</td>\n      <td>1920000.0</td>\n      <td>2</td>\n      <td>10</td>\n    </tr>\n    <tr>\n      <th>4</th>\n      <td>4250000.0</td>\n      <td>430000.0</td>\n      <td>3</td>\n      <td>6</td>\n    </tr>\n    <tr>\n      <th>5</th>\n      <td>2400000.0</td>\n      <td>260000.0</td>\n      <td>2</td>\n      <td>7</td>\n    </tr>\n    <tr>\n      <th>7</th>\n      <td>5300000.0</td>\n      <td>450000.0</td>\n      <td>3</td>\n      <td>5</td>\n    </tr>\n    <tr>\n      <th>...</th>\n      <td>...</td>\n      <td>...</td>\n      <td>...</td>\n      <td>...</td>\n    </tr>\n    <tr>\n      <th>1017076</th>\n      <td>1150000.0</td>\n      <td>80000.0</td>\n      <td>2</td>\n      <td>10</td>\n    </tr>\n    <tr>\n      <th>1017077</th>\n      <td>1350000.0</td>\n      <td>130000.0</td>\n      <td>2</td>\n      <td>8</td>\n    </tr>\n    <tr>\n      <th>1017078</th>\n      <td>15150000.0</td>\n      <td>1680000.0</td>\n      <td>2</td>\n      <td>8</td>\n    </tr>\n    <tr>\n      <th>1017079</th>\n      <td>8950000.0</td>\n      <td>1140000.0</td>\n      <td>3</td>\n      <td>6</td>\n    </tr>\n    <tr>\n      <th>1017080</th>\n      <td>10600000.0</td>\n      <td>980000.0</td>\n      <td>2</td>\n      <td>10</td>\n    </tr>\n  </tbody>\n</table>\n<p>813006 rows × 4 columns</p>\n</div>"
     },
     "execution_count": 45,
     "metadata": {},
     "output_type": "execute_result"
    }
   ],
   "source": [
    "Low_priority"
   ],
   "metadata": {
    "collapsed": false,
    "ExecuteTime": {
     "end_time": "2023-10-29T10:41:58.974604600Z",
     "start_time": "2023-10-29T10:41:58.966091600Z"
    }
   },
   "id": "4145c2db086a5450"
  },
  {
   "cell_type": "code",
   "execution_count": 46,
   "outputs": [
    {
     "name": "stdout",
     "output_type": "stream",
     "text": [
      "T-Statistic: -1023.0549652832891\n",
      "P-Value: 0.0\n"
     ]
    }
   ],
   "source": [
    "# Perform the t-test for the two groups of high and low priority orders based on ship_duration\n",
    "t_stat, p_value = stats.ttest_ind(High_priority['ship_date'], Low_priority['ship_date'])\n",
    "# Print the results\n",
    "print(f'T-Statistic: {t_stat}')\n",
    "print(f'P-Value: {p_value}')"
   ],
   "metadata": {
    "collapsed": false,
    "ExecuteTime": {
     "end_time": "2023-10-29T10:42:08.070476200Z",
     "start_time": "2023-10-29T10:42:08.050492Z"
    }
   },
   "id": "b42a70ca35786738"
  },
  {
   "cell_type": "code",
   "execution_count": 47,
   "outputs": [
    {
     "name": "stdout",
     "output_type": "stream",
     "text": [
      "The means are significantly different.\n"
     ]
    }
   ],
   "source": [
    "\n",
    "# Interpret the results\n",
    "if p_value < 0.05:\n",
    "    print('The means are significantly different.')\n",
    "else:\n",
    "    print('No significant difference found.')"
   ],
   "metadata": {
    "collapsed": false,
    "ExecuteTime": {
     "end_time": "2023-10-29T10:42:15.479282200Z",
     "start_time": "2023-10-29T10:42:15.470236700Z"
    }
   },
   "id": "2b7bce4a2c6172"
  },
  {
   "cell_type": "markdown",
   "source": [
    "describe the t-test for the two groups of high and low priority orders based on ship_date\n",
    "In practical terms, the results of this t-test suggest that there is a substantial and statistically significant difference in the time it takes to ship high priority orders compared to low priority orders. High priority orders appear to have a significantly shorter \"ship_duration\" on average, which may have implications for order processing and delivery efficiency.\n",
    "\n"
   ],
   "metadata": {
    "collapsed": false
   },
   "id": "837b46a1637d18fb"
  },
  {
   "cell_type": "markdown",
   "source": [
    " assumption of T-test for the two groups of high and low priority orders based on profit\n",
    " "
   ],
   "metadata": {
    "collapsed": false
   },
   "id": "e8c284d4ed2da5d8"
  },
  {
   "cell_type": "code",
   "execution_count": 49,
   "outputs": [
    {
     "name": "stdout",
     "output_type": "stream",
     "text": [
      "high_priority_avg :2.1234742129119195\n",
      "low_priority_avg :6.748336420641422\n"
     ]
    }
   ],
   "source": [
    "# Calculate the average profit for each group\n",
    "High_priority_avg = High_priority['ship_date'].mean()\n",
    "Low_priority_avg = Low_priority['ship_date'].mean()\n",
    "print(f'high_priority_avg :{High_priority_avg}')\n",
    "print(f'low_priority_avg :{Low_priority_avg}')"
   ],
   "metadata": {
    "collapsed": false,
    "ExecuteTime": {
     "end_time": "2023-10-29T10:43:22.539396600Z",
     "start_time": "2023-10-29T10:43:22.531319500Z"
    }
   },
   "id": "2e49a083df964821"
  },
  {
   "cell_type": "code",
   "execution_count": 22,
   "outputs": [
    {
     "data": {
      "text/plain": "'Independence of Observations: The observations in each group must be independent of each other. This means that the value of one observation should not be influenced by or related to the values of other observations. If you have paired data, such as before-and-after measurements, you should use a paired samples t-test.\\n'"
     },
     "execution_count": 22,
     "metadata": {},
     "output_type": "execute_result"
    }
   ],
   "source": [
    "# Check the assumptions\n",
    "# Assumption 1: Independence of Observations\n",
    "# Nothing to code here; it's assumed based on the data structure.\n",
    "'''Independence of Observations: The observations in each group must be independent of each other. This means that the value of one observation should not be influenced by or related to the values of other observations. If you have paired data, such as before-and-after measurements, you should use a paired samples t-test.\n",
    "'''"
   ],
   "metadata": {
    "collapsed": false,
    "ExecuteTime": {
     "end_time": "2023-10-29T08:51:16.168339500Z",
     "start_time": "2023-10-29T08:51:16.163305500Z"
    }
   },
   "id": "2318c895d7ab39da"
  },
  {
   "cell_type": "code",
   "execution_count": 25,
   "outputs": [
    {
     "name": "stderr",
     "output_type": "stream",
     "text": [
      "C:\\Users\\parham\\.conda\\envs\\quera_bootcamp\\Lib\\site-packages\\scipy\\stats\\_morestats.py:1882: UserWarning: p-value may not be accurate for N > 5000.\n",
      "  warnings.warn(\"p-value may not be accurate for N > 5000.\")\n"
     ]
    },
    {
     "data": {
      "text/plain": "<Figure size 432x288 with 1 Axes>",
      "image/png": "[encoded data removed]"
     },
     "metadata": {
      "needs_background": "light"
     },
     "output_type": "display_data"
    },
    {
     "data": {
      "text/plain": "<Figure size 432x288 with 1 Axes>",
      "image/png": "[encoded data removed]"
     },
     "metadata": {
      "needs_background": "light"
     },
     "output_type": "display_data"
    }
   ],
   "source": [
    "# Assumption 2: Normality\n",
    "# Check normality using Q-Q plots and Shapiro-Wilk test\n",
    "'''Normality: The data in each group should follow a roughly normal distribution. Normality is important because the t-test assumes that the sampling distribution of the means is normally distributed. You can check for normality using methods like histograms, Q-Q plots, or formal statistical tests (e.g., Shapiro-Wilk test).\n",
    "'''\n",
    "qqplot_column1 = sm.qqplot(High_priority['ship_date'], line='s')\n",
    "qqplot_column2 = sm.qqplot(Low_priority['ship_date'], line='s')\n",
    "shapiro_column1 = stats.shapiro(High_priority['ship_date'])\n",
    "shapiro_column2 = stats.shapiro(Low_priority['ship_date'])"
   ],
   "metadata": {
    "collapsed": false,
    "ExecuteTime": {
     "end_time": "2023-10-29T08:52:56.754842800Z",
     "start_time": "2023-10-29T08:52:54.207286600Z"
    }
   },
   "id": "489512da7fcac1e6"
  },
  {
   "cell_type": "code",
   "execution_count": 32,
   "outputs": [
    {
     "data": {
      "text/plain": "LeveneResult(statistic=163072.52937919047, pvalue=0.0)"
     },
     "execution_count": 32,
     "metadata": {},
     "output_type": "execute_result"
    }
   ],
   "source": [
    "# Assumption 3: Homogeneity of Variance\n",
    "# Check homoscedasticity using Levene's test\n",
    "'''Homogeneity of Variance: The variances in the different groups being compared should be approximately equal (homoscedasticity). This assumption is important because the t-test assumes that the standard deviations of the two groups are equal. You can check for homogeneity of variance using statistical tests like Levene's test or by examining the spread of data within groups.\n",
    "'''\n",
    "levene_test = stats.levene(High_priority['ship_date'], Low_priority['ship_date'])\n",
    "levene_test"
   ],
   "metadata": {
    "collapsed": false,
    "ExecuteTime": {
     "end_time": "2023-10-29T09:28:32.421846900Z",
     "start_time": "2023-10-29T09:28:32.391903400Z"
    }
   },
   "id": "cb6b99581b1b78b"
  },
  {
   "cell_type": "code",
   "execution_count": null,
   "outputs": [],
   "source": [
    "# Check and print the results of the assumptions\n",
    "print(f'Shapiro-Wilk Test - Column 1: W={shapiro_column1[0]}, p={shapiro_column1[1]}')\n",
    "print(f'Shapiro-Wilk Test - Column 2: W={shapiro_column2[0]}, p={shapiro_column2[1]}')\n",
    "print(f'Levene Test: W={levene_test[0]}, p={levene_test[1]}')"
   ],
   "metadata": {
    "collapsed": false
   },
   "id": "664582f29da78426"
  },
  {
   "cell_type": "code",
   "execution_count": null,
   "outputs": [],
   "source": [],
   "metadata": {
    "collapsed": false
   },
   "id": "ba5b17e91eadf3f2"
  },
  {
   "cell_type": "markdown",
   "source": [
    "# T_test for Profit"
   ],
   "metadata": {
    "collapsed": false
   },
   "id": "1f78690452801d26"
  },
  {
   "cell_type": "code",
   "execution_count": 50,
   "outputs": [
    {
     "name": "stdout",
     "output_type": "stream",
     "text": [
      "T-Statistic: -1.0977135378069638\n",
      "P-Value: 0.2723298562824459\n"
     ]
    }
   ],
   "source": [
    "# Perform the t-test for the two groups of high and low priority orders based on profit\n",
    "t_stat, p_value = stats.ttest_ind(High_priority['Profit'],  Low_priority['Profit'])\n",
    "# Print the results\n",
    "print(f'T-Statistic: {t_stat}')\n",
    "print(f'P-Value: {p_value}')"
   ],
   "metadata": {
    "collapsed": false,
    "ExecuteTime": {
     "end_time": "2023-10-29T10:43:54.677889900Z",
     "start_time": "2023-10-29T10:43:54.655455900Z"
    }
   },
   "id": "b79d44146686d94b"
  },
  {
   "cell_type": "code",
   "execution_count": 51,
   "outputs": [
    {
     "name": "stdout",
     "output_type": "stream",
     "text": [
      "No significant difference found.\n"
     ]
    }
   ],
   "source": [
    "# Interpret the results\n",
    "if p_value < 0.05:\n",
    "    print('The means are significantly different.')\n",
    "else:\n",
    "    print('No significant difference found.')"
   ],
   "metadata": {
    "collapsed": false,
    "ExecuteTime": {
     "end_time": "2023-10-29T10:43:59.245586300Z",
     "start_time": "2023-10-29T10:43:59.236540900Z"
    }
   },
   "id": "77f15092290df967"
  },
  {
   "cell_type": "markdown",
   "source": [
    "describe high priority orders and low priority orders based on profit\n",
    "With a t-statistic of approximately -1.0977 and a p-value of 0.2723, the results suggest that you do not have strong statistical evidence to conclude that there is a significant difference in profit between high priority and low priority orders. In other words, you cannot confidently say that the profit levels of these two groups are different based on this t-test. The observed difference in profit could likely be due to random variation."
   ],
   "metadata": {
    "collapsed": false
   },
   "id": "62041f20ebdd0b53"
  },
  {
   "cell_type": "code",
   "execution_count": 27,
   "outputs": [
    {
     "data": {
      "text/plain": "'Independence of Observations: The observations in each group must be independent of each other. This means that the value of one observation should not be influenced by or related to the values of other observations. If you have paired data, such as before-and-after measurements, you should use a paired samples t-test.\\n'"
     },
     "execution_count": 27,
     "metadata": {},
     "output_type": "execute_result"
    }
   ],
   "source": [
    "# Check the assumptions\n",
    "# Assumption 1: Independence of Observations\n",
    "# Nothing to code here; it's assumed based on the data structure.\n",
    "'''Independence of Observations: The observations in each group must be independent of each other. This means that the value of one observation should not be influenced by or related to the values of other observations. If you have paired data, such as before-and-after measurements, you should use a paired samples t-test.\n",
    "'''"
   ],
   "metadata": {
    "collapsed": false,
    "ExecuteTime": {
     "end_time": "2023-10-29T09:26:53.792106Z",
     "start_time": "2023-10-29T09:26:53.785467500Z"
    }
   },
   "id": "b0dd7375ea432573"
  },
  {
   "cell_type": "code",
   "execution_count": 26,
   "outputs": [
    {
     "name": "stderr",
     "output_type": "stream",
     "text": [
      "C:\\Users\\parham\\.conda\\envs\\quera_bootcamp\\Lib\\site-packages\\scipy\\stats\\_morestats.py:1882: UserWarning: p-value may not be accurate for N > 5000.\n",
      "  warnings.warn(\"p-value may not be accurate for N > 5000.\")\n"
     ]
    },
    {
     "data": {
      "text/plain": "<Figure size 432x288 with 1 Axes>",
      "image/png": "[encoded data removed]"
     },
     "metadata": {
      "needs_background": "light"
     },
     "output_type": "display_data"
    },
    {
     "data": {
      "text/plain": "<Figure size 432x288 with 1 Axes>",
      "image/png": "[encoded data removed]"
     },
     "metadata": {
      "needs_background": "light"
     },
     "output_type": "display_data"
    }
   ],
   "source": [
    "# Assumption 2: Normality\n",
    "# Check normality using Q-Q plots and Shapiro-Wilk test\n",
    "'''Normality: The data in each group should follow a roughly normal distribution. Normality is important because the t-test assumes that the sampling distribution of the means is normally distributed. You can check for normality using methods like histograms, Q-Q plots, or formal statistical tests (e.g., Shapiro-Wilk test).\n",
    "'''\n",
    "qqplot_column1 = sm.qqplot(High_priority['Profit'], line='s')\n",
    "qqplot_column2 = sm.qqplot(Low_priority['Profit'], line='s')\n",
    "shapiro_column1 = stats.shapiro(High_priority['Profit'])\n",
    "shapiro_column2 = stats.shapiro(Low_priority['Profit'])"
   ],
   "metadata": {
    "collapsed": false,
    "ExecuteTime": {
     "end_time": "2023-10-29T08:56:40.059330600Z",
     "start_time": "2023-10-29T08:56:37.525307300Z"
    }
   },
   "id": "a9618e229bb004d1"
  },
  {
   "cell_type": "code",
   "execution_count": 33,
   "outputs": [
    {
     "data": {
      "text/plain": "LeveneResult(statistic=1.236936164763764, pvalue=0.2660626104357702)"
     },
     "execution_count": 33,
     "metadata": {},
     "output_type": "execute_result"
    }
   ],
   "source": [
    "# Assumption 3: Homogeneity of Variance\n",
    "# Check homoscedasticity using Levene's test\n",
    "'''Homogeneity of Variance: The variances in the different groups being compared should be approximately equal (homoscedasticity). This assumption is important because the t-test assumes that the standard deviations of the two groups are equal. You can check for homogeneity of variance using statistical tests like Levene's test or by examining the spread of data within groups.\n",
    "'''\n",
    "levene_test_profit = stats.levene(High_priority['Profit'], Low_priority['Profit'])\n",
    "levene_test_profit"
   ],
   "metadata": {
    "collapsed": false,
    "ExecuteTime": {
     "end_time": "2023-10-29T09:29:12.322901300Z",
     "start_time": "2023-10-29T09:29:12.291819Z"
    }
   },
   "id": "aba4acc4741cfc04"
  },
  {
   "cell_type": "code",
   "execution_count": 35,
   "outputs": [
    {
     "name": "stdout",
     "output_type": "stream",
     "text": [
      "Shapiro-Wilk Test - Column 1: W=0.664831280708313, p=0.0\n",
      "Shapiro-Wilk Test - Column 2: W=0.6701486706733704, p=0.0\n",
      "Levene Test: W=1.236936164763764, p=0.2660626104357702\n"
     ]
    }
   ],
   "source": [
    "# Check and print the results of the assumptions\n",
    "print(f'Shapiro-Wilk Test - Column 1: W={shapiro_column1[0]}, p={shapiro_column1[1]}')\n",
    "print(f'Shapiro-Wilk Test - Column 2: W={shapiro_column2[0]}, p={shapiro_column2[1]}')\n",
    "print(f'Levene Test: W={levene_test_profit[0]}, p={levene_test_profit[1]}')\n"
   ],
   "metadata": {
    "collapsed": false,
    "ExecuteTime": {
     "end_time": "2023-10-29T09:41:19.572108500Z",
     "start_time": "2023-10-29T09:41:19.564986600Z"
    }
   },
   "id": "bc6c03e689f34222"
  }
 ],
 "metadata": {
  "kernelspec": {
   "display_name": "Python 3",
   "language": "python",
   "name": "python3"
  },
  "language_info": {
   "codemirror_mode": {
    "name": "ipython",
    "version": 2
   },
   "file_extension": ".py",
   "mimetype": "text/x-python",
   "name": "python",
   "nbconvert_exporter": "python",
   "pygments_lexer": "ipython2",
   "version": "2.7.6"
  }
 },
 "nbformat": 4,
 "nbformat_minor": 5
}
