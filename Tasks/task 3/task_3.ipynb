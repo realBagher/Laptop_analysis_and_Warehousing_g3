{
 "cells": [
  {
   "cell_type": "code",
   "execution_count": null,
   "id": "initial_id",
   "metadata": {
    "collapsed": true
   },
   "outputs": [],
   "source": [
    "import pandas as pd\n",
    "from scipy import stats\n",
    "import statsmodels.api as sm\n",
    "import statsmodels.stats.api as sms"
   ]
  },
  {
   "cell_type": "code",
   "execution_count": null,
   "outputs": [],
   "source": [
    "\n",
    "# Create your DataFrame (replace this with your actual data)\n",
    "data = {'column1': [value1, value2, ...], 'column2': [value1, value2, ...]}\n",
    "df = pd.DataFrame(data)\n"
   ],
   "metadata": {
    "collapsed": false
   },
   "id": "91356c920cf6ebc7"
  },
  {
   "cell_type": "code",
   "execution_count": null,
   "outputs": [],
   "source": [
    "# Perform the t-test\n",
    "t_stat, p_value = stats.ttest_ind(df['column1'], df['column2'])"
   ],
   "metadata": {
    "collapsed": false
   },
   "id": "beb77dca9306db9"
  },
  {
   "cell_type": "code",
   "execution_count": null,
   "outputs": [],
   "source": [
    "# Check the assumptions\n",
    "# Assumption 1: Independence of Observations\n",
    "# Nothing to code here; it's assumed based on the data structure.\n",
    "'''Independence of Observations: The observations in each group must be independent of each other. This means that the value of one observation should not be influenced by or related to the values of other observations. If you have paired data, such as before-and-after measurements, you should use a paired samples t-test.\n",
    "'''"
   ],
   "metadata": {
    "collapsed": false
   },
   "id": "5602dd5ea78975bf"
  },
  {
   "cell_type": "code",
   "execution_count": null,
   "outputs": [],
   "source": [
    "# Assumption 2: Normality\n",
    "# Check normality using Q-Q plots and Shapiro-Wilk test\n",
    "qqplot_column1 = sm.qqplot(df['column1'], line='s')\n",
    "qqplot_column2 = sm.qqplot(df['column2'], line='s')\n",
    "shapiro_column1 = stats.shapiro(df['column1'])\n",
    "shapiro_column2 = stats.shapiro(df['column2'])\n"
   ],
   "metadata": {
    "collapsed": false
   },
   "id": "c9eb481b556b0f91"
  },
  {
   "cell_type": "code",
   "execution_count": null,
   "outputs": [],
   "source": [
    "# Assumption 3: Homogeneity of Variance\n",
    "# Check homoscedasticity using Levene's test\n",
    "levene_test = stats.levene(df['column1'], df['column2'])"
   ],
   "metadata": {
    "collapsed": false
   },
   "id": "44ca1bbed134e37c"
  },
  {
   "cell_type": "code",
   "execution_count": null,
   "outputs": [],
   "source": [
    "# Print the results\n",
    "print(f'T-Statistic: {t_stat}')\n",
    "print(f'P-Value: {p_value}')"
   ],
   "metadata": {
    "collapsed": false
   },
   "id": "3bbe0b7644fc276b"
  },
  {
   "cell_type": "code",
   "execution_count": null,
   "outputs": [],
   "source": [
    "# Check and print the results of the assumptions\n",
    "print(f'Shapiro-Wilk Test - Column 1: W={shapiro_column1[0]}, p={shapiro_column1[1]}')\n",
    "print(f'Shapiro-Wilk Test - Column 2: W={shapiro_column2[0]}, p={shapiro_column2[1]}')\n",
    "print(f'Levene Test: W={levene_test[0]}, p={levene_test[1]}')\n"
   ],
   "metadata": {
    "collapsed": false
   },
   "id": "1bf2c09f754672bd"
  },
  {
   "cell_type": "code",
   "execution_count": null,
   "outputs": [],
   "source": [
    "\n",
    "# Interpret the results\n",
    "if p_value < 0.05:\n",
    "    print('The means are significantly different.')\n",
    "else:\n",
    "    print('No significant difference found.')\n"
   ],
   "metadata": {
    "collapsed": false
   },
   "id": "a00382b7d0e6acc6"
  }
 ],
 "metadata": {
  "kernelspec": {
   "display_name": "Python 3",
   "language": "python",
   "name": "python3"
  },
  "language_info": {
   "codemirror_mode": {
    "name": "ipython",
    "version": 2
   },
   "file_extension": ".py",
   "mimetype": "text/x-python",
   "name": "python",
   "nbconvert_exporter": "python",
   "pygments_lexer": "ipython2",
   "version": "2.7.6"
  }
 },
 "nbformat": 4,
 "nbformat_minor": 5
}
