{
 "cells": [
  {
   "cell_type": "code",
   "execution_count": 1,
   "id": "initial_id",
   "metadata": {
    "collapsed": true,
    "ExecuteTime": {
     "end_time": "2023-10-25T07:40:29.568807800Z",
     "start_time": "2023-10-25T07:40:25.667640900Z"
    }
   },
   "outputs": [],
   "source": [
    "import pandas as pd\n",
    "from scipy import stats\n",
    "import statsmodels.api as sm\n",
    "import statsmodels.stats.api as sms"
   ]
  },
  {
   "cell_type": "markdown",
   "source": [
    "Request :\n",
    "Following the previous request, some company managers are afraid that discounting will reduce profit, so they have asked you to check the effect of discounting on the amount of profit and if there is such an effect, describe it.\n",
    "solution :\n",
    "To determine if discounts have a significant effect on profit, you can perform hypothesis testing. You may use a t-test or ANOVA to compare the profitability of products or time periods with and without discounts. For example, you might compare the average profit of discounted sales to non-discounted sales."
   ],
   "metadata": {
    "collapsed": false
   },
   "id": "9332d0b44bfcae48"
  },
  {
   "cell_type": "code",
   "execution_count": 3,
   "outputs": [
    {
     "name": "stdout",
     "output_type": "stream",
     "text": [
      "2023-10-25 11:22:53,036 INFO sqlalchemy.engine.Engine SELECT DATABASE()\n",
      "2023-10-25 11:22:53,036 INFO sqlalchemy.engine.Engine [raw sql] {}\n",
      "2023-10-25 11:22:53,039 INFO sqlalchemy.engine.Engine SELECT @@sql_mode\n",
      "2023-10-25 11:22:53,040 INFO sqlalchemy.engine.Engine [raw sql] {}\n",
      "2023-10-25 11:22:53,041 INFO sqlalchemy.engine.Engine SELECT @@lower_case_table_names\n",
      "2023-10-25 11:22:53,042 INFO sqlalchemy.engine.Engine [raw sql] {}\n"
     ]
    }
   ],
   "source": [
    "from sqlalchemy import create_engine, Column, Integer, String, MetaData, Table\n",
    "\n",
    "# Initialize SQLAlchemy Metadata object\n",
    "meta = MetaData()\n",
    "# Define database connection details\n",
    "USERNAME = 'root'\n",
    "PASSWORD = '1393ram1393#$'\n",
    "SERVER = 'localhost'\n",
    "# Create a SQLAlchemy engine for connecting to the MySQL database\n",
    "engine = create_engine(f'mysql+pymysql://{USERNAME}:{PASSWORD}@{SERVER}:3306/Laptop_analysis_and_Warehousing_g3', echo=True)\n",
    "conn = engine.connect()"
   ],
   "metadata": {
    "collapsed": false,
    "ExecuteTime": {
     "end_time": "2023-10-25T07:52:53.048088600Z",
     "start_time": "2023-10-25T07:52:52.853637300Z"
    }
   },
   "id": "c9edbaa07df63728"
  },
  {
   "cell_type": "code",
   "execution_count": 4,
   "outputs": [
    {
     "name": "stdout",
     "output_type": "stream",
     "text": [
      "2023-10-25 11:23:56,953 INFO sqlalchemy.engine.Engine SHOW CREATE TABLE `order`\n",
      "2023-10-25 11:23:56,954 INFO sqlalchemy.engine.Engine [raw sql] {}\n",
      "2023-10-25 11:23:57,030 INFO sqlalchemy.engine.Engine \n",
      "                    select table_schema, table_name, column_name\n",
      "                    from information_schema.columns\n",
      "                    where (table_schema, table_name, lower(column_name)) in\n",
      "                    ((%(table_data_1_1)s, %(table_data_1_2)s, %(table_data_1_3)s));\n",
      "                \n",
      "2023-10-25 11:23:57,030 INFO sqlalchemy.engine.Engine [generated in 0.07203s] {'table_data_1_1': 'laptop_analysis_and_warehousing_g3', 'table_data_1_2': 'laptop', 'table_data_1_3': 'laptop_id'}\n",
      "2023-10-25 11:23:57,034 INFO sqlalchemy.engine.Engine SHOW CREATE TABLE `laptop`\n",
      "2023-10-25 11:23:57,034 INFO sqlalchemy.engine.Engine [raw sql] {}\n"
     ]
    }
   ],
   "source": [
    "metadata = MetaData()\n",
    "\n",
    "# Replace \"your_table_name\" with the name of your table\n",
    "table_name = \"order\"\n",
    "\n",
    "your_table = Table(table_name, metadata, autoload=True, autoload_with=engine)\n"
   ],
   "metadata": {
    "collapsed": false,
    "ExecuteTime": {
     "end_time": "2023-10-25T07:53:57.049830900Z",
     "start_time": "2023-10-25T07:53:56.924429900Z"
    }
   },
   "id": "b2f88eecb4cbd49d"
  },
  {
   "cell_type": "code",
   "execution_count": 21,
   "outputs": [
    {
     "name": "stdout",
     "output_type": "stream",
     "text": [
      "2023-10-25 11:48:06,565 INFO sqlalchemy.engine.Engine BEGIN (implicit)\n",
      "2023-10-25 11:48:06,566 INFO sqlalchemy.engine.Engine SELECT `order`.`Total_Price` AS `order_Total_Price`, `order`.`Discount` AS `order_Discount`, `order`.`Profit` AS `order_Profit` \n",
      "FROM `order`\n",
      "2023-10-25 11:48:06,567 INFO sqlalchemy.engine.Engine [generated in 0.00062s] {}\n"
     ]
    },
    {
     "data": {
      "text/plain": "              Price  Discount     Profit\n0         3450000.0         0   250000.0\n1         1100000.0         0   100000.0\n2        15580000.0         5  1920000.0\n3        20150000.0         0  2170000.0\n4         4250000.0         0   430000.0\n...             ...       ...        ...\n1017076   1150000.0         0    80000.0\n1017077   1350000.0         0   130000.0\n1017078  15150000.0         0  1680000.0\n1017079   8950000.0         0  1140000.0\n1017080  10600000.0         0   980000.0\n\n[1017081 rows x 3 columns]",
      "text/html": "<div>\n<style scoped>\n    .dataframe tbody tr th:only-of-type {\n        vertical-align: middle;\n    }\n\n    .dataframe tbody tr th {\n        vertical-align: top;\n    }\n\n    .dataframe thead th {\n        text-align: right;\n    }\n</style>\n<table border=\"1\" class=\"dataframe\">\n  <thead>\n    <tr style=\"text-align: right;\">\n      <th></th>\n      <th>Price</th>\n      <th>Discount</th>\n      <th>Profit</th>\n    </tr>\n  </thead>\n  <tbody>\n    <tr>\n      <th>0</th>\n      <td>3450000.0</td>\n      <td>0</td>\n      <td>250000.0</td>\n    </tr>\n    <tr>\n      <th>1</th>\n      <td>1100000.0</td>\n      <td>0</td>\n      <td>100000.0</td>\n    </tr>\n    <tr>\n      <th>2</th>\n      <td>15580000.0</td>\n      <td>5</td>\n      <td>1920000.0</td>\n    </tr>\n    <tr>\n      <th>3</th>\n      <td>20150000.0</td>\n      <td>0</td>\n      <td>2170000.0</td>\n    </tr>\n    <tr>\n      <th>4</th>\n      <td>4250000.0</td>\n      <td>0</td>\n      <td>430000.0</td>\n    </tr>\n    <tr>\n      <th>...</th>\n      <td>...</td>\n      <td>...</td>\n      <td>...</td>\n    </tr>\n    <tr>\n      <th>1017076</th>\n      <td>1150000.0</td>\n      <td>0</td>\n      <td>80000.0</td>\n    </tr>\n    <tr>\n      <th>1017077</th>\n      <td>1350000.0</td>\n      <td>0</td>\n      <td>130000.0</td>\n    </tr>\n    <tr>\n      <th>1017078</th>\n      <td>15150000.0</td>\n      <td>0</td>\n      <td>1680000.0</td>\n    </tr>\n    <tr>\n      <th>1017079</th>\n      <td>8950000.0</td>\n      <td>0</td>\n      <td>1140000.0</td>\n    </tr>\n    <tr>\n      <th>1017080</th>\n      <td>10600000.0</td>\n      <td>0</td>\n      <td>980000.0</td>\n    </tr>\n  </tbody>\n</table>\n<p>1017081 rows × 3 columns</p>\n</div>"
     },
     "execution_count": 21,
     "metadata": {},
     "output_type": "execute_result"
    }
   ],
   "source": [
    "from sqlalchemy.orm import sessionmaker\n",
    "\n",
    "Session = sessionmaker(bind=engine)\n",
    "\n",
    "# Assuming you have a session and SQLAlchemy model defined as mentioned before\n",
    "session = Session()\n",
    "\n",
    "# Define the columns you want to read\n",
    "Price = your_table.c.Total_Price\n",
    "Discount = your_table.c.Discount\n",
    "Profit = your_table.c.Profit\n",
    "\n",
    "# Query the database to fetch the data for the specified columns\n",
    "results = session.query(Price, Discount, Profit).all()\n",
    "\n",
    "# Convert the results to a Pandas DataFrame\n",
    "data = [(row[0], row[1], row[2]) for row in results]\n",
    "df_order = pd.DataFrame(data, columns=[\"Price\", \"Discount\", \"Profit\"])\n",
    "df_order"
   ],
   "metadata": {
    "collapsed": false,
    "ExecuteTime": {
     "end_time": "2023-10-25T08:18:13.900668600Z",
     "start_time": "2023-10-25T08:18:06.566915600Z"
    }
   },
   "id": "8bce9c0861b32276"
  },
  {
   "cell_type": "code",
   "execution_count": 22,
   "outputs": [
    {
     "name": "stdout",
     "output_type": "stream",
     "text": [
      "2023-10-25 11:48:20,056 INFO sqlalchemy.engine.Engine ROLLBACK\n"
     ]
    }
   ],
   "source": [
    "session.close()"
   ],
   "metadata": {
    "collapsed": false,
    "ExecuteTime": {
     "end_time": "2023-10-25T08:18:20.085650400Z",
     "start_time": "2023-10-25T08:18:20.055147500Z"
    }
   },
   "id": "4f2411620c0553a9"
  },
  {
   "cell_type": "code",
   "execution_count": 23,
   "outputs": [
    {
     "data": {
      "text/plain": "              Price  Discount     Profit\n0         3450000.0         0   250000.0\n1         1100000.0         0   100000.0\n2        15580000.0         5  1920000.0\n3        20150000.0         0  2170000.0\n4         4250000.0         0   430000.0\n...             ...       ...        ...\n1017076   1150000.0         0    80000.0\n1017077   1350000.0         0   130000.0\n1017078  15150000.0         0  1680000.0\n1017079   8950000.0         0  1140000.0\n1017080  10600000.0         0   980000.0\n\n[1017081 rows x 3 columns]",
      "text/html": "<div>\n<style scoped>\n    .dataframe tbody tr th:only-of-type {\n        vertical-align: middle;\n    }\n\n    .dataframe tbody tr th {\n        vertical-align: top;\n    }\n\n    .dataframe thead th {\n        text-align: right;\n    }\n</style>\n<table border=\"1\" class=\"dataframe\">\n  <thead>\n    <tr style=\"text-align: right;\">\n      <th></th>\n      <th>Price</th>\n      <th>Discount</th>\n      <th>Profit</th>\n    </tr>\n  </thead>\n  <tbody>\n    <tr>\n      <th>0</th>\n      <td>3450000.0</td>\n      <td>0</td>\n      <td>250000.0</td>\n    </tr>\n    <tr>\n      <th>1</th>\n      <td>1100000.0</td>\n      <td>0</td>\n      <td>100000.0</td>\n    </tr>\n    <tr>\n      <th>2</th>\n      <td>15580000.0</td>\n      <td>5</td>\n      <td>1920000.0</td>\n    </tr>\n    <tr>\n      <th>3</th>\n      <td>20150000.0</td>\n      <td>0</td>\n      <td>2170000.0</td>\n    </tr>\n    <tr>\n      <th>4</th>\n      <td>4250000.0</td>\n      <td>0</td>\n      <td>430000.0</td>\n    </tr>\n    <tr>\n      <th>...</th>\n      <td>...</td>\n      <td>...</td>\n      <td>...</td>\n    </tr>\n    <tr>\n      <th>1017076</th>\n      <td>1150000.0</td>\n      <td>0</td>\n      <td>80000.0</td>\n    </tr>\n    <tr>\n      <th>1017077</th>\n      <td>1350000.0</td>\n      <td>0</td>\n      <td>130000.0</td>\n    </tr>\n    <tr>\n      <th>1017078</th>\n      <td>15150000.0</td>\n      <td>0</td>\n      <td>1680000.0</td>\n    </tr>\n    <tr>\n      <th>1017079</th>\n      <td>8950000.0</td>\n      <td>0</td>\n      <td>1140000.0</td>\n    </tr>\n    <tr>\n      <th>1017080</th>\n      <td>10600000.0</td>\n      <td>0</td>\n      <td>980000.0</td>\n    </tr>\n  </tbody>\n</table>\n<p>1017081 rows × 3 columns</p>\n</div>"
     },
     "execution_count": 23,
     "metadata": {},
     "output_type": "execute_result"
    }
   ],
   "source": [
    "df_order"
   ],
   "metadata": {
    "collapsed": false,
    "ExecuteTime": {
     "end_time": "2023-10-25T08:18:23.088265200Z",
     "start_time": "2023-10-25T08:18:23.077586500Z"
    }
   },
   "id": "91356c920cf6ebc7"
  },
  {
   "cell_type": "code",
   "execution_count": 31,
   "outputs": [],
   "source": [
    "# Split the DataFrame based on 'column_name'\n",
    "value_to_split_on = 0  # Change this to the desired value\n",
    "non_discounted_sales = df_order[df_order['Discount'] <= value_to_split_on]\n",
    "discounted_sales = df_order[df_order['Discount'] > value_to_split_on]\n"
   ],
   "metadata": {
    "collapsed": false,
    "ExecuteTime": {
     "end_time": "2023-10-25T08:48:40.178728500Z",
     "start_time": "2023-10-25T08:48:40.127186100Z"
    }
   },
   "id": "e63a6fb2759f918c"
  },
  {
   "cell_type": "code",
   "execution_count": 32,
   "outputs": [
    {
     "data": {
      "text/plain": "              Price  Discount     Profit\n0         3450000.0         0   250000.0\n1         1100000.0         0   100000.0\n3        20150000.0         0  2170000.0\n4         4250000.0         0   430000.0\n5         2400000.0         0   260000.0\n...             ...       ...        ...\n1017076   1150000.0         0    80000.0\n1017077   1350000.0         0   130000.0\n1017078  15150000.0         0  1680000.0\n1017079   8950000.0         0  1140000.0\n1017080  10600000.0         0   980000.0\n\n[863933 rows x 3 columns]",
      "text/html": "<div>\n<style scoped>\n    .dataframe tbody tr th:only-of-type {\n        vertical-align: middle;\n    }\n\n    .dataframe tbody tr th {\n        vertical-align: top;\n    }\n\n    .dataframe thead th {\n        text-align: right;\n    }\n</style>\n<table border=\"1\" class=\"dataframe\">\n  <thead>\n    <tr style=\"text-align: right;\">\n      <th></th>\n      <th>Price</th>\n      <th>Discount</th>\n      <th>Profit</th>\n    </tr>\n  </thead>\n  <tbody>\n    <tr>\n      <th>0</th>\n      <td>3450000.0</td>\n      <td>0</td>\n      <td>250000.0</td>\n    </tr>\n    <tr>\n      <th>1</th>\n      <td>1100000.0</td>\n      <td>0</td>\n      <td>100000.0</td>\n    </tr>\n    <tr>\n      <th>3</th>\n      <td>20150000.0</td>\n      <td>0</td>\n      <td>2170000.0</td>\n    </tr>\n    <tr>\n      <th>4</th>\n      <td>4250000.0</td>\n      <td>0</td>\n      <td>430000.0</td>\n    </tr>\n    <tr>\n      <th>5</th>\n      <td>2400000.0</td>\n      <td>0</td>\n      <td>260000.0</td>\n    </tr>\n    <tr>\n      <th>...</th>\n      <td>...</td>\n      <td>...</td>\n      <td>...</td>\n    </tr>\n    <tr>\n      <th>1017076</th>\n      <td>1150000.0</td>\n      <td>0</td>\n      <td>80000.0</td>\n    </tr>\n    <tr>\n      <th>1017077</th>\n      <td>1350000.0</td>\n      <td>0</td>\n      <td>130000.0</td>\n    </tr>\n    <tr>\n      <th>1017078</th>\n      <td>15150000.0</td>\n      <td>0</td>\n      <td>1680000.0</td>\n    </tr>\n    <tr>\n      <th>1017079</th>\n      <td>8950000.0</td>\n      <td>0</td>\n      <td>1140000.0</td>\n    </tr>\n    <tr>\n      <th>1017080</th>\n      <td>10600000.0</td>\n      <td>0</td>\n      <td>980000.0</td>\n    </tr>\n  </tbody>\n</table>\n<p>863933 rows × 3 columns</p>\n</div>"
     },
     "execution_count": 32,
     "metadata": {},
     "output_type": "execute_result"
    }
   ],
   "source": [
    "non_discounted_sales"
   ],
   "metadata": {
    "collapsed": false,
    "ExecuteTime": {
     "end_time": "2023-10-25T08:48:48.720443800Z",
     "start_time": "2023-10-25T08:48:48.710688300Z"
    }
   },
   "id": "f0aad6e24a7d1522"
  },
  {
   "cell_type": "code",
   "execution_count": 33,
   "outputs": [
    {
     "data": {
      "text/plain": "              Price  Discount     Profit\n2        15580000.0         5  1920000.0\n10        3895000.0         5   370000.0\n17        1568000.0         2   170000.0\n24        2232500.0         5   200000.0\n26       21476000.0         9  1750000.0\n...             ...       ...        ...\n1017044   1092500.0         5   100000.0\n1017046  10450000.0         5   990000.0\n1017048    980000.0         2   100000.0\n1017052   1282500.0         5   130000.0\n1017053   1302000.0         7    90000.0\n\n[153148 rows x 3 columns]",
      "text/html": "<div>\n<style scoped>\n    .dataframe tbody tr th:only-of-type {\n        vertical-align: middle;\n    }\n\n    .dataframe tbody tr th {\n        vertical-align: top;\n    }\n\n    .dataframe thead th {\n        text-align: right;\n    }\n</style>\n<table border=\"1\" class=\"dataframe\">\n  <thead>\n    <tr style=\"text-align: right;\">\n      <th></th>\n      <th>Price</th>\n      <th>Discount</th>\n      <th>Profit</th>\n    </tr>\n  </thead>\n  <tbody>\n    <tr>\n      <th>2</th>\n      <td>15580000.0</td>\n      <td>5</td>\n      <td>1920000.0</td>\n    </tr>\n    <tr>\n      <th>10</th>\n      <td>3895000.0</td>\n      <td>5</td>\n      <td>370000.0</td>\n    </tr>\n    <tr>\n      <th>17</th>\n      <td>1568000.0</td>\n      <td>2</td>\n      <td>170000.0</td>\n    </tr>\n    <tr>\n      <th>24</th>\n      <td>2232500.0</td>\n      <td>5</td>\n      <td>200000.0</td>\n    </tr>\n    <tr>\n      <th>26</th>\n      <td>21476000.0</td>\n      <td>9</td>\n      <td>1750000.0</td>\n    </tr>\n    <tr>\n      <th>...</th>\n      <td>...</td>\n      <td>...</td>\n      <td>...</td>\n    </tr>\n    <tr>\n      <th>1017044</th>\n      <td>1092500.0</td>\n      <td>5</td>\n      <td>100000.0</td>\n    </tr>\n    <tr>\n      <th>1017046</th>\n      <td>10450000.0</td>\n      <td>5</td>\n      <td>990000.0</td>\n    </tr>\n    <tr>\n      <th>1017048</th>\n      <td>980000.0</td>\n      <td>2</td>\n      <td>100000.0</td>\n    </tr>\n    <tr>\n      <th>1017052</th>\n      <td>1282500.0</td>\n      <td>5</td>\n      <td>130000.0</td>\n    </tr>\n    <tr>\n      <th>1017053</th>\n      <td>1302000.0</td>\n      <td>7</td>\n      <td>90000.0</td>\n    </tr>\n  </tbody>\n</table>\n<p>153148 rows × 3 columns</p>\n</div>"
     },
     "execution_count": 33,
     "metadata": {},
     "output_type": "execute_result"
    }
   ],
   "source": [
    "discounted_sales"
   ],
   "metadata": {
    "collapsed": false,
    "ExecuteTime": {
     "end_time": "2023-10-25T08:49:05.563800200Z",
     "start_time": "2023-10-25T08:49:05.553959300Z"
    }
   },
   "id": "f4a2e33596e9da03"
  },
  {
   "cell_type": "code",
   "execution_count": 35,
   "outputs": [
    {
     "name": "stdout",
     "output_type": "stream",
     "text": [
      "T-Statistic: -11.752077215107551\n",
      "P-Value: 6.923241565492666e-32\n"
     ]
    }
   ],
   "source": [
    "# Perform the t-test\n",
    "t_stat, p_value = stats.ttest_ind(discounted_sales['Profit'], non_discounted_sales['Profit'])\n",
    "# Print the results\n",
    "print(f'T-Statistic: {t_stat}')\n",
    "print(f'P-Value: {p_value}')"
   ],
   "metadata": {
    "collapsed": false,
    "ExecuteTime": {
     "end_time": "2023-10-25T08:53:24.821783900Z",
     "start_time": "2023-10-25T08:53:24.798347Z"
    }
   },
   "id": "beb77dca9306db9"
  },
  {
   "cell_type": "code",
   "execution_count": 36,
   "outputs": [
    {
     "ename": "NameError",
     "evalue": "name 'avg_discounted_profit' is not defined",
     "output_type": "error",
     "traceback": [
      "\u001B[1;31m---------------------------------------------------------------------------\u001B[0m",
      "\u001B[1;31mNameError\u001B[0m                                 Traceback (most recent call last)",
      "Cell \u001B[1;32mIn[36], line 4\u001B[0m\n\u001B[0;32m      1\u001B[0m \u001B[38;5;28;01mimport\u001B[39;00m \u001B[38;5;21;01mmatplotlib\u001B[39;00m\u001B[38;5;21;01m.\u001B[39;00m\u001B[38;5;21;01mpyplot\u001B[39;00m \u001B[38;5;28;01mas\u001B[39;00m \u001B[38;5;21;01mplt\u001B[39;00m\n\u001B[0;32m      3\u001B[0m \u001B[38;5;66;03m# Example data visualization (replace with your data)\u001B[39;00m\n\u001B[1;32m----> 4\u001B[0m plt\u001B[38;5;241m.\u001B[39mbar([\u001B[38;5;124m'\u001B[39m\u001B[38;5;124mDiscounted\u001B[39m\u001B[38;5;124m'\u001B[39m, \u001B[38;5;124m'\u001B[39m\u001B[38;5;124mNon-discounted\u001B[39m\u001B[38;5;124m'\u001B[39m], [avg_discounted_profit, avg_non_discounted_profit])\n\u001B[0;32m      5\u001B[0m plt\u001B[38;5;241m.\u001B[39mxlabel(\u001B[38;5;124m\"\u001B[39m\u001B[38;5;124mSales Type\u001B[39m\u001B[38;5;124m\"\u001B[39m)\n\u001B[0;32m      6\u001B[0m plt\u001B[38;5;241m.\u001B[39mylabel(\u001B[38;5;124m\"\u001B[39m\u001B[38;5;124mAverage Profit\u001B[39m\u001B[38;5;124m\"\u001B[39m)\n",
      "\u001B[1;31mNameError\u001B[0m: name 'avg_discounted_profit' is not defined"
     ]
    }
   ],
   "source": [
    "import matplotlib.pyplot as plt\n",
    "\n",
    "# Example data visualization (replace with your data)\n",
    "plt.bar(['Discounted', 'Non-discounted'], [avg_discounted_profit, avg_non_discounted_profit])\n",
    "plt.xlabel(\"Sales Type\")\n",
    "plt.ylabel(\"Average Profit\")\n",
    "plt.title(\"Effect of Discounts on Profit\")\n",
    "plt.show()\n"
   ],
   "metadata": {
    "collapsed": false,
    "ExecuteTime": {
     "end_time": "2023-10-25T08:53:40.279350900Z",
     "start_time": "2023-10-25T08:53:40.240902700Z"
    }
   },
   "id": "64aea4de3c71592f"
  },
  {
   "cell_type": "code",
   "execution_count": 1,
   "outputs": [
    {
     "data": {
      "text/plain": "'Independence of Observations: The observations in each group must be independent of each other. This means that the value of one observation should not be influenced by or related to the values of other observations. If you have paired data, such as before-and-after measurements, you should use a paired samples t-test.\\n'"
     },
     "execution_count": 1,
     "metadata": {},
     "output_type": "execute_result"
    }
   ],
   "source": [
    "# Check the assumptions\n",
    "# Assumption 1: Independence of Observations\n",
    "# Nothing to code here; it's assumed based on the data structure.\n",
    "'''Independence of Observations: The observations in each group must be independent of each other. This means that the value of one observation should not be influenced by or related to the values of other observations. If you have paired data, such as before-and-after measurements, you should use a paired samples t-test.\n",
    "'''"
   ],
   "metadata": {
    "collapsed": false,
    "ExecuteTime": {
     "end_time": "2023-10-24T06:43:14.600067700Z",
     "start_time": "2023-10-24T06:43:14.581610300Z"
    }
   },
   "id": "5602dd5ea78975bf"
  },
  {
   "cell_type": "code",
   "execution_count": 30,
   "outputs": [
    {
     "name": "stderr",
     "output_type": "stream",
     "text": [
      "C:\\Users\\parham\\.conda\\envs\\quera_bootcamp\\Lib\\site-packages\\scipy\\stats\\_morestats.py:1882: UserWarning: p-value may not be accurate for N > 5000.\n",
      "  warnings.warn(\"p-value may not be accurate for N > 5000.\")\n"
     ]
    },
    {
     "data": {
      "text/plain": "<Figure size 432x288 with 1 Axes>",
      "image/png": "[encoded data removed]"
     },
     "metadata": {
      "needs_background": "light"
     },
     "output_type": "display_data"
    },
    {
     "data": {
      "text/plain": "<Figure size 432x288 with 1 Axes>",
      "image/png": "[encoded data removed]"
     },
     "metadata": {
      "needs_background": "light"
     },
     "output_type": "display_data"
    }
   ],
   "source": [
    "# Assumption 2: Normality\n",
    "# Check normality using Q-Q plots and Shapiro-Wilk test\n",
    "'''Normality: The data in each group should follow a roughly normal distribution. Normality is important because the t-test assumes that the sampling distribution of the means is normally distributed. You can check for normality using methods like histograms, Q-Q plots, or formal statistical tests (e.g., Shapiro-Wilk test).\n",
    "'''\n",
    "qqplot_column1 = sm.qqplot(df_order['Profit'], line='s')\n",
    "qqplot_column2 = sm.qqplot(df_order['Discount'], line='s')\n",
    "shapiro_column1 = stats.shapiro(df_order['Profit'])\n",
    "shapiro_column2 = stats.shapiro(df_order['Discount'])\n"
   ],
   "metadata": {
    "collapsed": false,
    "ExecuteTime": {
     "end_time": "2023-10-25T08:43:58.591340200Z",
     "start_time": "2023-10-25T08:43:54.282074100Z"
    }
   },
   "id": "c9eb481b556b0f91"
  },
  {
   "cell_type": "code",
   "execution_count": 26,
   "outputs": [
    {
     "data": {
      "text/plain": "LeveneResult(statistic=427030.52199816314, pvalue=0.0)"
     },
     "execution_count": 26,
     "metadata": {},
     "output_type": "execute_result"
    }
   ],
   "source": [
    "# Assumption 3: Homogeneity of Variance\n",
    "# Check homoscedasticity using Levene's test\n",
    "'''Homogeneity of Variance: The variances in the different groups being compared should be approximately equal (homoscedasticity). This assumption is important because the t-test assumes that the standard deviations of the two groups are equal. You can check for homogeneity of variance using statistical tests like Levene's test or by examining the spread of data within groups.\n",
    "'''\n",
    "levene_test = stats.levene(df_order['Profit'], df_order['Discount'])\n",
    "levene_test"
   ],
   "metadata": {
    "collapsed": false,
    "ExecuteTime": {
     "end_time": "2023-10-25T08:22:32.124673900Z",
     "start_time": "2023-10-25T08:22:32.066933600Z"
    }
   },
   "id": "44ca1bbed134e37c"
  },
  {
   "cell_type": "code",
   "execution_count": null,
   "outputs": [],
   "source": [],
   "metadata": {
    "collapsed": false
   },
   "id": "fdbc4e8ad3eac459"
  },
  {
   "cell_type": "code",
   "execution_count": 27,
   "outputs": [
    {
     "name": "stdout",
     "output_type": "stream",
     "text": [
      "T-Statistic: 701.4473583312518\n",
      "P-Value: 0.0\n"
     ]
    }
   ],
   "source": [
    "# Print the results\n",
    "print(f'T-Statistic: {t_stat}')\n",
    "print(f'P-Value: {p_value}')"
   ],
   "metadata": {
    "collapsed": false,
    "ExecuteTime": {
     "end_time": "2023-10-25T08:22:42.281269200Z",
     "start_time": "2023-10-25T08:22:42.273460700Z"
    }
   },
   "id": "3bbe0b7644fc276b"
  },
  {
   "cell_type": "code",
   "execution_count": 28,
   "outputs": [
    {
     "name": "stdout",
     "output_type": "stream",
     "text": [
      "Shapiro-Wilk Test - Column 1: W=0.6690952777862549, p=0.0\n",
      "Shapiro-Wilk Test - Column 2: W=0.41909754276275635, p=0.0\n",
      "Levene Test: W=427030.52199816314, p=0.0\n"
     ]
    }
   ],
   "source": [
    "# Check and print the results of the assumptions\n",
    "print(f'Shapiro-Wilk Test - Column 1: W={shapiro_column1[0]}, p={shapiro_column1[1]}')\n",
    "print(f'Shapiro-Wilk Test - Column 2: W={shapiro_column2[0]}, p={shapiro_column2[1]}')\n",
    "print(f'Levene Test: W={levene_test[0]}, p={levene_test[1]}')\n"
   ],
   "metadata": {
    "collapsed": false,
    "ExecuteTime": {
     "end_time": "2023-10-25T08:22:45.791224400Z",
     "start_time": "2023-10-25T08:22:45.781971300Z"
    }
   },
   "id": "1bf2c09f754672bd"
  },
  {
   "cell_type": "code",
   "execution_count": 29,
   "outputs": [
    {
     "name": "stdout",
     "output_type": "stream",
     "text": [
      "The means are significantly different.\n"
     ]
    }
   ],
   "source": [
    "\n",
    "# Interpret the results\n",
    "if p_value < 0.05:\n",
    "    print('The means are significantly different.')\n",
    "else:\n",
    "    print('No significant difference found.')\n"
   ],
   "metadata": {
    "collapsed": false,
    "ExecuteTime": {
     "end_time": "2023-10-25T08:22:52.984795200Z",
     "start_time": "2023-10-25T08:22:52.979086500Z"
    }
   },
   "id": "a00382b7d0e6acc6"
  },
  {
   "cell_type": "code",
   "execution_count": null,
   "outputs": [],
   "source": [],
   "metadata": {
    "collapsed": false
   },
   "id": "b19537e539f9b8c4"
  }
 ],
 "metadata": {
  "kernelspec": {
   "display_name": "Python 3",
   "language": "python",
   "name": "python3"
  },
  "language_info": {
   "codemirror_mode": {
    "name": "ipython",
    "version": 2
   },
   "file_extension": ".py",
   "mimetype": "text/x-python",
   "name": "python",
   "nbconvert_exporter": "python",
   "pygments_lexer": "ipython2",
   "version": "2.7.6"
  }
 },
 "nbformat": 4,
 "nbformat_minor": 5
}
