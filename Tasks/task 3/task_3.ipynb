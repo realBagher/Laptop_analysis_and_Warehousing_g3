{
 "cells": [
  {
   "cell_type": "markdown",
   "source": [
    "# task 3 "
   ],
   "metadata": {
    "collapsed": false
   },
   "id": "96aa8aa44536034d"
  },
  {
   "cell_type": "markdown",
   "source": [
    "Request :\n",
    "Following the previous request, some company managers are afraid that discounting will reduce profit, so they have asked you to check the effect of discounting on the amount of profit and if there is such an effect, describe it.\n",
    "solution :\n",
    "To determine if discounts have a significant effect on profit, you can perform hypothesis testing. You may use a t-test or ANOVA to compare the profitability of products or time periods with and without discounts. For example, you might compare the average profit of discounted sales to non-discounted sales."
   ],
   "metadata": {
    "collapsed": false
   },
   "id": "ca6f329e5f755c73"
  },
  {
   "cell_type": "code",
   "execution_count": 14,
   "outputs": [],
   "source": [
    "import pandas as pd\n",
    "from scipy import stats\n",
    "import statsmodels.api as sm\n",
    "import statsmodels.stats.api as sms"
   ],
   "metadata": {
    "collapsed": false,
    "ExecuteTime": {
     "end_time": "2023-10-29T09:51:49.627929100Z",
     "start_time": "2023-10-29T09:51:49.535086300Z"
    }
   },
   "id": "8f3fedb08f78c259"
  },
  {
   "cell_type": "markdown",
   "source": [],
   "metadata": {
    "collapsed": false
   },
   "id": "9332d0b44bfcae48"
  },
  {
   "cell_type": "code",
   "execution_count": 15,
   "outputs": [
    {
     "name": "stdout",
     "output_type": "stream",
     "text": [
      "2023-10-29 13:21:49,545 INFO sqlalchemy.engine.Engine SELECT DATABASE()\n",
      "2023-10-29 13:21:49,545 INFO sqlalchemy.engine.Engine [raw sql] {}\n",
      "2023-10-29 13:21:49,546 INFO sqlalchemy.engine.Engine SELECT @@sql_mode\n",
      "2023-10-29 13:21:49,546 INFO sqlalchemy.engine.Engine [raw sql] {}\n",
      "2023-10-29 13:21:49,547 INFO sqlalchemy.engine.Engine SELECT @@lower_case_table_names\n",
      "2023-10-29 13:21:49,547 INFO sqlalchemy.engine.Engine [raw sql] {}\n"
     ]
    }
   ],
   "source": [
    "# connect to data base \n",
    "from sqlalchemy import create_engine, Column, Integer, String, MetaData, Table\n",
    "\n",
    "# Initialize SQLAlchemy Metadata object\n",
    "meta = MetaData()\n",
    "# Define database connection details\n",
    "USERNAME = 'root'\n",
    "PASSWORD = '1393ram1393#$'\n",
    "SERVER = 'localhost'\n",
    "# Create a SQLAlchemy engine for connecting to the MySQL database\n",
    "engine = create_engine(f'mysql+pymysql://{USERNAME}:{PASSWORD}@{SERVER}:3306/Laptop_analysis_and_Warehousing_g3', echo=True)\n",
    "conn = engine.connect()"
   ],
   "metadata": {
    "collapsed": false,
    "ExecuteTime": {
     "end_time": "2023-10-29T09:51:49.630929700Z",
     "start_time": "2023-10-29T09:51:49.541350200Z"
    }
   },
   "id": "c9edbaa07df63728"
  },
  {
   "cell_type": "code",
   "execution_count": 16,
   "outputs": [
    {
     "name": "stdout",
     "output_type": "stream",
     "text": [
      "2023-10-29 13:21:49,555 INFO sqlalchemy.engine.Engine SHOW CREATE TABLE `order`\n",
      "2023-10-29 13:21:49,555 INFO sqlalchemy.engine.Engine [raw sql] {}\n",
      "2023-10-29 13:21:49,561 INFO sqlalchemy.engine.Engine \n",
      "                    select table_schema, table_name, column_name\n",
      "                    from information_schema.columns\n",
      "                    where (table_schema, table_name, lower(column_name)) in\n",
      "                    ((%(table_data_1_1)s, %(table_data_1_2)s, %(table_data_1_3)s));\n",
      "                \n",
      "2023-10-29 13:21:49,561 INFO sqlalchemy.engine.Engine [generated in 0.00061s] {'table_data_1_1': 'laptop_analysis_and_warehousing_g3', 'table_data_1_2': 'laptop', 'table_data_1_3': 'laptop_id'}\n",
      "2023-10-29 13:21:49,564 INFO sqlalchemy.engine.Engine SHOW CREATE TABLE `laptop`\n",
      "2023-10-29 13:21:49,565 INFO sqlalchemy.engine.Engine [raw sql] {}\n"
     ]
    }
   ],
   "source": [
    "metadata = MetaData()\n",
    "\n",
    "# Replace \"your_table_name\" with the name of your table\n",
    "table_name = \"order\"\n",
    "\n",
    "your_table = Table(table_name, metadata, autoload=True, autoload_with=engine)\n"
   ],
   "metadata": {
    "collapsed": false,
    "ExecuteTime": {
     "end_time": "2023-10-29T09:51:49.680185Z",
     "start_time": "2023-10-29T09:51:49.553672700Z"
    }
   },
   "id": "b2f88eecb4cbd49d"
  },
  {
   "cell_type": "code",
   "execution_count": 17,
   "outputs": [
    {
     "name": "stdout",
     "output_type": "stream",
     "text": [
      "2023-10-29 13:21:49,573 INFO sqlalchemy.engine.Engine BEGIN (implicit)\n",
      "2023-10-29 13:21:49,574 INFO sqlalchemy.engine.Engine SELECT `order`.`Total_Price` AS `order_Total_Price`, `order`.`Discount` AS `order_Discount`, `order`.`Profit` AS `order_Profit`, `order`.`Quantity` AS `order_Quantity` \n",
      "FROM `order`\n",
      "2023-10-29 13:21:49,575 INFO sqlalchemy.engine.Engine [generated in 0.00067s] {}\n"
     ]
    },
    {
     "data": {
      "text/plain": "              Price  Discount     Profit  Quantity\n0         3450000.0         0   250000.0         1\n1         1100000.0         0   100000.0         1\n2        15580000.0         5  1920000.0         1\n3        20150000.0         0  2170000.0         1\n4         4250000.0         0   430000.0         1\n...             ...       ...        ...       ...\n1017076   1150000.0         0    80000.0         1\n1017077   1350000.0         0   130000.0         1\n1017078  15150000.0         0  1680000.0         1\n1017079   8950000.0         0  1140000.0         1\n1017080  10600000.0         0   980000.0         1\n\n[1017081 rows x 4 columns]",
      "text/html": "<div>\n<style scoped>\n    .dataframe tbody tr th:only-of-type {\n        vertical-align: middle;\n    }\n\n    .dataframe tbody tr th {\n        vertical-align: top;\n    }\n\n    .dataframe thead th {\n        text-align: right;\n    }\n</style>\n<table border=\"1\" class=\"dataframe\">\n  <thead>\n    <tr style=\"text-align: right;\">\n      <th></th>\n      <th>Price</th>\n      <th>Discount</th>\n      <th>Profit</th>\n      <th>Quantity</th>\n    </tr>\n  </thead>\n  <tbody>\n    <tr>\n      <th>0</th>\n      <td>3450000.0</td>\n      <td>0</td>\n      <td>250000.0</td>\n      <td>1</td>\n    </tr>\n    <tr>\n      <th>1</th>\n      <td>1100000.0</td>\n      <td>0</td>\n      <td>100000.0</td>\n      <td>1</td>\n    </tr>\n    <tr>\n      <th>2</th>\n      <td>15580000.0</td>\n      <td>5</td>\n      <td>1920000.0</td>\n      <td>1</td>\n    </tr>\n    <tr>\n      <th>3</th>\n      <td>20150000.0</td>\n      <td>0</td>\n      <td>2170000.0</td>\n      <td>1</td>\n    </tr>\n    <tr>\n      <th>4</th>\n      <td>4250000.0</td>\n      <td>0</td>\n      <td>430000.0</td>\n      <td>1</td>\n    </tr>\n    <tr>\n      <th>...</th>\n      <td>...</td>\n      <td>...</td>\n      <td>...</td>\n      <td>...</td>\n    </tr>\n    <tr>\n      <th>1017076</th>\n      <td>1150000.0</td>\n      <td>0</td>\n      <td>80000.0</td>\n      <td>1</td>\n    </tr>\n    <tr>\n      <th>1017077</th>\n      <td>1350000.0</td>\n      <td>0</td>\n      <td>130000.0</td>\n      <td>1</td>\n    </tr>\n    <tr>\n      <th>1017078</th>\n      <td>15150000.0</td>\n      <td>0</td>\n      <td>1680000.0</td>\n      <td>1</td>\n    </tr>\n    <tr>\n      <th>1017079</th>\n      <td>8950000.0</td>\n      <td>0</td>\n      <td>1140000.0</td>\n      <td>1</td>\n    </tr>\n    <tr>\n      <th>1017080</th>\n      <td>10600000.0</td>\n      <td>0</td>\n      <td>980000.0</td>\n      <td>1</td>\n    </tr>\n  </tbody>\n</table>\n<p>1017081 rows × 4 columns</p>\n</div>"
     },
     "execution_count": 17,
     "metadata": {},
     "output_type": "execute_result"
    }
   ],
   "source": [
    "# Define the columns you want to read\n",
    "from sqlalchemy.orm import sessionmaker\n",
    "\n",
    "# Initialize SQLAlchemy session\n",
    "Session = sessionmaker(bind=engine)\n",
    "\n",
    "# Assuming you have a session and SQLAlchemy model defined as mentioned before\n",
    "session = Session()\n",
    "\n",
    "# Define the columns you want to read\n",
    "Price = your_table.c.Total_Price\n",
    "Discount = your_table.c.Discount\n",
    "Profit = your_table.c.Profit\n",
    "Quantity = your_table.c.Quantity\n",
    "\n",
    "# Query the database to fetch the data for the specified columns\n",
    "results = session.query(Price, Discount, Profit, Quantity).all()\n",
    "\n",
    "# Convert the results to a Pandas DataFrame\n",
    "data = [(row[0], row[1], row[2], row[3]) for row in results]\n",
    "df_order = pd.DataFrame(data, columns=[\"Price\", \"Discount\", \"Profit\", \"Quantity\"])\n",
    "df_order"
   ],
   "metadata": {
    "collapsed": false,
    "ExecuteTime": {
     "end_time": "2023-10-29T09:51:57.666938600Z",
     "start_time": "2023-10-29T09:51:49.572371100Z"
    }
   },
   "id": "8bce9c0861b32276"
  },
  {
   "cell_type": "code",
   "execution_count": 18,
   "outputs": [
    {
     "name": "stdout",
     "output_type": "stream",
     "text": [
      "2023-10-29 13:21:57,666 INFO sqlalchemy.engine.Engine ROLLBACK\n"
     ]
    }
   ],
   "source": [
    "# close the session of database \n",
    "session.close()"
   ],
   "metadata": {
    "collapsed": false,
    "ExecuteTime": {
     "end_time": "2023-10-29T09:51:57.724738500Z",
     "start_time": "2023-10-29T09:51:57.667967100Z"
    }
   },
   "id": "4f2411620c0553a9"
  },
  {
   "cell_type": "code",
   "execution_count": 19,
   "outputs": [
    {
     "data": {
      "text/plain": "              Price  Discount     Profit  Quantity\n0         3450000.0         0   250000.0         1\n1         1100000.0         0   100000.0         1\n2        15580000.0         5  1920000.0         1\n3        20150000.0         0  2170000.0         1\n4         4250000.0         0   430000.0         1\n...             ...       ...        ...       ...\n1017076   1150000.0         0    80000.0         1\n1017077   1350000.0         0   130000.0         1\n1017078  15150000.0         0  1680000.0         1\n1017079   8950000.0         0  1140000.0         1\n1017080  10600000.0         0   980000.0         1\n\n[1017081 rows x 4 columns]",
      "text/html": "<div>\n<style scoped>\n    .dataframe tbody tr th:only-of-type {\n        vertical-align: middle;\n    }\n\n    .dataframe tbody tr th {\n        vertical-align: top;\n    }\n\n    .dataframe thead th {\n        text-align: right;\n    }\n</style>\n<table border=\"1\" class=\"dataframe\">\n  <thead>\n    <tr style=\"text-align: right;\">\n      <th></th>\n      <th>Price</th>\n      <th>Discount</th>\n      <th>Profit</th>\n      <th>Quantity</th>\n    </tr>\n  </thead>\n  <tbody>\n    <tr>\n      <th>0</th>\n      <td>3450000.0</td>\n      <td>0</td>\n      <td>250000.0</td>\n      <td>1</td>\n    </tr>\n    <tr>\n      <th>1</th>\n      <td>1100000.0</td>\n      <td>0</td>\n      <td>100000.0</td>\n      <td>1</td>\n    </tr>\n    <tr>\n      <th>2</th>\n      <td>15580000.0</td>\n      <td>5</td>\n      <td>1920000.0</td>\n      <td>1</td>\n    </tr>\n    <tr>\n      <th>3</th>\n      <td>20150000.0</td>\n      <td>0</td>\n      <td>2170000.0</td>\n      <td>1</td>\n    </tr>\n    <tr>\n      <th>4</th>\n      <td>4250000.0</td>\n      <td>0</td>\n      <td>430000.0</td>\n      <td>1</td>\n    </tr>\n    <tr>\n      <th>...</th>\n      <td>...</td>\n      <td>...</td>\n      <td>...</td>\n      <td>...</td>\n    </tr>\n    <tr>\n      <th>1017076</th>\n      <td>1150000.0</td>\n      <td>0</td>\n      <td>80000.0</td>\n      <td>1</td>\n    </tr>\n    <tr>\n      <th>1017077</th>\n      <td>1350000.0</td>\n      <td>0</td>\n      <td>130000.0</td>\n      <td>1</td>\n    </tr>\n    <tr>\n      <th>1017078</th>\n      <td>15150000.0</td>\n      <td>0</td>\n      <td>1680000.0</td>\n      <td>1</td>\n    </tr>\n    <tr>\n      <th>1017079</th>\n      <td>8950000.0</td>\n      <td>0</td>\n      <td>1140000.0</td>\n      <td>1</td>\n    </tr>\n    <tr>\n      <th>1017080</th>\n      <td>10600000.0</td>\n      <td>0</td>\n      <td>980000.0</td>\n      <td>1</td>\n    </tr>\n  </tbody>\n</table>\n<p>1017081 rows × 4 columns</p>\n</div>"
     },
     "execution_count": 19,
     "metadata": {},
     "output_type": "execute_result"
    }
   ],
   "source": [
    "df_order"
   ],
   "metadata": {
    "collapsed": false,
    "ExecuteTime": {
     "end_time": "2023-10-29T09:51:57.726713700Z",
     "start_time": "2023-10-29T09:51:57.702976500Z"
    }
   },
   "id": "91356c920cf6ebc7"
  },
  {
   "cell_type": "code",
   "execution_count": 20,
   "outputs": [],
   "source": [
    "# Split the DataFrame based on 'column_name'\n",
    "value_to_split_on = 0  # Change this to the desired value\n",
    "non_discounted_sales = df_order[df_order['Discount'] <= value_to_split_on]\n",
    "discounted_sales = df_order[df_order['Discount'] > value_to_split_on]\n"
   ],
   "metadata": {
    "collapsed": false,
    "ExecuteTime": {
     "end_time": "2023-10-29T09:51:57.766971200Z",
     "start_time": "2023-10-29T09:51:57.705539700Z"
    }
   },
   "id": "e63a6fb2759f918c"
  },
  {
   "cell_type": "code",
   "execution_count": 21,
   "outputs": [
    {
     "data": {
      "text/plain": "              Price  Discount     Profit  Quantity\n0         3450000.0         0   250000.0         1\n1         1100000.0         0   100000.0         1\n3        20150000.0         0  2170000.0         1\n4         4250000.0         0   430000.0         1\n5         2400000.0         0   260000.0         1\n...             ...       ...        ...       ...\n1017076   1150000.0         0    80000.0         1\n1017077   1350000.0         0   130000.0         1\n1017078  15150000.0         0  1680000.0         1\n1017079   8950000.0         0  1140000.0         1\n1017080  10600000.0         0   980000.0         1\n\n[863933 rows x 4 columns]",
      "text/html": "<div>\n<style scoped>\n    .dataframe tbody tr th:only-of-type {\n        vertical-align: middle;\n    }\n\n    .dataframe tbody tr th {\n        vertical-align: top;\n    }\n\n    .dataframe thead th {\n        text-align: right;\n    }\n</style>\n<table border=\"1\" class=\"dataframe\">\n  <thead>\n    <tr style=\"text-align: right;\">\n      <th></th>\n      <th>Price</th>\n      <th>Discount</th>\n      <th>Profit</th>\n      <th>Quantity</th>\n    </tr>\n  </thead>\n  <tbody>\n    <tr>\n      <th>0</th>\n      <td>3450000.0</td>\n      <td>0</td>\n      <td>250000.0</td>\n      <td>1</td>\n    </tr>\n    <tr>\n      <th>1</th>\n      <td>1100000.0</td>\n      <td>0</td>\n      <td>100000.0</td>\n      <td>1</td>\n    </tr>\n    <tr>\n      <th>3</th>\n      <td>20150000.0</td>\n      <td>0</td>\n      <td>2170000.0</td>\n      <td>1</td>\n    </tr>\n    <tr>\n      <th>4</th>\n      <td>4250000.0</td>\n      <td>0</td>\n      <td>430000.0</td>\n      <td>1</td>\n    </tr>\n    <tr>\n      <th>5</th>\n      <td>2400000.0</td>\n      <td>0</td>\n      <td>260000.0</td>\n      <td>1</td>\n    </tr>\n    <tr>\n      <th>...</th>\n      <td>...</td>\n      <td>...</td>\n      <td>...</td>\n      <td>...</td>\n    </tr>\n    <tr>\n      <th>1017076</th>\n      <td>1150000.0</td>\n      <td>0</td>\n      <td>80000.0</td>\n      <td>1</td>\n    </tr>\n    <tr>\n      <th>1017077</th>\n      <td>1350000.0</td>\n      <td>0</td>\n      <td>130000.0</td>\n      <td>1</td>\n    </tr>\n    <tr>\n      <th>1017078</th>\n      <td>15150000.0</td>\n      <td>0</td>\n      <td>1680000.0</td>\n      <td>1</td>\n    </tr>\n    <tr>\n      <th>1017079</th>\n      <td>8950000.0</td>\n      <td>0</td>\n      <td>1140000.0</td>\n      <td>1</td>\n    </tr>\n    <tr>\n      <th>1017080</th>\n      <td>10600000.0</td>\n      <td>0</td>\n      <td>980000.0</td>\n      <td>1</td>\n    </tr>\n  </tbody>\n</table>\n<p>863933 rows × 4 columns</p>\n</div>"
     },
     "execution_count": 21,
     "metadata": {},
     "output_type": "execute_result"
    }
   ],
   "source": [
    "non_discounted_sales"
   ],
   "metadata": {
    "collapsed": false,
    "ExecuteTime": {
     "end_time": "2023-10-29T09:51:57.767488800Z",
     "start_time": "2023-10-29T09:51:57.740408400Z"
    }
   },
   "id": "f0aad6e24a7d1522"
  },
  {
   "cell_type": "code",
   "execution_count": 22,
   "outputs": [
    {
     "data": {
      "text/plain": "              Price  Discount     Profit  Quantity\n2        15580000.0         5  1920000.0         1\n10        3895000.0         5   370000.0         2\n17        1568000.0         2   170000.0         1\n24        2232500.0         5   200000.0         1\n26       21476000.0         9  1750000.0         1\n...             ...       ...        ...       ...\n1017044   1092500.0         5   100000.0         1\n1017046  10450000.0         5   990000.0         1\n1017048    980000.0         2   100000.0         1\n1017052   1282500.0         5   130000.0         1\n1017053   1302000.0         7    90000.0         1\n\n[153148 rows x 4 columns]",
      "text/html": "<div>\n<style scoped>\n    .dataframe tbody tr th:only-of-type {\n        vertical-align: middle;\n    }\n\n    .dataframe tbody tr th {\n        vertical-align: top;\n    }\n\n    .dataframe thead th {\n        text-align: right;\n    }\n</style>\n<table border=\"1\" class=\"dataframe\">\n  <thead>\n    <tr style=\"text-align: right;\">\n      <th></th>\n      <th>Price</th>\n      <th>Discount</th>\n      <th>Profit</th>\n      <th>Quantity</th>\n    </tr>\n  </thead>\n  <tbody>\n    <tr>\n      <th>2</th>\n      <td>15580000.0</td>\n      <td>5</td>\n      <td>1920000.0</td>\n      <td>1</td>\n    </tr>\n    <tr>\n      <th>10</th>\n      <td>3895000.0</td>\n      <td>5</td>\n      <td>370000.0</td>\n      <td>2</td>\n    </tr>\n    <tr>\n      <th>17</th>\n      <td>1568000.0</td>\n      <td>2</td>\n      <td>170000.0</td>\n      <td>1</td>\n    </tr>\n    <tr>\n      <th>24</th>\n      <td>2232500.0</td>\n      <td>5</td>\n      <td>200000.0</td>\n      <td>1</td>\n    </tr>\n    <tr>\n      <th>26</th>\n      <td>21476000.0</td>\n      <td>9</td>\n      <td>1750000.0</td>\n      <td>1</td>\n    </tr>\n    <tr>\n      <th>...</th>\n      <td>...</td>\n      <td>...</td>\n      <td>...</td>\n      <td>...</td>\n    </tr>\n    <tr>\n      <th>1017044</th>\n      <td>1092500.0</td>\n      <td>5</td>\n      <td>100000.0</td>\n      <td>1</td>\n    </tr>\n    <tr>\n      <th>1017046</th>\n      <td>10450000.0</td>\n      <td>5</td>\n      <td>990000.0</td>\n      <td>1</td>\n    </tr>\n    <tr>\n      <th>1017048</th>\n      <td>980000.0</td>\n      <td>2</td>\n      <td>100000.0</td>\n      <td>1</td>\n    </tr>\n    <tr>\n      <th>1017052</th>\n      <td>1282500.0</td>\n      <td>5</td>\n      <td>130000.0</td>\n      <td>1</td>\n    </tr>\n    <tr>\n      <th>1017053</th>\n      <td>1302000.0</td>\n      <td>7</td>\n      <td>90000.0</td>\n      <td>1</td>\n    </tr>\n  </tbody>\n</table>\n<p>153148 rows × 4 columns</p>\n</div>"
     },
     "execution_count": 22,
     "metadata": {},
     "output_type": "execute_result"
    }
   ],
   "source": [
    "discounted_sales"
   ],
   "metadata": {
    "collapsed": false,
    "ExecuteTime": {
     "end_time": "2023-10-29T09:51:57.823051100Z",
     "start_time": "2023-10-29T09:51:57.749580700Z"
    }
   },
   "id": "f4a2e33596e9da03"
  },
  {
   "cell_type": "code",
   "execution_count": 23,
   "outputs": [
    {
     "name": "stdout",
     "output_type": "stream",
     "text": [
      "non_discounted_avg_profit :1450280.334238882\n",
      "discounted_avg_profit :1388568.704782302\n"
     ]
    }
   ],
   "source": [
    "# Calculate the average profit for each group\n",
    "non_discounted_avg_profit = non_discounted_sales['Profit'].mean()\n",
    "discounted_avg_profit = discounted_sales['Profit'].mean()\n",
    "print(f'non_discounted_avg_profit :{non_discounted_avg_profit}')\n",
    "print(f'discounted_avg_profit :{discounted_avg_profit}')"
   ],
   "metadata": {
    "collapsed": false,
    "ExecuteTime": {
     "end_time": "2023-10-29T09:51:57.828440300Z",
     "start_time": "2023-10-29T09:51:57.762403200Z"
    }
   },
   "id": "beb77dca9306db9"
  },
  {
   "cell_type": "code",
   "execution_count": 35,
   "outputs": [
    {
     "data": {
      "text/plain": "<Figure size 432x288 with 1 Axes>",
      "image/png": "[encoded data removed]"
     },
     "metadata": {
      "needs_background": "light"
     },
     "output_type": "display_data"
    }
   ],
   "source": [
    "import matplotlib.pyplot as plt\n",
    "\n",
    "# Example data visualization (replace with your data)\n",
    "plt.bar(['Discounted', 'Non-discounted'], [discounted_avg_profit, non_discounted_avg_profit])\n",
    "plt.xlabel(\"Sales Type\")\n",
    "plt.ylabel(\"Average Profit\")\n",
    "plt.title(\"Effect of Discounts on Profit\")\n",
    "plt.show()\n"
   ],
   "metadata": {
    "collapsed": false,
    "ExecuteTime": {
     "end_time": "2023-10-29T09:54:48.571414600Z",
     "start_time": "2023-10-29T09:54:48.475924300Z"
    }
   },
   "id": "8a994471a04f5c7d"
  },
  {
   "cell_type": "code",
   "execution_count": 24,
   "outputs": [
    {
     "name": "stdout",
     "output_type": "stream",
     "text": [
      "T-Statistic: -11.752077215107551\n",
      "P-Value: 6.923241565492666e-32\n"
     ]
    }
   ],
   "source": [
    "# Perform the t-test on the two groups discounted and non-discounted based on the  profit\n",
    "t_stat, p_value = stats.ttest_ind(discounted_sales['Profit'], non_discounted_sales['Profit'])\n",
    "# Print the results\n",
    "print(f'T-Statistic: {t_stat}')\n",
    "print(f'P-Value: {p_value}')"
   ],
   "metadata": {
    "collapsed": false,
    "ExecuteTime": {
     "end_time": "2023-10-29T09:51:57.839193700Z",
     "start_time": "2023-10-29T09:51:57.770565100Z"
    }
   },
   "id": "571fd97fd05a9da"
  },
  {
   "cell_type": "code",
   "execution_count": 25,
   "outputs": [
    {
     "data": {
      "text/plain": "'Independence of Observations: The observations in each group must be independent of each other. This means that the value of one observation should not be influenced by or related to the values of other observations. If you have paired data, such as before-and-after measurements, you should use a paired samples t-test.\\n'"
     },
     "execution_count": 25,
     "metadata": {},
     "output_type": "execute_result"
    }
   ],
   "source": [
    "# Check the assumptions\n",
    "# Assumption 1: Independence of Observations\n",
    "# Nothing to code here; it's assumed based on the data structure.\n",
    "'''Independence of Observations: The observations in each group must be independent of each other. This means that the value of one observation should not be influenced by or related to the values of other observations. If you have paired data, such as before-and-after measurements, you should use a paired samples t-test.\n",
    "'''"
   ],
   "metadata": {
    "collapsed": false,
    "ExecuteTime": {
     "end_time": "2023-10-29T09:51:57.839786300Z",
     "start_time": "2023-10-29T09:51:57.795721900Z"
    }
   },
   "id": "7552b01fb62cac86"
  },
  {
   "cell_type": "code",
   "execution_count": 26,
   "outputs": [
    {
     "name": "stderr",
     "output_type": "stream",
     "text": [
      "C:\\Users\\parham\\.conda\\envs\\quera_bootcamp\\Lib\\site-packages\\scipy\\stats\\_morestats.py:1882: UserWarning: p-value may not be accurate for N > 5000.\n",
      "  warnings.warn(\"p-value may not be accurate for N > 5000.\")\n"
     ]
    },
    {
     "data": {
      "text/plain": "<Figure size 432x288 with 1 Axes>",
      "image/png": "[encoded data removed]"
     },
     "metadata": {
      "needs_background": "light"
     },
     "output_type": "display_data"
    },
    {
     "data": {
      "text/plain": "<Figure size 432x288 with 1 Axes>",
      "image/png": "[encoded data removed]"
     },
     "metadata": {
      "needs_background": "light"
     },
     "output_type": "display_data"
    }
   ],
   "source": [
    "# Assumption 2: Normality\n",
    "# Check normality using Q-Q plots and Shapiro-Wilk test\n",
    "'''Normality: The data in each group should follow a roughly normal distribution. Normality is important because the t-test assumes that the sampling distribution of the means is normally distributed. You can check for normality using methods like histograms, Q-Q plots, or formal statistical tests (e.g., Shapiro-Wilk test).\n",
    "'''\n",
    "qqplot_column1 = sm.qqplot(discounted_sales['Profit'], line='s')\n",
    "qqplot_column2 = sm.qqplot(non_discounted_sales['Profit'], line='s')\n",
    "shapiro_column1 = stats.shapiro(discounted_sales['Profit'])\n",
    "shapiro_column2 = stats.shapiro(non_discounted_sales['Profit'])\n"
   ],
   "metadata": {
    "collapsed": false,
    "ExecuteTime": {
     "end_time": "2023-10-29T09:52:00.368464100Z",
     "start_time": "2023-10-29T09:51:57.800005500Z"
    }
   },
   "id": "c9eb481b556b0f91"
  },
  {
   "cell_type": "code",
   "execution_count": 27,
   "outputs": [
    {
     "data": {
      "text/plain": "LeveneResult(statistic=95.47708488533304, pvalue=1.499556970544789e-22)"
     },
     "execution_count": 27,
     "metadata": {},
     "output_type": "execute_result"
    }
   ],
   "source": [
    "# Assumption 3: Homogeneity of Variance\n",
    "# Check homoscedasticity using Levene's test\n",
    "'''Homogeneity of Variance: The variances in the different groups being compared should be approximately equal (homoscedasticity). This assumption is important because the t-test assumes that the standard deviations of the two groups are equal. You can check for homogeneity of variance using statistical tests like Levene's test or by examining the spread of data within groups.\n",
    "'''\n",
    "levene_test = stats.levene(discounted_sales['Profit'], non_discounted_sales['Profit'])\n",
    "levene_test"
   ],
   "metadata": {
    "collapsed": false,
    "ExecuteTime": {
     "end_time": "2023-10-29T09:52:00.399695100Z",
     "start_time": "2023-10-29T09:52:00.362652200Z"
    }
   },
   "id": "44ca1bbed134e37c"
  },
  {
   "cell_type": "code",
   "execution_count": 28,
   "outputs": [
    {
     "name": "stdout",
     "output_type": "stream",
     "text": [
      "T-Statistic: -11.752077215107551\n",
      "P-Value: 6.923241565492666e-32\n"
     ]
    }
   ],
   "source": [
    "# Print the results\n",
    "print(f'T-Statistic: {t_stat}')\n",
    "print(f'P-Value: {p_value}')"
   ],
   "metadata": {
    "collapsed": false,
    "ExecuteTime": {
     "end_time": "2023-10-29T09:52:00.400766600Z",
     "start_time": "2023-10-29T09:52:00.393565Z"
    }
   },
   "id": "3bbe0b7644fc276b"
  },
  {
   "cell_type": "code",
   "execution_count": 30,
   "outputs": [
    {
     "name": "stdout",
     "output_type": "stream",
     "text": [
      "Shapiro-Wilk Test - Column 1: W=0.6616845726966858, p=0.0\n",
      "Shapiro-Wilk Test - Column 2: W=0.6703482270240784, p=0.0\n",
      "Levene Test: W=95.47708488533304, p=1.499556970544789e-22\n"
     ]
    }
   ],
   "source": [
    "# Check and print the results of the assumptions\n",
    "print(f'Shapiro-Wilk Test - Column 1: W={shapiro_column1[0]}, p={shapiro_column1[1]}')\n",
    "print(f'Shapiro-Wilk Test - Column 2: W={shapiro_column2[0]}, p={shapiro_column2[1]}')\n",
    "print(f'Levene Test: W={levene_test[0]}, p={levene_test[1]}')\n"
   ],
   "metadata": {
    "collapsed": false,
    "ExecuteTime": {
     "end_time": "2023-10-29T09:52:00.505308700Z",
     "start_time": "2023-10-29T09:52:00.503734200Z"
    }
   },
   "id": "1bf2c09f754672bd"
  },
  {
   "cell_type": "code",
   "execution_count": 31,
   "outputs": [
    {
     "name": "stdout",
     "output_type": "stream",
     "text": [
      "The means are significantly different.\n"
     ]
    }
   ],
   "source": [
    "\n",
    "# Interpret the results\n",
    "if p_value < 0.05:\n",
    "    print('The means are significantly different.')\n",
    "else:\n",
    "    print('No significant difference found.')\n"
   ],
   "metadata": {
    "collapsed": false,
    "ExecuteTime": {
     "end_time": "2023-10-29T09:52:06.764422100Z",
     "start_time": "2023-10-29T09:52:06.755576200Z"
    }
   },
   "id": "a00382b7d0e6acc6"
  },
  {
   "cell_type": "markdown",
   "source": [
    "In practical terms, the results of this t-test suggest that there is a statistically significant difference in profit between the two groups (discounted and non-discounted sales). The negative t-statistic implies that, on average, sales with discounts result in lower profits compared to sales without discounts, and the extremely small p-value indicates that this difference is highly unlikely to be due to random variability. Therefore, it is reasonable to conclude that discounts have a significant impact on profit, and the impact is negative, meaning that offering discounts tends to reduce the profitability of sales.\n"
   ],
   "metadata": {
    "collapsed": false
   },
   "id": "282f6a34a093531f"
  },
  {
   "cell_type": "markdown",
   "source": [
    "# perform the t-test for quantity of orders discounted and not discounted"
   ],
   "metadata": {
    "collapsed": false
   },
   "id": "6beebee5235d11f6"
  },
  {
   "cell_type": "code",
   "execution_count": 32,
   "outputs": [
    {
     "name": "stdout",
     "output_type": "stream",
     "text": [
      "non_discounted_avg_quantity :1.1064411244853478\n",
      "discounted_avg_quantity :1.105427429675869\n"
     ]
    }
   ],
   "source": [
    "# Calculate the average profit for each group\n",
    "non_discounted_avg_quantity = non_discounted_sales['Quantity'].mean()\n",
    "discounted_avg_quantity = discounted_sales['Quantity'].mean()\n",
    "print(f'non_discounted_avg_quantity :{non_discounted_avg_quantity}')\n",
    "print(f'discounted_avg_quantity :{discounted_avg_quantity}')"
   ],
   "metadata": {
    "collapsed": false,
    "ExecuteTime": {
     "end_time": "2023-10-29T09:52:10.217956100Z",
     "start_time": "2023-10-29T09:52:10.210613700Z"
    }
   },
   "id": "424832db0415788d"
  },
  {
   "cell_type": "code",
   "execution_count": 33,
   "outputs": [
    {
     "data": {
      "text/plain": "<Figure size 432x288 with 1 Axes>",
      "image/png": "[encoded data removed]"
     },
     "metadata": {
      "needs_background": "light"
     },
     "output_type": "display_data"
    }
   ],
   "source": [
    "\n",
    "# Example data visualization (replace with your data)\n",
    "plt.bar(['Discounted', 'Non-discounted'], [discounted_avg_quantity, non_discounted_avg_quantity])\n",
    "plt.xlabel(\"Sales Type\")\n",
    "plt.ylabel(\"Average quantity\")\n",
    "plt.title(\"Effect of Discounts on Quantity\")\n",
    "plt.show()\n"
   ],
   "metadata": {
    "collapsed": false,
    "ExecuteTime": {
     "end_time": "2023-10-29T09:52:13.726002500Z",
     "start_time": "2023-10-29T09:52:13.636915900Z"
    }
   },
   "id": "3ff1d91ed9b0b70d"
  },
  {
   "cell_type": "code",
   "execution_count": 34,
   "outputs": [
    {
     "name": "stdout",
     "output_type": "stream",
     "text": [
      "T-Statistic: -1.0056762165353774\n",
      "P-Value: 0.31457158677973424\n"
     ]
    }
   ],
   "source": [
    "# Perform the t-test on the two groups discounted and non-discounted based on the  quantity\n",
    "t_stat_quantity, p_value_quantity = stats.ttest_ind(discounted_sales['Quantity'], non_discounted_sales['Quantity'])\n",
    "# Print the results\n",
    "print(f'T-Statistic: {t_stat_quantity}')\n",
    "print(f'P-Value: {p_value_quantity}')"
   ],
   "metadata": {
    "collapsed": false,
    "ExecuteTime": {
     "end_time": "2023-10-29T09:53:54.175545300Z",
     "start_time": "2023-10-29T09:53:54.161837100Z"
    }
   },
   "id": "2d406c1a761c0f27"
  },
  {
   "cell_type": "code",
   "execution_count": 37,
   "outputs": [
    {
     "data": {
      "text/plain": "'Independence of Observations: The observations in each group must be independent of each other. This means that the value of one observation should not be influenced by or related to the values of other observations. If you have paired data, such as before-and-after measurements, you should use a paired samples t-test.\\n'"
     },
     "execution_count": 37,
     "metadata": {},
     "output_type": "execute_result"
    }
   ],
   "source": [
    "# Check the assumptions\n",
    "# Assumption 1: Independence of Observations\n",
    "# Nothing to code here; it's assumed based on the data structure.\n",
    "'''Independence of Observations: The observations in each group must be independent of each other. This means that the value of one observation should not be influenced by or related to the values of other observations. If you have paired data, such as before-and-after measurements, you should use a paired samples t-test.\n",
    "'''"
   ],
   "metadata": {
    "collapsed": false,
    "ExecuteTime": {
     "end_time": "2023-10-29T10:03:20.096851300Z",
     "start_time": "2023-10-29T10:03:20.085633800Z"
    }
   },
   "id": "cecdd0aa6fc069e4"
  },
  {
   "cell_type": "code",
   "execution_count": 39,
   "outputs": [
    {
     "name": "stderr",
     "output_type": "stream",
     "text": [
      "C:\\Users\\parham\\.conda\\envs\\quera_bootcamp\\Lib\\site-packages\\scipy\\stats\\_morestats.py:1882: UserWarning: p-value may not be accurate for N > 5000.\n",
      "  warnings.warn(\"p-value may not be accurate for N > 5000.\")\n"
     ]
    },
    {
     "data": {
      "text/plain": "<Figure size 432x288 with 1 Axes>",
      "image/png": "[encoded data removed]"
     },
     "metadata": {
      "needs_background": "light"
     },
     "output_type": "display_data"
    },
    {
     "data": {
      "text/plain": "<Figure size 432x288 with 1 Axes>",
      "image/png": "[encoded data removed]"
     },
     "metadata": {
      "needs_background": "light"
     },
     "output_type": "display_data"
    }
   ],
   "source": [
    "# Assumption 2: Normality\n",
    "# Check normality using Q-Q plots and Shapiro-Wilk test\n",
    "'''Normality: The data in each group should follow a roughly normal distribution. Normality is important because the t-test assumes that the sampling distribution of the means is normally distributed. You can check for normality using methods like histograms, Q-Q plots, or formal statistical tests (e.g., Shapiro-Wilk test).\n",
    "'''\n",
    "qqplot_column1 = sm.qqplot(discounted_sales['Quantity'], line='s')\n",
    "qqplot_column2 = sm.qqplot(non_discounted_sales['Quantity'], line='s')\n",
    "shapiro_column1 = stats.shapiro(discounted_sales['Quantity'])\n",
    "shapiro_column2 = stats.shapiro(non_discounted_sales['Quantity'])"
   ],
   "metadata": {
    "collapsed": false,
    "ExecuteTime": {
     "end_time": "2023-10-29T10:04:30.231457200Z",
     "start_time": "2023-10-29T10:04:27.833209500Z"
    }
   },
   "id": "10a96b6e97848603"
  },
  {
   "cell_type": "code",
   "execution_count": 38,
   "outputs": [
    {
     "data": {
      "text/plain": "LeveneResult(statistic=1.0113846525048003, pvalue=0.31457158669720414)"
     },
     "execution_count": 38,
     "metadata": {},
     "output_type": "execute_result"
    }
   ],
   "source": [
    "# Assumption 3: Homogeneity of Variance\n",
    "# Check homoscedasticity using Levene's test\n",
    "'''Homogeneity of Variance: The variances in the different groups being compared should be approximately equal (homoscedasticity). This assumption is important because the t-test assumes that the standard deviations of the two groups are equal. You can check for homogeneity of variance using statistical tests like Levene's test or by examining the spread of data within groups.\n",
    "'''\n",
    "levene_test = stats.levene(discounted_sales['Quantity'], non_discounted_sales['Quantity'])\n",
    "levene_test"
   ],
   "metadata": {
    "collapsed": false,
    "ExecuteTime": {
     "end_time": "2023-10-29T10:04:07.279379500Z",
     "start_time": "2023-10-29T10:04:07.252890900Z"
    }
   },
   "id": "3716d4268abfea48"
  },
  {
   "cell_type": "code",
   "execution_count": 40,
   "outputs": [
    {
     "name": "stdout",
     "output_type": "stream",
     "text": [
      "Shapiro-Wilk Test - Column 1: W=0.31720709800720215, p=0.0\n",
      "Shapiro-Wilk Test - Column 2: W=0.31916069984436035, p=0.0\n",
      "Levene Test: W=1.0113846525048003, p=0.31457158669720414\n"
     ]
    }
   ],
   "source": [
    "# Check and print the results of the assumptions\n",
    "print(f'Shapiro-Wilk Test - Column 1: W={shapiro_column1[0]}, p={shapiro_column1[1]}')\n",
    "print(f'Shapiro-Wilk Test - Column 2: W={shapiro_column2[0]}, p={shapiro_column2[1]}')\n",
    "print(f'Levene Test: W={levene_test[0]}, p={levene_test[1]}')"
   ],
   "metadata": {
    "collapsed": false,
    "ExecuteTime": {
     "end_time": "2023-10-29T10:05:32.920852Z",
     "start_time": "2023-10-29T10:05:32.911866800Z"
    }
   },
   "id": "20db34a09c840155"
  },
  {
   "cell_type": "code",
   "execution_count": 41,
   "outputs": [
    {
     "name": "stdout",
     "output_type": "stream",
     "text": [
      "The means are significantly different.\n"
     ]
    }
   ],
   "source": [
    "\n",
    "# Interpret the results\n",
    "if p_value < 0.05:\n",
    "    print('The means are significantly different.')\n",
    "else:\n",
    "    print('No significant difference found.')"
   ],
   "metadata": {
    "collapsed": false,
    "ExecuteTime": {
     "end_time": "2023-10-29T10:05:49.402928Z",
     "start_time": "2023-10-29T10:05:49.392949200Z"
    }
   },
   "id": "8d74feee7a02d8a2"
  },
  {
   "cell_type": "markdown",
   "source": [
    "In practical terms, the results of this t-test for 'Quantity' suggest that there isn't strong evidence to conclude that discounts have a significant impact on the quantity of items sold. The t-statistic is close to 0, indicating only a slight difference in means, and the p-value is not very low, suggesting that the difference observed could plausibly be attributed to random variation. Therefore, based on this analysis, it does not appear that discounts have a significant impact on the quantity of items sold.\n"
   ],
   "metadata": {
    "collapsed": false
   },
   "id": "4c6e7782baa52a7e"
  }
 ],
 "metadata": {
  "kernelspec": {
   "display_name": "Python 3",
   "language": "python",
   "name": "python3"
  },
  "language_info": {
   "codemirror_mode": {
    "name": "ipython",
    "version": 2
   },
   "file_extension": ".py",
   "mimetype": "text/x-python",
   "name": "python",
   "nbconvert_exporter": "python",
   "pygments_lexer": "ipython2",
   "version": "2.7.6"
  }
 },
 "nbformat": 4,
 "nbformat_minor": 5
}
